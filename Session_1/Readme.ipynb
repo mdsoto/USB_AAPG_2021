{
 "cells": [
  {
   "cell_type": "markdown",
   "metadata": {},
   "source": [
    "<img src=\"NB_images\\portada.png\" style=\"width:1000px\" align=\"center\">\n",
    "\n",
    "<h2>About this material</h2>\n",
    "\n",
    "This was the core material of the online course Basic Python for Log Analysis, given at the Universidad Simon Bolivar (USB) AAPG Student Chapter (Caracas, Venezuela), in January 2021.  It was created and given by Manuel David Soto (MSc in Geology, University of Texas at Austin, USA), with organization of Ulises Berman (Student of Geophysical Eng, USB, Caracas, Venezuela), President of the USB AAPG student chapter. In the course participated 25 students and professionals from six countries; Argentina, Bolivia, Colombia, Peru, USA, and Venezuela the organizer country.\n",
    "\n",
    "<h2>Objectives</h2>\n",
    "\n",
    "Log analysis (LA) or petrophysics is the geosciences discipline that integrate and interpret all the data acquired in the initial live of the wells. Python (programing language) and its different libraries (both free) provide extraordinary and scalable tools for log analysis and other geosciences disciplines. The course covers basic tools (loading and writing information, plotting, basic statistics, execution of function and formulas, summaries, regressions, …) of this general-porpoise programming language with direct application in LA. The participants have to do reinforcement homework exercises after every session.\n",
    "\n",
    "<h2>Format</h2>\n",
    "\n",
    "The course is composed by an introduction (pdf not provided here) and 3 online sessions of 2 hours and 45 minutes (15 minutes break). Before session 1, the participants have to read the introduction and installed Python and Jupyter Notebook according to the instructions given in the introduction. Installation problems cannot be tackled during the sessions. Each session has a folder with its corresponding data, images, and Jupyter Notebooks (theory and exercises). Along the course, Jupyter Notebook is the environment that we use to develop our Python codes. The exercises are shown in all theoretical Notebooks (Session_1_variables_data_arrays_functions.ipynb) however, it is recommended to work the exercises in the Notebook intended just for that (Session_1_exercises.ipynb), in that way the theoretical Notebook is preserved for future references.\n",
    "\n",
    "<h2>Attendees and requirements</h2>\n",
    "\n",
    "Geoscientist and engineers with basic knowledge of open-hole log analysis. Personal computer (with Windows 10 preferably) with Internet connection.\n",
    "\n",
    "<h2>Summarized table of contents</h2>\n",
    "\n",
    "* Introduction: Coding. Python and its packages. Installing Python & Jupyter\n",
    "* Session 1: Variables and  data types. Arrays. Python structure and functions\n",
    "* Session 2: Flow control. Read and write text files. Plots. Basic statistics\n",
    "* Session 3: Well information loading and verification. Parameters selection. Output logs and summation. Simple estimation of rock typing and K\n",
    "\n",
    "<h2>Libraries for each session</h2>\n",
    "\n",
    "Here is a list of commands that need to be executed in a Command Prompt window (CMD) in order to have the necessary libraries for each session:\n",
    "\n",
    "* Session 1:\n",
    "\n",
    "        python -m pip install --upgrade pip\n",
    "        pip install jupyter \n",
    "        pip install numpy\n",
    "        pip install matplotlib\n",
    "\n",
    "* Session 2:\n",
    "\n",
    "        pip install xlrd\n",
    "        pip install pandas\n",
    "        pip install scipy\n",
    "        pip install seaborn\n",
    "        \n",
    "* Session 3:\n",
    "\n",
    "        pip install autopep8\n",
    "        pip install jupyter_contrib_nbextensions\n",
    "        pip install jupyter_nbextensions_configurator\n",
    "        jupyter contrib nbextension install --user\n",
    "        jupyter nbextensions_configurator enable --user\n",
    "        pip install pyqt5\t\n",
    "        pip install pillow\n",
    "        pip install -U scikit-learn"
   ]
  },
  {
   "cell_type": "code",
   "execution_count": null,
   "metadata": {},
   "outputs": [],
   "source": []
  }
 ],
 "metadata": {
  "kernelspec": {
   "display_name": "Python 3",
   "language": "python",
   "name": "python3"
  },
  "language_info": {
   "codemirror_mode": {
    "name": "ipython",
    "version": 3
   },
   "file_extension": ".py",
   "mimetype": "text/x-python",
   "name": "python",
   "nbconvert_exporter": "python",
   "pygments_lexer": "ipython3",
   "version": "3.8.6"
  },
  "toc": {
   "base_numbering": 1,
   "nav_menu": {},
   "number_sections": false,
   "sideBar": true,
   "skip_h1_title": false,
   "title_cell": "Table of Contents",
   "title_sidebar": "Contents",
   "toc_cell": false,
   "toc_position": {},
   "toc_section_display": true,
   "toc_window_display": false
  },
  "varInspector": {
   "cols": {
    "lenName": 16,
    "lenType": 16,
    "lenVar": 40
   },
   "kernels_config": {
    "python": {
     "delete_cmd_postfix": "",
     "delete_cmd_prefix": "del ",
     "library": "var_list.py",
     "varRefreshCmd": "print(var_dic_list())"
    },
    "r": {
     "delete_cmd_postfix": ") ",
     "delete_cmd_prefix": "rm(",
     "library": "var_list.r",
     "varRefreshCmd": "cat(var_dic_list()) "
    }
   },
   "position": {
    "height": "429.667px",
    "left": "713.667px",
    "right": "20px",
    "top": "71px",
    "width": "478px"
   },
   "types_to_exclude": [
    "module",
    "function",
    "builtin_function_or_method",
    "instance",
    "_Feature"
   ],
   "window_display": false
  }
 },
 "nbformat": 4,
 "nbformat_minor": 2
}
