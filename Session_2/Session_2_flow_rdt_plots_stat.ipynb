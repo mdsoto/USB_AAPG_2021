{
 "cells": [
  {
   "cell_type": "markdown",
   "metadata": {},
   "source": [
    "<img src=\"NB_images\\portada.png\" style=\"width:1000px\" align=\"center\">\n",
    "\n",
    "<h1><center>Session 2</center></h1>\n",
    "<h1><center>Flow control. R&W text files. Plots and multi plots. Basic statistics</center></h1>\n",
    "\n",
    "**Course creator and speaker:**  Manuel David Soto. MSc in Geology, University of Texas at Austin, USA.\n",
    "\n",
    "**Organizer:** Ulises Berman. Student of Geophysical Eng, USB, Caracas, Venezuela. President of the USB AAPG Student Chapter.\n",
    "\n",
    "<a  id=\"toc\"></a>\n",
    "\n",
    "<h1>Table of contents</h1>\n",
    "\n",
    "* [1. Flow control](#flow)\n",
    "    * [1.1 Conditionals](#if)\n",
    "    * [1.2 Loops](#loops)\n",
    "        * [1.2.1 For-loops](#f_loops)\n",
    "        * [1.2.2 While loops](#w_loops)\n",
    "* [2. Read and write text files](#rwt)\n",
    "    * [2.1 Reading text files](#rtext)\n",
    "        * [2.1.1 Reading single column text files](#rsingle)\n",
    "        * [2.1.2 Reading multi column text files with missing values](#rmulti)\n",
    "    * [2.2 Writing text files](#wtext)\n",
    "        * [2.2.1 Writing simple text reports](#wreport)\n",
    "        * [2.2.2 Writing single or multi column text files](#wcolumn)\n",
    "* [3 Plots](#plots)\n",
    "    * [3.1 Single plots](#splots)\n",
    "        * [3.1.1 Point-line plots](#line)\n",
    "        * [3.1.2 Scatter plots](#scat)\n",
    "        * [3.1.3 Bar and pie plots](#bar)\n",
    "    * [3.2 - Multiplots](#mplot)\n",
    "* [4 Basic statistics](#stat)\n",
    "    * [4.1 Univariate analysis](#uni)\n",
    "        * [4.1.1 Frequency distribution](#freq)\n",
    "        * [4.1.2 Central tendency](#central)\n",
    "        * [4.1.3 Dispersion](#disp)\n",
    "        * [4.1.4 Statistical parameters on your plots](#par)\n",
    "    * [4.2 Normal distribution and outliers](#normal)\n",
    "    * [4.3 Normalization](#zscore)\n",
    "    * [4.4 Bivariate analysis](#bi)\n",
    "        * [4.4.1 Plots for exploring correlation](#explo)\n",
    "        * [4.4.2 Covariance and correlation coefficient](#cc)\n",
    "* [Annex of formulas](#annex)    "
   ]
  },
  {
   "cell_type": "markdown",
   "metadata": {},
   "source": [
    "<a  id=\"flow\"></a>\n",
    "\n",
    "<h1>1 Flow control </h1>\n",
    "\n",
    "Flow control is understood to be the structures or features that control (if, for, while) the execution and development of a program based on the fulfillment of certain conditions."
   ]
  },
  {
   "cell_type": "markdown",
   "metadata": {},
   "source": [
    "<a  id=\"if\"></a>\n",
    "\n",
    "<h2>1.1 Conditionals    </h2>\n",
    "\n",
    "\n",
    "Conditional statements are basic features of any programming language. **They perform different calculations or actions** depending on whether a programmer-specified boolean condition evaluates to true or false.\n",
    "\n",
    "<img src=\"NB_images/If.png\" style=\"width: 300px;\"/>\n",
    "\n",
    "Image from: https://en.wikipedia.org/wiki/Conditional_(computer_programming)\n",
    "\n",
    "\n",
    "The syntax of the conditional is:\n",
    "\n",
    "    if (condition to evaluate):\n",
    "        then do these things only for ‘True’\n",
    "    else:\n",
    "        do these other things only for ‘False’.\n",
    "\n",
    "Here are some examples on conditionals statements:"
   ]
  },
  {
   "cell_type": "code",
   "execution_count": null,
   "metadata": {},
   "outputs": [],
   "source": [
    "var1 = 200\n",
    "\n",
    "if var1 == 200:\n",
    "    print(\"The value of the variable is 200\")"
   ]
  },
  {
   "cell_type": "code",
   "execution_count": null,
   "metadata": {},
   "outputs": [],
   "source": [
    "a = 2\n",
    "b = 2\n",
    "\n",
    "if a == b:\n",
    "    print(\"a is equal to b\")\n",
    "else:\n",
    "    print(\"a is different to b\")"
   ]
  },
  {
   "cell_type": "code",
   "execution_count": null,
   "metadata": {},
   "outputs": [],
   "source": [
    "hour = \"1pm\"\n",
    "money = 11\n",
    "\n",
    "if (hour == \"1pm\") and (money > 10):  \n",
    "    print(\"Let´s go to have lunch\")\n",
    "else:\n",
    "    print(\"Keep working!\")"
   ]
  },
  {
   "cell_type": "code",
   "execution_count": null,
   "metadata": {},
   "outputs": [],
   "source": [
    "hour = 13.1\n",
    "money = 10\n",
    "\n",
    "if (hour > 13 and hour < 14):\n",
    "    if money < 9:\n",
    "        print(\"Let´s go to the ATM\")\n",
    "    print(\"Go to the restaurant\")\n",
    "else:\n",
    "    print(\"Keep working\")"
   ]
  },
  {
   "cell_type": "markdown",
   "metadata": {},
   "source": [
    "<div class=\"alert alert-block alert-warning\">\n",
    "<font size=\"6\"><p> &#127947;</font> \n",
    "    <b>Exercise 1: </b> \n",
    "    \n",
    "Using if, write an small program with a function that allow to convert between the two temperature scales. The program have to do the following:\n",
    "\n",
    "- Enter the temperature scale of the input data\n",
    "- Enter the temperature value\n",
    "- Print the equivalent temperature in the other scale.\n",
    "\n",
    "</div>"
   ]
  },
  {
   "cell_type": "markdown",
   "metadata": {},
   "source": [
    "<a  id=\"loops\"></a>\n",
    "\n",
    "<h2>1.2 Loops    </h2>\n",
    "\n",
    "In computer programming, a loop is a sequence of instruction s that is continually **repeated until a certain condition is reached.** Typically, a certain process is done, such as getting an item of data and changing it, and then some condition is checked such as whether a counter has reached a prescribed number.\n",
    "\n",
    "The following image is a flow diagram of the loop:\n",
    "\n",
    "<img src=\"NB_images/loop.jpg\" style=\"width: 500px;\"/>\n",
    "\n",
    "An iteration is one step or cycle of the loop. And there are two types of loops\n",
    "\n",
    "* For loop\n",
    "* While loop\n",
    "\n",
    "More information on loops at: https://www.geeksforgeeks.org/loops-in-python/"
   ]
  },
  {
   "cell_type": "markdown",
   "metadata": {},
   "source": [
    "<a  id=\"f_loops\"></a>\n",
    "\n",
    "<h3>1.2.1 For-loops    </h3>\n",
    "\n",
    "For-loops are typically used when the **number of iterations is known** before entering the loop. The Python syntax for a for-loop is:\n",
    "\n",
    "    for (condition):\n",
    "        Line code 1\n",
    "        Line code 2\n",
    "        Line code 3\n",
    "        .\n",
    "        .\n",
    "        .\n",
    "   \n",
    "The indent of the lines after the `for` statement define the code to be repeated, the indent could be tabs or spaces, but they should not be mixed. It is recommended four spaces\n",
    "   \n",
    "Here are some example of for-loops:"
   ]
  },
  {
   "cell_type": "code",
   "execution_count": null,
   "metadata": {},
   "outputs": [],
   "source": [
    "# Example 1\n",
    "\n",
    "for i in range(11):\n",
    "    print(\"Value :\", i)"
   ]
  },
  {
   "cell_type": "code",
   "execution_count": null,
   "metadata": {},
   "outputs": [],
   "source": [
    "# Example 2\n",
    "\n",
    "for i in range(1, 11, 2):\n",
    "    print(\"Value :\", i)"
   ]
  },
  {
   "cell_type": "code",
   "execution_count": null,
   "metadata": {},
   "outputs": [],
   "source": [
    "# Example 3\n",
    "\n",
    "var1 = [1, 3, 5, 7, 9]\n",
    "\n",
    "for var in var1:\n",
    "    print(\"Value :\", var)"
   ]
  },
  {
   "cell_type": "code",
   "execution_count": null,
   "metadata": {},
   "outputs": [],
   "source": [
    "# Example 4\n",
    "\n",
    "for i in range(0, len(var1)):\n",
    "    print(\"Value :\", var1[i])"
   ]
  },
  {
   "cell_type": "markdown",
   "metadata": {},
   "source": [
    "<div class=\"alert alert-block alert-warning\">\n",
    "<font size=\"6\"><p> &#127947;</font> \n",
    "    <b>Exercise 2: </b> Using for loops \n",
    "\n",
    "* Print out the numbers 0,1,2,3,4\n",
    "* Print out 3,4,5\n",
    "* Print out 3,5,7\n",
    "* Print each element of the array: colors = [\"red\", \"green\", \"blue\", \"purple\"]\n",
    "* Create a new list with the values types of each element changed from str to float numbers=[\"1\",\"6\",\"5\",\"2\",\"8\",\"9\"]\n",
    "* Calculate the minimum, maximum and average with the function created in the exercise 8.\n",
    "\n",
    "</div>"
   ]
  },
  {
   "cell_type": "markdown",
   "metadata": {},
   "source": [
    "<a  id=\"w_loops\"></a>\n",
    "\n",
    "<h3>1.2.2 While loops</h3>\n",
    "\n",
    "While-loops are used when the loop needs to be **done until certain condition is true**. The Python syntax for a while loop is:\n",
    "\n",
    "    while (condition):\n",
    "        Line code 1\n",
    "        Line code 2\n",
    "        Line code 3\n",
    "        .\n",
    "        .\n",
    "        .\n",
    "   \n",
    " The indentation of the lines after the while statement define the code to be repeated. Here are some examples of while-loops:"
   ]
  },
  {
   "cell_type": "code",
   "execution_count": null,
   "metadata": {},
   "outputs": [],
   "source": [
    "# Example 1\n",
    "\n",
    "i = 0\n",
    "while (i < 11):\n",
    "    print(\"Value :\", i)\n",
    "    i = i+1"
   ]
  },
  {
   "cell_type": "code",
   "execution_count": null,
   "metadata": {},
   "outputs": [],
   "source": [
    "# Example 2\n",
    "\n",
    "i = 1\n",
    "while (i < 11):\n",
    "    print(\"Value :\", i)\n",
    "    i = i+2\n",
    "    print(\"Value :\", i)"
   ]
  },
  {
   "cell_type": "code",
   "execution_count": null,
   "metadata": {},
   "outputs": [],
   "source": [
    "# Example 3\n",
    "\n",
    "var1 = [1, 3, 7, 9, 11]\n",
    "\n",
    "i = 0\n",
    "while (i < len(var1)):\n",
    "    print(\"Value :\", var1[i])\n",
    "    i = i+1"
   ]
  },
  {
   "cell_type": "markdown",
   "metadata": {},
   "source": [
    "<div class=\"alert alert-block alert-warning\">\n",
    "<font size=\"6\"><p> &#127947;</font> \n",
    "    <b>Exercise 3: </b> Using while loops:\n",
    "\n",
    "* Print out the numbers 0,1,2,3,4\n",
    "* Print out 3,4,5\n",
    "* Print out 3,5,7\n",
    "* Print each element of the list: colors = [\"red\", \"green\", \"blue\", \"purple\"]\n",
    "* Create a new list with the values types of each element changed from str to float numbers=[\"1\",\"6\",\"5\",\"2\",\"8\",\"9\"]\n",
    "* Calculate the minimum, maximum and average with the function created in the exercise 8.\n",
    "    \n",
    "</div>"
   ]
  },
  {
   "cell_type": "markdown",
   "metadata": {},
   "source": [
    "<div class=\"alert alert-block alert-warning\">\n",
    "<font size=\"6\"><p> &#127947;</font> \n",
    "    <b>Exercise 4: </b> \n",
    "\n",
    "    \n",
    "Create a program to generate the terms of the Fibonacci sequence. Use whatever flow control structure you consider necessary and try to do a simple plot (check the Py examples in session 1). Less is more in this exercise.\n",
    "    \n",
    "Reference on the Fibonacci sequence: https://en.wikipedia.org/wiki/Fibonacci_number\n",
    "\n",
    "</div>"
   ]
  },
  {
   "cell_type": "markdown",
   "metadata": {},
   "source": [
    "<h2>End of part </h2>\n",
    "\n",
    "[Return to Table of Content](#toc)"
   ]
  },
  {
   "cell_type": "markdown",
   "metadata": {},
   "source": [
    "<a  id=\"rwt\"></a>\n",
    "\n",
    "<h1>2 Read and write text files</h1>\n",
    "\n",
    "In petrophysics we always have the necessity of reading and writing files which contain information that we want to process or delivery. Some common format (from simpler to complex) to us are:\n",
    "\n",
    "* Text (columnar data separated by space , commas...)\n",
    "* LAS (just a pre organized text files recognized by certain programs)\n",
    "* Excel files (mainly arrange by columns)\n",
    "* Image files (bmp, jpg, tiff,...)\n",
    "* PDF (with text, images and/or tables)\n",
    "* ...\n",
    "\n",
    "As is common in Python, there are different ways to input or output information, depending on the format of the files and on the library or packages you use. In this and the following session we are going to explore simple ways to get information (text files) in and out of Python. LAS input and output will be cover in section 3."
   ]
  },
  {
   "cell_type": "markdown",
   "metadata": {},
   "source": [
    "**Text files are the most simple and important files format used in any computer (regardless of the operative system)** to save information in a format familiar to us. Some specific use of the text files are:\n",
    "\n",
    "* Simple document like notes or letters\n",
    "* Data in columnar shape\n",
    "* Keepers of parameters or environment variables for programs or operative systems\n",
    "* Scripts or programs on different programing languages\n",
    "* Communication between machines, programs and persons\n",
    "* Databases\n",
    "\n",
    "Characters in the text files where initially coded for electronic communication (teleprinters) base on different standards that in 1963 became the ASCII (American Standard Code for Information Interchange) code. Soon was clear that the ASCII code, which only has the English characters, some mathematical and especial symbols (128 characters), was insufficient for other written languages. So the ASCII started to evolves to different codes until we get to the actual UTF-8 (Universal Transformation Format) which has 1,112,064 characters, enough for all human written languages and disciplines. The UTF-8 standard is the base in which the World Wide Web works.\n",
    "\n",
    "More information on character encoding at: https://www.w3schools.com/charsets/"
   ]
  },
  {
   "cell_type": "markdown",
   "metadata": {},
   "source": [
    "<a  id=\"rtext\"></a>\n",
    "\n",
    "<h2>2.1 Reading text files </h2>\n",
    "\n",
    "The *zn.dat* file is a very simple text file with just one column that records \"a series of 118 assays for Zn (weight % of zinc) made at two meter intervals along a single sphalerite quartz vein (see image below) in the Pulacayo Mine in Chile (Bolivia, in fact).\" (Middleton, 2000). Zn is used as tracer element for Au and Ag because it is a more mobile element and it is easier to analyze, so if Zn goes up, Au and Ag should also go up.\n",
    "\n",
    "Data from: https://books.google.es/books/about/Data_Analysis_in_the_Earth_Sciences_Usin.html?id=mNsSAQAAIAAJ&redir_esc=y\n",
    "<img src=\"NB_images\\pulacayo_mine_bolivia.png\" style=\"width:750px\">\n",
    "\n",
    "\n",
    "Pulacayo Mine south Bolivia. Source: https://www.mindat.org/loc-332.html\n",
    "\n",
    "<img src=\"NB_images\\vein_south_australia.png\" style=\"width:750px\">\n",
    "\n",
    "Massive quartz vein outcroping in south Australia. Source:\n",
    "\n",
    "https://www.reddit.com/r/geology/comments/cw3lpc/found_a_massive_quartz_vein_in_south_australia/\n",
    "\n",
    "<img src=\"NB_images\\vein_nalunaq_mine_australia.png\" style=\"width:750px\">\n",
    "\n",
    "Quartz vein in subterranean mine in south Australia. Source:\n",
    "\n",
    "https://www.mining-technology.com/deals-analysis/fosterville-south-acquires-three-gold-projects-from-ecr-minerals/"
   ]
  },
  {
   "cell_type": "markdown",
   "metadata": {},
   "source": [
    "<a  id=\"rsingle\"></a>\n",
    "\n",
    "<h3> 2.1.1 Reading single column text files </h3>\n",
    "\n",
    "To load the zn.dat we are going to use the `genfromtxt()` command of the Numpy library which creates a columnar array of float numbers.\n",
    "\n",
    "References on the Numpy library at: https://numpy.org/\n",
    "\n",
    "Later, in next sessions, we are going to load different text files using other commands or functions."
   ]
  },
  {
   "cell_type": "code",
   "execution_count": null,
   "metadata": {},
   "outputs": [],
   "source": [
    "# Importing the Numpy library\n",
    "\n",
    "import numpy as np"
   ]
  },
  {
   "cell_type": "code",
   "execution_count": null,
   "metadata": {},
   "outputs": [],
   "source": [
    "# Loading the file located in the working directory and variable assignation\n",
    "\n",
    "zn = np.genfromtxt('Input/zn.dat')\n",
    "\n",
    "print(zn)\n",
    "print()\n",
    "print(type(zn))"
   ]
  },
  {
   "cell_type": "code",
   "execution_count": null,
   "metadata": {},
   "outputs": [],
   "source": [
    "# Skiping the header of a better documented file\n",
    "\n",
    "zn = np.genfromtxt('Input/zn_w_info.dat', skip_header = 4)\n",
    "\n",
    "print(zn)\n",
    "print()\n",
    "print(type(zn))"
   ]
  },
  {
   "cell_type": "code",
   "execution_count": null,
   "metadata": {},
   "outputs": [],
   "source": [
    "# Look for specific points in the zn array and verify the type\n",
    "\n",
    "print(zn[0])\n",
    "print(zn[59])\n",
    "print(zn[117])\n",
    "print()\n",
    "print(type(zn[117]))"
   ]
  },
  {
   "cell_type": "code",
   "execution_count": null,
   "metadata": {},
   "outputs": [],
   "source": [
    "# Some basic parameters of the zn array\n",
    "\n",
    "print('samples =',len(zn))\n",
    "print('min =',np.min(zn))\n",
    "print('max =',np.max(zn))\n",
    "\n",
    "zn_range = np.max(zn) - np.min(zn)\n",
    "\n",
    "print('range =', zn_range)"
   ]
  },
  {
   "cell_type": "markdown",
   "metadata": {},
   "source": [
    "<a  id=\"rmulti\"></a>\n",
    "\n",
    "<h3> 2.1.2 Reading multi column text files with missing values </h3>\n",
    "\n",
    "To have a file with just a column it is very rare, normally we have files with several numerical columns, sometime even with text. When you load a multi column file and array is created with the same number of columns, later each one can be defined as independent variables. Important, in order to operate with this variables, they have to have the same dimensions (same number of rows).\n",
    "\n",
    "A common situation is to have several missing or lost values, places where the measurements were not possible. These missing values used to be indicated with special numbers such as -999.000, or -999.2500 or just with empty spaces. Numpy recognizes automatically empty spaces as missing values and replaced them by *nan*, not a number.\n",
    "\n",
    "We are going to load the *rampi.csv* file, which is a five-columns file that comes from a study of gold and associated elements (in ppm) in quartz veins in the Rampi block prospect, Indonesia (see image below from Google Earth):\n",
    "\n",
    "<img src=\"NB_images\\rampi_indonesia.png\"  style=\"width:750px\">\n",
    "\n",
    "Data and information on the area in:\n",
    "\n",
    "https://www.researchgate.net/publication/321018113_Occurrences_and_Characteristics_of_Gold_Mineralization_in_Rampi_Block_Prospect_North_Luwu_Regency_South_Sulawesi_Province_Indonesia/figures?lo=1\n"
   ]
  },
  {
   "cell_type": "code",
   "execution_count": null,
   "metadata": {},
   "outputs": [],
   "source": [
    "# Loading the multi column file\n",
    "\n",
    "rampi = np.genfromtxt('Input/rampi.csv', skip_header = 1, delimiter=',')\n",
    "\n",
    "# The default data type of the np.genfromtxt command is float64 however you can set the loading dtype = str\n",
    "\n",
    "print(rampi, '\\n')\n",
    "print(type(rampi))"
   ]
  },
  {
   "cell_type": "code",
   "execution_count": null,
   "metadata": {},
   "outputs": [],
   "source": [
    "len(rampi)"
   ]
  },
  {
   "cell_type": "code",
   "execution_count": null,
   "metadata": {},
   "outputs": [],
   "source": [
    "# Variables assignation\n",
    "\n",
    "au = rampi[:,0]\n",
    "ag = rampi[:,1]\n",
    "cu = rampi[:,2]\n",
    "zn2 = rampi[:,3]\n",
    "\n",
    "# zn2 in order to avoid the overwriting of the zn from the Bolivian data\n",
    "\n",
    "pb = rampi[:,4]\n",
    "\n",
    "print(ag)\n",
    "print()\n",
    "print(type(ag))"
   ]
  },
  {
   "cell_type": "code",
   "execution_count": null,
   "metadata": {},
   "outputs": [],
   "source": [
    "# Some operations cannot be executed if the array has missing values (nan)\n",
    "\n",
    "print('samples =',len(rampi))\n",
    "print('min =',np.min(ag))\n",
    "print('max =',np.max(ag))\n",
    "\n",
    "ag_range = np.max(ag) - np.min(ag)\n",
    "print('range =', ag_range)"
   ]
  },
  {
   "cell_type": "code",
   "execution_count": null,
   "metadata": {},
   "outputs": [],
   "source": [
    "# Arrays with nan requires especial functions that ignores the missing values\n",
    "\n",
    "print('samples =',len(ag))\n",
    "\n",
    "print('min =',np.nanmin(ag))\n",
    "print('max =',np.nanmax(ag))\n",
    "\n",
    "ag_range = np.nanmax(ag) - np.nanmin(ag)\n",
    "print('range =', ag_range)"
   ]
  },
  {
   "cell_type": "markdown",
   "metadata": {},
   "source": [
    "<div class=\"alert alert-block alert-warning\">\n",
    "<font size=\"6\"><p> &#127947;</font>\n",
    "        <b>Exercise 5: </b>\n",
    "\n",
    "* Load the rampi.csv file and look for the values of silver in rows 1, 10 and 20.\n",
    "* Calculate the main parameters (len, min, max, range) for the silver.\n",
    "* Look for the mean function in the Numpy library and used it for each element.\n",
    "</div>"
   ]
  },
  {
   "cell_type": "markdown",
   "metadata": {},
   "source": [
    "<a  id=\"wtext\"></a>\n",
    "\n",
    "<h2> 2.2 Writing text files </h2>\n",
    "\n",
    "It is common to write files in order to save simple texts and/or the value of a variable. Let's start witting a very simple text file, then another (report type) which incorporates the value of actual variables, and finally a columnar type similar to those we just loaded."
   ]
  },
  {
   "cell_type": "code",
   "execution_count": null,
   "metadata": {},
   "outputs": [],
   "source": [
    "#  A very simple text file\n",
    "\n",
    "# Open the file to write\n",
    "\n",
    "file = open(\"Output/simple.txt\",\"w\")\n",
    "\n",
    "# Write\n",
    "\n",
    "file.write(\"This is a text file. \\n\")\n",
    "file.write(\"\\n\")\n",
    "file.write(\"In fact, a very simple one. \\n\")\n",
    "file.write(\"\\n\")\n",
    "file.write(\"This is the end of the file.\")\n",
    "\n",
    "# Close the file\n",
    "\n",
    "file.close()\n",
    "\n",
    "# look at your home directory"
   ]
  },
  {
   "cell_type": "markdown",
   "metadata": {},
   "source": [
    "<a  id=\"wreport\"></a>\n",
    "\n",
    "<h3> 2.2.1 Writing a simple text report </h3>\n",
    "\n",
    "Now let's write a simple text report which incorporates the value of actual variables calculated with the Bolivian data (*zn.dat*). For this purpose we are going to use the `str()` function that converts the value of the variables in to strings that can be included in the text file:"
   ]
  },
  {
   "cell_type": "code",
   "execution_count": null,
   "metadata": {},
   "outputs": [],
   "source": [
    "# Text file with single variables\n",
    "\n",
    "file = open(\"Output/zn_basic_stat.txt\",\"w\")\n",
    "\n",
    "file.write(\"Very simple Statistical parameters. \\n\")\n",
    "file.write(\"Weight % of Zinc in a quartz vein. \\n\")\n",
    "file.write(\"Pulacayo nine, Bolivia. \\n\")\n",
    "file.write(\" \\n\")\n",
    "file.write(\"Minimum value          =\"+str(np.min(zn))+\"\\n\")\n",
    "file.write(\"Maximum value          =\"+str(np.max(zn))+\" \\n\")\n",
    "file.write(\"Range                  =\"+str(zn_range)+\" \\n\")\n",
    "file.write(\"Mean                   =\"+str(np.mean(zn))+\" \\n\")\n",
    "file.write(\" \\n\")\n",
    "\n",
    "file.close()"
   ]
  },
  {
   "cell_type": "markdown",
   "metadata": {},
   "source": [
    "<div class=\"alert alert-block alert-warning\">\n",
    "<font size=\"6\"><p> &#127947;</font> \n",
    "    <b>Exercise 6:</b> Write your own simple text file. Then write a simple text report file for the silver in the Rampi data.\n",
    "</div>"
   ]
  },
  {
   "cell_type": "markdown",
   "metadata": {},
   "source": [
    "<a  id=\"wcolumn\"></a>\n",
    "\n",
    "<h3> 2.2.2 Writing single or multi column text files </h3>\n",
    "\n",
    "After manipulating your data you could have the necessity of exporting your results to other users or programs. The previous file is more suitable for single or few variables. For massive variables with a lot of rows it is more convenient to export then in single or multi columnar text files. Contrary to the previous examples, here it is important to take care of the format in which those variables are written. Maybe you need just four decimals or scientific notation. Here are two references about numbers and strings format:\n",
    "\n",
    "https://pyformat.info/\n",
    "\n",
    "https://mkaz.blog/code/python-string-format-cookbook/"
   ]
  },
  {
   "cell_type": "code",
   "execution_count": null,
   "metadata": {},
   "outputs": [],
   "source": [
    "# Manipulation of same-size variables (ratios calculation)\n",
    "\n",
    "cuau_rat = cu/au\n",
    "znau_rat = zn2/au\n",
    "pbau_rat = pb/au"
   ]
  },
  {
   "cell_type": "code",
   "execution_count": null,
   "metadata": {},
   "outputs": [],
   "source": [
    "cuau_rat"
   ]
  },
  {
   "cell_type": "code",
   "execution_count": null,
   "metadata": {},
   "outputs": [],
   "source": [
    "# Writing a variable to a single column file\n",
    "\n",
    "np.savetxt('Output/cuau_rat.txt', cuau_rat, header='cuau ratio',fmt='%1.4f')\n",
    "\n",
    "# fmt='%1.4f' write a float with this format: 20.2431"
   ]
  },
  {
   "cell_type": "markdown",
   "metadata": {},
   "source": [
    "<div class=\"alert alert-block alert-warning\">\n",
    "<font size=\"6\"><p> &#127947;</font>\n",
    "           <b>Exercise 7: </b>Write a single column text file with the ratio of copper against silver.\n",
    "</div>"
   ]
  },
  {
   "cell_type": "code",
   "execution_count": null,
   "metadata": {},
   "outputs": [],
   "source": [
    "# Writing a multi column text file\n",
    "\n",
    "    # Creating the container (array) for the variables\n",
    "\n",
    "ratios = np.zeros((len(rampi),3))\n",
    "\n",
    "print('ratio is a :', type(ratios),'\\n')\n",
    "\n",
    "ratios"
   ]
  },
  {
   "cell_type": "code",
   "execution_count": null,
   "metadata": {},
   "outputs": [],
   "source": [
    "    # Filling the container with variable of the same dimension\n",
    "\n",
    "ratios[:,0] = cuau_rat\n",
    "ratios[:,1] = znau_rat\n",
    "ratios[:,2] = pbau_rat\n",
    "\n",
    "    # Writing the whole container to a multi column text file\n",
    "\n",
    "np.savetxt('Output/ratios.txt', (ratios), delimiter=',', header='cuau,znau,pbau,', fmt='%1.3f')\n",
    "\n",
    "# fmt='%1.3f' write a float with this format: 20.243"
   ]
  },
  {
   "cell_type": "markdown",
   "metadata": {},
   "source": [
    "<div class=\"alert alert-block alert-warning\">\n",
    "<font size=\"6\"><p> &#127947;</font>\n",
    "           <b>Exercise 8: </b>\n",
    "Write a multi column text file with the ratio of copper, zinc and lead against silver.\n",
    "</div>"
   ]
  },
  {
   "cell_type": "markdown",
   "metadata": {},
   "source": [
    "<h2>End of part </h2>\n",
    "\n",
    "[Return to Table of Content](#toc)"
   ]
  },
  {
   "cell_type": "markdown",
   "metadata": {},
   "source": [
    "<a  id=\"plots\"></a>\n",
    "\n",
    "<h1> 3 Plots </h1>\n",
    "\n",
    "We are graphical animals, for us is easier to make conclusion about a data set base on a bad graphic than on a sophisticated table. Python help us on that as no other programing language. Let's see some basic plots such as:\n",
    "\n",
    "* Simple point or line plot\n",
    "* Scatter plot\n",
    "* Bar and pie plots\n",
    "* Multi plots\n",
    "\n",
    "**Matplotlib** is the library we are going to use for all plots related issues. A huge variety of examples, with its respective code, can be seen at:\n",
    "\n",
    "https://matplotlib.org/3.2.1/gallery/index.html\n",
    "\n",
    "The references in the Matplotlib site use to be complicated for beginners user, they are more suitable for computer scientist because they involve complex topic on programming like objects, sequences, attributes, ... Look at this example on sine plot and compare it test4.py seen in the previous session:\n",
    "\n",
    "https://matplotlib.org/examples/pylab_examples/pythonic_matplotlib.html\n",
    "\n",
    "Don't be afraid of picking whatever you need from this explanations and make you own version. Look also at the code proposed by Google at the beginning of the results of the following search: \n",
    "\n",
    "https://www.google.com/search?safe=strict&hl=es&sxsrf=ALeKk03bVgPEZVHHSDA2vcICVgQvouGRVw%3A1604688730465&ei=WpulX6eHHJ6k1fAPsOyRsAM&q=sine+plot+matplotlib&oq=sine+plot+matplotlib&gs_lcp=CgZwc3ktYWIQAzIECAAQDTIGCAAQDRAeMgYIABANEB4yBggAEA0QHjIICAAQDRAKEB4yBggAEA0QHjIGCAAQDRAeMgYIABANEB4yCAgAEA0QBRAeMggIABANEAUQHjoECAAQR1DFxgVYhs8FYNe1BmgAcAJ4AIABpAGIAZsCkgEDMC4ymAEAoAEBqgEHZ3dzLXdpesgBBsABAQ&sclient=psy-ab&ved=0ahUKEwinnISuy-7sAhUeUhUIHTB2BDYQ4dUDCA0&uact=5\n",
    "\n",
    "The plotting methodology we are going to show here is based in what is call **state-based or procedual** programing (like in Matlab). The methodologies of programming presented in the Matplotlib web site, is call **object-oriented** ( we are not going to use this approach)"
   ]
  },
  {
   "cell_type": "markdown",
   "metadata": {},
   "source": [
    "<a  id=\"splots\"></a>\n",
    "\n",
    "<h2> 3.1 Single plots </h2>\n",
    "\n",
    "By single plot we mean a plot that is alone or isolated in the Jupyter output or in a file.\n",
    "\n"
   ]
  },
  {
   "cell_type": "markdown",
   "metadata": {},
   "source": [
    "<a  id=\"line\"></a>\n",
    "\n",
    "<h3> 3.1.1 Point-line plots </h3>\n",
    "\n",
    "For this demostration we are going to use the same data as the previous section, the data from Pulacayo Mine (*zn.dat*) and from the Rampi block prospect (*rampi.csv*). "
   ]
  },
  {
   "cell_type": "code",
   "execution_count": null,
   "metadata": {},
   "outputs": [],
   "source": [
    "# Importing libraries\n",
    "\n",
    "import numpy as np\n",
    "import matplotlib.pyplot as plt"
   ]
  },
  {
   "cell_type": "code",
   "execution_count": null,
   "metadata": {},
   "outputs": [],
   "source": [
    "# Loading the Pulacayo data, single zinc concentration (weight %)\n",
    "\n",
    "zn = np.genfromtxt('Input/zn.dat')\n",
    "print('lenth of the zn file: ', len(zn))"
   ]
  },
  {
   "cell_type": "code",
   "execution_count": null,
   "metadata": {},
   "outputs": [],
   "source": [
    "# A simple point-line plot of the original data. Just in the same file order, no x is involved.\n",
    "\n",
    "plt.plot(zn)\n",
    "\n",
    "plt.plot(zn, '.')\n",
    "\n",
    "plt.show()"
   ]
  },
  {
   "cell_type": "code",
   "execution_count": null,
   "metadata": {},
   "outputs": [],
   "source": [
    "# Let plot concentration of zinc against its real location along the vein (each 2 m)\n",
    "\n",
    "# This will be a cross plot (xy plot) with axes label.\n",
    "\n",
    "x = range(0, 2*len(zn), 2)\n",
    "\n",
    "# range sintaxis: range(start, end, step)\n",
    "\n",
    "plt.figure(figsize=(8, 5))\n",
    "\n",
    "plt.plot(x, zn)\n",
    "\n",
    "plt.xlabel(\"Distance (m)\")\n",
    "plt.ylabel(\"Weight %\")\n",
    "\n",
    "plt.title(\"Zn along quartz vein\")\n",
    "\n",
    "plt.show()"
   ]
  },
  {
   "cell_type": "code",
   "execution_count": null,
   "metadata": {},
   "outputs": [],
   "source": [
    "# Show the mean value in the point-line plot\n",
    "\n",
    "y = np.mean(zn)\n",
    "\n",
    "# y is a single value\n",
    "\n",
    "plt.figure(figsize=(8,5))\n",
    "plt.plot(x, zn)\n",
    "\n",
    "plt.axhline(y=y, ls=\"-\", color='black', label=\"mean\")\n",
    "\n",
    "# axhline put an horizontal line base on y\n",
    "\n",
    "plt.xlabel(\"Distance (m)\")\n",
    "plt.ylabel(\"Weight %\")\n",
    "plt.title(\"Zn along quartz vein\")\n",
    "\n",
    "plt.legend()\n",
    "\n",
    "plt.show()"
   ]
  },
  {
   "cell_type": "markdown",
   "metadata": {},
   "source": [
    "<div class=\"alert alert-block alert-warning\">\n",
    "<font size=\"6\"><p> &#127947;</font> \n",
    "    <b> Exercise 9:</b> Plot the lead in the Rampi data, with the mean line. Assume 3 meters of separation between samples.\n",
    "</div>"
   ]
  },
  {
   "cell_type": "code",
   "execution_count": null,
   "metadata": {},
   "outputs": [],
   "source": [
    "# Fill between curves\n",
    "\n",
    "plt.figure(figsize=(8,5))\n",
    "plt.plot(x, zn)\n",
    "plt.axhline(y=y, ls=\"-\", color='black', label=\"mean\")\n",
    "\n",
    "# y = np.mean(zn)\n",
    "\n",
    "plt.fill_between(x, zn, y, where=(zn >= y), facecolor='b', interpolate=True, label=\"over mean\")\n",
    "plt.fill_between(x, zn, y, where=(zn <= y), facecolor='r', interpolate=True, label=\"under mean\")\n",
    "\n",
    "plt.xlabel(\"Distance (m)\")\n",
    "plt.ylabel(\"Weight %\")\n",
    "plt.title(\"Zn along quartz vein\")\n",
    "plt.legend()\n",
    "plt.show()"
   ]
  },
  {
   "cell_type": "code",
   "execution_count": null,
   "metadata": {},
   "outputs": [],
   "source": [
    "# Loading the Rampi data with five elements concentration (ppm), and variables definition\n",
    "\n",
    "rampi = np.genfromtxt('Input/rampi.csv', skip_header = 1, delimiter=',')\n",
    "\n",
    "au = rampi[:,0]\n",
    "ag = rampi[:,1]\n",
    "cu = rampi[:,2]\n",
    "zn2 = rampi[:,3]\n",
    "pb = rampi[:,4]"
   ]
  },
  {
   "cell_type": "code",
   "execution_count": null,
   "metadata": {},
   "outputs": [],
   "source": [
    "# Multi point-line plot of the original data, just in the same file order, no x is involved, with grid.\n",
    "\n",
    "plt.figure(figsize=(8,5))\n",
    "\n",
    "# plt.plot(au, label=\"Au\")\n",
    "# plt.plot(ag, label=\"Ag\")\n",
    "# plt.plot(cu, label=\"Cu\")\n",
    "# plt.plot(zn2, label=\"Zn\")\n",
    "# plt.plot(pb, label=\"Pb\")\n",
    "\n",
    "plt.plot(au, 'y', label=\"Au\")\n",
    "plt.plot(ag, 'c', label=\"Ag\")\n",
    "plt.plot(cu, 'r', label=\"Cu\")\n",
    "plt.plot(zn2,'m', label=\"Zn\")\n",
    "plt.plot(pb, 'b', label=\"Pb\")\n",
    "\n",
    "plt.title(\"Rampi elements\")\n",
    "plt.xlabel(\"File order\")\n",
    "plt.ylabel(\"Concentration(ppm)\")\n",
    "plt.legend()\n",
    "\n",
    "plt.grid(True)\n",
    "\n",
    "plt.show()"
   ]
  },
  {
   "cell_type": "markdown",
   "metadata": {},
   "source": [
    "<a  id=\"scat\"></a>\n",
    "\n",
    "<h3> 3.1.2 Scatter plots </h3>\n",
    "\n",
    "Scatter or cross plots are probably the most used plots in petrophysics because they give you an idea about the relation of two variables"
   ]
  },
  {
   "cell_type": "code",
   "execution_count": null,
   "metadata": {},
   "outputs": [],
   "source": [
    "# Cross plot or scatter plot\n",
    "\n",
    "plt.figure(figsize=(8,5))\n",
    "\n",
    "plt.plot(au,ag,'.')\n",
    "\n",
    "plt.title(\"Au vs. Ag\")\n",
    "plt.xlabel(\"Au (ppm)\")\n",
    "plt.ylabel(\"Ag (ppm)\")\n",
    "plt.grid(True)\n",
    "\n",
    "# The range of the axis can be modified with\n",
    "\n",
    "plt.axis([0 , 5, 0, 2])\n",
    "\n",
    "plt.show()"
   ]
  },
  {
   "cell_type": "code",
   "execution_count": null,
   "metadata": {
    "scrolled": true
   },
   "outputs": [],
   "source": [
    "# Cross plot in log scale\n",
    "\n",
    "plt.figure(figsize=(8,5))\n",
    "\n",
    "plt.loglog(au,ag,'.')\n",
    "\n",
    "# plt.semilogx(au,ag,'.')\n",
    "\n",
    "# For just one axe used semilogx or semilogy\n",
    "\n",
    "plt.title(\"Au vs. Ag\")\n",
    "plt.xlabel(\"Log Au (ppm)\")\n",
    "plt.ylabel(\"Log Ag (ppm)\")\n",
    "plt.grid(True)\n",
    "plt.show()"
   ]
  },
  {
   "cell_type": "markdown",
   "metadata": {},
   "source": [
    "<div class=\"alert alert-block alert-warning\">\n",
    "<font size=\"6\"><p> &#127947;</font>\n",
    "    <b>Exercise 10:</b> \n",
    "    \n",
    "Do the following cross plots with the Rampi data set; silver vs. copper, silver vs. zinc, and silver vs. lead. Use the right scales, title, labels and grid.\n",
    "</div>"
   ]
  },
  {
   "cell_type": "markdown",
   "metadata": {},
   "source": [
    "<a  id=\"bar\"></a>\n",
    "\n",
    "<h3> 3.1.3 Bar and pie plots </h3>\n",
    "\n",
    "Here you have two more type of plots, bar and pie. The categories (elements), data (sizes), and colors are the same in both cases. "
   ]
  },
  {
   "cell_type": "code",
   "execution_count": null,
   "metadata": {},
   "outputs": [],
   "source": [
    "# Bar plot\n",
    "\n",
    "# Data to plot\n",
    "\n",
    "elements = ('Ag', 'Au', 'Cu', 'Zn', 'Pb')\n",
    "sizes = [np.nanmean(ag), np.nanmean(au), np.nanmean(cu), np.nanmean(zn2), np.nanmean(pb)]\n",
    "x = np.arange(len(elements))\n",
    "\n",
    "# Plot properties\n",
    "    \n",
    "colors = ['y', 'c', 'r','m','b']\n",
    "\n",
    "########################### Do not change this part #####################################\n",
    "\n",
    "# Plot & identifiers\n",
    "    \n",
    "plt.figure(figsize=(8,5))\n",
    "\n",
    "plt.bar(x, sizes, align='center', color=colors, alpha=0.5)\n",
    "\n",
    "plt.xticks(x, elements)\n",
    "\n",
    "# Labels\n",
    "\n",
    "plt.title('Rampi elements')\n",
    "plt.ylabel('ppm')\n",
    "plt.show()"
   ]
  },
  {
   "cell_type": "code",
   "execution_count": null,
   "metadata": {},
   "outputs": [],
   "source": [
    "# Pie plot\n",
    "\n",
    "# Data to plot\n",
    "\n",
    "elements = ('Au', 'Ag', 'Cu', 'Zn', 'Pb')\n",
    "sizes = [np.nanmean(au), np.nanmean(ag), np.nanmean(cu), np.nanmean(zn2), np.nanmean(pb)]\n",
    "\n",
    "# Plot properties\n",
    "\n",
    "colors = ['y', 'c', 'r','m','b']\n",
    "explode = (0.1, 0, 0, 0, 0)\n",
    "\n",
    "########################### Do not change this part #####################################\n",
    "\n",
    "# Plot & identifiers\n",
    "    \n",
    "plt.figure(figsize=(8,5))\n",
    "\n",
    "plt.pie(sizes, explode=explode, labels=elements, colors=colors, wedgeprops={'alpha':0.5},\n",
    "\n",
    "        autopct='%1.1f ppm', shadow=False, startangle=140)\n",
    "\n",
    "plt.axis('equal')\n",
    "\n",
    "# Labels\n",
    "    \n",
    "plt.title(\"Rampi elements\")\n",
    "plt.show()"
   ]
  },
  {
   "cell_type": "markdown",
   "metadata": {},
   "source": [
    "<div class=\"alert alert-block alert-warning\">\n",
    "<font size=\"6\"><p> &#127947;</font>\n",
    "    <b>Exercise 11:</b>\n",
    "\n",
    "In section call \"The Mineralogy of Sedimentary Rocks\" of the following web site there is a table with the mineral composition of two type of sedimentary rocks (mudrocks and sandstones):\n",
    "\n",
    "http://www.tulane.edu/~sanelson/eens212/sedrxintro.htm\n",
    "\n",
    "Built a bar and a pie plot for both rocks considering the following:\n",
    "    \n",
    "* Make a self-contain data code which doesn't depend on external files\n",
    "* Make the necessary assumptions to represent all the components \n",
    "* Use the right scales, title, labels and grid"
   ]
  },
  {
   "cell_type": "markdown",
   "metadata": {},
   "source": [
    "<a  id=\"mplot\"></a>\n",
    "\n",
    "<h2> 3.2 Multiplots </h2>\n",
    "\n",
    "<a  id=\"mplots\"></a>\n",
    "\n",
    "With the Matploplib's **subplot** function it is possible to gather several single plots in a composition of plots, arranges base on a rectangular grid of raw and columns. The arguments (2,2,1) in the following command:\n",
    "\n",
    "`plt.subplot(2,2,1)`\n",
    "    \n",
    "mean the first plot in an arrange of two rows and two columns of plots, something like this:\n",
    "\n",
    "<img src=\"NB_images\\multiplot_example.png\"  style=\"width:650px\">"
   ]
  },
  {
   "cell_type": "code",
   "execution_count": null,
   "metadata": {},
   "outputs": [],
   "source": [
    "# Importing libraries\n",
    "\n",
    "import numpy as np\n",
    "import matplotlib.pyplot as plt"
   ]
  },
  {
   "cell_type": "code",
   "execution_count": null,
   "metadata": {},
   "outputs": [],
   "source": [
    "# Loading the Rampi data with five elements concentration (ppm), and variables definition\n",
    "\n",
    "rampi = np.genfromtxt('Input/rampi.csv', skip_header = 1, delimiter=',')\n",
    "\n",
    "au = rampi[:,0]\n",
    "ag = rampi[:,1]\n",
    "cu = rampi[:,2]\n",
    "zn2 = rampi[:,3]\n",
    "pb = rampi[:,4]"
   ]
  },
  {
   "cell_type": "code",
   "execution_count": null,
   "metadata": {},
   "outputs": [],
   "source": [
    "# Building and saving a 2 x 3 multiplot\n",
    "\n",
    "plt.figure(figsize=(16,8))\n",
    "\n",
    "plt.subplot(2,3,1)\n",
    "\n",
    "# Point_line plot\n",
    "plt.plot(au, 'y', label=\"Au\")\n",
    "plt.plot(ag, 'c', label=\"Ag\")\n",
    "plt.plot(cu, 'r', label=\"Cu\")\n",
    "plt.plot(zn2,'m', label=\"Zn\")\n",
    "plt.plot(pb, 'b', label=\"Pb\")\n",
    "plt.title(\"Elements\")\n",
    "plt.xlabel(\"File order\")\n",
    "plt.ylabel(\"ppm\")\n",
    "plt.legend()\n",
    "plt.grid(True)\n",
    "\n",
    "plt.subplot(2,3,2)\n",
    "\n",
    "# Bar plot\n",
    "elements = ('Ag', 'Au', 'Cu', 'Zn', 'Pb')\n",
    "sizes = [np.nanmean(ag), np.nanmean(au), np.nanmean(cu), np.nanmean(zn2), np.nanmean(pb)]\n",
    "x = np.arange(len(elements))   \n",
    "colors = ['y', 'c', 'r','m','b']\n",
    "plt.bar(x, sizes, align='center', alpha=0.5, color=colors)\n",
    "plt.xticks(x, elements)\n",
    "plt.title('Elements')\n",
    "plt.ylabel('ppm')\n",
    "plt.xlabel('Elements')\n",
    "plt.grid(True)\n",
    "\n",
    "plt.subplot(2,3,3)\n",
    "\n",
    "# Cross plot\n",
    "plt.loglog(au,ag,'.')\n",
    "plt.title(\"Au vs. Ag\")\n",
    "plt.xlabel(\"Log Au (ppm)\")\n",
    "plt.ylabel(\"Log Ag (ppm)\")\n",
    "plt.grid(True)\n",
    "plt.tight_layout(1)\n",
    "\n",
    "plt.subplot(2,3,4)\n",
    "\n",
    "# Cross plot\n",
    "plt.loglog(au,cu,'.')\n",
    "plt.title(\"Au vs. Cu\")\n",
    "plt.xlabel(\"Log Au (ppm)\")\n",
    "plt.ylabel(\"Log Cu (ppm)\")\n",
    "plt.ylim(1,200)\n",
    "plt.grid(True)\n",
    "\n",
    "plt.subplot(2,3,5)\n",
    "\n",
    "# Cross plot\n",
    "plt.loglog(au,zn2,'.')\n",
    "plt.title(\"Au vs. Zn\")\n",
    "plt.xlabel(\"Log Au (ppm)\")\n",
    "plt.ylabel(\"Log Zn (ppm)\")\n",
    "plt.ylim(1,200)\n",
    "plt.grid(True)\n",
    "\n",
    "plt.subplot(2,3,6)\n",
    "\n",
    "# Cross plot\n",
    "plt.loglog(au,pb,'.')\n",
    "plt.title(\"Au vs. Pb\")\n",
    "plt.xlabel(\"Log Au (ppm)\")\n",
    "plt.ylabel(\"Log Pb (ppm)\")\n",
    "plt.ylim(1,200)\n",
    "plt.grid(True)\n",
    "\n",
    "# Saving multiplo to file\n",
    "\n",
    "plt.savefig(\"Output/multiplot.pdf\")\n",
    "plt.savefig(\"Output/multiplot.png\")\n",
    "\n",
    "plt.tight_layout(1)\n",
    "\n",
    "plt.show()"
   ]
  },
  {
   "cell_type": "markdown",
   "metadata": {},
   "source": [
    "<div class=\"alert alert-block alert-warning\">\n",
    "<font size=\"6\"><p> &#127947;</font>\n",
    "    <b>Exercise 12:</b>\n",
    "\n",
    "Add three xplots to the previous multiplo (in the theory); silver vs. copper, silver vs. zinc, silver vs. lead. Use the right scales, title, labels and grid. Use only Rampi data, do not mix this data with the Bolivian data.\n",
    "</div>"
   ]
  },
  {
   "cell_type": "markdown",
   "metadata": {},
   "source": [
    "<h2>End of part </h2>\n",
    "\n",
    "[Return to Table of Content](#toc)"
   ]
  },
  {
   "cell_type": "markdown",
   "metadata": {},
   "source": [
    "<a  id=\"stat\"></a>\n",
    "\n",
    "<h1>4 Basic statistics</h1>\n",
    "\n",
    "Statistics is a powerful tool to understand your data and increase your descriptive capacities. With the calculation of few statistical parameters (mean, median, mode, standard deviation, ...) and the construction of basic plots (PDF, CDF, ...), you will be able to:\n",
    "\n",
    "* Identify central value of a variable (central tendency)\n",
    "* Make prediction about missing values (percentiles)\n",
    "* Identify outliers or anomalies (dispersion)\n",
    "* Normalize variables\n",
    "* Compare variables\n",
    "\n",
    "Python has several libraries that deal with statistics. Depending on your personal taste, the size of your data, and the complexity of the analysis or plot, you can select one or another library. The following link provide an extensive review of statistics and different options available on Python for this important topic:\n",
    "\n",
    "https://realpython.com/python-statistics/</div>"
   ]
  },
  {
   "cell_type": "markdown",
   "metadata": {},
   "source": [
    "<a  id=\"uni\"></a>\n",
    "\n",
    "<h2>4.1 Univariate analysis </h2>\n",
    "\n",
    "Univariate analysis, also calls descriptive statistics, is the statistical analysis of a single variable which involves qualitative (plots) and quantitative (calculation of parameters) tools (we already saw some of them). These tools are link to fundamental concepts of the univariate analysis which are:\n",
    "\n",
    "* Frequency distribution\n",
    "* Central tendency\n",
    "* Dispersion\n",
    "     \n",
    "For this part are going to use the following libraries:\n",
    "\n",
    "* Already seen: Numpy, Matplotlib\n",
    "* For loading and manipulating Excel files: xlrd and Pandas\n",
    "* Statistical library: Scipy and Seaborn\n",
    "    \n",
    "For data, we are going to used the Bolivian mine data, *zn.dat*.</div>"
   ]
  },
  {
   "cell_type": "markdown",
   "metadata": {},
   "source": [
    "<a  id=\"freq\"></a>\n",
    "\n",
    "<h3>4.1.1 Frequency distribution </h3>\n",
    "\n",
    "How many times a number (range or bin of numbers) get repeated in my data"
   ]
  },
  {
   "cell_type": "code",
   "execution_count": null,
   "metadata": {},
   "outputs": [],
   "source": [
    "# Importing libraries for this part\n",
    "\n",
    "import numpy as np\n",
    "import matplotlib.pyplot as plt\n",
    "from scipy import stats"
   ]
  },
  {
   "cell_type": "code",
   "execution_count": null,
   "metadata": {},
   "outputs": [],
   "source": [
    "# Loading and exploring the Pulacayo data with a simple point-line plot before tackling new stuff\n",
    "\n",
    "zn = np.genfromtxt('Input/zn.dat')\n",
    "\n",
    "plt.figure(figsize=(8, 5))\n",
    "\n",
    "# plt.plot(zn)\n",
    "# plt.plot(zn,'.')\n",
    "\n",
    "plt.plot(zn,\"o-\", ms=6, mfc=\"red\", lw=2, c=\"blue\")\n",
    "\n",
    "# Try with: o--, o:\n",
    "\n",
    "plt.title(\"Zn along quartz vein\")\n",
    "plt.xlabel(\"Position in the file\")\n",
    "plt.ylabel(\"% Zn\")\n",
    "plt.show()"
   ]
  },
  {
   "cell_type": "code",
   "execution_count": null,
   "metadata": {
    "scrolled": true
   },
   "outputs": [],
   "source": [
    "zn"
   ]
  },
  {
   "cell_type": "code",
   "execution_count": null,
   "metadata": {},
   "outputs": [],
   "source": [
    "# Estimating frequency\n",
    "\n",
    "number, freq = np.unique(zn, return_counts=True)  # New command\n",
    "\n",
    "print(type(number))\n",
    "print(type(freq))\n",
    "\n",
    "# np.unique is similar to getcolors but returns two arrays instead of a two images\n",
    "\n",
    "# Arrays unification just for visualization\n",
    "\n",
    "zn_count = np.zeros((len(number), 2))\n",
    "zn_count[:, 0] = number\n",
    "zn_count[:, 1] = freq\n",
    "\n",
    "print('Lenght of the data: ', len(zn), '\\n')\n",
    "print(\"Numbers with frequency >= 1: \", len(number))\n",
    "print()\n",
    "print(zn_count)"
   ]
  },
  {
   "cell_type": "code",
   "execution_count": null,
   "metadata": {},
   "outputs": [],
   "source": [
    "# Histogram of a discrete variable with bar function\n",
    "\n",
    "# This procedure will be inaccurate in case of continuous variable\n",
    "\n",
    "plt.figure(figsize=(8, 5))\n",
    "\n",
    "plt.bar(number, freq)\n",
    "\n",
    "plt.title(\"Histogram of Zn\")\n",
    "plt.xlabel(\"% Zn\")\n",
    "plt.ylabel(\"Frequency\")\n",
    "plt.show()"
   ]
  },
  {
   "cell_type": "markdown",
   "metadata": {},
   "source": [
    "Histogram is the main plot to describe the frequency distribution of a continuous variable. Here are three options:"
   ]
  },
  {
   "cell_type": "code",
   "execution_count": null,
   "metadata": {},
   "outputs": [],
   "source": [
    "# Simple histogram\n",
    "\n",
    "plt.figure(figsize=(8, 5))\n",
    "\n",
    "plt.hist(zn)\n",
    "\n",
    "plt.title(\"Histogram of Zn\")\n",
    "plt.xlabel(\"% Zn\")\n",
    "plt.ylabel(\"Frequency\")\n",
    "\n",
    "plt.text(25, 22, 'Simple histogram') \n",
    "\n",
    "plt.grid(True)\n",
    "plt.show()"
   ]
  },
  {
   "cell_type": "code",
   "execution_count": null,
   "metadata": {},
   "outputs": [],
   "source": [
    "# Histogram with a defined number of bins\n",
    "\n",
    "plt.figure(figsize=(8, 5))\n",
    "\n",
    "bin_num = 8\n",
    "\n",
    "# plt.hist(zn, bins = bin_num)\n",
    "\n",
    "plt.hist(zn, 'fd')    # Numbers of bins by the Freedman-Diaconis Estimator\n",
    "\n",
    "plt.title(\"Histogram of Zn\")\n",
    "plt.xlabel(\"% Zn\")\n",
    "plt.ylabel(\"Frequency\")\n",
    "plt.text(25, 20,'Histogram with user defined \\n number of bins')\n",
    "plt.grid(True)\n",
    "plt.show()\n",
    "\n",
    "bin_size = (np.max(zn) - np.min(zn))/bin_num\n",
    "print('Bin size: ', bin_size)"
   ]
  },
  {
   "cell_type": "code",
   "execution_count": null,
   "metadata": {
    "scrolled": true
   },
   "outputs": [],
   "source": [
    "# Histogram with a defined number of bins and scaled as probability\n",
    "\n",
    "# If number of samples and bins are big this plot tends to the probability density function (PDF).\n",
    "\n",
    "plt.figure(figsize=(8, 5))\n",
    "\n",
    "plt.hist(zn, bins=20, density=1)\n",
    "\n",
    "plt.title(\"Histogram of Zn\")\n",
    "plt.xlabel(\"% Zn\")\n",
    "plt.ylabel(\"Probability\")\n",
    "plt.text(25, 0.065, 'Histogram with probability')\n",
    "plt.grid(True)\n",
    "plt.show()"
   ]
  },
  {
   "cell_type": "code",
   "execution_count": null,
   "metadata": {},
   "outputs": [],
   "source": [
    "# The main parameters asociated with the frecuency distribution are:\n",
    "\n",
    "print('samples   =', len(zn))\n",
    "print('min       =', np.min(zn))\n",
    "print('max       =', np.max(zn))\n",
    "zn_range = np.max(zn) - np.min(zn)\n",
    "print('range     =', zn_range)\n",
    "\n",
    "print('kurtosis  =', stats.kurtosis(zn))   # function of the scipy library, there is no kurtosis in np.\n",
    "print('skewness  =', stats.skew(zn))   # function of the scipy library, there is no skew in np."
   ]
  },
  {
   "cell_type": "markdown",
   "metadata": {},
   "source": [
    "### Remember\n",
    "\n",
    "<img src=\"NB_images\\kurtosis.png\" style=\"width:500px\">\n",
    "\n",
    "Kurtosis tells us how acute is the distribution. Image from:\n",
    "\n",
    "https://docs.scipy.org/doc/scipy/reference/generated/scipy.stats.kurtosis.html\n",
    "\n",
    "<img src=\"NB_images\\skew.png\" style=\"width:750px\">\n",
    "\n",
    "Skewness tells us about the left or right asymmetry (tails) of the distribution. Image from:\n",
    "\n",
    "https://www.researchgate.net/publication/294890337_ACOUSTIC_EMISSION_TESTS_ON_THE_ANALYSIS_OF_CRACKED_SHAFTS_OF_DIFFERENT_CRACK_DEPTHS/figures?lo=1"
   ]
  },
  {
   "cell_type": "markdown",
   "metadata": {},
   "source": [
    "<a  id=\"central\"></a>\n",
    "\n",
    "<h3> 4.1.2 Central tendency</h3>\n",
    "\n",
    "Central tendency focus in the identification of the central or more representative value in a data set or variable."
   ]
  },
  {
   "cell_type": "code",
   "execution_count": null,
   "metadata": {},
   "outputs": [],
   "source": [
    "# The main parameters asociated with the central tendency are:\n",
    "\n",
    "print('mean (average) =', round(np.mean(zn), 3))\n",
    "print('mode           =', stats.mode(zn))    # function of the scipy library, there is no mode in np.\n",
    "print('median(central value)        =', round(np.median(zn), 3))"
   ]
  },
  {
   "cell_type": "markdown",
   "metadata": {},
   "source": [
    "The formula of mean and others are in the annex."
   ]
  },
  {
   "cell_type": "markdown",
   "metadata": {},
   "source": [
    "Associated with the **PDF** (probability density function) is the **CDF** (cumulative density function),\n",
    "it just an histogram of the sorted data."
   ]
  },
  {
   "cell_type": "code",
   "execution_count": null,
   "metadata": {},
   "outputs": [],
   "source": [
    "plt.figure(figsize=(8, 5))\n",
    "\n",
    "plt.hist(zn, bins= 20, density=1, cumulative=1)\n",
    "\n",
    "plt.title(\"CDF of Zn\")\n",
    "plt.xlabel(\"% Zn\")\n",
    "plt.ylabel(\"Probability\")\n",
    "plt.text(4, 0.9, 'Cumulative distribution function')\n",
    "plt.grid(True)\n",
    "plt.show()"
   ]
  },
  {
   "cell_type": "markdown",
   "metadata": {},
   "source": [
    "The **median**, at the middle of the sorted data, corresponds with the value with **probability of 0.5**.\n",
    "You also can get the median (p50) and other percentiles thanks to the `np.percentile function`:"
   ]
  },
  {
   "cell_type": "code",
   "execution_count": null,
   "metadata": {},
   "outputs": [],
   "source": [
    "print(\"p10    = \", np.percentile(zn, 10))\n",
    "print(\"p25    = \", np.percentile(zn, 25))    # Q1\n",
    "print(\"(p50)  = \", np.percentile(zn, 50))\n",
    "print(\"median = \", np.median(zn))\n",
    "print(\"p75    = \", np.percentile(zn, 75))    # Q3\n",
    "print(\"p90    = \", np.percentile(zn, 90))\n",
    "\n",
    "# Remember, for some companies the percentiles are inverted"
   ]
  },
  {
   "cell_type": "code",
   "execution_count": null,
   "metadata": {},
   "outputs": [],
   "source": [
    "# Freedman-Diaconis Estimator\n",
    "\n",
    "FD = (2/(len(zn)**(1/3)))*(np.percentile(zn, 75) - np.percentile(zn, 25))\n",
    "FD"
   ]
  },
  {
   "cell_type": "markdown",
   "metadata": {},
   "source": [
    "<a  id=\"disp\"></a>\n",
    "\n",
    "<h3> 4.1.3 Dispersion </h3>\n",
    "\n",
    "In statistics dispersion means how much the values of a data set or variable are spread out from the central value (mean)."
   ]
  },
  {
   "cell_type": "code",
   "execution_count": null,
   "metadata": {},
   "outputs": [],
   "source": [
    "# The main parameters asociated with the dispersion are:\n",
    "\n",
    "print('standart deviation =', np.std(zn))\n",
    "print('variance           =', np.var(zn))\n",
    "\n",
    "# std**2 = var"
   ]
  },
  {
   "cell_type": "markdown",
   "metadata": {},
   "source": [
    "<div class=\"alert alert-block alert-warning\">\n",
    "<font size=\"6\"><p> &#127947;</font>\n",
    "    <b>Exercise 13:</b> With the gold, silver and lead in the Rampi data set:  \n",
    "    \n",
    "* Compute and save in a text file, by using a UDF, the previous 15 statistical parameters\n",
    "* Build a single multiplot with the PDF and CDF of each element.\n",
    "* Check that your parameters agree with the plots. Use the right scales, titles, labels and grid. \n",
    "</div>"
   ]
  },
  {
   "cell_type": "markdown",
   "metadata": {},
   "source": [
    "<a  id=\"par\"></a>\n",
    "\n",
    "<h3> 4.1.4 Statistical parameters on your plots </h3>\n",
    "\n",
    "Once you know how to get the previous statistical parameters you can incorporate them on your plots"
   ]
  },
  {
   "cell_type": "code",
   "execution_count": null,
   "metadata": {},
   "outputs": [],
   "source": [
    "# Importing libraries\n",
    "\n",
    "import numpy as np\n",
    "import matplotlib.pyplot as plt"
   ]
  },
  {
   "cell_type": "code",
   "execution_count": null,
   "metadata": {},
   "outputs": [],
   "source": [
    "# Loading the Pulacayo data\n",
    "\n",
    "zn = np.genfromtxt('Input/zn.dat')"
   ]
  },
  {
   "cell_type": "code",
   "execution_count": null,
   "metadata": {},
   "outputs": [],
   "source": [
    "# Line, PDF, and CDF polt with parameters\n",
    "\n",
    "# Parameters (single values) to be included in the plots\n",
    "\n",
    "y1 = np.mean(zn) + np.std(zn)\n",
    "y2 = np.mean(zn)\n",
    "y3 = np.median(zn)\n",
    "y4 = np.mean(zn) - np.std(zn)\n",
    "\n",
    "# Plots\n",
    "\n",
    "plt.figure(figsize=(17, 11))\n",
    "\n",
    "# Point-line plot with parameters\n",
    "plt.subplot(2, 2, 1)\n",
    "plt.plot(zn)\n",
    "plt.axhline(y=y1, ls=\"--\", color='black', label=\"mean + std\")\n",
    "plt.axhline(y=y2, ls=\"-\", color='black', label=\"mean\")\n",
    "plt.axhline(y=y3, ls=\"-\", color='red', label=\"median\")\n",
    "plt.axhline(y=y4, ls=\":\", color='black', label=\"mean - std\")\n",
    "plt.title(\"Zn along quartz vein\")\n",
    "plt.xlabel(\"Position in the file\")\n",
    "plt.ylabel(\"% Zn\")\n",
    "plt.legend()\n",
    "plt.grid(True)\n",
    "\n",
    "# Histogram with parameters\n",
    "plt.subplot(2, 2, 2)\n",
    "plt.hist(zn, bins=20, density=1)\n",
    "\n",
    "plt.axvline(x=y1, ls=\"--\", color='black', label='mean + std')\n",
    "\n",
    "plt.axvline(x=y2, ls=\"-\", color='black', label='mean')\n",
    "plt.axvline(x=y3, ls=\"-\", color='red', label='median')\n",
    "plt.axvline(x=y4, ls=\":\", color='black', label='mean - std')\n",
    "plt.title(\"Histogram\")\n",
    "plt.xlabel('% Zn')\n",
    "plt.ylabel('Probability')\n",
    "plt.legend()\n",
    "plt.grid(True)\n",
    "\n",
    "# CDF with parameters\n",
    "plt.subplot(2, 2, 3)\n",
    "plt.hist(zn, bins=20, density=1, cumulative=1)\n",
    "plt.axvline(x=y1, ls=\"--\", color='black', label='mean + std')\n",
    "plt.axvline(x=y2, ls=\"-\", color='black', label='mean')\n",
    "plt.axvline(x=y3, ls=\"-\", color='red', label='median')\n",
    "plt.axvline(x=y4, ls=\":\", color='black', label='mean - std')\n",
    "plt.title(\"CDF\")\n",
    "plt.xlabel('% Zn')\n",
    "plt.ylabel('Probability')\n",
    "plt.legend()\n",
    "plt.grid(True)\n",
    "\n",
    "# CDF with percentiles\n",
    "plt.subplot(2, 2, 4)\n",
    "plt.hist(zn, bins=20, density=1, cumulative=1)\n",
    "plt.axvline(x=np.percentile(zn, 95), ls=\"--\", color='red', label='p95')\n",
    "plt.axvline(x=np.percentile(zn, 75), ls=\":\", color='red', label='p75')\n",
    "plt.axvline(x=np.percentile(zn, 50), ls=\"-\", color='black', label='p50 (median)')\n",
    "plt.axvline(x=np.percentile(zn, 25), ls=\"--\", color='black', label='p25')\n",
    "plt.axvline(x=np.percentile(zn, 5), ls=\":\", color='black', label='p5')\n",
    "plt.title(\"CDF\")\n",
    "plt.xlabel('% Zn')\n",
    "plt.ylabel('Probability')\n",
    "plt.legend()\n",
    "plt.grid(True)\n",
    "\n",
    "plt.show()"
   ]
  },
  {
   "cell_type": "markdown",
   "metadata": {},
   "source": [
    "<div class=\"alert alert-block alert-warning\">\n",
    "<font size=\"6\"><p> &#127947;</font>\n",
    "    <b> Exercise 14:</b> Do a the previous multiplot (as in the theory) for gold and lead in the Rampi data set. Use the right scales, titles, labels and grid.\n",
    "</div>"
   ]
  },
  {
   "cell_type": "markdown",
   "metadata": {},
   "source": [
    "<a  id=\"normal\"></a>\n",
    "\n",
    "<h2> 4.2 Normal distribution and outliers </h2>\n",
    "\n",
    "To advance further, we have to go back and review some aspects of **the most important concept in statistics, the normal or Gaussian distribution.** The normal distribution is a function that help us to model most of the natural events. Some properties of the normal distribution are:\n",
    "\n",
    "* It has a characteristic bell shape\n",
    "* Symmetrical around a central value (mean), that is at the highest point of the curve\n",
    "* Mean, median, and mode are the same\n",
    "* Most of the values a around the mean, values far from the mean are less likely to occur\n",
    "* Area under the curve is one\n",
    "* Areas of sectors away of the mean, by one, two or three standard deviations are establish\n",
    "* Mean is zero, standard deviation is one\n",
    "\n",
    "<img src=\"NB_images\\pdf.png\" style=\"width:750px\">     \n",
    "    \n",
    "Image from: https://www.simplypsychology.org/normal-distribution.html\n",
    "\n",
    "Where &mu; for mean (average), &sigma; for standard deviation. The formula of the normal distribution and others are in the [annex](#annex).\n",
    "\n",
    "**The box plot is another popular statistical plot that has particular characteristics that allows to define outliers or anomalies**. Interquartile Range (IQR) is defined as p75 - p25. Values that fall beyond its upper (Q3 + 1.5 IQR) and lower limit (Q1 - 1.5 IQR) are consider outliers or anomalies. The following image shows how this plot is related to the normal distribution centered in 0 and with standard deviation of one:\n",
    "\n",
    "<img src=\"NB_images\\box_pdf.png\" style=\"width:750px\">\n",
    "\n",
    "Image from: https://towardsdatascience.com/understanding-boxplots-5e2df7bcbd51"
   ]
  },
  {
   "cell_type": "code",
   "execution_count": null,
   "metadata": {},
   "outputs": [],
   "source": [
    "# Importing libraries for this part\n",
    "\n",
    "import numpy as np\n",
    "import matplotlib.pyplot as plt"
   ]
  },
  {
   "cell_type": "code",
   "execution_count": null,
   "metadata": {},
   "outputs": [],
   "source": [
    "# Loading the Pulacayo data\n",
    "\n",
    "zn = np.genfromtxt('Input/zn.dat')"
   ]
  },
  {
   "cell_type": "code",
   "execution_count": null,
   "metadata": {},
   "outputs": [],
   "source": [
    "# Box plot and histogram for a regular (non normalized) variable\n",
    "\n",
    "iqr = np.percentile(zn, 75) - np.percentile(zn, 25)  # Inter quartil range\n",
    "\n",
    "plt.figure(figsize=(10, 10))\n",
    "plt.subplot(2, 1, 1)\n",
    "\n",
    "plt.boxplot(zn, vert=False)\n",
    "\n",
    "# This plot is made automatically, apart from vertical no other parameters are modified\n",
    "\n",
    "plt.title(\"Box plot and histogram a regular variable\")\n",
    "\n",
    "plt.xlim(-10, 40)\n",
    "\n",
    "plt.subplot(2, 1, 2)\n",
    "plt.hist(zn, bins=20, density=1)\n",
    "\n",
    "# Let's put the parameters in the histogram that match those in the box plot\n",
    "\n",
    "plt.axvline(x=np.percentile(zn, 75) + 1.5*iqr, ls=\":\",\n",
    "            color='black', label='p75 + 1.5iqr')\n",
    "plt.axvline(x=np.percentile(zn, 75), ls=\"--\", color='black', label='p75')\n",
    "plt.axvline(x=np.median(zn), ls=\"-\", color='orange', label='median')\n",
    "plt.axvline(x=np.mean(zn), ls=\"-\", color='red', label='mean')\n",
    "plt.axvline(x=np.percentile(zn, 25), ls=\"--\", color='orange', label='p25')\n",
    "plt.axvline(x=np.min(zn), ls=\":\", color='orange', label='min')\n",
    "plt.axvline(x=np.percentile(zn, 25) - 1.5*iqr, ls=\":\", color='grey', label='p25 -1.5iqr')\n",
    "\n",
    "plt.xlim(-10, 40)\n",
    "\n",
    "plt.xlabel('% Zn')\n",
    "plt.ylabel('Probability')\n",
    "plt.legend()\n",
    "\n",
    "plt.show()\n",
    "\n",
    "print('min                =', np.min(zn))\n",
    "print('max                =', np.max(zn))\n",
    "print('mean (average)     =', np.mean(zn))\n",
    "print('median             =', np.median(zn))\n",
    "print('standard deviation =', np.std(zn))\n",
    "\n",
    "\n",
    "# As (Q1 - 1.5IQR) < min so the lower limit of the box plot is the minimum\n",
    "# We have a point over the upper limit (Q3 + 1.5IQR) of the box plot so this point can be consider as an outlier."
   ]
  },
  {
   "cell_type": "markdown",
   "metadata": {},
   "source": [
    "<a  id=\"norm\"></a>\n",
    "\n",
    "<h2> 4.3 Normalization</h2>\n",
    "\n",
    "Normalization is the process of transformation of any distribution or variable in order to appear like a normal distribution (mean of 0 and standard deviation of one). This transformation allows to make comparisons of the variable respect to the normal distributions and make use of its properties.\n",
    "\n",
    "**The Z-score transformation or normalization is the most important normalization in statistics** because is linked with the normal distribution (is in its definition). It is base in the following formula :\n",
    "\n",
    "$$Z = \\frac{x - \\mu}{\\sigma}$$\n",
    "\n",
    "The mean of Z will be zero and the standard deviation will be 1. This formula and others are in the [annex](#annex).\n",
    "\n",
    "Where x is the original variable, &mu; is the mean (average) of x, and &sigma; is the standard deviation of x. Let's apply this transformation to the zinc in the Pulacayo mine data to see the differences in the parameters and plots."
   ]
  },
  {
   "cell_type": "code",
   "execution_count": null,
   "metadata": {},
   "outputs": [],
   "source": [
    "# Box plot and histogram for a z-score normalized variable\n",
    "\n",
    "z_zn = (zn - np.mean(zn))/ np.std(zn)    ####\n",
    "\n",
    "# z_zn is the new variable\n",
    "\n",
    "iqr = np.percentile(z_zn, 75) - np.percentile(z_zn, 25)\n",
    "\n",
    "plt.figure(figsize=(10,10))\n",
    "\n",
    "plt.subplot(2,1,1)\n",
    "plt.boxplot(z_zn,vert=False)\n",
    "plt.title(\"Box plot and histogram for a z-score normalized variable\")\n",
    "plt.xlim(-3,3)\n",
    "\n",
    "plt.subplot(2,1,2)\n",
    "plt.hist(z_zn, bins = 59, density = 1)\n",
    "plt.axvline(x = np.percentile(z_zn, 75) + 1.5*iqr, ls = \":\", color='black',label='p75 + 1.5iqr')\n",
    "plt.axvline(x = np.percentile(z_zn, 75), ls = \"--\", color='black',label='p75')\n",
    "plt.axvline(x = np.median(z_zn), ls = \"-\", color='orange',label='median')\n",
    "plt.axvline(x = np.mean(z_zn), ls = \"-\", color='red',label='mean')\n",
    "plt.axvline(x = np.min(z_zn), ls = \":\", color='orange',label='min')\n",
    "plt.axvline(x = np.percentile(z_zn, 25) - 1.5*iqr, ls = \":\", color='grey',label='p25 - 1.5iqr')\n",
    "plt.xlim(-3,3)\n",
    "plt.xlabel ('% z_zn')\n",
    "plt.ylabel ('Probability')\n",
    "plt.legend()\n",
    "\n",
    "plt.show()\n",
    "\n",
    "print('min                =', np.min(z_zn))\n",
    "print('max                =', np.max(z_zn))\n",
    "print('mean (average)     =', np.mean(z_zn))\n",
    "print('median             =', np.median(z_zn))\n",
    "print('standard deviation =', np.std(z_zn))"
   ]
  },
  {
   "cell_type": "markdown",
   "metadata": {},
   "source": [
    "<div class=\"alert alert-block alert-warning\">\n",
    "<font size=\"6\"><p> &#127947;</font>\n",
    "        <b> Exercise 15:</b>\n",
    "    \n",
    "Do the previous plot (box-histogram) for regular and z-score normalized zinc (zn2) in the Rampi data. Use the right scales, titles, labels and grid. Is the lower limit (Q1 - 1.5IQR) feasible after the normalization or just the minimum?\n",
    "</div>"
   ]
  },
  {
   "cell_type": "code",
   "execution_count": null,
   "metadata": {
    "scrolled": true
   },
   "outputs": [],
   "source": [
    "# Box plot and histogram for a z-score normalized variable\n",
    "\n",
    "zn2 = zn2[~np.isnan(zn2)]\n",
    "\n",
    "z_zn2 = (zn2 - np.mean(zn2))/ np.std(zn2)    ####\n",
    "\n",
    "# z_zn2 is the new variable\n",
    "\n",
    "iqr = np.percentile(z_zn2, 75) - np.percentile(z_zn2, 25)\n",
    "\n",
    "plt.figure(figsize=(10,10))\n",
    "\n",
    "plt.subplot(2,1,1)\n",
    "plt.boxplot(z_zn2,vert=False)\n",
    "plt.title(\"Box plot and histogram for a z-score normalized variable\")\n",
    "plt.xlim(-3,3)\n",
    "\n",
    "plt.subplot(2,1,2)\n",
    "plt.hist(z_zn2, bins = 59, density = 1)\n",
    "plt.axvline(x = np.percentile(z_zn2, 75) + 1.5*iqr, ls = \":\", color='black',label='p75 + 1.5iqr')\n",
    "plt.axvline(x = np.percentile(z_zn2, 75), ls = \"--\", color='black',label='p75')\n",
    "plt.axvline(x = np.median(z_zn2), ls = \"-\", color='orange',label='median')\n",
    "plt.axvline(x = np.mean(z_zn2), ls = \"-\", color='red',label='mean')\n",
    "plt.axvline(x = np.min(z_zn2), ls = \":\", color='orange',label='min')\n",
    "plt.axvline(x = np.percentile(z_zn2, 25) - 1.5*iqr, ls = \":\", color='grey',label='p25 - 1.5iqr')\n",
    "plt.xlim(-3,3)\n",
    "plt.xlabel ('% z_zn2')\n",
    "plt.ylabel ('Probability')\n",
    "plt.legend()\n",
    "\n",
    "plt.show()\n",
    "\n",
    "print('min                =', np.min(z_zn2))\n",
    "print('max                =', np.max(z_zn2))\n",
    "print('mean (average)     =', np.mean(z_zn2))\n",
    "print('median             =', np.median(z_zn2))\n",
    "print('standard deviation =', np.std(z_zn2))"
   ]
  },
  {
   "cell_type": "code",
   "execution_count": null,
   "metadata": {},
   "outputs": [],
   "source": [
    "np.percentile(z_zn2, 25) - 1.5*iqr"
   ]
  },
  {
   "cell_type": "markdown",
   "metadata": {},
   "source": [
    "<a  id=\"bi\"></a>\n",
    "\n",
    "<h2>4.4 Bivariate analysis </h2>\n",
    "\n",
    "Bivariate analysis is the statistical analysis that deals with two variables. As the univariate analysis, it involves qualitative tools (plots) and quantitative (calculation of parameters) that help to figure out how (in strength and shape) is the relation between the two variables. For this analysis we are going to cover the following concept-tools:\n",
    "\n",
    "* Different plots for exploring correlation\n",
    "* Covariance and correlation coefficient\n",
    "     \n",
    "For this demonstration we are going to use a new data set (*core.xlsx*). It is a single-sheet Excel file (new format) that has seven variables of a routine core analysis (RCA). As the file format in new, it will require a new procedure for loading which implies the Pandas library:\n",
    "\n",
    "\n",
    "**Pandas**, originally developed by a financial firm, it is a powerful library for data analysis and artificial intelligence. It provides a data type structure (similar to arrays in numpy) called dataframe (spreadsheed). In order to load Excel files in Pandas an extra library is needed calls **xlrd**. \n",
    "\n",
    "https://pandas.pydata.org/\n",
    "\n",
    "\n",
    "**Seaborn** library is complimentary to Matplotlib and it specifically targets statistical data visualization:\n",
    "\n",
    "https://seaborn.pydata.org/\n",
    "\n",
    "If you use a lot of statistics and perform a lot of data analysis instead of numerical calculations, Pandas and seaborn are the right tools."
   ]
  },
  {
   "cell_type": "code",
   "execution_count": null,
   "metadata": {},
   "outputs": [],
   "source": [
    "# Importing libraries of the subpart\n",
    "\n",
    "import numpy as np\n",
    "import matplotlib.pyplot as plt\n",
    "from scipy import stats\n",
    "import xlrd\n",
    "import pandas as pd\n",
    "import seaborn as sns"
   ]
  },
  {
   "cell_type": "code",
   "execution_count": null,
   "metadata": {},
   "outputs": [],
   "source": [
    "# Loading the Excel core data with Pandas\n",
    "\n",
    "dfcore = pd.read_excel('Input/core.xlsx', sheet_name='Sheet1')\n",
    "dfcore"
   ]
  },
  {
   "cell_type": "code",
   "execution_count": null,
   "metadata": {},
   "outputs": [],
   "source": [
    "# Understanding the new data structure\n",
    "\n",
    "print(\"dfcore type: \", type(dfcore))\n",
    "print()\n",
    "print(dfcore)\n",
    "print()\n",
    "print(\"dfcore elements type: \", dfcore.dtypes) # .dtypes is a Pandas command for the elements inside the dataframe\n",
    "print()\n",
    "print(\"gr in dfcore: \", type(dfcore[\"gr\"]))\n",
    "\n",
    "# The columns in the dataframe are call serie\n",
    "\n",
    "print()\n",
    "print(dfcore[\"gr\"])"
   ]
  },
  {
   "cell_type": "code",
   "execution_count": null,
   "metadata": {},
   "outputs": [],
   "source": [
    "# Basic list of statistical parameters with the Panda's describe function\n",
    "\n",
    "print('Dataframe description:', '\\n', dfcore.describe())\n",
    "\n",
    "dfcore[\"gr\"].describe()\n",
    "\n",
    "# dfcore[\"gr\"] is a serie"
   ]
  },
  {
   "cell_type": "code",
   "execution_count": null,
   "metadata": {},
   "outputs": [],
   "source": [
    "# Mastering a new data type requires time, to make things easier let's convert the series to arrays\n",
    "\n",
    "depth = np.array(dfcore[\"depth\"])\n",
    "he_phi = np.array(dfcore[\"he_phi\"])\n",
    "air_k = np.array(dfcore[\"air_k\"])\n",
    "klink_k = np.array(dfcore[\"klink_k\"])\n",
    "gr = np.array(dfcore[\"gr\"])"
   ]
  },
  {
   "cell_type": "code",
   "execution_count": null,
   "metadata": {},
   "outputs": [],
   "source": [
    "# Basic list of statistical parameters with the Scipy describe function\n",
    "\n",
    "stats.describe(gr)\n",
    "\n",
    "# gr is an array"
   ]
  },
  {
   "cell_type": "code",
   "execution_count": null,
   "metadata": {},
   "outputs": [],
   "source": [
    "# Let's do some exploratory plots\n",
    "\n",
    "plt.figure(figsize=(17,11))\n",
    "\n",
    "# Multi point-line plot\n",
    "plt.subplot(2,3,2)\n",
    "plt.plot(depth, gr, 'b', label=\"gr\")\n",
    "plt.plot(depth, he_phi, 'c', label=\"he_phi\")\n",
    "plt.plot(depth, air_k,'m', label=\"air_k\")\n",
    "plt.legend()\n",
    "plt.grid(True)\n",
    "plt.title(\"RCA\")\n",
    "plt.xlabel(\"depth\")\n",
    "plt.ylabel(\"different units\")\n",
    "\n",
    "# Box plot for each variable\n",
    "plt.subplot(2,3,4)\n",
    "plt.boxplot(gr)\n",
    "plt.title(\"GR\")\n",
    "plt.xlabel(\"gr\")\n",
    "plt.ylabel(\"api\")\n",
    "\n",
    "plt.subplot(2,3,5)\n",
    "plt.boxplot(he_phi)\n",
    "plt.title(\"He Phi\")\n",
    "plt.xlabel(\"he_phi\")\n",
    "plt.ylabel(\"%\")\n",
    "\n",
    "plt.subplot(2,3,6)\n",
    "plt.boxplot(air_k)\n",
    "plt.title(\"Air K\")\n",
    "plt.xlabel(\"air_k\")\n",
    "plt.ylabel(\"mD\")\n",
    "\n",
    "plt.show()"
   ]
  },
  {
   "cell_type": "markdown",
   "metadata": {},
   "source": [
    "<a  id=\"explo\"></a>\n",
    "\n",
    "<h3> 4.4.1 Plots for exploring correlation</h3>\n",
    "\n",
    "We already saw the most basic plot for exploring correlation; the cross or scatter plot. Let's review few more complex option."
   ]
  },
  {
   "cell_type": "code",
   "execution_count": null,
   "metadata": {},
   "outputs": [],
   "source": [
    "# Previously we did a scatter plot similar to this:\n",
    "\n",
    "plt.figure(figsize=(8,8))\n",
    "plt.plot(gr, he_phi, '.')\n",
    "plt.xlim(20,140)\n",
    "plt.ylim(2,12)\n",
    "plt.title(\"GR vs. He Phi\")\n",
    "plt.xlabel(\"GR (API)\")\n",
    "plt.ylabel(\"He Phi (%)\")\n",
    "plt.grid(True)\n",
    "plt.show()"
   ]
  },
  {
   "cell_type": "code",
   "execution_count": null,
   "metadata": {},
   "outputs": [],
   "source": [
    "# We can do a similar plot but with color scale according to the density of samples\n",
    "\n",
    "plt.figure(figsize=(8, 8))\n",
    "plt.plot(gr, he_phi, '.')\n",
    "\n",
    "plt.hist2d(gr, he_phi, bins=7, cmap='seismic')\n",
    "\n",
    "# Try different color maps (cmap): Reds, plasma, hot, seismic, ...\n",
    "\n",
    "plt.title(\"GR vs. He Phi with color\")\n",
    "plt.xlabel(\"GR (API)\")\n",
    "plt.ylabel(\"He Phi (%)\")\n",
    "\n",
    "# New commands for the color scale\n",
    "\n",
    "cb = plt.colorbar()\n",
    "cb.set_label('counts in bin') \n",
    "\n",
    "plt.show()\n",
    "\n",
    "# Aliment of dark colors indicates a degree of correlation"
   ]
  },
  {
   "cell_type": "markdown",
   "metadata": {},
   "source": [
    "Matplotlib colors and color maps at:\n",
    "\n",
    "https://matplotlib.org/3.2.1/gallery/color/named_colors.html\n",
    "\n",
    "https://matplotlib.org/3.1.0/tutorials/colors/colormaps.html"
   ]
  },
  {
   "cell_type": "code",
   "execution_count": null,
   "metadata": {
    "scrolled": true
   },
   "outputs": [],
   "source": [
    "# All against all comparation by the pair plot by the Seaborn's pairplot function\n",
    "\n",
    "# The input of the pairplot function is a dataframe, let´s do a smaller dataframe\n",
    "\n",
    "sub_dfcore = dfcore[['gr','he_phi', 'air_k', 'klink_k']]\n",
    "\n",
    "sns.pairplot(sub_dfcore)\n",
    "\n",
    "# Try with: diag_kind=\"kde\"\n",
    "\n",
    "plt.show()"
   ]
  },
  {
   "cell_type": "markdown",
   "metadata": {},
   "source": [
    "<a  id=\"cc\"></a>\n",
    "\n",
    "<h3> 4.4.2 Covariance and correlation coefficient</h3>\n",
    "\n",
    "The quantitative way to estimate correlation between to variables is calculating the covariance and correlation coefficient. Covariance is the equivalent of the variance but with two variables. The formula is:\n",
    "\n",
    "\n",
    "$$Cov(x,y)=\\frac{1}{n}\\sum_{i=1}^n (x_i - \\mu x)(y_i - \\mu y)$$\n",
    "\n",
    "\n",
    "Covariance can has negative (x and y grow in inverse way) or positive value (x and y grow together). An inconvenient of this parameter is that it has units (unit of x time union of y) which make its interpretation difficult.\n",
    "\n",
    "<img src=\"NB_images\\cov.png\" style=\"width:600px\">\n",
    "\n",
    "Image from: https://www.datasciencecentral.com/profiles/blogs/preprocessing-for-deep-learning-from-covariance-matrix-to-image\n",
    "\n",
    "A better parameter for estimating the relation on two variables  is the correlation coefficient, that is a unitless dimension from 0 (no correlation) to 1 (maximum positive correlation or x and y grow together) or -1 (maximum negative correlation or x and y grow in inverse way). The formula is:\n",
    "\n",
    "\n",
    "$$\\rho (x,y) = \\frac{Cov(x,y)}{\\sigma x \\sigma y}$$\n",
    "\n",
    "\n",
    "<img src=\"NB_images\\correl.png\" style=\"width:600px\">\n",
    "\n",
    "Image form: https://en.wikipedia.org/wiki/Pearson_correlation_coefficient\n",
    "\n",
    "<b>Both parameters are valid only if the variables have certain degree of linearity</b>\n",
    "\n",
    "In both formulas; x an y are the original variables, &mu;x is the mean of x, &mu;y is the mean of y, \n",
    "&sigma;x is the standard deviation of x, and &sigma;y is the standard deviation of y. These formulas and others are in the [annex](#annex)."
   ]
  },
  {
   "cell_type": "code",
   "execution_count": null,
   "metadata": {},
   "outputs": [],
   "source": [
    "# For covariance and correlation is worthy to create functions\n",
    "\n",
    "def my_cov(x,y):\n",
    "    n = len(x)\n",
    "    return sum((x-np.mean(x))*(y-np.mean(y)))/(n)\n",
    "\n",
    "def my_correl(x,y):\n",
    "    n = len(x)\n",
    "    return sum((x-np.mean(x))*(y-np.mean(y)))/((sum((x-np.mean(x))**2))**0.5 * (sum((y-np.mean(y))**2))**0.5)"
   ]
  },
  {
   "cell_type": "code",
   "execution_count": null,
   "metadata": {},
   "outputs": [],
   "source": [
    "# Let's do some calculations\n",
    "\n",
    "print('Covariance of gr vs. he_phi      :',my_cov(gr,he_phi))\n",
    "print('Correlation of gr vs. he_phi     :',my_correl(gr,he_phi))\n",
    "print()\n",
    "\n",
    "print('Covariance of he_phi vs. air_k   :',my_cov(he_phi, air_k))\n",
    "print('Correlation of he_phi vs. air_k  :',my_correl(he_phi, air_k))\n",
    "print()\n",
    "\n",
    "print('Covariance of air_k vs. klink_k  :',my_cov(air_k, klink_k))\n",
    "print('Correlation of air_k vs. klink_k :',my_correl(air_k, klink_k))"
   ]
  },
  {
   "cell_type": "code",
   "execution_count": null,
   "metadata": {},
   "outputs": [],
   "source": [
    "# All against all correlation matrix by Panda´s corr function\n",
    "\n",
    "correl_mat = sub_dfcore.corr()\n",
    "\n",
    "print(type(correl_mat))\n",
    "\n",
    "correl_mat"
   ]
  },
  {
   "cell_type": "code",
   "execution_count": null,
   "metadata": {},
   "outputs": [],
   "source": [
    "# All against all correlation matrix by Seaborn´s heatmap function\n",
    "\n",
    "# graphically\n",
    "\n",
    "sns.heatmap(correl_mat, vmin=-1, vmax=1, center=0, linewidths=.2, cmap='seismic', annot=True)"
   ]
  },
  {
   "cell_type": "markdown",
   "metadata": {},
   "source": [
    "<div class=\"alert alert-block alert-warning\">\n",
    "<font size=\"6\"><p> &#127947;</font>\n",
    "        <b> Exercise 16:</b>\n",
    "    \n",
    "The file *rampi.csv* can be easily loaded as a dataframe with the following Panda´s command: <b> dframpi =      pd.read_csv('rampi.csv')</b>\n",
    "\n",
    "After this and the necessary single array creation or conversion, do the following plots:\n",
    "    \n",
    "* Exploratory point-line plot with all elements\n",
    "* A 2x3 multiplot with the box plot of each element\n",
    "* All against all elements pair plot\n",
    "* All against all elements correlation matrix and hitmap\n",
    "* Base on the plots, what are the best tracers (higher correlation) elements for Au and Ag?\n",
    "</div>"
   ]
  },
  {
   "cell_type": "markdown",
   "metadata": {},
   "source": [
    "<div class=\"alert alert-block alert-warning\">\n",
    "<font size=\"6\"><p> &#127947;</font>\n",
    "        <b> Exercise 17:</b>\n",
    "\n",
    "The *pele.xlsx* file presents microprobe analyses (10 oxides composition) of glasses from Kilauea volcano, taken at the summit during an eruption in 1924. After the dataframe creation, do the following plots to find the oxides with higher correllation:\n",
    "    \n",
    "* All against all oxides pair plot\n",
    "* All against all oxides correlation matrix and hitmap\n",
    "* Make your conclusions base on the plots. \n",
    "    \n",
    "This data come from tabla A2 in the appendix of the following publication: https://pubs.usgs.gov/pp/1801/downloads/pp1801_Chap6_Helz.pdf\n",
    "    \n",
    "In Hawaiian religion, Pele is the goddess of volcanoes and fire and the creator of the Hawaiian Islands.\n",
    "</div>"
   ]
  },
  {
   "cell_type": "markdown",
   "metadata": {},
   "source": [
    "<h2>End of part </h2>\n",
    "\n",
    "[Return to Table of Content](#toc)"
   ]
  },
  {
   "cell_type": "markdown",
   "metadata": {},
   "source": [
    "<a  id=\"annex\"></a>\n",
    "\n",
    "## Annex of formulas\n",
    "\n",
    "In most of the statistical formulas, instead of *n* for the entire population of the random variable x, you can use *n-1* for a smaller sample of x.\n",
    "\n",
    "Range\n",
    "$$range = x_{max} - x_{min} $$\n",
    "\n",
    "Mean (average)\n",
    "$$\\mu=\\frac{1}{n}\\sum_{i=1}^n x_i$$\n",
    "\n",
    "Absolute deviation, with mean or median (central value of x)\n",
    "$$D_i = \\mid x_i - \\mu \\mid$$\n",
    "$$D_i = \\mid x_i - median \\mid$$\n",
    "\n",
    "Variance\n",
    "$$\\sigma^2=\\frac{1}{n}\\sum_{i=1}^n (x_i - \\mu)^2$$\n",
    "\n",
    "Standard deviation\n",
    "$$\\sigma=\\sqrt(\\sigma^2)$$\n",
    "\n",
    "Unity-base normalization\n",
    "$$U = \\frac{x - xmin}{xmax - xmin}$$\n",
    "\n",
    "Z-score normalization\n",
    "$$Z = \\frac{x - \\mu}{\\sigma}$$\n",
    "Normal distribution\n",
    "\n",
    "$$f(x) = \\frac{1}{\\sigma\\sqrt2\\pi}e^-\\frac{1}{2}Z^2$$\n",
    "\n",
    "Covariance\n",
    "\n",
    "$$Cov(x,y)=\\frac{1}{n}\\sum_{i=1}^n (x_i - \\mu x)(y_i - \\mu y)$$\n",
    "\n",
    "Correlation coefficient\n",
    "\n",
    "$$\\rho (x,y) = \\frac{Cov(x,y)}{\\sigma x \\sigma y}$$\n",
    "\n",
    "Reference for the Greek letter an other symbols at:https://www.w3schools.com/charsets/ref_utf_greek.asp"
   ]
  },
  {
   "cell_type": "markdown",
   "metadata": {},
   "source": [
    "<h2>End of part </h2>\n",
    "\n",
    "[Return to Table of Content](#toc)"
   ]
  },
  {
   "cell_type": "code",
   "execution_count": null,
   "metadata": {},
   "outputs": [],
   "source": []
  }
 ],
 "metadata": {
  "kernelspec": {
   "display_name": "Python 3",
   "language": "python",
   "name": "python3"
  },
  "language_info": {
   "codemirror_mode": {
    "name": "ipython",
    "version": 3
   },
   "file_extension": ".py",
   "mimetype": "text/x-python",
   "name": "python",
   "nbconvert_exporter": "python",
   "pygments_lexer": "ipython3",
   "version": "3.8.6"
  },
  "toc": {
   "base_numbering": 1,
   "nav_menu": {},
   "number_sections": true,
   "sideBar": true,
   "skip_h1_title": false,
   "title_cell": "Table of Contents",
   "title_sidebar": "Contents",
   "toc_cell": false,
   "toc_position": {},
   "toc_section_display": true,
   "toc_window_display": false
  },
  "varInspector": {
   "cols": {
    "lenName": 16,
    "lenType": 16,
    "lenVar": 40
   },
   "kernels_config": {
    "python": {
     "delete_cmd_postfix": "",
     "delete_cmd_prefix": "del ",
     "library": "var_list.py",
     "varRefreshCmd": "print(var_dic_list())"
    },
    "r": {
     "delete_cmd_postfix": ") ",
     "delete_cmd_prefix": "rm(",
     "library": "var_list.r",
     "varRefreshCmd": "cat(var_dic_list()) "
    }
   },
   "types_to_exclude": [
    "module",
    "function",
    "builtin_function_or_method",
    "instance",
    "_Feature"
   ],
   "window_display": false
  }
 },
 "nbformat": 4,
 "nbformat_minor": 2
}
