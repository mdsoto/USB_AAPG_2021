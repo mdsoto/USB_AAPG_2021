{
 "cells": [
  {
   "cell_type": "markdown",
   "metadata": {},
   "source": [
    "<img src=\"NB_images\\portada.png\" style=\"width:900px\" align=\"center\">\n",
    "\n",
    "<h1><center>Python for Geosciences</center></h1>\n",
    "\n",
    "<h2><center>Session 1 - Variables, data types, and arrays</center></h2>\n",
    "\n",
    "<h3>Course created by</h3>  \n",
    "\n",
    "Manuel David Soto"
   ]
  },
  {
   "cell_type": "markdown",
   "metadata": {},
   "source": [
    "<a id=\"toc\"></a> \n",
    "\n",
    "<h3>Table of contents</h3>\n",
    "\n",
    "* [1 Variables in Python](#variables_py)\n",
    "    * [1.1 Introduction](#intro)\n",
    "    * [1.2 Variables](#variables)\n",
    "    \n",
    "* [2 Data types in Python](#data_types)\n",
    "    * [2.1 Basic data types](#basic_types)\n",
    "        * [2.1.1 Numeric data type](#numeric_type)\n",
    "        * [2.1.2 Boolean data type](#boolean_type)\n",
    "    \n",
    "    * [2.2 Dictionary (no sequential data type)](#dictionary)    \n",
    "    * [2.3 Sequential data types](#sequential)\n",
    "        * [2.3.1 String](#string)\n",
    "        * [2.3.2 List](#list)\n",
    "        \n",
    "* [3 Numpy Arrays](#arrays)\n",
    "   * [3.1 Introduction](#intro_array)\n",
    "   * [3.2 Generating arrays](#gene)        \n",
    "   * [3.3 Accessing the array elements](#access)\n",
    "   * [3.4 Array attributes](#attri)\n",
    "   * [3.5. Matrices operations](#ope)\n",
    "       * [3.5.1 Element-wise operations](#ewo)\n",
    "       * [3.5.2 Linear algebra operations](#la)"
   ]
  },
  {
   "cell_type": "markdown",
   "metadata": {},
   "source": [
    "<a  id=\"variables_py\"></a> \n",
    "\n",
    "<h1> 1 Variables in Python </h1>\n",
    "\n",
    "<a  id=\"intro\"></a>\n",
    "\n",
    "<h2> 1.1 Introduction </h2>\n",
    "\n",
    "<h4>Our first program</h4>"
   ]
  },
  {
   "cell_type": "code",
   "execution_count": null,
   "metadata": {},
   "outputs": [],
   "source": [
    "# This is a very simple program indeed\n",
    "\n",
    "print('Hello World!')"
   ]
  },
  {
   "cell_type": "markdown",
   "metadata": {},
   "source": [
    "<h4>Print</h4>\n",
    "\n",
    "The function `print()` returns just text that doesn't hold any value (None data type). Don't try to operate with it:"
   ]
  },
  {
   "cell_type": "code",
   "execution_count": null,
   "metadata": {
    "scrolled": true
   },
   "outputs": [],
   "source": [
    "print('5')"
   ]
  },
  {
   "cell_type": "markdown",
   "metadata": {},
   "source": [
    "<h4> Python as a calculator   </h4> "
   ]
  },
  {
   "cell_type": "markdown",
   "metadata": {
    "cell_style": "center"
   },
   "source": [
    "<div class=\"alert alert-block alert-warning\">\n",
    "<font size=\"6\">&#128761;</font> <b>Trick:</b> as well as in skateboarding Python is full of tricks, here is the use of _ in the calculations\n",
    "</div>"
   ]
  },
  {
   "cell_type": "code",
   "execution_count": null,
   "metadata": {},
   "outputs": [],
   "source": [
    "# Seconds in an hour\n",
    "\n",
    "60*60"
   ]
  },
  {
   "cell_type": "code",
   "execution_count": null,
   "metadata": {
    "cell_style": "center"
   },
   "outputs": [],
   "source": [
    "# Seconds in a day\n",
    "\n",
    "_*24 \n",
    "\n",
    "# _ , the underscore takes the output of the previus cell"
   ]
  },
  {
   "cell_type": "code",
   "execution_count": null,
   "metadata": {
    "scrolled": true
   },
   "outputs": [],
   "source": [
    "# You can do operations inside the print() but remember that the output will be no longer a number\n",
    "\n",
    "print('Seconds in a year:', _*365.2425)"
   ]
  },
  {
   "cell_type": "markdown",
   "metadata": {},
   "source": [
    "<h4> Arithmetic operations    </h4>\n",
    "\n",
    "The arithmetic operations included in Python Interpreter are:\n",
    "\n",
    "<br />\n",
    "\n",
    "| Operation | Description |\n",
    "| --- | --- |\n",
    "| + | Addition of two values|\n",
    "| - | Subtraction of the right value from the left value |\n",
    "| * | Multiplication of two values|\n",
    "| ** | Exponential  o power |\n",
    "| / | Normal division |\n",
    "| // | Floor division, returns the integer part of the division |\n",
    "| % | Modulus, returns the remainder of the division |\n",
    "\n",
    "<br />"
   ]
  },
  {
   "cell_type": "code",
   "execution_count": null,
   "metadata": {},
   "outputs": [],
   "source": [
    "# Power\n",
    "\n",
    "2**3"
   ]
  },
  {
   "cell_type": "code",
   "execution_count": null,
   "metadata": {},
   "outputs": [],
   "source": [
    "# Normal division\n",
    "\n",
    "5/2"
   ]
  },
  {
   "cell_type": "code",
   "execution_count": null,
   "metadata": {},
   "outputs": [],
   "source": [
    "# Integer part of the division\n",
    "\n",
    "5//2"
   ]
  },
  {
   "cell_type": "code",
   "execution_count": null,
   "metadata": {},
   "outputs": [],
   "source": [
    "# Remainder of the division, important for dealing with even and odd numbers\n",
    "\n",
    "5%2"
   ]
  },
  {
   "cell_type": "markdown",
   "metadata": {},
   "source": [
    "<a  id=\"variables\"></a>\n",
    "\n",
    "<h2> 1.2 Variables</h2>\n",
    "\n",
    "In Python, variables point to reserved memory locations that store values. Along the execution of a program, the variables can have any type (strings, numbers, boolean ...), which are verified during the execution of an operation or function. This behavior, known as **dynamic typing**, gives Python a lot of flexibility when declaring variables. However at the end, the variables must agree with the operations you want to perform. In the example below the operator **+** is an example of an **overloading operator** which can perform different operations depending on the input type:"
   ]
  },
  {
   "cell_type": "code",
   "execution_count": null,
   "metadata": {},
   "outputs": [],
   "source": [
    "# Variables a and b are integers\n",
    "\n",
    "a = 2\n",
    "b = 5"
   ]
  },
  {
   "cell_type": "code",
   "execution_count": null,
   "metadata": {},
   "outputs": [],
   "source": [
    "a + b"
   ]
  },
  {
   "cell_type": "code",
   "execution_count": null,
   "metadata": {},
   "outputs": [],
   "source": [
    "b*3"
   ]
  },
  {
   "cell_type": "code",
   "execution_count": null,
   "metadata": {},
   "outputs": [],
   "source": [
    "# Now they are sequences of strings\n",
    "\n",
    "a = 'This is'\n",
    "b = ' dynamic typing'"
   ]
  },
  {
   "cell_type": "code",
   "execution_count": null,
   "metadata": {},
   "outputs": [],
   "source": [
    "a + b"
   ]
  },
  {
   "cell_type": "code",
   "execution_count": null,
   "metadata": {},
   "outputs": [],
   "source": [
    "b*3"
   ]
  },
  {
   "cell_type": "markdown",
   "metadata": {},
   "source": [
    "#### Variable names\n",
    "\n",
    "* Variable names must **start with a letter or the underscore character**, not a number.  \n",
    "* A variable name can only **contain alpha-numeric characters and underscores** (A-z, 0-9, and _ ), not special characters. \n",
    "* Variable names are **case-sensitive** (python, Python and PYTHON are different variables).\n",
    "\n",
    "#### Assigning values to variables\n",
    "\n",
    "The equal sign (=) assigns a value to a variable. More about variables at: https://realpython.com/python-variables/"
   ]
  },
  {
   "cell_type": "code",
   "execution_count": null,
   "metadata": {},
   "outputs": [],
   "source": [
    "# Simple calculation of the area of a circle inside the print()\n",
    "\n",
    "pi = 3.1416\n",
    "radius = 100\n",
    "unit = 'square meters'\n",
    "\n",
    "print('Area of the circle:', pi*(radius**2), unit)"
   ]
  },
  {
   "cell_type": "markdown",
   "metadata": {},
   "source": [
    "<h4> Reserved words </h4>\n",
    "\n",
    "Python has reserved words that cannot be used as variable names:\n",
    "\n",
    "<br />\n",
    "    \n",
    "|Keyword|Description|\n",
    "| --- | ---|\n",
    "and|A logical operator|\n",
    "as|To create an alias|\n",
    "assert|For debugging|\n",
    "|break|To break out of a loop|\n",
    "|class|To define a class|\n",
    "|continue|To continue to the next iteration of a loop|\n",
    "|def|To define a function|\n",
    "|del|To delete an object|\n",
    "|elif|Used in conditional statements, same as else if|\n",
    "|else|Used in conditional statements|\n",
    "|except|Used with exceptions, what to do when an exception occurs|\n",
    "|False|Boolean value, result of comparison operations|\n",
    "|finally|Used with exceptions, a block of code that will be executed no matter if there is an exception or not|\n",
    "|for|To create a for loop|\n",
    "|from|To import specific parts of a module|\n",
    "|global|To declare a global variable|\n",
    "|if|To make a conditional statement|\n",
    "|import|To import a module|\n",
    "|in|To check if a value is present in a list, tuple, etc.|\n",
    "|is|To test if two variables are equal|\n",
    "|lambda|To create an anonymous function|\n",
    "|None|Represents a null value|\n",
    "|NoneType| Object with no value\n",
    "|nonlocal|To declare a non-local variable|\n",
    "|not|A logical operator|\n",
    "|or|A logical operator|\n",
    "|pass|A null statement, a statement that will do nothing|\n",
    "|raise|To raise an exception|\n",
    "|return|To exit a function and return a value|\n",
    "|True|Boolean value, result of comparison operations|\n",
    "|try|To make a try...except statement|\n",
    "|while|To create a while loop|\n",
    "|with|Used to simplify exception handling|\n",
    "|yield|To end a function, returns a generator| \n",
    "\n",
    "<br />\n",
    "\n",
    "More information on data types at: https://docs.python.org/3/library/datatypes.html"
   ]
  },
  {
   "cell_type": "markdown",
   "metadata": {},
   "source": [
    "<div class=\"alert alert-block alert-warning\">\n",
    "    <font size=\"6\"> &#128761;</font> <b> Trick:</b> the who command allow you to know what variables and functions are active in your notebook.\n",
    "</div>"
   ]
  },
  {
   "cell_type": "code",
   "execution_count": 1,
   "metadata": {},
   "outputs": [
    {
     "name": "stdout",
     "output_type": "stream",
     "text": [
      "Interactive namespace is empty.\n"
     ]
    }
   ],
   "source": [
    "who"
   ]
  },
  {
   "cell_type": "code",
   "execution_count": 2,
   "metadata": {},
   "outputs": [
    {
     "ename": "NameError",
     "evalue": "name 'radius' is not defined",
     "output_type": "error",
     "traceback": [
      "\u001b[1;31m---------------------------------------------------------------------------\u001b[0m",
      "\u001b[1;31mNameError\u001b[0m                                 Traceback (most recent call last)",
      "Cell \u001b[1;32mIn[2], line 3\u001b[0m\n\u001b[0;32m      1\u001b[0m \u001b[38;5;66;03m# Then you can verify the value of a variable by just typing its name:\u001b[39;00m\n\u001b[1;32m----> 3\u001b[0m \u001b[43mradius\u001b[49m\n",
      "\u001b[1;31mNameError\u001b[0m: name 'radius' is not defined"
     ]
    }
   ],
   "source": [
    "# Then you can verify the value of a variable by just typing its name:\n",
    "\n",
    "radius"
   ]
  },
  {
   "cell_type": "markdown",
   "metadata": {},
   "source": [
    "<a  id=\"data_types\"></a>\n",
    "\n",
    "<h1> 2 Main Data types in Python</h1>\n",
    "\n",
    "By data type we mean the different types of data that Python is able to handle. There are hundreds of them, with its own properties, operations and functions. Remember, as we saw before, there are functions that work with more than one data type (e.g., the operators + and * work with numbers and strings).\n",
    "\n",
    "The image below shows the main data types available in Python:\n",
    "\n",
    "<br />\n",
    "<br />\n",
    "\n",
    "<img src=\"NB_images/data_types.png\" style=\"width: 750px;\"/> \n",
    "\n",
    "<br />\n",
    "<br />"
   ]
  },
  {
   "cell_type": "markdown",
   "metadata": {},
   "source": [
    "More information on data types at: https://docs.python.org/3/library/datatypes.html"
   ]
  },
  {
   "cell_type": "markdown",
   "metadata": {},
   "source": [
    "<a  id=\"basic_types\"></a>\n",
    "\n",
    "<h2> 2.1 Basic data types </h2>\n",
    "\n",
    "<a  id=\"numeric_type\"></a>\n",
    "\n",
    "<h3> 2.1.1 Numeric data types </h3>\n",
    "\n",
    "In Python, numeric data types represent data which have a numerical value\n",
    "    \n",
    "* **Integer**: A positive or negative whole number. Its limit depends on the memory size of our computer (32 or 64 bits).\n",
    "* **Float**: A real number with floating point representation. It is specified by a decimal point.\n",
    "* **Complex**: A number that is composed of a real part plus an imaginary part (j)."
   ]
  },
  {
   "cell_type": "markdown",
   "metadata": {},
   "source": [
    "#### Assign variables"
   ]
  },
  {
   "cell_type": "code",
   "execution_count": null,
   "metadata": {},
   "outputs": [],
   "source": [
    "i = 5\n",
    "f = 6.5\n",
    "comp = 7j\n",
    "comp2 = 8.0 + 9.5j\n",
    "\n",
    "print(\"Integer:\", i)\n",
    "print(\"Float or real:\", f)\n",
    "print(\"Complex:\", comp)\n",
    "print(\"Real + complex:\", comp2)"
   ]
  },
  {
   "cell_type": "markdown",
   "metadata": {},
   "source": [
    "<a  id=\"boolean_type\"></a>\n",
    "\n",
    "\n",
    "<h3>2.1.2 Boolean data type</h3>\n",
    "\n",
    "\n",
    "In Python Boolean type variables or values are **True** or **False**."
   ]
  },
  {
   "cell_type": "code",
   "execution_count": null,
   "metadata": {},
   "outputs": [],
   "source": [
    "c = 5\n",
    "c"
   ]
  },
  {
   "cell_type": "code",
   "execution_count": null,
   "metadata": {},
   "outputs": [],
   "source": [
    "c == 10"
   ]
  },
  {
   "cell_type": "code",
   "execution_count": null,
   "metadata": {},
   "outputs": [],
   "source": [
    "answer = c == 5\n",
    "print(answer)"
   ]
  },
  {
   "cell_type": "markdown",
   "metadata": {},
   "source": [
    "<h4>Boolean Operators    </h4>\n",
    "\n",
    "Don't confuse Boolean values or types with Boolean operators. The boolean operators available in Python are:\n",
    "\n",
    "<br />\n",
    "\n",
    "|Operator | Description| Example|\n",
    "| --- | --- | --- |\n",
    "|==|If the two operands are equal, the condition is true.|(a == b) is false.|\n",
    "|!=|If the two operands are not equal, the condition is true.|(a != b) is true.|\n",
    "|<>|If the two operands are not equal, the condition is true.|(a <> b) is true.|\n",
    "|>|If the left operand is greater than the right operand, the condition is true.|(a > b) is false.|\n",
    "|<|If the left operand is less than the right operand, the condition is true.|(a < b) is true.|\n",
    "|>=|If the left operand is greater than the right operand, the condition is true.|(a >= b) is false.|\n",
    "|<=|If the left operand is less than the right operand, the condition is true.|(a <= b) is true.|\n",
    "<br />"
   ]
  },
  {
   "cell_type": "markdown",
   "metadata": {},
   "source": [
    "<a  id=\"sequential\"></a>\n",
    "\n",
    "<h2>2.3 Sequential data types</h2>\n",
    "\n",
    "In Python a sequence is a collection of variables of the same type. The most important sequences are string, list, set, and tuples. Using an index we can access each element of the sequence, but be aware that Python uses a **zero-based numbering** system, which means that the initial item or element of a sequence has an index 0, rather than 1. Therefore indexes range from 0 to n-1, where n is the number of items in the sequence:\n",
    "\n",
    "    Sequence:  Python is fun and clever!\n",
    " \n",
    "    Index:     0123456789 ...\n",
    " \n",
    " \n",
    " The function `len()` gives the length of the sequence"
   ]
  },
  {
   "cell_type": "markdown",
   "metadata": {},
   "source": [
    "<div class=\"alert alert-block alert-warning\">\n",
    "    <font size=\"6\"> &#128761;</font> <b> Trick:</b> printing an empty line with '\\n'\n",
    "</div>"
   ]
  },
  {
   "cell_type": "markdown",
   "metadata": {},
   "source": [
    "<a  id=\"string\"></a>\n",
    "\n",
    "<h3>2.3.1 String</h3>\n",
    "\n",
    "A string can be a single character (basic data type) or a chain of immutable characters that can be created by enclosing them in single or double quotes."
   ]
  },
  {
   "cell_type": "code",
   "execution_count": null,
   "metadata": {
    "scrolled": true
   },
   "outputs": [],
   "source": [
    "text = 'Python is fun and clever' \n",
    "\n",
    "print(text[0])\n",
    "print(text[1])\n",
    "print(text[2])\n",
    "print(text[3])\n",
    "print(text[4])\n",
    "print(text[5])\n",
    "print(text[6])\n",
    "print(text[7])\n",
    "print(text[8])\n",
    "print(text[9])\n",
    "print(text[10])\n",
    "print(text[11])\n",
    "print(text[12], '\\n')\n",
    "\n",
    "print('Character with index 6 is:', text[6]) \n",
    "\n",
    "print(\"The length of the text is:\",len(text))"
   ]
  },
  {
   "cell_type": "markdown",
   "metadata": {},
   "source": [
    "<div class=\"alert alert-block alert-warning\"> <font size=\"6\"> &#128761;</font> <b> Trick:</b> Use ctrl + / to comment or uncomment a code line \n",
    "</div>"
   ]
  },
  {
   "cell_type": "code",
   "execution_count": null,
   "metadata": {
    "scrolled": true
   },
   "outputs": [],
   "source": [
    "# Last character\n",
    "\n",
    "# text[23]\n",
    "text[-1]"
   ]
  },
  {
   "cell_type": "markdown",
   "metadata": {},
   "source": [
    "#### Functions for strings\n",
    "\n",
    "Here are some functions or methods for strings, and some examples:\n",
    "<br/>\n",
    "\n",
    "|Description| Python fuction or method|\n",
    "| --- | --- |\n",
    "|Concatenating strings|  `string1 + string2`|\n",
    "|Replacing characters in a string|    `string1.replace(char1, char2)`|\n",
    "|<span class=\"burk\">Verify if some characters are in a string| `char1 in string1`|\n",
    "|Find the position of a character in a string| `string1.find(char1)`|\n",
    "|Length of a string| `len(string1)`|\n",
    "    \n",
    "<br />"
   ]
  },
  {
   "cell_type": "code",
   "execution_count": null,
   "metadata": {},
   "outputs": [],
   "source": [
    "# The in command indicates if an specific string is within a larger string\n",
    "\n",
    "city = 'Chicago'\n",
    "\n",
    "print('chi' in city)\n",
    "print('Chi' in city)"
   ]
  },
  {
   "cell_type": "code",
   "execution_count": null,
   "metadata": {},
   "outputs": [],
   "source": [
    "# The find command gives us the starting index of the string within a longer sequence\n",
    "\n",
    "print(city.find('go'))"
   ]
  },
  {
   "cell_type": "code",
   "execution_count": null,
   "metadata": {},
   "outputs": [],
   "source": [
    "# Once the string is created it cannot be modified, strings are immutable\n",
    "\n",
    "city[0] = 'c'"
   ]
  },
  {
   "cell_type": "markdown",
   "metadata": {},
   "source": [
    "<a  id=\"list\"></a>\n",
    "\n",
    "<h3>2.3.2 List</h3>\n",
    "\n",
    "A list is a mutable sequence of different Python objects or data types, inside square brackets and separated by commas."
   ]
  },
  {
   "cell_type": "code",
   "execution_count": null,
   "metadata": {},
   "outputs": [],
   "source": [
    "# Example\n",
    "\n",
    "list1 = [\"apple\", \"orange\", 5, 7.5, True, None]\n",
    "\n",
    "print(list1)"
   ]
  },
  {
   "cell_type": "markdown",
   "metadata": {},
   "source": [
    "We can access one element of the list using the index between square brackets, but remember that the initial element of the list has an index 0."
   ]
  },
  {
   "cell_type": "code",
   "execution_count": null,
   "metadata": {},
   "outputs": [],
   "source": [
    "# Firts element\n",
    "\n",
    "list1[0]"
   ]
  },
  {
   "cell_type": "markdown",
   "metadata": {},
   "source": [
    "We can also create a list as follows:\n",
    "\n",
    "* An empty list: `list1=[]`\n",
    "* A list with n equal values: `list1=[value]*n`"
   ]
  },
  {
   "cell_type": "code",
   "execution_count": null,
   "metadata": {},
   "outputs": [],
   "source": [
    "# Empty list\n",
    "\n",
    "list1 = []\n",
    "print(list1)\n",
    "\n",
    "# List of 10 elements\n",
    "\n",
    "list2 = [5]*10\n",
    "print(list2)\n",
    "\n",
    "print(len(list2))"
   ]
  },
  {
   "cell_type": "markdown",
   "metadata": {},
   "source": [
    "As lists are mutable, we can change any element of the list (this is not the case for strings or tuples)."
   ]
  },
  {
   "cell_type": "code",
   "execution_count": null,
   "metadata": {},
   "outputs": [],
   "source": [
    "# Changing 4th & 6th elements\n",
    "\n",
    "list2[3] = 400\n",
    "list2[5] = 600\n",
    "\n",
    "print(list2)"
   ]
  },
  {
   "cell_type": "markdown",
   "metadata": {},
   "source": [
    "#### Functions for lists\n",
    "\n",
    "Here are some useful methods for lists:\n",
    "<br />\n",
    "\n",
    "|Function or method|Python Expression|\n",
    "| --- | --- |\n",
    "| Maximum of a list | `max(list)`|\n",
    "| Minimum of a list | `min(list)`|\n",
    "| Sum of list | `sun(list)`|\n",
    "| Length of list | `len(list)`|\n",
    "| Count an element in the list | `list.count(element)`|\n",
    "| Sort the list | `sorted(list)`|\n",
    "| Sort the list* | `list.sort()`|\n",
    "| Reverse the list* | `list.reverse()`|\n",
    "| Add an element to a list* | `list.append(obj)`|\n",
    "| Delete an element of the list | `del list[index]`|\n",
    "\n",
    "\n",
    "<br />\n",
    "\n",
    "*: these functions modify the original list"
   ]
  },
  {
   "cell_type": "code",
   "execution_count": null,
   "metadata": {},
   "outputs": [],
   "source": [
    "# Append an element to the list\n",
    "\n",
    "list2.append(800)\n",
    "print('New elemet:', list2)"
   ]
  },
  {
   "cell_type": "markdown",
   "metadata": {},
   "source": [
    "<div class=\"alert alert-block alert-warning\">\n",
    "    <font size=\"6\"> &#128761;</font> <b> Trick:</b> select or click on max and then press Shift + Tab keys to see all the available options for this function\n",
    "</div>"
   ]
  },
  {
   "cell_type": "code",
   "execution_count": null,
   "metadata": {
    "scrolled": true
   },
   "outputs": [],
   "source": [
    "# Print maximum and minimum values, and how many times an object occurs\n",
    "\n",
    "print(\"Maximum value:\", max(list2))\n",
    "print(\"Minimum value:\", min(list2))\n",
    "print(\"How many times 5 occurs:\", list2.count(5))"
   ]
  },
  {
   "cell_type": "markdown",
   "metadata": {},
   "source": [
    "A **list of lists** is an important data type because is the seed or predecessor of a **matrix or array**, its syntax is as follows:\n",
    "\n",
    "[list row 1, list row 2, list row 3]:\n",
    "\n",
    "    [[E00, E01, E02],\n",
    "    [E10, E11, E12],\n",
    "    [E20, E21, E22]]\n",
    "\n",
    " *** The following expressions allow us to access any elements a the list of lists:\n",
    "<br />\n",
    "<br />\n",
    "    \n",
    "|Description|Python expression|\n",
    "| --- | --- |\n",
    "|A row| `variable[row]`|\n",
    "|A particular location| `variable[row][column]`|\n",
    "\n",
    "<br />"
   ]
  },
  {
   "cell_type": "code",
   "execution_count": null,
   "metadata": {},
   "outputs": [],
   "source": [
    "# Example\n",
    "\n",
    "list_list = [[2, 3, 4], [5, 6, 7], [8, 9, 10]]\n",
    "\n",
    "print(list_list, '\\n')\n",
    "\n",
    "print(list_list[0], '\\n')\n",
    "\n",
    "print(list_list[2][2], '\\n')\n",
    "\n",
    "# Lenght of the list and its first element\n",
    "\n",
    "print(len(list_list), '\\n')\n",
    "\n",
    "print(len(list_list[0]))"
   ]
  },
  {
   "cell_type": "markdown",
   "metadata": {},
   "source": [
    "<a  id=\"arrays\"></a>\n",
    "\n",
    "<h1>3 Numpy</h1>\n",
    "\n",
    "NumPy is a Python external library that provides the most important numerical functions and the main data type for geoscientists and engineers, namely the array (or matrix). More information on this important library at:\n",
    "\n",
    "https://numpy.org\n",
    "\n",
    "<a  id=\"intro_array\"></a> \n",
    "\n",
    "<h2>3.1 Numpy arrays</h2>\n",
    "\n",
    "As geoscientists and engineers most of our programs are going to involve arrays, which have clear benefits over lists: \n",
    "\n",
    "* They are more compact\n",
    "* Faster access for reading and writing \n",
    "* They allow linear algebra operations\n",
    "* They can be parallelized for GPU processing\n",
    "* They are the base of more complex data types of different libraries\n",
    "\n",
    "In order to use NumPy, it has to be installed using the pip command:\n",
    "\n",
    "* In the Command Prompt (seen in the Introduction) with `pip install numpy`\n",
    "* In the same notebook with `!pip install numpy`\n",
    "\n",
    "Once installed, the program has to be imported in each notebook or script as shown below, np is the alias for the name of the library :"
   ]
  },
  {
   "cell_type": "code",
   "execution_count": null,
   "metadata": {},
   "outputs": [],
   "source": [
    "# !pip install numpy"
   ]
  },
  {
   "cell_type": "code",
   "execution_count": null,
   "metadata": {},
   "outputs": [],
   "source": [
    "import numpy as np"
   ]
  },
  {
   "cell_type": "markdown",
   "metadata": {},
   "source": [
    "With the function `dir` you can see all the types and functions that reside within the Numpy library:"
   ]
  },
  {
   "cell_type": "code",
   "execution_count": null,
   "metadata": {},
   "outputs": [],
   "source": [
    "dir(np)"
   ]
  },
  {
   "cell_type": "code",
   "execution_count": null,
   "metadata": {},
   "outputs": [],
   "source": [
    "len(dir(np))"
   ]
  },
  {
   "cell_type": "markdown",
   "metadata": {},
   "source": [
    "<a  id=\"gene\"></a>\n",
    "\n",
    "<h2>3.2 Generating NumPy arrays</h2> \n",
    "\n",
    "The are different ways to create NumPy arrays, some of the most important are:\n",
    "\n",
    "* **Creating a 1D array (vector) or 2D array (matrix) of zeros with the function `np.zeros()`**   \n",
    "* **Converting a list or list of lists to an array with the function `np.array()`**\n",
    "* Creating a 1D array or 2D array of fixed values with the function `np.full()`\n",
    "* **Creating a 1D array or 2D array of random values (floats) with the function `np.random.rand()`**\n",
    "* Creating a 1D array or 2D array of random values (integer) with the function `np.random.randint()`\n",
    "\n",
    "Let's review two of them:"
   ]
  },
  {
   "cell_type": "markdown",
   "metadata": {},
   "source": [
    "#### 1D array of zeros"
   ]
  },
  {
   "cell_type": "code",
   "execution_count": null,
   "metadata": {},
   "outputs": [],
   "source": [
    "vector = np.zeros(5)\n",
    "\n",
    "print(\"Vector of zeros:\", vector)\n",
    "print(vector.dtype)\n",
    "vector.shape"
   ]
  },
  {
   "cell_type": "markdown",
   "metadata": {},
   "source": [
    "#### 2D array of zeros"
   ]
  },
  {
   "cell_type": "code",
   "execution_count": null,
   "metadata": {},
   "outputs": [],
   "source": [
    "mat_zeros = np.zeros((5, 5))\n",
    "\n",
    "print(\"Matrix of zeros:\\n\", '\\n', mat_zeros)\n",
    "mat_zeros.shape"
   ]
  },
  {
   "cell_type": "markdown",
   "metadata": {},
   "source": [
    "#### List to  1D array (vector)\n",
    "\n",
    "By using the function `type()`, we can figure out the nature of any element in Python. The method `.shape`is an special function associated with the object vector:"
   ]
  },
  {
   "cell_type": "code",
   "execution_count": null,
   "metadata": {},
   "outputs": [],
   "source": [
    "list1 = [0, 1, 2, 3]\n",
    "\n",
    "print(\"List:\", list1)\n",
    "print(type(list1), '\\n')\n",
    "\n",
    "vector = np.array(list1) \n",
    "\n",
    "print(\"Vector:\", vector, '\\n')\n",
    "print(type(vector))\n",
    "vector.shape"
   ]
  },
  {
   "cell_type": "markdown",
   "metadata": {},
   "source": [
    "#### List of lists to a 2D array (matrix)"
   ]
  },
  {
   "cell_type": "code",
   "execution_count": null,
   "metadata": {},
   "outputs": [],
   "source": [
    "list_list = [[1, 2, 3], [4, 5, 6], [7, 8, 9]]\n",
    "\n",
    "print(\"List of lists:\", list_list,'\\n')\n",
    "\n",
    "matrix = np.array(list_list)\n",
    "\n",
    "print(\"Matrix:\\n\", '\\n', matrix, '\\n')\n",
    "print(type(matrix))\n",
    "\n",
    "matrix.shape"
   ]
  },
  {
   "cell_type": "markdown",
   "metadata": {
    "scrolled": false
   },
   "source": [
    "#### 1D array with random floats between 0 and 1"
   ]
  },
  {
   "cell_type": "code",
   "execution_count": null,
   "metadata": {},
   "outputs": [],
   "source": [
    "vector_random = np.random.rand(5)\n",
    "\n",
    "# You can use also np.random.rand(1, 5) but there is a small difference\n",
    "\n",
    "print(\"Vector with random values:\", vector_random)\n",
    "vector_random.shape"
   ]
  },
  {
   "cell_type": "markdown",
   "metadata": {
    "scrolled": false
   },
   "source": [
    "#### 2D array with random floats between 0 and 1"
   ]
  },
  {
   "cell_type": "code",
   "execution_count": null,
   "metadata": {},
   "outputs": [],
   "source": [
    "matrix_random = np.random.rand(5, 3)\n",
    "\n",
    "print(\"Matrix with random values:\\n\", '\\n', matrix_random)\n",
    "matrix_random.shape"
   ]
  },
  {
   "cell_type": "markdown",
   "metadata": {},
   "source": [
    "<a  id=\"access\"></a> \n",
    "\n",
    "<h2>3.3 Accessing the array elements</h2> \n",
    "\n",
    "Elements in the array can be accessed by specifying a particular index or a range of indexes (slicing) within square brackets:\n",
    "<br />\n",
    "<br />\n",
    "    \n",
    "|Description|Python expression|\n",
    "| --- | --- |\n",
    "|A row| `variable[row]`|\n",
    "|A column| `variable[:,column]`|\n",
    "|A particular location| `variable[row, column]`|\n",
    "<br />"
   ]
  },
  {
   "cell_type": "code",
   "execution_count": null,
   "metadata": {},
   "outputs": [],
   "source": [
    "# Printing the 4th element of a vector\n",
    "\n",
    "vector = np.array([10, 5, 20, 8, 2])\n",
    "vector[3]"
   ]
  },
  {
   "cell_type": "code",
   "execution_count": null,
   "metadata": {},
   "outputs": [],
   "source": [
    "matrix6x6 = np.random.rand(6,6)\n",
    "print(matrix6x6)"
   ]
  },
  {
   "cell_type": "code",
   "execution_count": null,
   "metadata": {},
   "outputs": [],
   "source": [
    "# Print the 2dn row of the matrix\n",
    "\n",
    "print(matrix6x6[1])"
   ]
  },
  {
   "cell_type": "code",
   "execution_count": null,
   "metadata": {},
   "outputs": [],
   "source": [
    "# Print the 4th column of the matrix, this way of accessing the colunms is very important for us\n",
    "\n",
    "print(matrix6x6[:,3])"
   ]
  },
  {
   "cell_type": "code",
   "execution_count": null,
   "metadata": {},
   "outputs": [],
   "source": [
    "# Print a specific element\n",
    "\n",
    "print(matrix6x6[2, 2])"
   ]
  },
  {
   "cell_type": "markdown",
   "metadata": {},
   "source": [
    "<a  id=\"attri\"></a> \n",
    "\n",
    "<h2>3.4 Array methods</h2>\n",
    "\n",
    "Some methods of NumPy arrays are:\n",
    "\n",
    "<br />\n",
    "\n",
    "|Description | Attribute |\n",
    "| --- | --- |\n",
    "|Dimensions of the array (1 or 2D)| `variable.ndim`|\n",
    "|Size of each dimension | `variable.shape`|\n",
    "|Array Size|`variable.size`|\n",
    "|Array type| `variable.dtype`|\n",
    "|Array total size in bytes| `variable.nbytes`|\n",
    "<br />"
   ]
  },
  {
   "cell_type": "code",
   "execution_count": null,
   "metadata": {},
   "outputs": [],
   "source": [
    "# matrix is defined above\n",
    "\n",
    "print(\"Matrix:\\n\", '\\n', matrix, '\\n')\n",
    "\n",
    "print(\"Dimensions:\",matrix.ndim)\n",
    "print(\"Shape:\",matrix.shape)\n",
    "print(\"Total of elements:\",matrix.size)\n",
    "print(\"Element data type:\",matrix.dtype)\n",
    "print(\"Bytes for element:\",matrix.itemsize)\n",
    "print(\"Bytes for the matrix:\",matrix.nbytes)"
   ]
  },
  {
   "cell_type": "markdown",
   "metadata": {},
   "source": [
    "<a  id=\"ope\"></a> \n",
    "\n",
    "<h2>3.5 Matrices operations</h2>\n",
    "\n",
    "A negative side of lists is that we need to iterate over each element to perform mathematical operations. Arrays on the other hand allow operations with very simple notation. There are two big groups of operation that involve matrices or Numpy arrays:\n",
    "\n",
    "* Element-wise operations\n",
    "* Linear algebra operations\n",
    "\n",
    "<a  id=\"ewo\"></a> \n",
    "\n",
    "<h3>3.5.1 Element-wise operations</h3>\n",
    "\n",
    "Element-wise operations is a group of simple operations (+, -, *, /, power, ...) that involve a matrix and an scalar or two matrices of the same dimensions. In the first case the scalar or number is operated with each element of the matrix:"
   ]
  },
  {
   "cell_type": "code",
   "execution_count": null,
   "metadata": {},
   "outputs": [],
   "source": [
    "# Given this 3x3 matrix or array\n",
    "\n",
    "list_list = [[1, 2, 3], [4, 5, 6], [7, 8, 9]]\n",
    "matrix = np.array(list_list)\n",
    "\n",
    "print(\"Matrix:\\n\", '\\n', matrix)\n",
    "matrix.shape"
   ]
  },
  {
   "cell_type": "code",
   "execution_count": null,
   "metadata": {},
   "outputs": [],
   "source": [
    "matrix + 2"
   ]
  },
  {
   "cell_type": "code",
   "execution_count": null,
   "metadata": {},
   "outputs": [],
   "source": [
    "matrix * 2"
   ]
  },
  {
   "cell_type": "code",
   "execution_count": null,
   "metadata": {
    "scrolled": true
   },
   "outputs": [],
   "source": [
    "matrix**2"
   ]
  },
  {
   "cell_type": "code",
   "execution_count": null,
   "metadata": {
    "scrolled": true
   },
   "outputs": [],
   "source": [
    "matrix / 2"
   ]
  },
  {
   "cell_type": "markdown",
   "metadata": {},
   "source": [
    "In the case of matrices of the same dimensions, the operations are done element by element (1st with fist, 2nd with 2nd, ...). This type of operations is very important, especial in the case of logs analysis:"
   ]
  },
  {
   "cell_type": "code",
   "execution_count": null,
   "metadata": {},
   "outputs": [],
   "source": [
    "matrix + matrix"
   ]
  },
  {
   "cell_type": "code",
   "execution_count": null,
   "metadata": {},
   "outputs": [],
   "source": [
    "matrix * matrix"
   ]
  },
  {
   "cell_type": "code",
   "execution_count": null,
   "metadata": {},
   "outputs": [],
   "source": [
    "matrix / matrix"
   ]
  },
  {
   "cell_type": "markdown",
   "metadata": {},
   "source": [
    "<a  id=\"la\"></a> \n",
    "\n",
    "Linear algebra is an important area of mathematics that focuses on vectors and matrices, and their use for solving systems of equations. It has many applications, from physics to computing, to even geosciences.\n",
    "\n",
    "Basic concepts of linear algebra can be found at:\n",
    "\n",
    "https://towardsdatascience.com/linear-algebra-for-deep-learning-f21d7e7d7f23\n",
    "\n",
    "Some of the main operations or calculations in linear algebra, more complex than the element-wise operations, are:\n",
    "\n",
    "* Dot product\n",
    "* Cross product\n",
    "* Power of a matrix\n",
    "* **Determinant of a matrix**\n",
    "* **Inverse of a matrix**\n",
    "* Transpose matrix\n",
    "* Flatten matrix\n",
    "\n",
    "More information on these and many other linear algebra operations and functions at:\n",
    "\n",
    "https://numpy.org/doc/stable/reference/routines.linalg.html"
   ]
  },
  {
   "cell_type": "markdown",
   "metadata": {},
   "source": [
    "#### Determinant of a matrix\n",
    "\n",
    "* Only square matrices (same number of rows and columns) have a determinant\n",
    "* The determinant of a singular matrix is zero"
   ]
  },
  {
   "cell_type": "code",
   "execution_count": null,
   "metadata": {},
   "outputs": [],
   "source": [
    "# Given this 3x3 matrix or array\n",
    "\n",
    "list_list = [[1, 2, 3], [4, 5, 6], [7, 8, 9]]\n",
    "matrix = np.array(list_list)\n",
    "\n",
    "print(\"Matrix:\\n\", '\\n', matrix)\n",
    "matrix.shape"
   ]
  },
  {
   "cell_type": "code",
   "execution_count": null,
   "metadata": {},
   "outputs": [],
   "source": [
    "print(\"Determinant of matrix\\n\", '\\n', np.linalg.det(matrix))"
   ]
  },
  {
   "cell_type": "markdown",
   "metadata": {},
   "source": [
    "#### Inverse matrix\n",
    "\n",
    "* A matrix can only be inverted if its determinant is not zero\n",
    "* A matrix times its inverse should give the identity matrix (ones in the diagonal, and zeros everywhere else)"
   ]
  },
  {
   "cell_type": "code",
   "execution_count": null,
   "metadata": {},
   "outputs": [],
   "source": [
    "# Given this 3x3 matrix or array\n",
    "\n",
    "matrix2 = np.array([[1, 4, 3], [4, 7, 6], [7, 2, 9]])\n",
    "\n",
    "print(\"Matrix:\\n\", '\\n', matrix2)\n",
    "matrix2.shape"
   ]
  },
  {
   "cell_type": "code",
   "execution_count": null,
   "metadata": {},
   "outputs": [],
   "source": [
    "print(\"Determinant of matrix\\n\", '\\n', np.linalg.det(matrix2))"
   ]
  },
  {
   "cell_type": "code",
   "execution_count": null,
   "metadata": {},
   "outputs": [],
   "source": [
    "print(\"matrix:\\n\", '\\n', matrix2)\n",
    "\n",
    "inverse = np.linalg.inv(matrix2)\n",
    "\n",
    "print(\"\\ninverse matrix:\\n\", '\\n', inverse)"
   ]
  },
  {
   "cell_type": "markdown",
   "metadata": {},
   "source": [
    "#### Identity matrix\n",
    "\n",
    "The dot product of a matrix by its inverse gives the identity matrix in which the elements of the diagonal are all 1 and the rest are zeros"
   ]
  },
  {
   "cell_type": "code",
   "execution_count": null,
   "metadata": {},
   "outputs": [],
   "source": [
    "print(\"matrix.inverse matrix = the identity matrix:\\n\", '\\n', np.dot(matrix2,inverse), '\\n')"
   ]
  },
  {
   "cell_type": "markdown",
   "metadata": {},
   "source": [
    "<div class=\"alert alert-block alert-warning\">\n",
    "<font size=\"5\"> &#128533;</font>Computers have issues representing float numbers. So here, apart from the diagonal, the numbers are very small but not zero.\n",
    "</div>"
   ]
  },
  {
   "cell_type": "code",
   "execution_count": null,
   "metadata": {},
   "outputs": [],
   "source": [
    "who"
   ]
  }
 ],
 "metadata": {
  "hide_input": false,
  "kernelspec": {
   "display_name": "Python 3 (ipykernel)",
   "language": "python",
   "name": "python3"
  },
  "language_info": {
   "codemirror_mode": {
    "name": "ipython",
    "version": 3
   },
   "file_extension": ".py",
   "mimetype": "text/x-python",
   "name": "python",
   "nbconvert_exporter": "python",
   "pygments_lexer": "ipython3",
   "version": "3.11.0"
  },
  "toc": {
   "base_numbering": 1,
   "nav_menu": {},
   "number_sections": false,
   "sideBar": true,
   "skip_h1_title": false,
   "title_cell": "Table of Contents",
   "title_sidebar": "Contents",
   "toc_cell": false,
   "toc_position": {
    "height": "calc(100% - 180px)",
    "left": "10px",
    "top": "150px",
    "width": "305.455px"
   },
   "toc_section_display": true,
   "toc_window_display": false
  },
  "varInspector": {
   "cols": {
    "lenName": 16,
    "lenType": 16,
    "lenVar": 40
   },
   "kernels_config": {
    "python": {
     "delete_cmd_postfix": "",
     "delete_cmd_prefix": "del ",
     "library": "var_list.py",
     "varRefreshCmd": "print(var_dic_list())"
    },
    "r": {
     "delete_cmd_postfix": ") ",
     "delete_cmd_prefix": "rm(",
     "library": "var_list.r",
     "varRefreshCmd": "cat(var_dic_list()) "
    }
   },
   "position": {
    "height": "429.663px",
    "left": "351.663px",
    "right": "20px",
    "top": "162px",
    "width": "478px"
   },
   "types_to_exclude": [
    "module",
    "function",
    "builtin_function_or_method",
    "instance",
    "_Feature"
   ],
   "window_display": false
  }
 },
 "nbformat": 4,
 "nbformat_minor": 4
}
