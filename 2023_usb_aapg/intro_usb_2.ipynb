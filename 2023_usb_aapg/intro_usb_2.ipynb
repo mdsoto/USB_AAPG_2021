{
 "cells": [
  {
   "cell_type": "markdown",
   "metadata": {},
   "source": [
    "<img src=\"NB_images\\portada.png\" style=\"width:750px\" align=\"center\">\n",
    "\n",
    "<h1><center>Python for Geosciences</center></h1>\n",
    "\n",
    "<h1><center>Session 2 - Slicing data, functions, and control flow</center></h1>\n",
    "\n",
    "<h2><center>Theory and demonstrations</center></h2>\n",
    "\n",
    "<h3>Course created by</h3>  \n",
    "\n",
    "Manuel David Soto"
   ]
  },
  {
   "cell_type": "markdown",
   "metadata": {},
   "source": [
    "<a  id=\"toc\"></a>\n",
    "\n",
    "<h1>Table of contents</h1>  \n",
    "    \n",
    "* [1 Slicing data](#sli)\n",
    "\n",
    "* [2 Control flow](#flow)\n",
    "    * [2.1 Conditional statements](#cond)\n",
    "    * [2.2 Loops](#loop)\n",
    "        * [2.2.1 For-loops](#for)\n",
    "        * [2.2.2 While loops](#while)\n",
    "\n",
    "* [3 Functions](#func)\n",
    "    * [3.1 Built-in functions](#bif)\n",
    "  \n",
    "* [4. Python libraries for geosciences](#libs)\n",
    "    * [4.1 Python standard libraries](#psl)\n",
    "        * [4.1.1 Math](#math)\n",
    "    * [4.2 Python external libraries](#pel)       \n",
    "        * [4.2.1 Matplotlib](#mpl)"
   ]
  },
  {
   "cell_type": "markdown",
   "metadata": {},
   "source": [
    "<a  id=\"sli\"></a>\n",
    "\n",
    "<h1>1. Slicing data</h1>\n",
    "\n",
    "Slicing is a powerful tool in Python, that allows you to extract or retrieve elements from sequences (string, list, set, or tuples) or Numpy arrays, using the index of the elements. Remember the index in Python **start at zero**, and an element of the sequence can be accessed with the variable name follows by the index within square brackets. So indexes go from 0 to n-1, where n is the total number of items in the sequence:\n",
    "\n",
    "`Sequence:             H    e    l   l   o   ,       P   y   t  h   o   n   !`\n",
    " \n",
    "`Index:                0    1    2   3   4   5   6   7   8   9  10  11  12  13`"
   ]
  },
  {
   "cell_type": "code",
   "execution_count": null,
   "metadata": {
    "ExecuteTime": {
     "end_time": "2021-03-24T11:43:03.107210Z",
     "start_time": "2021-03-24T11:43:03.101221Z"
    }
   },
   "outputs": [],
   "source": [
    "# Retrieving single elements of the sequence\n",
    "\n",
    "sequence = \"Hello, Python!\"\n",
    "\n",
    "print(len(sequence))\n",
    "\n",
    "print(sequence)\n",
    "\n",
    "print(sequence[7])\n",
    "\n",
    "print(sequence[-1])"
   ]
  },
  {
   "cell_type": "markdown",
   "metadata": {},
   "source": [
    "In order to retrieve a group of elements from a sequence or array you need the following syntax:\n",
    "\n",
    "`variable[index1:index2:step]`\n",
    "\n",
    "Where: index1 is the index of the first element, index2 is the index of the last element + 1, and step is the increment between the elements to be extracted.\n",
    "       \n",
    "    If index1 is not specified, Python assumes 0\n",
    "    If index2 is not specified, Python assumes the last element of the sequence\n",
    "    If step is not specified, Python assumes 1"
   ]
  },
  {
   "cell_type": "code",
   "execution_count": null,
   "metadata": {
    "ExecuteTime": {
     "end_time": "2021-03-24T11:51:58.388944Z",
     "start_time": "2021-03-24T11:51:58.382418Z"
    }
   },
   "outputs": [],
   "source": [
    "# Extracting all elements of the sequence\n",
    "\n",
    "print(sequence, '\\n')\n",
    "\n",
    "# Extract the word: Hello\n",
    "\n",
    "print(sequence[0:5:1])\n",
    "print(sequence[:5], '\\n')\n",
    "\n",
    "# Extract the word: Python!\n",
    "print(sequence[7:14])\n",
    "print(sequence[7:], '\\n')\n",
    "\n",
    "# Taking every 2 element of a partial list\n",
    "print(sequence[3:11:2])"
   ]
  },
  {
   "cell_type": "markdown",
   "metadata": {},
   "source": [
    "More information on slicing at:https://python-reference.readthedocs.io/en/latest/docs/brackets/slicing.html"
   ]
  },
  {
   "cell_type": "markdown",
   "metadata": {},
   "source": [
    "<a  id=\"flow\"></a>\n",
    "\n",
    "<h1>2 Control flow    </h1>\n",
    "\n",
    "Control flow structures are basic elements of any programming language. They can control and/or modify the development of programs based on certain conditions or parameters. The main control flow structures are conditional statements and loops, let's review them:"
   ]
  },
  {
   "cell_type": "markdown",
   "metadata": {},
   "source": [
    "<a  id=\"cond\"></a>\n",
    "\n",
    "<h2>2.1 Conditional statements</h2>\n",
    "\n",
    "A conditional statement is an structure or instruction that allows a program to take a different path, depending if a boolean condition is satisfied or not (False or True). Here is a representation of the conditional statement:\n",
    "\n",
    "<img src=\"NB_images/cond_state.png\" style=\"width: 350px;\"/>"
   ]
  },
  {
   "cell_type": "markdown",
   "metadata": {},
   "source": [
    "One consequence of use of the conditional statements is that not all the code in a program is always executed, a portion will remain untouched. The syntax is as follows :\n",
    "\n",
    "    if (condition):\n",
    "        for True do this\n",
    "    else:\n",
    "        do this other thing\n",
    "\n",
    "Here are some examples of conditionals statements, pay attention to the colons(:), brackets, and the indentation:"
   ]
  },
  {
   "cell_type": "code",
   "execution_count": null,
   "metadata": {},
   "outputs": [],
   "source": [
    "# One condition, one outcome\n",
    "\n",
    "var1 = 100\n",
    "\n",
    "if var1 == 100:\n",
    "    print(\"The value of the variable is 100\")"
   ]
  },
  {
   "cell_type": "code",
   "execution_count": null,
   "metadata": {},
   "outputs": [],
   "source": [
    "# One condition, two outcomes\n",
    "\n",
    "a = 2\n",
    "b = 3\n",
    "\n",
    "if a == b:\n",
    "    print(\"a is equal to b\")\n",
    "else:\n",
    "    print(\"a is different to b\")"
   ]
  },
  {
   "cell_type": "markdown",
   "metadata": {},
   "source": [
    "<a  id=\"loop\"></a>\n",
    "\n",
    "<h2>2.2 Loops</h2>\n",
    "\n",
    "A loop is an structure in which a sequence of instructions are repeated until a condition is satisfied or until a counter reached certain value. Here is a representation of the loops:\n",
    "\n",
    "<img src=\"NB_images/loop.png\" style=\"width: 250px;\"/>"
   ]
  },
  {
   "cell_type": "markdown",
   "metadata": {},
   "source": [
    "After the iterations, steps or cycles of the loop are done, contrary to the conditional statements, the other chunks of code of the program is executed. There are two types of loops:\n",
    "\n",
    "* For loop\n",
    "* While loop\n",
    "\n",
    "Let's see them"
   ]
  },
  {
   "cell_type": "markdown",
   "metadata": {},
   "source": [
    "<a  id=\"for\"></a>\n",
    "\n",
    "<h3>2.2.1 For-loops    </h3>\n",
    "\n",
    "For-loops are typically used when the **number of iterations is known** before entering the loop. The Python syntax for a for-loop is:\n",
    "\n",
    "    for i in iterable:\n",
    "        Line code 1\n",
    "        Line code 2\n",
    "        Line code 3\n",
    "        .\n",
    "        .\n",
    "        .\n",
    "   \n",
    "The indent of the lines after the `for` statement define the code to be repeated, the indent could be one tabs or four spaces. For-loops are compact structures because they do not require counters, only an iterable data type. Here are some example with the function ´range´ or and iterable:"
   ]
  },
  {
   "cell_type": "code",
   "execution_count": null,
   "metadata": {},
   "outputs": [],
   "source": [
    "# Example 1 - iteration along a range\n",
    "\n",
    "for i in range(6):\n",
    "    print(\"Value :\", i)"
   ]
  },
  {
   "cell_type": "code",
   "execution_count": null,
   "metadata": {},
   "outputs": [],
   "source": [
    "# Example 2 - iteration along a list with range\n",
    "\n",
    "var1 = [1, 3, 5, 7, 9]\n",
    "\n",
    "for i in range(0, len(var1)):\n",
    "    print(\"Value :\", var1[i])"
   ]
  },
  {
   "cell_type": "code",
   "execution_count": null,
   "metadata": {},
   "outputs": [],
   "source": [
    "# Example 3 - iteration along a list\n",
    "\n",
    "fruits = [\"apple\", \"banana\", \"cherry\", \"mango\"]\n",
    "\n",
    "for fruit in fruits:\n",
    "    print('Fruit:', fruit) "
   ]
  },
  {
   "cell_type": "code",
   "execution_count": null,
   "metadata": {},
   "outputs": [],
   "source": [
    "# Example 4 -  iteration along a strings\n",
    "\n",
    "text = 'Python'\n",
    "\n",
    "for letter in text:\n",
    "    print(\"Letter:\", letter)"
   ]
  },
  {
   "cell_type": "markdown",
   "metadata": {},
   "source": [
    "<a  id=\"while\"></a>\n",
    "\n",
    "<h3>2.2.2 While loops</h3>\n",
    "\n",
    "While-loops are used when the loop needs to be **done until certain condition is true**. The Python syntax for a while loop is:\n",
    "\n",
    "    while (condition):\n",
    "        Line code 1\n",
    "        Line code 2\n",
    "        Line code 3\n",
    "        .\n",
    "        .\n",
    "        .\n",
    "   \n",
    " As seen previously, the indentation of the lines after the while statement define the code to be repeated. Here are some examples of while-loops:"
   ]
  },
  {
   "cell_type": "code",
   "execution_count": null,
   "metadata": {},
   "outputs": [],
   "source": [
    "# Example 1\n",
    "\n",
    "i = 0\n",
    "while (i < 11):\n",
    "    print(\"Value :\", i)\n",
    "    i = i+1"
   ]
  },
  {
   "cell_type": "code",
   "execution_count": null,
   "metadata": {},
   "outputs": [],
   "source": [
    "# Example 2\n",
    "\n",
    "i = 3\n",
    "while (i < 11):\n",
    "    print(\"Value :\", i)\n",
    "    i = i+2"
   ]
  },
  {
   "cell_type": "markdown",
   "metadata": {},
   "source": [
    "<a  id=\"func\"></a>\n",
    "\n",
    "<h1>3 Functions   </h1>  \n",
    "\n",
    "Functions are crucial structures in Python (or any other programing language) that follow the same concept than a mathematical function:\n",
    "\n",
    "\\begin{align}\n",
    "\\ {Y}=f(x)\n",
    "\\end{align}\n",
    "\n",
    "A function is a block of code which only runs when it is called. You can pass data (parameters or arguments) to the function and it can return data as result, or perform a task without returning data (e.g. print). There are many types of functions in Python, gather in groups call libraries, packages or modules (each with some or hundred of function). Let's remember the type of libraries available in Python:\n",
    "\n",
    "<br/>\n",
    "\n",
    "|Type of library|Maker|Access|Example of a function|\n",
    "|:---|:---|:---|:---|\n",
    "|Your Own Library (YOL)|Yourself|Local functions are circumscribed to the notebook. In the case of global libraries they need to be import in each notebook.  |local: my_function1(), global: yol.my_function2()|\n",
    "|Python Interpreter (PI)|Python Foundation|About 70 functions, always available |min()|\n",
    "|Python Standart Libraries (PSLI)|Python Foundation| Need to be import in each notebook| math.cos()\n",
    "|Python External Libraries (PELI)|Third party but distributed by Python Foundation| Need to be installed (only one time) and then imported in each notebook | np.array()|\n",
    "\n",
    "<br/>"
   ]
  },
  {
   "cell_type": "markdown",
   "metadata": {},
   "source": [
    "This old image (from https://www.pexels.com) of an iceberg (near 90% underwater) give you an idea about the amount of libraries availables in Pyhton:\n",
    "\n",
    "<br/>\n",
    "\n",
    "<img src=\"NB_images\\iceberg.png\" style=\"width:500px\" align=\"center\">."
   ]
  },
  {
   "cell_type": "markdown",
   "metadata": {},
   "source": [
    "<a  id=\"ludf\"></a>\n",
    "\n",
    "<h2> 3.1 UDF and your own library (YOL)</h2>\n",
    "\n",
    "The user defined functions (UDF) are the base of a more intelligent and efficient (easy to maintain) way of programing. A UDF is a piece of code defined by the user. This type of functions are important for the following reasons: \n",
    "\n",
    "* User-defined functions help to decompose a large program into small segments which make the program easy to understand, maintain and debug.\n",
    "* If repeated code occurs in a program, a function can be used to include this code and execute it when needed by calling the function.\n",
    "* Programmers working on large project can divide the workload by making different functions.\n",
    "\n",
    "The syntax of the user defined function is:\n",
    "\n",
    "    def function_name(arguments):\n",
    "        code\n",
    "        code\n",
    "        ....\n",
    "        return values\n",
    "        \n",
    "In the UDFs the colon (:) and indentation (a tab or four spaces) are critical because they define what is inside the function. Only the return value or variable are known by the rest of the program. \n",
    "\n",
    "**Local UDFs** can be defined and used many times inside an specific notebook. Contrary, global UDFs can be gather in a single library (YOL) and then they can be imported and then used by any notebook. Here are some examples of  local UDF:"
   ]
  },
  {
   "cell_type": "code",
   "execution_count": null,
   "metadata": {
    "ExecuteTime": {
     "end_time": "2021-03-24T13:45:46.619805Z",
     "start_time": "2021-03-24T13:45:46.614818Z"
    }
   },
   "outputs": [],
   "source": [
    "# Example of a function with one argument and returnning one value\n",
    "\n",
    "def conversion_C_F(temp_c):\n",
    "    temp_f = temp_c * 9/5 + 32\n",
    "    return temp_f"
   ]
  },
  {
   "cell_type": "code",
   "execution_count": null,
   "metadata": {
    "ExecuteTime": {
     "end_time": "2021-03-24T13:45:49.538392Z",
     "start_time": "2021-03-24T13:45:49.534371Z"
    }
   },
   "outputs": [],
   "source": [
    "print('Temperature: ', conversion_C_F(0), 'ºF')"
   ]
  },
  {
   "cell_type": "code",
   "execution_count": null,
   "metadata": {
    "ExecuteTime": {
     "end_time": "2021-03-24T13:50:47.213568Z",
     "start_time": "2021-03-24T13:50:47.197922Z"
    }
   },
   "outputs": [],
   "source": [
    "# Example of a function with multiple arguments and returning one value\n",
    "\n",
    "def line_equation(a, b, x):\n",
    "    y = a * x + b\n",
    "    return y"
   ]
  },
  {
   "cell_type": "code",
   "execution_count": null,
   "metadata": {
    "ExecuteTime": {
     "end_time": "2021-03-24T13:49:50.141775Z",
     "start_time": "2021-03-24T13:49:50.136809Z"
    }
   },
   "outputs": [],
   "source": [
    "print(line_equation(10, 34, 10))\n",
    "\n",
    "line_equation(10, 34, 100)"
   ]
  },
  {
   "cell_type": "code",
   "execution_count": null,
   "metadata": {},
   "outputs": [],
   "source": [
    "# Example of a function with multiple arguments and returning multiple values\n",
    "\n",
    "def equations(a, b, x):\n",
    "    y1 = a * x + b\n",
    "    y2 = a * x\n",
    "    return y1, y2"
   ]
  },
  {
   "cell_type": "code",
   "execution_count": null,
   "metadata": {},
   "outputs": [],
   "source": [
    "yy1, yy2 = equations(10, 34, 10)\n",
    "print(yy1, yy2)\n",
    "\n",
    "yy1, yy2 = equations(10, 34, 100)\n",
    "print(yy1, yy2)\n",
    "\n",
    "type(equations(10, 34, 100))"
   ]
  },
  {
   "cell_type": "markdown",
   "metadata": {},
   "source": [
    "<a  id=\"bif\"></a>\n",
    "\n",
    "<h2> 3.2 PI functions</h2>\n",
    "\n",
    "The Python interpreter (PI) has a small number of built-in functions that **are always available**. As part of the PI, they form the skull of Python (as seen in the introduction), and are listed here in alphabetical order:\n",
    "\n",
    "|Function|Description|\n",
    "| --- | --- |\n",
    "|abs()|Returns the absolute value of a number|\n",
    "|all()|Returns True if all items in an iterable object are true|\n",
    "|any()|Returns True if any item in an iterable object is true|\n",
    "|ascii()|Returns a readable version of an object. Replaces none-ascii characters with escape character|\n",
    "|bin()|Returns the binary version of a number|\n",
    "|bool()|Returns the boolean value of the specified object|\n",
    "|bytearray()|Returns an array of bytes|\n",
    "|bytes()|Returns a bytes object|\n",
    "|callable()|\"Returns True if the specified object is callable, otherwise False\"|\n",
    "|chr()|Returns a character from the specified Unicode code.|\n",
    "|classmethod()|Converts a method into a class method|\n",
    "|compile()|\"Returns the specified source as an object, ready to be executed\"|\n",
    "|complex()|Returns a complex number|\n",
    "|delattr()|Deletes the specified attribute (property or method) from the specified object|\n",
    "|dict()|Returns a dictionary (Array)|\n",
    "|dir()|Returns a list of the specified object's properties and methods|\n",
    "|divmod()|Returns the quotient and the remainder when argument1 is divided by argument2|\n",
    "|enumerate()|Takes a collection (e.g. a tuple) and returns it as an enumerate object|\n",
    "|eval()|Evaluates and executes an expression|\n",
    "|exec()|Executes the specified code (or object)|\n",
    "|filter()|Use a filter function to exclude items in an iterable object|\n",
    "|float()|Returns a floating point number|\n",
    "|format()|Formats a specified value|\n",
    "|frozenset()|Returns a frozen set object|\n",
    "|getattr()|Returns the value of the specified attribute (property or method)|\n",
    "|globals()|Returns the current global symbol table as a dictionary|\n",
    "|hasattr()|Returns True if the specified object has the specified attribute (property/method)|\n",
    "|hash()|Returns the hash value of a specified object|\n",
    "|help()|Executes the built-in help system|\n",
    "|hex()|Converts a number into a hexadecimal value|\n",
    "|id()|Returns the id of an object|\n",
    "|input()|Ask for user input|\n",
    "|int()|Returns an integer number|\n",
    "|isinstance()|Returns True if a specified object is an instance of a specified object|\n",
    "|issubclass()|Returns True if a specified class is a subclass of a specified object|\n",
    "|iter()|Returns an iterator object|\n",
    "|len()|Returns the length of an object|\n",
    "|list()|Returns a list|\n",
    "|locals()|Returns an updated dictionary of the current local symbol table|\n",
    "|map()|Returns the specified iterator with the specified function applied to each item|\n",
    "|max()|Returns the largest item in an iterable|\n",
    "|memoryview()|Returns a memory view object|\n",
    "|min()|Returns the smallest item in an iterable|\n",
    "|next()|Returns the next item in an iterable|\n",
    "|object()|Returns a new object|\n",
    "|oct()|Converts a number into an octal|\n",
    "|open()|Opens a file and returns a file object|\n",
    "|ord()|Convert an integer representing the Unicode of the specified character|\n",
    "|pow()|Returns the value of x to the power of y|\n",
    "|print()|Prints to the standard output device|\n",
    "|property()|\"Gets, sets, deletes a property\"|\n",
    "|range()|\"Returns a sequence of numbers, starting from 0 and increments by 1 (by default)\"|\n",
    "|repr()|Returns a readable version of an object|\n",
    "|reversed()|Returns a reversed iterator|\n",
    "|round()|Rounds a numbers|\n",
    "|set()|Returns a new set object|\n",
    "|setattr()|Sets an attribute (property/method) of an object|\n",
    "|slice()|Returns a slice object|\n",
    "|sorted()|Returns a sorted list|\n",
    "|@staticmethod()|Converts a method into a static method|\n",
    "|str()|Returns a string object|\n",
    "|sum()|Sums the items of an iterator|\n",
    "|super()|Returns an object that represents the parent class|\n",
    "|tuple()|Returns a tuple|\n",
    "|type()|Returns the type of an object|\n",
    "|vars()|Returns the _dict_ property of an object|\n",
    "|zip()|\"Returns an iterator, from two or more iterators\"|\n",
    "\n",
    "A complete description of the built-in functions can be found at: https://docs.python.org/3/library/functions.html <br/>\n",
    "Let's see some of them:"
   ]
  },
  {
   "cell_type": "code",
   "execution_count": null,
   "metadata": {
    "ExecuteTime": {
     "end_time": "2021-03-24T12:04:56.156199Z",
     "start_time": "2021-03-24T12:04:56.147684Z"
    },
    "scrolled": true
   },
   "outputs": [],
   "source": [
    "# Absolute value, minimum, maximum, ...\n",
    "\n",
    "list_numbers = [10, 20, 15, 2, 70, 12, 22]\n",
    "\n",
    "print(\"Minimum value :\", min(list_numbers))\n",
    "print(\"Maximum value :\", max(list_numbers))\n",
    "print(\"Sorted list   :\", sorted(list_numbers)) # sorted fun\n",
    "print(\"Sum of a list of numbers :\", sum(list_numbers), '\\n')\n",
    "\n",
    "print(\"Round a number to 4th decimals :\", round(23.456789, 4))\n",
    "print(\"Round a number to 2nd decimals :\", round(23.456789, 2))\n",
    "print(\"Absolute value:\", abs(-20))"
   ]
  },
  {
   "cell_type": "markdown",
   "metadata": {},
   "source": [
    "<h3>Data Conversion functions</h3>\n",
    "\n",
    "The most useful functions to convert data types between float, integer and string are:"
   ]
  },
  {
   "cell_type": "code",
   "execution_count": null,
   "metadata": {
    "ExecuteTime": {
     "end_time": "2021-03-24T12:15:36.141469Z",
     "start_time": "2021-03-24T12:15:36.135486Z"
    }
   },
   "outputs": [],
   "source": [
    "# Conversion from string to float\n",
    "\n",
    "print(float(\"10.4\"))\n",
    "print(float(10), '\\n')\n",
    "\n",
    "# Conversion from string to integer\n",
    "\n",
    "print(int(\"10\"))\n",
    "print(int(float(\"10.2\")),'\\n') # Note: print(int(\"10.2\")) will not work\n",
    "\n",
    "# Conversion of number to string\n",
    "\n",
    "r = 12.567890\n",
    "print(str(r))\n",
    "print(type(str(r)))"
   ]
  },
  {
   "cell_type": "markdown",
   "metadata": {},
   "source": [
    "<H3>Input function</H3> \n",
    "\n",
    "The `input()` function allows the user to input values from the keyboard and it converts them to an string."
   ]
  },
  {
   "cell_type": "code",
   "execution_count": null,
   "metadata": {
    "ExecuteTime": {
     "end_time": "2021-03-24T12:21:18.009778Z",
     "start_time": "2021-03-24T12:21:14.290978Z"
    },
    "scrolled": false
   },
   "outputs": [],
   "source": [
    "temp = input(\"Please enter the temperature in ºC of your city: \")\n",
    "\n",
    "from datetime import datetime\n",
    "dt = datetime.now()\n",
    "\n",
    "print()\n",
    "print('The temperature in your city is', temp, 'ºC')\n",
    "print('The local time: ', str(dt.hour)+':'+str(dt.minute))\n",
    "print('Date: ', str(dt.day)+'/'+str(dt.month)+'/'+str(dt.year))"
   ]
  },
  {
   "cell_type": "code",
   "execution_count": null,
   "metadata": {
    "ExecuteTime": {
     "end_time": "2021-03-24T12:25:58.232053Z",
     "start_time": "2021-03-24T12:25:58.223514Z"
    }
   },
   "outputs": [],
   "source": [
    "# Try to execute this, why do you get an error?\n",
    "\n",
    "# new_temp = temp + 5\n",
    "\n",
    "new_temp = int(temp) + 5\n",
    "\n",
    "new_temp"
   ]
  },
  {
   "cell_type": "markdown",
   "metadata": {},
   "source": [
    "<h3>Range function</h3>\n",
    "\n",
    "The `range()` function returns a sequence of numbers, starting from 0, incrementing by 1 (both by default), and ending before the specified number. The syntax is the following:\n",
    "\n",
    "`range(start, stop, step)`\n",
    "\n",
    "|Parameter|Description|\n",
    "| --- | --- |\n",
    "|start|Optional. An integer number specifying at which position to start. Default is 0|\n",
    "|stop|Required. An integer number specifying at which position to end (stop - 1).|\n",
    "|step|Optional. An integer number specifying the increment. Default is 1|\n",
    "\n",
    "<br/>\n",
    "\n",
    "The argument **step has to be an integer**, here are some examples:"
   ]
  },
  {
   "cell_type": "code",
   "execution_count": null,
   "metadata": {
    "ExecuteTime": {
     "end_time": "2021-03-24T12:28:56.762020Z",
     "start_time": "2021-03-24T12:28:56.757032Z"
    }
   },
   "outputs": [],
   "source": [
    "x = range(0, 13, 1)\n",
    "# x = range(13) # equivalent\n",
    "\n",
    "# The range does not materialize as a sequence of numbers until you operate with it\n",
    "\n",
    "print(\"Example 1:\", x)\n",
    "\n",
    "print(\"Example 1:\", list(x))\n",
    "\n",
    "type(x)"
   ]
  },
  {
   "cell_type": "code",
   "execution_count": null,
   "metadata": {
    "ExecuteTime": {
     "end_time": "2021-03-24T12:31:13.591226Z",
     "start_time": "2021-03-24T12:31:13.586240Z"
    }
   },
   "outputs": [],
   "source": [
    "x = range(0, 13, 2)\n",
    "\n",
    "print(\"Example 2\", list(x))"
   ]
  },
  {
   "cell_type": "markdown",
   "metadata": {},
   "source": [
    "<a  id=\"psl\"></a>\n",
    "\n",
    "<h2>3.3 Standard libraries functions. </h2> "
   ]
  },
  {
   "cell_type": "markdown",
   "metadata": {},
   "source": [
    "These are functions that have been developed and gather in libraries by the Python foundation and come with the installation, however they need to be imported in each notebook. Some important standard libraries (the bones of Python) for geoscientist are:\n",
    "\n",
    "* statistic: for calculating mathematical statistics of numeric data.\n",
    "* random: for pseudo-random number generation for various distributions\n",
    "* **math**: mathematical functions for real numeric data. \n",
    "\n",
    "More information of these libraries and their functions at: https://docs.python.org/3/library/\n",
    "\n",
    "Let's see the math functions:"
   ]
  },
  {
   "cell_type": "markdown",
   "metadata": {},
   "source": [
    "<a  id=\"math\"></a>\n",
    "\n",
    "<h3>3.3.1 Math</h3>\n",
    "\n",
    "The math standard library contains most of the mathematical functions available in Python, far more than the build-in functions. Here they are:\n",
    "\n",
    "|Function                                   |Description|\n",
    "| --- | --- |\n",
    "|ceil(x)                                    |Returns the smallest integer greater than or equal|\n",
    "|copysign(x, y)                             |Returns x with the sign of y|\n",
    "|fabs(x)                                    |Returns the absolute value of x|\n",
    "|factorial(x)                               |Returns the factorial of x|\n",
    "|floor(x)                                   |Returns the largest integer less than or equal to x|\n",
    "|fmod(x, y)                                 |Returns the remainder when x is divided by y|\n",
    "|frexp(x)                                   |Returns the mantissa and exponent of x as the pair|\n",
    "|fsum(iterable)                             |Returns an accurate floating point sum of values in|\n",
    "|isfinite(x)                                |Returns True if x is neither an infinity nor a NaN|\n",
    "|isinf(x)                                   |Returns True if x is a positive or negative infinit|\n",
    "|isnan(x)                                   |Returns True if x is a NaN|\n",
    "|ldexp(x, i)                                |Returns x * (2**i)|\n",
    "|modf(x)                                    |Returns the fractional and integer parts of x|\n",
    "|trunc(x)                                   |Returns the truncated integer value of x|\n",
    "|exp(x)                                     |Returns e**x|\n",
    "|expm1(x)                                   |Returns e**x - 1|\n",
    "|log(x[, base])                             |Returns the logarithm of x to the base (defaults to|\n",
    "|log1p(x)                                   |Returns the natural logarithm of 1+x|\n",
    "|log2(x)                                    |Returns the base-2 logarithm of x|\n",
    "|log10(x)                                   |Returns the base-10 logarithm of x|\n",
    "|pow(x, y)                                  |Returns x raised to the power y|\n",
    "|sqrt(x)                                    |Returns the square root of x|\n",
    "|acos(x)                                    |Returns the arc cosine of x|\n",
    "|asin(x)                                    |Returns the arc sine of x|\n",
    "|atan(x)                                    |Returns the arc tangent of x|\n",
    "|atan2(y, x)                                |Returns atan(y / x)|\n",
    "|cos(x)                                     |Returns the cosine of x|\n",
    "|hypot(x, y)                                |Returns the Euclidean norm, sqrt(x*x + y*y)|\n",
    "|sin(x)                                     |Returns the sine of x|\n",
    "|tan(x)                                     |Returns the tangent of x|\n",
    "|degrees(x)                                 |Converts angle x from radians to degrees|\n",
    "|radians(x)                                 |Converts angle x from degrees to radians|\n",
    "|acosh(x)                                   |Returns the inverse hyperbolic cosine of x|\n",
    "|asinh(x)                                   |Returns the inverse hyperbolic sine of x|\n",
    "|atanh(x)                                   |Returns the inverse hyperbolic tangent of x|\n",
    "|cosh(x)                                    |Returns the hyperbolic cosine of x|\n",
    "|sinh(x)                                    |Returns the hyperbolic cosine of x|\n",
    "|tanh(x)                                    |Returns the hyperbolic tangent of x|\n",
    "|erf(x)                                     |Returns the error function at x|\n",
    "|erfc(x)                                    |Returns the complementary error function at x|\n",
    "|gamma(x)                                   |Returns the Gamma function at x|\n",
    "|lgamma(x)                                  |Returns the natural logarithm of the absolute value|\n",
    "|pi                                         |Mathematical constant, the ratio of circumference o|\n",
    "|e                                          |mathematical constant e (2.71828...)|\n",
    "\n",
    "\n",
    "\n",
    "Math is already included in the Python installation so it is not necessary to install it, just to import it. Some of its functions are also present in Numpy. More information on Math at https://docs.python.org/3/library/math.html"
   ]
  },
  {
   "cell_type": "code",
   "execution_count": null,
   "metadata": {},
   "outputs": [],
   "source": [
    "import math"
   ]
  },
  {
   "cell_type": "code",
   "execution_count": null,
   "metadata": {},
   "outputs": [],
   "source": [
    "print('pi:', math.pi, '\\n')\n",
    "\n",
    "angle_degree = 45\n",
    "print('sin of 45 degrees:', math.sin(angle_degree/180*math.pi), '\\n')    # The argument has to be in radians\n",
    "\n",
    "side1 = 30\n",
    "side2 = 40\n",
    "side3 = math.sqrt(side1**2+side2**2)\n",
    "print(\"side 3 of the triangle:\", side3)"
   ]
  },
  {
   "cell_type": "markdown",
   "metadata": {},
   "source": [
    "<a  id=\"pel\"></a>\n",
    "\n",
    "<h2>3.4 Python external libraries </h2>\n",
    "\n",
    "The last important and larger group of functions are those functions that part of the Python External libraries (PELI), which have been developed by third-party. These libraries (the specialized muscles of Python) need to be installed (e.g., via pip in a cmd window or in the notebook), and then imported. Some very important Python external libraries are:\n",
    "\n",
    "* **Numpy**: numerical computing with Python, we have seen some of its functions\n",
    "* **Matplotlib**: static, animated, and interactive visualizations and graphics\n",
    "* **Pandas**: data (spreadsheet) manipulation and analysis\n",
    "\n",
    "These three are the the holy trinity of Python. Others important libraries for geoscience are:\n",
    "\n",
    "* PIL: image manipulation and analysis\n",
    "* SciPy: software for mathematics, science, and engineering\n",
    "* Seaborn: is complimentary to Matplotlib and it specifically targets statistical data visualization\n",
    "* ObsPy: framework for processing seismological data\n",
    "* ...\n",
    "\n",
    "More information about the hundred of thousands of external libraries, dedicated to the more diverse topics, at: https://pypi.org/ <br/>\n",
    "                                                                                                                             \n",
    "An extensive list of libraries (mainly written in Python) focus on geosciences at: https://github.com/Zabamund/awesome-open-geoscience#geochemistry"
   ]
  },
  {
   "cell_type": "markdown",
   "metadata": {},
   "source": [
    "<h3>3.4.1 NumPy library</h3>\n",
    "\n",
    "As we saw in the previous session Numpy is a very important external library. Among its functions is `np.arange()` that is very similar to the range() function but the output is an array:\n",
    "\n",
    "`np.arange(start, stop, step)`\n",
    "\n",
    "|Parameter|Description|\n",
    "| --- | --- |\n",
    "|start|Optional. A number specifying at which position to start. Default is 0|\n",
    "|stop|Required. A number specifying at which position to end (stop - 1).|\n",
    "|step|Optional. A number specifying the incrementation. Default is 1|\n",
    "\n",
    "<br/>\n",
    "\n",
    "However, contrary to the `range()`, here **the step can be a fraction**. Some examples:"
   ]
  },
  {
   "cell_type": "code",
   "execution_count": null,
   "metadata": {
    "ExecuteTime": {
     "end_time": "2021-03-24T12:33:29.634404Z",
     "start_time": "2021-03-24T12:33:29.627422Z"
    }
   },
   "outputs": [],
   "source": [
    "import numpy as np\n",
    "\n",
    "x = np.arange(0, 13, 1)\n",
    "# x = np.arange(13) # equivalent\n",
    "\n",
    "print(\"Example 1:\", x)\n",
    "\n",
    "type(x)"
   ]
  },
  {
   "cell_type": "code",
   "execution_count": null,
   "metadata": {
    "ExecuteTime": {
     "end_time": "2021-03-24T12:33:34.325369Z",
     "start_time": "2021-03-24T12:33:34.320380Z"
    }
   },
   "outputs": [],
   "source": [
    "x = np.arange(0, 13, 2)\n",
    "\n",
    "print(\"Example 2:\", x)"
   ]
  },
  {
   "cell_type": "code",
   "execution_count": null,
   "metadata": {
    "ExecuteTime": {
     "end_time": "2021-03-24T12:33:34.325369Z",
     "start_time": "2021-03-24T12:33:34.320380Z"
    }
   },
   "outputs": [],
   "source": [
    "x = np.arange(0, 13, 0.25)\n",
    "\n",
    "print(\"Example 3:\", x)"
   ]
  },
  {
   "cell_type": "markdown",
   "metadata": {},
   "source": [
    "<a  id=\"mpl\"></a>\n",
    "\n",
    "<h3>3.4.2 Matplotlib library </h3>\n",
    "\n",
    "Matplotlib is a comprehensive external library for creating static, animated, and interactive visualizations in Python. The plots are very similar to Matlab, so the user can customize the plots (axis, grids, labels, etc.).\n",
    "\n",
    "<img src=\"NB_images/matplotlib.jpg\" style=\"width: 800px;\"/>\n",
    "\n",
    "\n",
    "To install Matplotlib use the following command `pip install matplotlib` in a cmd window or in the notebook. Hundred of examples of matplotlib plots (code included) at: https://matplotlib.org/gallery/index.html <br/>\n",
    "\n",
    "Here is a simple example of Numpy plot (more in the coming session) :"
   ]
  },
  {
   "cell_type": "code",
   "execution_count": null,
   "metadata": {},
   "outputs": [],
   "source": [
    "import matplotlib.pyplot as plt\n",
    "import numpy as np\n",
    "\n",
    "# Data for plotting\n",
    "\n",
    "t = np.arange(0.0, 2.0, 0.01)\n",
    "\n",
    "s = 1 + np.sin(2 * np.pi * t)\n",
    "r = 1 + np.cos(2 * np.pi * t)\n",
    "\n",
    "r"
   ]
  },
  {
   "cell_type": "code",
   "execution_count": null,
   "metadata": {},
   "outputs": [],
   "source": [
    "# Plot\n",
    "\n",
    "plt.plot(t, s, label='Sine')\n",
    "plt.plot(t, r, label='Cosine')\n",
    "plt.title('Matplotlib plot')\n",
    "plt.xlabel('Sine and cosine')\n",
    "plt.ylabel('t')\n",
    "plt.grid()\n",
    "plt.legend()\n",
    "plt.show()"
   ]
  }
 ],
 "metadata": {
  "hide_input": false,
  "kernelspec": {
   "display_name": "Python 3 (ipykernel)",
   "language": "python",
   "name": "python3"
  },
  "language_info": {
   "codemirror_mode": {
    "name": "ipython",
    "version": 3
   },
   "file_extension": ".py",
   "mimetype": "text/x-python",
   "name": "python",
   "nbconvert_exporter": "python",
   "pygments_lexer": "ipython3",
   "version": "3.10.0"
  },
  "toc": {
   "base_numbering": 1,
   "nav_menu": {},
   "number_sections": false,
   "sideBar": true,
   "skip_h1_title": false,
   "title_cell": "Table of Contents",
   "title_sidebar": "Contents",
   "toc_cell": false,
   "toc_position": {
    "height": "calc(100% - 180px)",
    "left": "10px",
    "top": "150px",
    "width": "305.455px"
   },
   "toc_section_display": true,
   "toc_window_display": true
  },
  "varInspector": {
   "cols": {
    "lenName": 16,
    "lenType": 16,
    "lenVar": 40
   },
   "kernels_config": {
    "python": {
     "delete_cmd_postfix": "",
     "delete_cmd_prefix": "del ",
     "library": "var_list.py",
     "varRefreshCmd": "print(var_dic_list())"
    },
    "r": {
     "delete_cmd_postfix": ") ",
     "delete_cmd_prefix": "rm(",
     "library": "var_list.r",
     "varRefreshCmd": "cat(var_dic_list()) "
    }
   },
   "types_to_exclude": [
    "module",
    "function",
    "builtin_function_or_method",
    "instance",
    "_Feature"
   ],
   "window_display": false
  }
 },
 "nbformat": 4,
 "nbformat_minor": 2
}
