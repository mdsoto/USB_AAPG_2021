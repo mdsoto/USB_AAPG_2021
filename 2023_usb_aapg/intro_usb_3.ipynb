{
 "cells": [
  {
   "cell_type": "markdown",
   "metadata": {},
   "source": [
    "<img src=\"NB_images\\portada.png\" style=\"width:750px\" align=\"center\">\n",
    "\n",
    "<h1><center>Introduction to Python for Geosciences</center></h1>\n",
    "\n",
    "<h1><center>Session 3 - Text files, plots and multiplots. Widgets</center></h1>\n",
    "\n",
    "<h2><center>Theory and demonstrations</center></h2>\n",
    "\n",
    "<h3>Course created by</h3>  \n",
    "\n",
    "Manuel David Soto"
   ]
  },
  {
   "cell_type": "markdown",
   "metadata": {},
   "source": [
    "<a  id=\"toc\"></a>\n",
    "\n",
    "<h3>Table of contents</h3>\n",
    "\n",
    "* [1 Jupyter extensions](#ext)\n",
    "    * [1.1 Some important extensions](#some)\n",
    "    * [1.2 Variable inspector](#inspect)\n",
    "\n",
    "* [2 Reading and writing files](#rwfiles)\n",
    "    * [2.1 Reading text files](#text)\n",
    "        * [2.1.1 Reading single column text files](#rsingle)\n",
    "        * [2.1.2 Reading multi column text files with missing values](#rmulti)\n",
    "    * [2.2 Writing text files](#wtext)\n",
    "        * [2.2.1 Writing simple text reports](#wreport)\n",
    "        * [2.2.2 Writing single or multi column text files](#wcolumn)\n",
    "\n",
    "* [3 Plots](#plots)\n",
    "    * [3.1 Single plots](#splots)\n",
    "        * [3.1.1 Point-line plots](#line)\n",
    "        * [3.1.2 Scatter plots](#scat)\n",
    "        * [3.1.3 Bar and pie plots](#bar)\n",
    "    * [3.2 - Multiplots by subplot](#mplotsub)\n",
    "    * [3.3 - Multiplots by loops](#mplotloop)\n",
    "   \n",
    "* [4 Interactive Notebook](#inter)\n",
    "    * [4.1 Widgets](#wid)"
   ]
  },
  {
   "cell_type": "markdown",
   "metadata": {
    "hide_input": true
   },
   "source": [
    "<a  id=\"ext\"></a>\n",
    "\n",
    "# 1 Jupyter extensions\n",
    "\n",
    "There is a way to give super powers to your Jupyter Notebook and make it closer to other powerful IDEs. By installing the Jupyter extensions your Notebook get 66 new features. Let's see some of them:"
   ]
  },
  {
   "cell_type": "markdown",
   "metadata": {},
   "source": [
    "<a  id=\"some\"></a>\n",
    "\n",
    "## 1.1 Some important extensions\n",
    "\n",
    "Some important extensions that you can activate as you wish and necessity:\n",
    "\n",
    "* Ruler: Enables the Ruler CodeMirror feature\n",
    "* ExecuteTime: Display when each cell has been executed and how long it took\n",
    "* highlighter: Provides several toolbar buttons for highlighting a selected text within a markdown cell.\n",
    "* **spellchecker**: Adds a CodeMirror overlay mode for Typo.js spellchecking\n",
    "* Autopep8: Use kernel-specific code to reformat/prettify the contents of code cells. \n",
    "* **Scratchpad**: Adds a scratchpad cell to Jupyter notebook.\n",
    "\n",
    "As Autopep8, some extensions require been installed before using them"
   ]
  },
  {
   "cell_type": "markdown",
   "metadata": {
    "hide_input": true
   },
   "source": [
    "<a  id=\"inspect\"></a>\n",
    "\n",
    "## 1.2 Variable inspector\n",
    "\n",
    "In addition the the extensions in bold above, the `Variable Inspector` is perhaps the most important extension because it allow you to know easily the characteristics and value of all your available variables. "
   ]
  },
  {
   "cell_type": "code",
   "execution_count": null,
   "metadata": {
    "ExecuteTime": {
     "end_time": "2022-11-28T19:03:53.553767Z",
     "start_time": "2022-11-28T19:03:53.539425Z"
    }
   },
   "outputs": [],
   "source": [
    "# Importing random, a Python Standard Library (PSLI)\n",
    "\n",
    "import random "
   ]
  },
  {
   "cell_type": "code",
   "execution_count": null,
   "metadata": {
    "ExecuteTime": {
     "end_time": "2022-11-28T19:07:53.687139Z",
     "start_time": "2022-11-28T19:07:53.682207Z"
    }
   },
   "outputs": [],
   "source": [
    "a = random.randint(1, 10)\n",
    "b = random.randint(1, 10)\n",
    "\n",
    "c = a + b"
   ]
  },
  {
   "cell_type": "markdown",
   "metadata": {},
   "source": [
    "<div class=\"alert alert-block alert-warning\"> <font size=\"6\"> &#9757;&#127997;</font> <b> Question:</b> How do you know the value of a, b, and c without printing or executing them?\n",
    "</div>"
   ]
  },
  {
   "cell_type": "code",
   "execution_count": null,
   "metadata": {},
   "outputs": [],
   "source": [
    "# Previously we used who\n",
    "\n",
    "%who"
   ]
  },
  {
   "cell_type": "code",
   "execution_count": null,
   "metadata": {},
   "outputs": [],
   "source": [
    "a"
   ]
  },
  {
   "cell_type": "markdown",
   "metadata": {},
   "source": [
    "The `Variable Inspector` extension and its icon is below allow to inspect the status of your variables:\n",
    "\n",
    "<img src=\"NB_images\\variable_inspector.png\" style=\"width:35px\" align=\"left\">"
   ]
  },
  {
   "cell_type": "markdown",
   "metadata": {},
   "source": [
    "<a  id=\"rwfiles\"></a>\n",
    "\n",
    "<h1>2 Reading and writing files </h1>\n",
    "\n",
    "In geosciences we always have the necessity of reading and writing files which contain information that we want to process or delivery. Some common format (from simpler to complex) to us are:\n",
    "\n",
    "* Text (columnar data separated by space , commas...)\n",
    "* LAS (just a pre organized text files recognized by certain programs)\n",
    "* Excel files (mainly arrange by columns)\n",
    "* Image files (bmp, jpg, tiff,...)\n",
    "* PDF (with text, images and/or tables)\n",
    "* SEGY\n",
    "\n",
    "As is common in Python, there are different ways to input or output information, depending on the format of the files and on the library or module you use. In this and the following session we are going to explore simple ways to get information (text files and images) in and out of Python."
   ]
  },
  {
   "cell_type": "markdown",
   "metadata": {},
   "source": [
    "<a  id=\"text\"></a>\n",
    "\n",
    "<h2>2.1 Reading text files </h2>\n",
    "\n",
    "Text files are the most simple files used in any computer (regardless of the operative system) to save information in a format familiar to us. Some specific use of the text files are:\n",
    "\n",
    "* Simple document like notes or letters\n",
    "* Data in columnar shape\n",
    "* Keepers of parameters or environment variables for programs or operative systems\n",
    "* Scripts or programs on different programing languages\n",
    "* Communication between machines, programs and persons\n",
    "* Databases\n",
    "\n",
    "Characters in text files where initially coded for electronic communication (teleprinters) base on different standards that in 1963 became the **ASCII** (American Standard Code for Information Interchange) code. Soon was clear that the ASCII code, which only has the English characters, some mathematical and especial symbols (128 characters), was insufficient for other written languages. So the ASCII started to evolves to different codes until we get to the actual **UTF-8** (Universal Transformation Format) which has 1,112,064 characters, enough for all human written languages and disciplines. The UTF-8 standard is the base in which the World Wide Web works.\n",
    "\n",
    "More information on character encoding at: https://www.w3schools.com/charsets/"
   ]
  },
  {
   "cell_type": "markdown",
   "metadata": {},
   "source": [
    "The `zn.dat` file is a very simple text file with just one column that records \"a series of 118 assays for Zn (weight % of zinc) made at two meter intervals along a single sphalerite quartz vein (see image below) in the **Pulacayo Mine** in Chile (Bolivia, in fact).\" (Middleton, 2000). Zn is used as tracer element for Au and Ag because it is a more mobile element and it is easier to analyze, so if Zn goes up, Au and Ag should also go up.\n",
    "\n",
    "Data from: https://books.google.es/books/about/Data_Analysis_in_the_Earth_Sciences_Usin.html?id=mNsSAQAAIAAJ&redir_esc=y\n",
    "<img src=\"NB_images\\pulacayo_mine_bolivia.png\" style=\"width:700px\">\n",
    "\n",
    "Pulacayo Mine south Bolivia. Source: https://www.mindat.org/loc-332.html\n",
    "\n",
    "\n",
    "<img src=\"NB_images\\vein_nalunaq_mine_australia.png\" style=\"width:700px\">\n",
    "\n",
    "Quartz vein in subterranean mine in south Australia. Source:\n",
    "\n",
    "https://www.mining-technology.com/deals-analysis/fosterville-south-acquires-three-gold-projects-from-ecr-minerals/"
   ]
  },
  {
   "cell_type": "markdown",
   "metadata": {},
   "source": [
    "<a  id=\"rsingle\"></a>\n",
    "\n",
    "<h3> 2.1.1 Reading single column text files </h3>\n",
    "\n",
    "To load the zn.dat we are going to use the `genfromtxt()` command of the Numpy library which creates an array of float numbers."
   ]
  },
  {
   "cell_type": "code",
   "execution_count": null,
   "metadata": {},
   "outputs": [],
   "source": [
    "# Importing the Numpy library\n",
    "\n",
    "import numpy as np"
   ]
  },
  {
   "cell_type": "code",
   "execution_count": null,
   "metadata": {},
   "outputs": [],
   "source": [
    "# Data loading and assignation. The Input folder in the working directory\n",
    "\n",
    "zn = np.genfromtxt('Input/zn.dat') # Again this is a relative path\n",
    "\n",
    "# zn = np.genfromtxt('C:\\Users\\Manuel David Soto\\Documents\\Python\\Cursos\\Geociencias\\Session_3\\Input\\zn.dat') # Absolute path\n",
    "\n",
    "print(zn, '\\n')\n",
    "print(type(zn))"
   ]
  },
  {
   "cell_type": "markdown",
   "metadata": {},
   "source": [
    "You can use Unix commands inside your NB"
   ]
  },
  {
   "cell_type": "code",
   "execution_count": null,
   "metadata": {},
   "outputs": [],
   "source": [
    "pwd"
   ]
  },
  {
   "cell_type": "code",
   "execution_count": null,
   "metadata": {},
   "outputs": [],
   "source": [
    "ls"
   ]
  },
  {
   "cell_type": "code",
   "execution_count": null,
   "metadata": {},
   "outputs": [],
   "source": [
    "# Skiping the header of a better documented file\n",
    "\n",
    "zn = np.genfromtxt('Input/zn_w_info.dat', skip_header = 2)\n",
    "\n",
    "print(zn)\n",
    "print()\n",
    "print(type(zn))"
   ]
  },
  {
   "cell_type": "code",
   "execution_count": null,
   "metadata": {},
   "outputs": [],
   "source": [
    "# Look for specific points in the zn array and verify the type\n",
    "\n",
    "print(zn[0])\n",
    "print(zn[59])\n",
    "print(zn[-1])\n",
    "print()\n",
    "print(type(zn[117]))"
   ]
  },
  {
   "cell_type": "code",
   "execution_count": null,
   "metadata": {
    "scrolled": true
   },
   "outputs": [],
   "source": [
    "# Some basic parameters of the zn array\n",
    "\n",
    "print('samples =',len(zn))\n",
    "print('min =', min(zn))\n",
    "print('max =', max(zn))\n",
    "\n",
    "zn_range = max(zn) - min(zn)\n",
    "\n",
    "print('range =', zn_range)"
   ]
  },
  {
   "cell_type": "markdown",
   "metadata": {},
   "source": [
    "<a  id=\"rmulti\"></a>\n",
    "\n",
    "<h3> 2.1.2 Reading multi column text files with missing values </h3>\n",
    "\n",
    "To have a file with just a column it is very rare, normally we have files with several numerical columns, sometime even with text. When you load a multi column file and array is created with the same number of columns, later each one can be defined as independent variables. Important, in order to operate with this variables, they have to have the same dimensions (same number of rows).\n",
    "\n",
    "A common situation is to have several **missing values**, places where the measurements were not possible. These missing values used to be indicated with special numbers such as -999.000, or -999.2500 or just with an empty spaces. Numpy recognizes automatically empty spaces as missing values and replaced them by ***nan***, not a number.\n",
    "\n",
    "We are going to load the *rampi.csv* file, which is a five-columns file that comes from a study of gold and associated elements (in ppm) in quartz veins in the **Rampi block prospect**, Indonesia (see image below from Google Earth):\n",
    "\n",
    "<img src=\"NB_images\\rampi_indonesia.png\"  style=\"width:700px\">\n",
    "\n",
    "Data and information on the area in:\n",
    "\n",
    "https://www.researchgate.net/publication/321018113_Occurrences_and_Characteristics_of_Gold_Mineralization_in_Rampi_Block_Prospect_North_Luwu_Regency_South_Sulawesi_Province_Indonesia/figures?lo=1\n"
   ]
  },
  {
   "cell_type": "code",
   "execution_count": null,
   "metadata": {},
   "outputs": [],
   "source": [
    "# Loading the multi column file\n",
    "\n",
    "rampi = np.genfromtxt('Input/rampi.csv', skip_header = 1, delimiter=',')\n",
    "\n",
    "print(rampi, '\\n')\n",
    "print(type(rampi))"
   ]
  },
  {
   "cell_type": "code",
   "execution_count": null,
   "metadata": {},
   "outputs": [],
   "source": [
    "# Variables assignation\n",
    "\n",
    "au = rampi[:,0]\n",
    "ag = rampi[:,1]\n",
    "cu = rampi[:,2]\n",
    "zn2 = rampi[:,3]\n",
    "\n",
    "# we use zn2 in order to avoid the overwriting of the zn from the Bolivian data\n",
    "\n",
    "pb = rampi[:,4]\n",
    "\n",
    "print('Silver (Ag):\\n', ag, '\\n')\n",
    "print(type(ag))"
   ]
  },
  {
   "cell_type": "code",
   "execution_count": null,
   "metadata": {},
   "outputs": [],
   "source": [
    "# Some basic operations cannot be executed because some arrays have missing values (nan)\n",
    "\n",
    "print('samples =',len(rampi))\n",
    "print('min =',np.min(ag))\n",
    "print('max =',np.max(ag))\n",
    "\n",
    "ag_range = np.max(ag) - np.min(ag)\n",
    "print('range =', ag_range)"
   ]
  },
  {
   "cell_type": "code",
   "execution_count": null,
   "metadata": {},
   "outputs": [],
   "source": [
    "# Arrays with nan requires especial functions that ignores the missing values\n",
    "\n",
    "print('samples =',len(ag))\n",
    "\n",
    "print('min =',np.nanmin(ag))\n",
    "print('max =',np.nanmax(ag))\n",
    "\n",
    "ag_range = np.nanmax(ag) - np.nanmin(ag)\n",
    "print('range =', ag_range)"
   ]
  },
  {
   "cell_type": "markdown",
   "metadata": {},
   "source": [
    "<a  id=\"wtext\"></a>\n",
    "\n",
    "<h2> 2.2 Writing text files </h2>\n",
    "\n",
    "It is common to write files in order to save simple texts and/or the value of a variable. In a pure Python way (no extra libraries used), let's start witting very simple text files, then another (report type) which incorporates the value of actual variables, and finally a columnar type similar to those we just loaded."
   ]
  },
  {
   "cell_type": "code",
   "execution_count": null,
   "metadata": {},
   "outputs": [],
   "source": [
    "#  A very simple text file\n",
    "\n",
    "# Open the file to write\n",
    "\n",
    "file = open(\"Output/simple.txt\", \"w\")\n",
    "\n",
    "# Write\n",
    "\n",
    "file.write(\"Today is 13/07/2023\\n\")\n",
    "file.write(\"\\n\")\n",
    "file.write(\"This is a text file. \\n\")\n",
    "file.write(\"\\n\")\n",
    "file.write(\"In fact, a very simple one. \\n\")\n",
    "file.write(\"\\n\")\n",
    "file.write(\"End of the simple file.\")\n",
    "\n",
    "# Close the file\n",
    "\n",
    "file.close()\n",
    "\n",
    "# look at your home directory"
   ]
  },
  {
   "cell_type": "code",
   "execution_count": null,
   "metadata": {},
   "outputs": [],
   "source": [
    "# Writing elements in a single-column text file\n",
    "\n",
    "elementsRampi = open('Output/elements_rampi.txt', 'w')\n",
    "\n",
    "for i in range(5):\n",
    "    name = input('Enter the element: ')\n",
    "    elementsRampi.write(name + '\\n')\n",
    "\n",
    "elementsRampi.close()"
   ]
  },
  {
   "cell_type": "code",
   "execution_count": null,
   "metadata": {},
   "outputs": [],
   "source": [
    "# Reading elements in a single-column text file and printing them\n",
    "\n",
    "elementsRampi = open('Output/elements_rampi.txt', 'r')\n",
    "\n",
    "for elements in elementsRampi:\n",
    "    print(elements)\n",
    "\n",
    "elementsRampi.close()"
   ]
  },
  {
   "cell_type": "markdown",
   "metadata": {},
   "source": [
    "<a  id=\"wreport\"></a>\n",
    "\n",
    "<h3> 2.2.1 Writing a simple text report </h3>\n",
    "\n",
    "Now let's write a simple text report which incorporates the value of actual variables calculated with the Bolivian data (*zn.dat*). For this purpose we are going to use the `str()` function that converts the value of the variables in to strings that can be included in the text file:"
   ]
  },
  {
   "cell_type": "code",
   "execution_count": null,
   "metadata": {},
   "outputs": [],
   "source": [
    "# Text file with actual variables\n",
    "\n",
    "file = open(\"Output/zn_basic_stat.txt\",\"w\")\n",
    "\n",
    "file.write(\"Very simple Statistical parameters. \\n\")\n",
    "file.write(\"Weight % of Zinc in a quartz vein. \\n\")\n",
    "file.write(\"Pulacayo nine, Bolivia. \\n\")\n",
    "file.write(\" \\n\")\n",
    "file.write(\"Minimum value          =\"+str(np.min(zn))+\"\\n\")\n",
    "file.write(\"Maximum value          =\"+str(np.max(zn))+\" \\n\")\n",
    "file.write(\"Range                  =\"+str(zn_range)+\" \\n\")\n",
    "file.write(\"Mean                   =\"+str(np.mean(zn))+\" \\n\")\n",
    "file.write(\" \\n\")\n",
    "\n",
    "file.close()"
   ]
  },
  {
   "cell_type": "markdown",
   "metadata": {},
   "source": [
    "<a  id=\"wcolumn\"></a>\n",
    "\n",
    "<h3> 2.2.2 Writing single or multi column text files </h3>\n",
    "\n",
    "After manipulating your data you could have the necessity of exporting your results to other users or programs. The previous file is more suitable for single or few variables. For massive variables with a lot of rows it is more convenient to export then in single or multi columnar text files. Contrary to the previous examples, here it is important to take care of the format in which those variables are written. Maybe you need just four decimals or scientific notation. Here are two references about numbers and strings format:\n",
    "\n",
    "https://pyformat.info/\n",
    "\n",
    "https://mkaz.blog/code/python-string-format-cookbook/"
   ]
  },
  {
   "cell_type": "code",
   "execution_count": null,
   "metadata": {},
   "outputs": [],
   "source": [
    "# Ratios calculation of same-size variables\n",
    "\n",
    "cuau_rat = cu/au\n",
    "znau_rat = zn2/au\n",
    "pbau_rat = pb/au\n",
    "\n",
    "cuau_rat"
   ]
  },
  {
   "cell_type": "code",
   "execution_count": null,
   "metadata": {},
   "outputs": [],
   "source": [
    "# Writing a variable to a single column file\n",
    "\n",
    "np.savetxt('Output/cuau_rat.txt', cuau_rat, header='cuau ratio',fmt='%1.4f')\n",
    "\n",
    "# fmt='%1.4f' write a float with this format: 20.2431"
   ]
  },
  {
   "cell_type": "code",
   "execution_count": null,
   "metadata": {},
   "outputs": [],
   "source": [
    "# Writing a multi column text file\n",
    "\n",
    "    # Creating the empty container (array) for the variables\n",
    "\n",
    "ratios = np.zeros((len(rampi), 3))\n",
    "print('ratio is a :', type(ratios))\n",
    "ratios"
   ]
  },
  {
   "cell_type": "code",
   "execution_count": null,
   "metadata": {},
   "outputs": [],
   "source": [
    "# Filling the container with variable of the same dimension\n",
    "\n",
    "ratios[:,0] = cuau_rat\n",
    "ratios[:,1] = znau_rat\n",
    "ratios[:,2] = pbau_rat\n",
    "\n",
    "ratios"
   ]
  },
  {
   "cell_type": "code",
   "execution_count": null,
   "metadata": {},
   "outputs": [],
   "source": [
    "# Writing the whole container to a multi column text file\n",
    "\n",
    "np.savetxt('Output/ratios.txt', ratios, delimiter=',', header='cuau,znau,pbau,', fmt='%1.2f')\n",
    "\n",
    "# fmt='%1.2f' write a float with this format: 20.24"
   ]
  },
  {
   "cell_type": "markdown",
   "metadata": {},
   "source": [
    "<a  id=\"plots\"></a>\n",
    "\n",
    "<h1> 3 Plots </h1>\n",
    "\n",
    "We are graphical animals, for us is easier to make conclusion about a data set base on a bad graphic than on a sophisticated table. Python help us on that as no other programing language. Let's see some basic plots such as:\n",
    "\n",
    "* Simple point or line plot\n",
    "* Scatter plot\n",
    "* Bar plot\n",
    "* Multi plots\n",
    "\n",
    "**Matplotlib** is the library we are going to use for all plots related issues. A huge variety of examples, with its respective code, can be seen at:\n",
    "\n",
    "https://matplotlib.org/3.2.1/gallery/index.html\n",
    "\n",
    "The references in the Matplotlib site use to be complicated for beginners user, they are more suitable for computer scientist because they involve complex topic on programming like objects, sequences, attributes, ... Look at this example on sine plot and compare it the one at the end of the previous session:\n",
    "\n",
    "https://matplotlib.org/examples/pylab_examples/pythonic_matplotlib.html\n",
    "\n",
    "Don't be afraid of picking whatever you need from this explanations and make you own version.\n",
    "\n",
    "The methodology (paradigm) of coding presented in the Matplotlib web site, is call **object-oriented programming**, is powerful but more complicated. Here we are going to keep things simple and work with a simpler methodology calls **procedural or imperative programming** in which calculations or functions are executed basically one after the other."
   ]
  },
  {
   "cell_type": "markdown",
   "metadata": {},
   "source": [
    "<a  id=\"splots\"></a>\n",
    "\n",
    "<h2> 3.1 Single plots </h2>\n",
    "\n",
    "By single plots we mean plots that are alone or isolated in the Jupyter output or in a file."
   ]
  },
  {
   "cell_type": "markdown",
   "metadata": {},
   "source": [
    "<a  id=\"line\"></a>\n",
    "\n",
    "<h3> 3.1.1 Point-line plots </h3>\n",
    "\n",
    "For this demostration we are going to use the same data as the previous section, the data from Pulacayo Mine (*zn.dat*) and from the Rampi prospect block (*rampi.csv*). The `import` and data loading are repeated so you can run the notebook from any point."
   ]
  },
  {
   "cell_type": "code",
   "execution_count": null,
   "metadata": {},
   "outputs": [],
   "source": [
    "# Importing libraries\n",
    "\n",
    "import numpy as np\n",
    "import matplotlib.pyplot as plt"
   ]
  },
  {
   "cell_type": "code",
   "execution_count": null,
   "metadata": {},
   "outputs": [],
   "source": [
    "# Loading the Pulacayo data, single zinc concentration (weight %)\n",
    "\n",
    "zn = np.genfromtxt('Input/zn.dat')\n",
    "print('Length of the zn file: ', len(zn))"
   ]
  },
  {
   "cell_type": "code",
   "execution_count": null,
   "metadata": {},
   "outputs": [],
   "source": [
    "# A simple point-line plot of the original data. Just in the same file order, no x is involved.\n",
    "\n",
    "plt.plot(zn)\n",
    "\n",
    "plt.plot(zn, '.')"
   ]
  },
  {
   "cell_type": "code",
   "execution_count": null,
   "metadata": {
    "scrolled": false
   },
   "outputs": [],
   "source": [
    "# Let's plot concentration of zinc against its real location along the vein, each 2 m\n",
    "\n",
    "# This will be a cross plot (xy plot) with axes label.\n",
    "\n",
    "x = range(0, 2*len(zn), 2)\n",
    "\n",
    "# remember the sintaxis is: range(start, end, step)\n",
    "\n",
    "plt.figure(figsize=(8, 5))\n",
    "\n",
    "plt.plot(x, zn)\n",
    "\n",
    "plt.xlabel(\"Distance (m)\")\n",
    "plt.ylabel(\"Weight %\")\n",
    "\n",
    "plt.title(\"Zn along quartz vein\")\n",
    "\n",
    "plt.grid()\n",
    "\n",
    "plt.show()"
   ]
  },
  {
   "cell_type": "code",
   "execution_count": null,
   "metadata": {
    "scrolled": false
   },
   "outputs": [],
   "source": [
    "# Let's show the mean value in the previous plot\n",
    "\n",
    "y = np.mean(zn) # y is a single value\n",
    "\n",
    "plt.figure(figsize=(8,5))\n",
    "plt.plot(x, zn)\n",
    "\n",
    "# axhline put an horizontal line base on y\n",
    "\n",
    "plt.axhline(y=y, ls=\"-\", color='red', label=\"mean\")\n",
    "\n",
    "plt.legend()\n",
    "\n",
    "plt.xlabel(\"Distance (m)\")\n",
    "plt.ylabel(\"Weight %\")\n",
    "plt.title(\"Zn along quartz vein\")\n",
    "plt.grid()\n",
    "\n",
    "plt.show()"
   ]
  },
  {
   "cell_type": "code",
   "execution_count": null,
   "metadata": {},
   "outputs": [],
   "source": [
    "# Fill between curves\n",
    "\n",
    "plt.figure(figsize=(8,5))\n",
    "plt.plot(x, zn)\n",
    "plt.axhline(y=y, ls=\"-\", color='black', label=\"mean\")\n",
    "\n",
    "plt.fill_between(x, zn, y, where=(zn >= y), facecolor='b', interpolate=True, label=\"over mean\")\n",
    "plt.fill_between(x, zn, y, where=(zn <= y), facecolor='r', interpolate=True, label=\"under mean\")\n",
    "\n",
    "plt.xlabel(\"Distance (m)\")\n",
    "plt.ylabel(\"Weight %\")\n",
    "plt.title(\"Zn along quartz vein\")\n",
    "plt.legend()\n",
    "plt.grid()\n",
    "plt.show()"
   ]
  },
  {
   "cell_type": "code",
   "execution_count": null,
   "metadata": {},
   "outputs": [],
   "source": [
    "# Loading the Rampi data with five elements concentration (ppm), and variables definition\n",
    "\n",
    "rampi = np.genfromtxt('Input/rampi.csv', skip_header = 1, delimiter=',')\n",
    "\n",
    "au = rampi[:,0]\n",
    "ag = rampi[:,1]\n",
    "cu = rampi[:,2]\n",
    "zn2 = rampi[:,3]\n",
    "pb = rampi[:,4]"
   ]
  },
  {
   "cell_type": "code",
   "execution_count": null,
   "metadata": {},
   "outputs": [],
   "source": [
    "# Multi point-line plot of the original data, just in the same file order, no x is involved, with grid.\n",
    "\n",
    "plt.figure(figsize=(8,5))\n",
    "\n",
    "plt.plot(au, 'y', label=\"Au\")\n",
    "plt.plot(ag, 'c', label=\"Ag\")\n",
    "plt.plot(cu, 'r', label=\"Cu\")\n",
    "plt.plot(zn2,'m', label=\"Zn\")\n",
    "plt.plot(pb, 'b', label=\"Pb\")\n",
    "\n",
    "plt.title(\"Rampi elements\")\n",
    "plt.xlabel(\"File order\")\n",
    "plt.ylabel(\"Concentration(ppm)\")\n",
    "plt.legend()\n",
    "plt.grid()\n",
    "plt.show()"
   ]
  },
  {
   "cell_type": "markdown",
   "metadata": {},
   "source": [
    "<a  id=\"scat\"></a>\n",
    "\n",
    "<h3> 3.1.2 Scatter plots </h3>\n",
    "\n",
    "Scatter or cross plots are probably the most used plots in geosciences because they give you an idea about the relation of two variables"
   ]
  },
  {
   "cell_type": "code",
   "execution_count": null,
   "metadata": {},
   "outputs": [],
   "source": [
    "# Cross plot or scatter plot\n",
    "\n",
    "plt.figure(figsize=(8,5))\n",
    "\n",
    "plt.plot(au,ag,'.')\n",
    "\n",
    "# plt.scatter(au,ag)\n",
    "\n",
    "plt.title(\"Au vs. Ag\")\n",
    "plt.xlabel(\"Au (ppm)\")\n",
    "plt.ylabel(\"Ag (ppm)\")\n",
    "plt.grid(True)\n",
    "\n",
    "# The range of the axis can be modified with\n",
    "\n",
    "# plt.axis([0 , 1, 0, 5])\n",
    "# plt.xlim(0 , 5)\n",
    "# plt.ylim(0 , 1)\n",
    "\n",
    "plt.show()"
   ]
  },
  {
   "cell_type": "code",
   "execution_count": null,
   "metadata": {},
   "outputs": [],
   "source": [
    "# Cross plot in log scale\n",
    "\n",
    "plt.figure(figsize=(8,5))\n",
    "\n",
    "plt.loglog(au,ag, 'o')\n",
    "\n",
    "# plt.semilogx(au,ag,'.')\n",
    "\n",
    "# For just one axe used semilogx or semilogy\n",
    "\n",
    "plt.title(\"Au vs. Ag\")\n",
    "plt.xlabel(\"Log Au (ppm)\")\n",
    "plt.ylabel(\"Log Ag (ppm)\")\n",
    "plt.grid(True)\n",
    "plt.show()"
   ]
  },
  {
   "cell_type": "markdown",
   "metadata": {},
   "source": [
    "<a  id=\"mplotsub\"></a>\n",
    "\n",
    "<h2> 3.2 Multiplots by subplot </h2>\n",
    "\n",
    "With the Matploplib's **subplot** function it is possible to gather several single plots in a composition of plots, arranges base on a rectangular grid of raw and columns. The arguments (2,2,1) in the following command:\n",
    "\n",
    "`plt.subplot(2,2,1)`\n",
    "    \n",
    "mean the first plot in an arrange of two rows and two columns of plots, something like this:\n",
    "\n",
    "<img src=\"NB_images\\multiplot_example.png\"  style=\"width:700px\">"
   ]
  },
  {
   "cell_type": "code",
   "execution_count": null,
   "metadata": {
    "scrolled": false
   },
   "outputs": [],
   "source": [
    "# Building and saving a 2 x 3 multiplot with the Rampi data\n",
    "\n",
    "plt.figure(figsize=(16,10))\n",
    "\n",
    "plt.subplot(2,3,1)\n",
    "\n",
    "# Point_line plot\n",
    "plt.plot(au, 'y', label=\"Au\")\n",
    "plt.plot(ag, 'c', label=\"Ag\")\n",
    "plt.plot(cu, 'r', label=\"Cu\")\n",
    "plt.plot(zn2,'m', label=\"Zn\")\n",
    "plt.plot(pb, 'b', label=\"Pb\")\n",
    "plt.title(\"Elements\")\n",
    "plt.xlabel(\"File order\")\n",
    "plt.ylabel(\"ppm\")\n",
    "plt.legend()\n",
    "plt.grid(True)\n",
    "\n",
    "plt.subplot(2,3,2)\n",
    "\n",
    "# Cross plot\n",
    "plt.loglog(au,ag,'.')\n",
    "plt.title(\"Au vs. Ag\")\n",
    "plt.xlabel(\"Log Au (ppm)\")\n",
    "plt.ylabel(\"Log Ag (ppm)\")\n",
    "plt.grid(True)\n",
    "\n",
    "plt.subplot(2,3,3)\n",
    "\n",
    "# Cross plot\n",
    "plt.loglog(au,cu,'.')\n",
    "plt.title(\"Au vs. Cu\")\n",
    "plt.xlabel(\"Log Au (ppm)\")\n",
    "plt.ylabel(\"Log Cu (ppm)\")\n",
    "plt.ylim(1,200)\n",
    "plt.grid(True)\n",
    "\n",
    "plt.subplot(2,3,4)\n",
    "\n",
    "# Cross plot\n",
    "plt.loglog(au,zn2,'.')\n",
    "plt.title(\"Au vs. Zn\")\n",
    "plt.xlabel(\"Log Au (ppm)\")\n",
    "plt.ylabel(\"Log Zn (ppm)\")\n",
    "plt.ylim(1,200)\n",
    "plt.grid(True)\n",
    "\n",
    "plt.subplot(2,3,5)\n",
    "\n",
    "# Cross plot\n",
    "plt.loglog(au,pb,'.')\n",
    "plt.title(\"Au vs. Pb\")\n",
    "plt.xlabel(\"Log Au (ppm)\")\n",
    "plt.ylabel(\"Log Pb (ppm)\")\n",
    "plt.ylim(1,200)\n",
    "plt.grid(True)\n",
    "\n",
    "# Avoid the overlap between labels\n",
    "\n",
    "plt.tight_layout()\n",
    "\n",
    "# Saving multiplo to file\n",
    "\n",
    "plt.savefig(\"Output/multiplot.pdf\")\n",
    "plt.savefig(\"Output/multiplot.png\")\n",
    "plt.show()"
   ]
  },
  {
   "cell_type": "markdown",
   "metadata": {},
   "source": [
    "<a  id=\"mplotloop\"></a>\n",
    "\n",
    "<h2> 3.3 Multiplots by loop </h2>\n",
    "\n",
    "Multiplots can be built by a loop, keeping the code shorter and more efficient. Let see an example with the Rampi data: "
   ]
  },
  {
   "cell_type": "code",
   "execution_count": null,
   "metadata": {},
   "outputs": [],
   "source": [
    "# Elements, colors, and position in the vein according to the rampi array\n",
    "\n",
    "elements = ['Au', 'Ag', 'Cu', 'Zn', 'Pb']\n",
    "colors = ['y', 'c', 'r','m','b']\n",
    "x = range(0, 2*rampi.shape[0], 2)\n",
    "\n",
    "# Loop according to the number of columns in the rampi array\n",
    "\n",
    "for i in range(rampi.shape[1]):\n",
    "    \n",
    "    plt.figure(figsize=(16,4))\n",
    "    \n",
    "    # Line plot of the element\n",
    "    plt.subplot(1,2,1)\n",
    "    plt.plot(x, rampi[:,i], color=colors[i], alpha=0.5)\n",
    "    plt.xlim(0, 65)\n",
    "    plt.xlabel('Position in the vein(m)')\n",
    "    plt.ylabel('Concentration(ppm)')\n",
    "    plt.title('Plot of '+elements[i])\n",
    "    plt.grid(True)\n",
    "    \n",
    "    # Histogram of the element\n",
    "    plt.subplot(1,2,2)\n",
    "    plt.hist(rampi[:,i], color=colors[i], alpha=0.5)\n",
    "    plt.ylabel('Frequency')\n",
    "    plt.xlabel('Concentration(ppm)')\n",
    "    plt.title('Histogram of '+elements[i])\n",
    "    plt.grid(True)\n",
    "    plt.savefig(\"Output/plot_\"+str(elements[i])+\".png\")  \n",
    "     \n",
    "# plt.tight_layout()\n",
    "# plt.savefig(\"Output/multiplot_loop.png\")      \n",
    "plt.show()        "
   ]
  },
  {
   "cell_type": "markdown",
   "metadata": {},
   "source": [
    "In summary we have:\n",
    "\n",
    "| Multiplot by | Number of plots | Number of Effective lines of code |\n",
    "| --- | --- |--- |\n",
    "| Pure subplot, part 3.2 of this NB| 5 | 43 |\n",
    "| For loop | 10 | 20 |\n",
    "\n",
    "The way forward is clear. Whenever possible, try to use for loops to build your multiplost, especially if you are repeating the same set of plots."
   ]
  },
  {
   "cell_type": "markdown",
   "metadata": {},
   "source": [
    "<a  id=\"wid\"></a>\n",
    "\n",
    "# 4 Widgets\n",
    "\n",
    "Widgets are interactive controls or GUI tools that bring your Jupyter Notebook to life. There are many sources and types of widgets, however, all of them are focused on facilitating the interaction between the user and the notebook, minimizing the direct modification of the code. The main widgets are:\n",
    "\n",
    "* Basic form controls like sliders, checkboxes, text inputs\n",
    "* Tabs, accordions, horizontal and vertical layout boxes, grid layouts\n",
    "* Advanced controls like maps, 2d and 3d visualizations, datagrids, and more\n",
    "\n",
    "One of the main library of widgets is: https://ipywidgets.readthedocs.io/en/stable/\n",
    "\n",
    "A good summary on this topic at: https://towardsdatascience.com/bring-your-jupyter-notebook-to-life-with-interactive-widgets-bc12e03f0916\n",
    "\n",
    "Let's see an example of widgets, an interactive slider:"
   ]
  },
  {
   "cell_type": "code",
   "execution_count": null,
   "metadata": {},
   "outputs": [],
   "source": [
    "# Importing libraries\n",
    "\n",
    "import numpy as np\n",
    "import matplotlib.pyplot as plt\n",
    "import ipywidgets as widgets"
   ]
  },
  {
   "cell_type": "code",
   "execution_count": null,
   "metadata": {},
   "outputs": [],
   "source": [
    "# Sin plot with interactive slider\n",
    "\n",
    "# Plotting function\n",
    "\n",
    "def plot_func(freq):\n",
    "    plt.figure(figsize=(11,5))\n",
    "    x = np.arange(0, 2*np.pi, 0.01) # 2*np.pi is 360º\n",
    "    y = np.sin(x * freq)\n",
    "    plt.plot(x, y)\n",
    "    plt.xlabel('Radians')\n",
    "    plt.ylabel('Amplitude')\n",
    "    plt.grid()"
   ]
  },
  {
   "cell_type": "code",
   "execution_count": null,
   "metadata": {
    "scrolled": false
   },
   "outputs": [],
   "source": [
    "# The widget receives the plotting function\n",
    "\n",
    "widgets.interact(plot_func, freq = widgets.FloatSlider(value=1, min=1, max=20, step=0.1))\n",
    "plt.show()"
   ]
  }
 ],
 "metadata": {
  "hide_input": false,
  "kernelspec": {
   "display_name": "Python 3 (ipykernel)",
   "language": "python",
   "name": "python3"
  },
  "language_info": {
   "codemirror_mode": {
    "name": "ipython",
    "version": 3
   },
   "file_extension": ".py",
   "mimetype": "text/x-python",
   "name": "python",
   "nbconvert_exporter": "python",
   "pygments_lexer": "ipython3",
   "version": "3.10.0"
  },
  "toc": {
   "base_numbering": "1",
   "nav_menu": {},
   "number_sections": false,
   "sideBar": true,
   "skip_h1_title": false,
   "title_cell": "Table of Contents",
   "title_sidebar": "Contents",
   "toc_cell": false,
   "toc_position": {
    "height": "calc(100% - 180px)",
    "left": "10px",
    "top": "150px",
    "width": "182.534px"
   },
   "toc_section_display": true,
   "toc_window_display": true
  },
  "varInspector": {
   "cols": {
    "lenName": 16,
    "lenType": 16,
    "lenVar": 40
   },
   "kernels_config": {
    "python": {
     "delete_cmd_postfix": "",
     "delete_cmd_prefix": "del ",
     "library": "var_list.py",
     "varRefreshCmd": "print(var_dic_list())"
    },
    "r": {
     "delete_cmd_postfix": ") ",
     "delete_cmd_prefix": "rm(",
     "library": "var_list.r",
     "varRefreshCmd": "cat(var_dic_list()) "
    }
   },
   "position": {
    "height": "638.999px",
    "left": "546.964px",
    "right": "20px",
    "top": "50.973px",
    "width": "680px"
   },
   "types_to_exclude": [
    "module",
    "function",
    "builtin_function_or_method",
    "instance",
    "_Feature"
   ],
   "window_display": false
  }
 },
 "nbformat": 4,
 "nbformat_minor": 4
}
