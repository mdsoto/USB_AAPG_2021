{
 "cells": [
  {
   "cell_type": "markdown",
   "metadata": {},
   "source": [
    "<img src=\"NB_images\\portada.png\" style=\"width:1000px\" align=\"center\">\n",
    "\n",
    "<h1><center>Session 1</center></h1>\n",
    "<h1><center>Variables and data types. Arrays. Structure</center></h1>\n",
    "\n",
    "**Course creator and speaker:**  Manuel David Soto. MSc in Geology, University of Texas at Austin, USA.\n",
    "\n",
    "**Organizer:** Ulises Berman. Student of Geophysical Eng, USB, Caracas, Venezuela. President of the AAPG USB Student Chapter.\n",
    "\n",
    "<a  id=\"toc\"></a>\n",
    "\n",
    "<h3>Table of contents</h3>\n",
    "\n",
    "* [1 Variables and  data types](#variables)\n",
    "   * [1.1 Introduction](#intro)\n",
    "   * [1.2 Variables in Python](#variables)\n",
    "   * [1.3 Data types](#data_types)\n",
    "       * [1.3.1 Numeric data type](#numeric_data_type)\n",
    "       * [1.3.2 Boolean data type](#boolean_data_type)\n",
    "       * [1.3.3 Dictionary](#dictionary)\n",
    "       * [1.3.4 Sequences](#sequences)\n",
    "           * [1.3.4.1 Strings](#strings)\n",
    "           * [1.3.4.2 List](#lists)\n",
    "           * [1.3.4.3 List of lists](#list_list)\n",
    "           * [1.3.4.4 Tuples](#tuples)\n",
    "* [2 Arrays](#arrays)\n",
    "   * [2.1 Introduction](#numpy_basics)\n",
    "   * [2.2 Generating NumPy arrays](#creation1)        \n",
    "   * [2.3 Accessing the array elements](#numpy_accesing)\n",
    "   * [2.4 NumPy array attributes](#numpy_attributes)\n",
    "   * [2.5. Linear algebra](#lineal_algebra)\n",
    "   \n",
    "* [3 Python structure](#struc)\n",
    "   * [3.1 Built-in functions](#bif)\n",
    "   * [3.2 Standard libraries](#sl)    \n",
    "   * [3.3 External libraries](#el)\n",
    "   * [3.4 User defined functions](#udf)    "
   ]
  },
  {
   "cell_type": "markdown",
   "metadata": {},
   "source": [
    "<a  id=\"variables\"></a> \n",
    "\n",
    "<h1> 1 Variables and  data types </h1>\n",
    "\n",
    "<a  id=\"intro\"></a>\n",
    "\n",
    "<h2> 1.1 Introduction </h2>\n",
    "\n",
    "<h4>My first Python program</h4>"
   ]
  },
  {
   "cell_type": "code",
   "execution_count": null,
   "metadata": {
    "scrolled": true
   },
   "outputs": [],
   "source": [
    "# My life is simple, I'm just a comment\n",
    "\n",
    "print('Hello World!')"
   ]
  },
  {
   "cell_type": "markdown",
   "metadata": {},
   "source": [
    "<h4> Python as a calculator   </h4> "
   ]
  },
  {
   "cell_type": "code",
   "execution_count": null,
   "metadata": {},
   "outputs": [],
   "source": [
    "11 + 666"
   ]
  },
  {
   "cell_type": "code",
   "execution_count": null,
   "metadata": {
    "scrolled": true
   },
   "outputs": [],
   "source": [
    "10000 * 5"
   ]
  },
  {
   "cell_type": "markdown",
   "metadata": {},
   "source": [
    "Print is a function that allows concatenation of elements of different type, separated by commas"
   ]
  },
  {
   "cell_type": "code",
   "execution_count": null,
   "metadata": {
    "scrolled": true
   },
   "outputs": [],
   "source": [
    "print('This number', 10000 * 123456789, 'is big')"
   ]
  },
  {
   "cell_type": "markdown",
   "metadata": {},
   "source": [
    "<h3> Python Arithmetic Operators    </h3>\n",
    "\n",
    "The arithmetic operators available in Python are:\n",
    "\n",
    "|Operator|Description|Example|\n",
    "| --- | --- | --- |\n",
    "| + Addition| Add values on either side of the operator| 5 + 4|\n",
    "| - Subtraction| Subtract right operand from left operand| 5 - 3 |\n",
    "| * Multiplication| Multiplies values on either side of the operator| 5 * 3 |\n",
    "| / Division | Divides left hand operand by right hand operand| 6 / 2|\n",
    "| % Modulus | Divides left hand operand by right hand operand and returns remainder| 6%3| \n",
    "| ** Exponent | Performs exponential (power) calculation on operators | 6 ** 2|\n",
    "| // floor division | Performs the floor division of two operators |  9 //4 |\n"
   ]
  },
  {
   "cell_type": "code",
   "execution_count": null,
   "metadata": {},
   "outputs": [],
   "source": [
    "#The normal division\n",
    "\n",
    "9/4"
   ]
  },
  {
   "cell_type": "code",
   "execution_count": null,
   "metadata": {},
   "outputs": [],
   "source": [
    "# Integer part of the division\n",
    "\n",
    "9//4"
   ]
  },
  {
   "cell_type": "code",
   "execution_count": null,
   "metadata": {},
   "outputs": [],
   "source": [
    "# Remainder of the division\n",
    "\n",
    "9 % 4"
   ]
  },
  {
   "cell_type": "markdown",
   "metadata": {},
   "source": [
    "<a  id=\"variables\"></a>\n",
    "\n",
    "<h2> 1.2 Variables in Python </h2>\n",
    "  \n",
    "Variables are reserved memory locations to store values. This means that when you create a variable you reserve some space in memory.\n",
    "\n",
    "Based on the data type of a variable, the interpreter allocates memory and decides what can be stored in the reserved memory. Therefore, by assigning different data types to variables, you can store integers, decimals or characters in these variables.\n",
    "\n",
    "<h4> Rules for variables</h4> \n",
    "\n",
    "* A variable name **must** start with a letter or the underscore character.  \n",
    "* A variable name **cannot** start with a number.  \n",
    "* A variable name **can only** contain alpha-numeric characters and underscores (A-z, 0-9, and _ ).  \n",
    "* Variable names **are case-sensitive** (python, Python and PYTHON are three different variables).  \n",
    "\n",
    "\n",
    "<h4> Assigning values to variables</h4> \n",
    "\n",
    "The declaration happens automatically when you assign a value to a variable. The equal sign (=) is used to assign values to variables. The operand to the left of the = operator is the name of the variable and the operand to the right of the = operator is the value stored in the variable.\n",
    "\n",
    "More about variables at: https://realpython.com/python-variables/"
   ]
  },
  {
   "cell_type": "code",
   "execution_count": null,
   "metadata": {},
   "outputs": [],
   "source": [
    "# Simple calculation\n",
    "\n",
    "apples = 20\n",
    "cost = 0.15\n",
    "currency = 'Euros'\n",
    "total = cost * apples\n",
    "\n",
    "print('Total cost of apples:', total, currency)"
   ]
  },
  {
   "cell_type": "code",
   "execution_count": null,
   "metadata": {},
   "outputs": [],
   "source": [
    "# Example Pythagoras calculation\n",
    "\n",
    "side1 = 20\n",
    "side2 = 30\n",
    "unit = 'cm'\n",
    "side3 = (side1**2 + side2**2)**0.5\n",
    "\n",
    "print(\"Side 3 :\", side3, unit)"
   ]
  },
  {
   "cell_type": "markdown",
   "metadata": {},
   "source": [
    "<div class=\"alert alert-block alert-warning\">\n",
    "<font size=\"6\"><p> &#127947;</font> \n",
    "    <b>Exercise 1: </b>\n",
    "    \n",
    "If the Average velocity to the target is 3000 m/sec and the target depth is 5000 m, calculate the two way time to the target according to the following formula:\n",
    "\n",
    "\\begin{align}\n",
    "TWT=2*( \\frac{Depth}{Velocity})\n",
    "\\end{align}\n",
    "\n",
    "Define the variables and use the formula to obtain the TWT.\n",
    "\n",
    "</div>"
   ]
  },
  {
   "cell_type": "markdown",
   "metadata": {},
   "source": [
    "<h4> Keywords   </h4>\n",
    "\n",
    "In Python there are some reserved words that cannot be used as a variable names:\n",
    "    \n",
    "|Keyword|Description|\n",
    "| --- | ---|\n",
    "and|A logical operator|\n",
    "as|To create an alias|\n",
    "assert|For debugging|\n",
    "|break|To break out of a loop|\n",
    "|class|To define a class|\n",
    "|continue|To continue to the next iteration of a loop|\n",
    "|def|To define a function|\n",
    "|del|To delete an object|\n",
    "|elif|Used in conditional statements, same as else if|\n",
    "|else|Used in conditional statements|\n",
    "|except|Used with exceptions, what to do when an exception occurs|\n",
    "|False|Boolean value, result of comparison operations|\n",
    "|finally|Used with exceptions, a block of code that will be executed no matter if there is an exception or not|\n",
    "|for|To create a for loop|\n",
    "|from|To import specific parts of a module|\n",
    "|global|To declare a global variable|\n",
    "|if|To make a conditional statement|\n",
    "|import|To import a module|\n",
    "|in|To check if a value is present in a list, tuple, etc.|\n",
    "|is|To test if two variables are equal|\n",
    "|lambda|To create an anonymous function|\n",
    "|None|Represents a null value|\n",
    "|nonlocal|To declare a non-local variable|\n",
    "|not|A logical operator|\n",
    "|or|A logical operator|\n",
    "|pass|A null statement, a statement that will do nothing|\n",
    "|raise|To raise an exception|\n",
    "|return|To exit a function and return a value|\n",
    "|True|Boolean value, result of comparison operations|\n",
    "|try|To make a try...except statement|\n",
    "|while|To create a while loop|\n",
    "|with|Used to simplify exception handling|\n",
    "|yield|To end a function, returns a generator| "
   ]
  },
  {
   "cell_type": "markdown",
   "metadata": {},
   "source": [
    "More information on data types at: https://docs.python.org/3/library/datatypes.html"
   ]
  },
  {
   "cell_type": "code",
   "execution_count": null,
   "metadata": {},
   "outputs": [],
   "source": []
  },
  {
   "cell_type": "markdown",
   "metadata": {},
   "source": [
    "<a  id=\"data_types\"></a>\n",
    "\n",
    "<h2> 1.3 Data types </h2>\n",
    "\n",
    "In Python data types refers to the classification or categorization of data items. It represents the kind of value that tells what operation can be performed on a particular data. The following image shows the main data types available in Python, as well as the more relevant for log analysis (in red):\n",
    "\n",
    "<img src=\"NB_images/data_types.png\" style=\"width: 750px;\"/>"
   ]
  },
  {
   "cell_type": "markdown",
   "metadata": {},
   "source": [
    "\n",
    "\n",
    "The function `type()` tells you the type of data of a variable"
   ]
  },
  {
   "cell_type": "code",
   "execution_count": null,
   "metadata": {},
   "outputs": [],
   "source": [
    "# What kind of data is the variable the unit in the Pythagoras calculation?\n",
    "\n",
    "type(unit)"
   ]
  },
  {
   "cell_type": "markdown",
   "metadata": {},
   "source": [
    "<a  id=\"numeric_data_type\"></a>\n",
    "\n",
    "<h3> 1.3.1 Numeric data type </h3>  \n",
    "\n",
    "In Python, numeric data types represents the data which has a numerical value\n",
    "    \n",
    "* **Integer**: The number could be positive or negative, and there is not limit to how long an integer value can be.\n",
    "* **Float**: It is a real number with floating point representation. It is specified by a decimal point.\n",
    "* **Complex**: It is a complex number. It is specified as (real part) + (imaginary part)i.\n",
    "* **None**: It is another special type to denote null object or variable"
   ]
  },
  {
   "cell_type": "code",
   "execution_count": null,
   "metadata": {},
   "outputs": [],
   "source": [
    "# Assignning variables\n",
    "\n",
    "a = 10\n",
    "b = 10.0\n",
    "c = 10.5 + 20.5j\n",
    "\n",
    "print(\"Integer:\", a)\n",
    "print(\"Real or float:\", b)\n",
    "print(\"Real + complex:\", c)"
   ]
  },
  {
   "cell_type": "code",
   "execution_count": null,
   "metadata": {},
   "outputs": [],
   "source": [
    "# Printing the data types\n",
    "\n",
    "print(type(a))\n",
    "print(type(b))\n",
    "print(type(c))"
   ]
  },
  {
   "cell_type": "code",
   "execution_count": null,
   "metadata": {},
   "outputs": [],
   "source": [
    "# The value of e is changing\n",
    "\n",
    "e = a + b\n",
    "\n",
    "print(e)"
   ]
  },
  {
   "cell_type": "code",
   "execution_count": null,
   "metadata": {},
   "outputs": [],
   "source": [
    "d = a + c\n",
    "\n",
    "print(d)"
   ]
  },
  {
   "cell_type": "code",
   "execution_count": null,
   "metadata": {},
   "outputs": [],
   "source": [
    "# None is null object or variable, different of zero\n",
    "\n",
    "e = None\n",
    "type(e)"
   ]
  },
  {
   "cell_type": "markdown",
   "metadata": {},
   "source": [
    "<div class=\"alert alert-block alert-warning\">\n",
    "<font size=\"6\"><p> &#127947;</font> \n",
    "    <b>Exercise 2: </b>\n",
    "    \n",
    "The relation between velocity and depth is related according to the following formula:\n",
    "\n",
    "\\begin{align}\n",
    "Velocity (m/sec)=2800 + 0.7 * Depth (m)\n",
    "\\end{align}\n",
    "\n",
    "* What is the Velocity (m/sec) at 3000 meters?  \n",
    "* What is the Velocity (m/sec) at 6000 feet?  \n",
    "\n",
    "The conversion factor from ft to mt is 0.3048\n",
    "\n",
    "</div>"
   ]
  },
  {
   "cell_type": "markdown",
   "metadata": {},
   "source": [
    "<a  id=\"boolean_data_type\"></a>\n",
    "\n",
    "\n",
    "<h3>1.3.2 Boolean data type and operators</h3>\n",
    "\n",
    "In Python the Boolean variables can have **True** or **False** value."
   ]
  },
  {
   "cell_type": "code",
   "execution_count": null,
   "metadata": {},
   "outputs": [],
   "source": [
    "a = True\n",
    "b = False\n",
    "\n",
    "print(a)\n",
    "print(b, '\\n')\n",
    "\n",
    "print(\"a type :\", type(a))\n",
    "print(\"b type :\", type(b))"
   ]
  },
  {
   "cell_type": "markdown",
   "metadata": {},
   "source": [
    "<h4> Boolean operators </h4>\n",
    "\n",
    "The Boolean operators available in Python are:\n",
    "\n",
    "Assume that a = 8 and b = 10\n",
    "\n",
    "|Operator | Description| Example|\n",
    "| --- | --- | --- |\n",
    "|==|If the values of two operands are equal, then the condition becomes true.|(a == b) is not true.|\n",
    "|!=|If values of two operands are not equal, then condition becomes true.|(a != b) is true.|\n",
    "|<>|If values of two operands are not equal, then condition becomes true.|(a <> b) is true. This is similar to != operator.|\n",
    "|>|If the value of left operand is greater than the value of right operand, then condition becomes true.|(a > b) is not true.|\n",
    "|<|If the value of left operand is less than the value of right operand, then condition becomes true.|(a < b) is true.|\n",
    "|>=|If the value of left operand is greater than or equal to the value of right operand, then condition becomes true.|(a >= b) is not true.|\n",
    "|<=|If the value of left operand is less than or equal to the value of right operand, then condition becomes true.|(a <= b) is true.|\n",
    "    "
   ]
  },
  {
   "cell_type": "code",
   "execution_count": null,
   "metadata": {},
   "outputs": [],
   "source": [
    "a = 10 == 20\n",
    "print(a)"
   ]
  },
  {
   "cell_type": "markdown",
   "metadata": {},
   "source": [
    "<div class=\"alert alert-block alert-warning\">\n",
    "<font size=\"6\"><p> &#127947;</font> \n",
    "    <b>Exercise 3: </b>\n",
    "    \n",
    "* How much time takes a wave to travel through water in 2220 m, V=1500 m/s?\n",
    "* How much time takes a wave to travel through air  in 500 m, V=340 m/s?\n",
    "* Write a small piece of code in Python to calculate the travel times and also find which is longer.\n",
    "    \n",
    "</div>"
   ]
  },
  {
   "cell_type": "markdown",
   "metadata": {},
   "source": [
    "<h3>Python Logical Operators    </h3>\n",
    "\n",
    "The Logical operators available in Python are:\n",
    "    \n",
    "|Operator | Description| Example|\n",
    "| --- | --- | --- | \n",
    "|and Logical AND|If both the operands are true then condition becomes true.|(a and b) is true.|\n",
    "|or Logical OR|If any of the two operands are non-zero then condition becomes true.|(a or b) is true.|\n",
    "|not Logical NOT|Used to reverse the logical state of its operand.|Not(a and b) is false.|"
   ]
  },
  {
   "cell_type": "code",
   "execution_count": null,
   "metadata": {},
   "outputs": [],
   "source": [
    "b = True and True\n",
    "print(b)\n",
    "\n",
    "c = False or False\n",
    "print(c)\n",
    "\n",
    "d = not(False)\n",
    "print(d)"
   ]
  },
  {
   "cell_type": "markdown",
   "metadata": {},
   "source": [
    "<a  id=\"dictionary\"></a>\n",
    "\n",
    "<h3>1.3.3 Dictionary   </h3>\n",
    "\n",
    "A dictionary is a collection of unordered, changeable and non indexable values. It has a general structure that can be summarized as keys-values pairs, in which both can be strings or numbers, but keys have to be unique. In Python, dictionaries are written with curly brackets, with colon (:) as separator between each individual key and value, and comma (,) as separator between pairs. Dictionaries are good option for formations tops, mineral compositions, etc."
   ]
  },
  {
   "cell_type": "code",
   "execution_count": null,
   "metadata": {
    "scrolled": true
   },
   "outputs": [],
   "source": [
    "# Example of a dictionary example (key1: value1, key2: value2, ... , keyn: valuen,)\n",
    "\n",
    "grocery = {2: \"fajitas\", 1: \"chicken\", 4: \"fish\", 3:\"coffe\", 7:\"bread\", 0:'milk'}\n",
    "\n",
    "print(grocery)"
   ]
  },
  {
   "cell_type": "code",
   "execution_count": null,
   "metadata": {},
   "outputs": [],
   "source": [
    "# Values associated with the keys\n",
    "\n",
    "print(grocery[0])\n",
    "print(grocery[1])\n",
    "print(grocery[3])\n",
    "print(grocery[7])"
   ]
  },
  {
   "cell_type": "markdown",
   "metadata": {},
   "source": [
    "<h4>Some useful Python functions and methods of the list data type</h4>\n",
    "\n",
    "|Description| Python function and methods|\n",
    "| --- | --- |\n",
    "|Dictionary length|  `len(dictionary_variable)`|\n",
    "|Adding elements to dictionary|  `dictionary_variable[key]=value`|\n",
    "|Deleting elements from the dictionary| `del dictionary_variable[key]`|\n",
    "|Clear a dictionary| `dictionary_variable.clear()`|\n"
   ]
  },
  {
   "cell_type": "code",
   "execution_count": null,
   "metadata": {},
   "outputs": [],
   "source": [
    "# Check these functions\n",
    "\n",
    "print(len(grocery))\n",
    "\n",
    "grocery[5] = \"olives\"\n",
    "\n",
    "print(grocery)\n",
    "\n",
    "del grocery[3]\n",
    "\n",
    "print(grocery)"
   ]
  },
  {
   "cell_type": "code",
   "execution_count": null,
   "metadata": {},
   "outputs": [],
   "source": [
    "grocery.clear()\n",
    "\n",
    "print(grocery)"
   ]
  },
  {
   "cell_type": "code",
   "execution_count": null,
   "metadata": {
    "scrolled": true
   },
   "outputs": [],
   "source": [
    "# Example of a dictionary with strings as keys\n",
    "\n",
    "shale = {'clay': 60, \"calcite\": 20, \"quartz\": 15, \"micas\": 5}\n",
    "unit = 'weight %'\n",
    "print(shale)\n",
    "print('Shale: ', shale['quartz'], unit)"
   ]
  },
  {
   "cell_type": "markdown",
   "metadata": {},
   "source": [
    "<div class=\"alert alert-block alert-warning\">\n",
    "<font size=\"6\"><p> &#127947;</font> \n",
    "    <b>Exercise 4: </b>\n",
    "    \n",
    "Write a dictionary with the following composition (weight %) of a granite:\n",
    "    \n",
    "    Quartz       25   \n",
    "    Orthoclase   50   \n",
    "    Plagioclase  10   \n",
    "    Micas        10   \n",
    "    Anphibole     5   \n",
    "  \n",
    "Using Python, present the values for orthoclase and micas\n",
    "</div>"
   ]
  },
  {
   "cell_type": "markdown",
   "metadata": {},
   "source": [
    "<a  id=\"sequences\"></a>\n",
    "\n",
    "<h3>1.3.4 Sequences</h3>\n",
    "\n",
    "Sequences in Python is a succession of values bound together by a container that has a same type. There are 7 types of sequences in Python but the more important three are String, Tuples and Lists. Using an index we can access to the elements of the sequence. In Python the index start in zero, and a certain element of the sequence can be access with square brackets. Indexes are numbered from 0 to n-1 where n is the number of items (or characters), and they are positioned between the items:\n",
    "\n",
    "    Sequence:  H  e  l  l  o  ,     w  o  r  l  d  !\n",
    " \n",
    "    Index:     0  1  2  3  4  5  6  7  8  9 10 11 12\n",
    " \n",
    " \n",
    " The function `len()` gives you the length of the sequence"
   ]
  },
  {
   "cell_type": "code",
   "execution_count": null,
   "metadata": {},
   "outputs": [],
   "source": [
    "sequence=\"Hello, World!\"\n",
    "\n",
    "print(sequence[0])\n",
    "print(sequence[1])\n",
    "print(sequence[2])\n",
    "print(sequence[3])\n",
    "print(sequence[4])\n",
    "print(sequence[5])\n",
    "print(sequence[6])\n",
    "print(sequence[7])\n",
    "print(sequence[8])\n",
    "print(sequence[9])\n",
    "print(sequence[10])\n",
    "print(sequence[11])\n",
    "print(sequence[12])\n",
    "\n",
    "print(sequence[6]) # What character is this?\n",
    "\n",
    "print(\"The length of the sequence is:\",len(sequence))\n",
    "\n",
    "print(\"The type of the sequence is:\",type(sequence))"
   ]
  },
  {
   "cell_type": "markdown",
   "metadata": {},
   "source": [
    "<a  id=\"strings\"></a>\n",
    "\n",
    "<h4>1.3.4.1 Strings   </h4>\n",
    "\n",
    "A string can be created simply by enclosing characters in quotes. Python treats single quotes the same as double quotes."
   ]
  },
  {
   "cell_type": "code",
   "execution_count": null,
   "metadata": {},
   "outputs": [],
   "source": [
    "# Examples\n",
    "\n",
    "variable1 = \"Salmorejo\"\n",
    "print(variable1)\n",
    "\n",
    "variable2 = 'Salmón'\n",
    "print(variable2)\n",
    "\n",
    "variable3 = 'Sandía'\n",
    "print(variable3)"
   ]
  },
  {
   "cell_type": "code",
   "execution_count": null,
   "metadata": {},
   "outputs": [],
   "source": [
    "# Everything count in the strings\n",
    "\n",
    "variable2 == 'Salmon'"
   ]
  },
  {
   "cell_type": "markdown",
   "metadata": {},
   "source": [
    "<h4> Some useful Python function and methods</h4> \n",
    "\n",
    "\n",
    "|Description| Python fuction or method|\n",
    "| --- | --- |\n",
    "|Concatenating strings|  `string1 + string2`|\n",
    "|Replacing characters in the string|    `string1.replace(char1, char2)`|\n",
    "|<span class=\"burk\">Verify if some characters are in string| `char1 in string1`|\n",
    "|Find the possition of a character in a string| `string1.find(char1)`|\n",
    "|Length of a string| `len(string1)`|"
   ]
  },
  {
   "cell_type": "code",
   "execution_count": null,
   "metadata": {},
   "outputs": [],
   "source": [
    "lunch = variable1 + variable2 + variable3\n",
    "print(lunch,'\\n')\n",
    "\n",
    "lunch = variable1+\", \"+variable2+\", \"+variable3\n",
    "print(lunch)"
   ]
  },
  {
   "cell_type": "code",
   "execution_count": null,
   "metadata": {},
   "outputs": [],
   "source": [
    "lunch = lunch.replace(\"Sandía\", \"Café\")\n",
    "\n",
    "print(lunch)"
   ]
  },
  {
   "cell_type": "code",
   "execution_count": null,
   "metadata": {},
   "outputs": [],
   "source": [
    "filename = \"program.txt\"\n",
    "\n",
    "filename = filename.replace(\"txt\", \"py\")\n",
    "\n",
    "print(filename)"
   ]
  },
  {
   "cell_type": "code",
   "execution_count": null,
   "metadata": {},
   "outputs": [],
   "source": [
    "filename = filename.replace(\".\", \"-v2.\")\n",
    "\n",
    "print(filename)"
   ]
  },
  {
   "cell_type": "code",
   "execution_count": null,
   "metadata": {},
   "outputs": [],
   "source": [
    "# The in commands give you a Boolean variable\n",
    "\n",
    "country = 'Malaysia'\n",
    "\n",
    "'lay' in country"
   ]
  },
  {
   "cell_type": "code",
   "execution_count": null,
   "metadata": {},
   "outputs": [],
   "source": [
    "# The find commands give you the index of the string\n",
    "\n",
    "country.find('lay')"
   ]
  },
  {
   "cell_type": "markdown",
   "metadata": {},
   "source": [
    "<div class=\"alert alert-block alert-warning\">\n",
    "<font size=\"6\"><p> &#127947;</font> \n",
    "    <b>Exercise 5: </b>\n",
    "    \n",
    "Write in Python a variable with the following string\n",
    "\n",
    "\"A subsurface body of rock having sufficient porosity and permeability to store and transmit fluids. Metamorphic rocks are the most common reservoir rocks because they have more porosity than most igneous and sedimentary rocks and form under temperature conditions at which hydrocarbons can be preserved. A reservoir is a critical component of a complete petroleum system.\"\n",
    "   \n",
    "    \n",
    "* Print the variable in the screen   \n",
    "* Correct the mistakes in the variable using the replace method   \n",
    "* Verify if temperature is in the string   \n",
    "* Verify if kritical is in the string   \n",
    "* What is the string length?   \n",
    "\n",
    "</div>"
   ]
  },
  {
   "cell_type": "markdown",
   "metadata": {},
   "source": [
    "<a  id=\"lists\"></a>\n",
    "\n",
    "<h5>1.3.4.2 Lists   </h5>\n",
    "\n",
    "A list is sequence of different data types [strings, floats. integers, boolean, ...] inside square brackets and separated by commas."
   ]
  },
  {
   "cell_type": "code",
   "execution_count": null,
   "metadata": {},
   "outputs": [],
   "source": [
    "# Example\n",
    "\n",
    "list1 = [\"orange\", \"banana\", 1, 2, True, None]\n",
    "\n",
    "print(list1)"
   ]
  },
  {
   "cell_type": "markdown",
   "metadata": {},
   "source": [
    "You can access one element of the list using square brackets, but remember start counting in 0"
   ]
  },
  {
   "cell_type": "code",
   "execution_count": null,
   "metadata": {},
   "outputs": [],
   "source": [
    "# Example 2nd element\n",
    "\n",
    "list1[1]"
   ]
  },
  {
   "cell_type": "code",
   "execution_count": null,
   "metadata": {},
   "outputs": [],
   "source": [
    "# 3th and 5th elements\n",
    "\n",
    "print(list1[2])\n",
    "print(list1[4])"
   ]
  },
  {
   "cell_type": "markdown",
   "metadata": {},
   "source": [
    "A list could be initialized in different ways\n",
    "\n",
    "* Create a empty list: `list1=[]`\n",
    "* Create a list with n equal values: `list1=[value]*n`"
   ]
  },
  {
   "cell_type": "code",
   "execution_count": null,
   "metadata": {},
   "outputs": [],
   "source": [
    "# Empty list\n",
    "\n",
    "list1 = []\n",
    "print(list1)\n",
    "\n",
    "# List of 10 elements\n",
    "\n",
    "list2 = [30]*10\n",
    "print(list2)\n",
    "\n",
    "print(len(list2))"
   ]
  },
  {
   "cell_type": "markdown",
   "metadata": {},
   "source": [
    "To change an element of the list (this method cannot be used with Tuples or strings)"
   ]
  },
  {
   "cell_type": "code",
   "execution_count": null,
   "metadata": {},
   "outputs": [],
   "source": [
    "# Changing 4th & 6th elements\n",
    "\n",
    "list2[3] = 10\n",
    "list2[5] = 100\n",
    "\n",
    "print(list2)"
   ]
  },
  {
   "cell_type": "markdown",
   "metadata": {},
   "source": [
    "<h4> Some useful methods and functions of lists data type</h4> \n",
    "\n",
    "\n",
    "|Function or method|Python Expression|\n",
    "| --- | --- |\n",
    "| add an element to a list | `list.append(obj)`|\n",
    "| Maximum of a list | `max(list)`|\n",
    "| Minimum of a list | `min(list)`|\n",
    "| Returns count of how many times obj occurs in list | `list.count(obj)`|\n",
    "| Sort the list | `list.sort()`|\n",
    "| Reverse the list | `list.reverse()`|\n"
   ]
  },
  {
   "cell_type": "code",
   "execution_count": null,
   "metadata": {},
   "outputs": [],
   "source": [
    "# Append a value\n",
    "\n",
    "list2.append(1000)\n",
    "print(list2)\n",
    "\n",
    "# Print maximum, minimum and how many times ocurrs an object\n",
    "\n",
    "print(\"Maximum value:\",max(list2))\n",
    "print(\"Minimum value:\",min(list2))\n",
    "print(\"How many times occurs 30:\",list2.count(30))\n",
    "\n",
    "#Sorting a list\n",
    "\n",
    "list2.sort()\n",
    "print(list2)\n",
    "\n",
    "#Reversing a list\n",
    "\n",
    "list2.reverse()\n",
    "print(list2)"
   ]
  },
  {
   "cell_type": "code",
   "execution_count": null,
   "metadata": {},
   "outputs": [],
   "source": [
    "list2"
   ]
  },
  {
   "cell_type": "markdown",
   "metadata": {},
   "source": [
    "<div class=\"alert alert-block alert-warning\">\n",
    "<font size=\"6\"><p> &#127947;</font> \n",
    "    <b>Exercise 7: </b>\n",
    "    \n",
    "These are the horizon tops and its depths (m):\n",
    "\n",
    "    Surface       0  \n",
    "    Cretaceous 1500   \n",
    "    Jurassic   2000   \n",
    "    Triassic   3000   \n",
    "    Paleozoic  4500   \n",
    "\n",
    "* Store the list of horizons and its corresponding depths in a list variable  \n",
    "* Print the lists  \n",
    "* Print the name and the depth of the third horizon in the list  \n",
    "* What is the maximum depth?  \n",
    "* What is the minimum depth?  \n",
    "* What is the average depth?  \n",
    "* How many horizons are in the list  \n",
    "* Verify that the number of horizons names and number of horizons tops are the same\n",
    "</div>"
   ]
  },
  {
   "cell_type": "markdown",
   "metadata": {},
   "source": [
    "<a  id=\"list_list\"></a>\n",
    "\n",
    "\n",
    "<h5>1.3.4.3 Lists of lists   </h5>\n",
    "\n",
    "A list of list could be interpreted as a matrix in algebra notation, for example\n",
    "\n",
    "[list row 1, list row 2, list row 3, list row 4]\n",
    "\n",
    "[ [ E11, E12, E13, E14, E15],  \n",
    "  [ E21, E22, E23, E24, E25],  \n",
    "  [ E31, E32, E33, E34, E35],  \n",
    "  [ E41, E42, E43, E44, E45],  \n",
    "  [ E51, E52, E53, E54, E55],  \n",
    "  [ E61, E62, E63, E64, E65],  \n",
    "  [ E71, E72, E73, E74, E75] ]"
   ]
  },
  {
   "cell_type": "code",
   "execution_count": null,
   "metadata": {},
   "outputs": [],
   "source": [
    "# Example\n",
    "\n",
    "a = [[2, 3, 4], [5, 6, 7], [8, 9, 10]]\n",
    "\n",
    "print(a)"
   ]
  },
  {
   "cell_type": "markdown",
   "metadata": {},
   "source": [
    "Using the following Python expressions allow to access to the list of list elements:\n",
    "    \n",
    "    \n",
    "|Description|Python expression|\n",
    "| --- | --- |\n",
    "|A row| `variable[row]`|\n",
    "|A particular location| `variable[row][column]`|\n"
   ]
  },
  {
   "cell_type": "code",
   "execution_count": null,
   "metadata": {},
   "outputs": [],
   "source": [
    "row = 2\n",
    "column = 1\n",
    "\n",
    "print(a[row])\n",
    "\n",
    "print(a[row][column])"
   ]
  },
  {
   "cell_type": "markdown",
   "metadata": {},
   "source": [
    "The differences between lists and tuples are subtle but important. Ones created lists can be modified, tuples instead are immutable."
   ]
  },
  {
   "cell_type": "markdown",
   "metadata": {},
   "source": [
    "<a  id=\"tuples\"></a>\n",
    "\n",
    "<h4>1.3.4.4 Tuples   </h4>\n",
    "\n",
    "A tuple is sequence of different Python objects (strings, floats. integers, boolean, ...) inside parenthesis and separated by commas."
   ]
  },
  {
   "cell_type": "code",
   "execution_count": null,
   "metadata": {},
   "outputs": [],
   "source": [
    "# Example\n",
    "\n",
    "tuple1 = (\"Oranges\", \"Onion\", \"Lettuce\")\n",
    "\n",
    "tuple2 = (\"TT1\", 34567, 76543, 23)\n",
    "\n",
    "print(tuple1)\n",
    "\n",
    "print(tuple1[0])\n",
    "\n",
    "print(tuple1[2])\n",
    "\n",
    "print(tuple2)"
   ]
  },
  {
   "cell_type": "markdown",
   "metadata": {},
   "source": [
    "<div class=\"alert alert-block alert-warning\">\n",
    "<font size=\"6\"><p> &#127947;</font> \n",
    "    <b>Exercise 6: </b>\n",
    "    \n",
    "These are the horizon tops and its depths (m):\n",
    "\n",
    "    Surface       0  \n",
    "    Cretaceous 1500  \n",
    "    Jurassic   2000  \n",
    "    Triassic   3000  \n",
    "    Paleozoic  4500  \n",
    "\n",
    "Write one tuple with the horizons name and the corresponding depths. Print the name and the depth of the third horizon.\n",
    "  \n",
    "</div>"
   ]
  },
  {
   "cell_type": "code",
   "execution_count": null,
   "metadata": {},
   "outputs": [],
   "source": [
    "# Demostration\n",
    "\n",
    "one_list = [1,2,3,4]\n",
    "one_tuple = (1,2,3,4)\n",
    "\n",
    "print(one_list)\n",
    "print(one_tuple)"
   ]
  },
  {
   "cell_type": "code",
   "execution_count": null,
   "metadata": {},
   "outputs": [],
   "source": [
    "# Lets change 3rd in the list\n",
    "\n",
    "one_list[2] = 5\n",
    "print(one_list)"
   ]
  },
  {
   "cell_type": "code",
   "execution_count": null,
   "metadata": {},
   "outputs": [],
   "source": [
    "# Lets change 3rd in the tuple\n",
    "\n",
    "one_tuple[2] = 5\n",
    "print(one_tuple)"
   ]
  },
  {
   "cell_type": "markdown",
   "metadata": {},
   "source": [
    "<h3>End of part</h3>\n",
    "\n",
    "[Return to Table of Content](#toc)"
   ]
  },
  {
   "cell_type": "markdown",
   "metadata": {},
   "source": [
    "<a  id=\"arrays\"></a>\n",
    "\n",
    "<h1>2 Arrays</h1>\n",
    "\n",
    "https://numpy.org\n",
    "\n",
    "<a  id=\"numpy_basics\"></a> \n",
    "\n",
    "<h2>2.1 Introduction</h2>\n",
    "\n",
    "**NumPy (Numerical Python) is an external package that provides the most important data type for us (geoscientists, engineers, petrophysicists), the array (or matrix).** Most of the data we are going to use have this structure which holds some benefits over the Python lists, such as: \n",
    "\n",
    "* Being more compact\n",
    "* Faster access in reading and writing items \n",
    "* Algebra operations\n",
    "* Can be parallelized for GPU processing"
   ]
  },
  {
   "cell_type": "markdown",
   "metadata": {},
   "source": [
    "To use NumPy, first, you need to install the module using the pip command in the Command Prompt (Python introduction) \n",
    "\n",
    "`pip install numpy`\n",
    "\n",
    "\n",
    "Inside the Jupyter notebook or script, import the module with:\n",
    "\n",
    "`import numpy as np`\n",
    "\n",
    "Been np an alias to facilitate the writing of the numpy functions"
   ]
  },
  {
   "cell_type": "code",
   "execution_count": null,
   "metadata": {},
   "outputs": [],
   "source": [
    "import numpy as np"
   ]
  },
  {
   "cell_type": "markdown",
   "metadata": {},
   "source": [
    "<a  id=\"creation1\"></a>\n",
    "\n",
    "<h2>2.2 Generating NumPy arrays</h2> \n",
    "\n",
    "There are different ways to create arrays (vectors and matrices), some of the most important are:\n",
    "    \n",
    "* Converting a list or list of lists to an array with the function `np.array()` \n",
    "* Creating **1D array (vector) or 2D array (matrix)** of zeros with the function `np.zeros()`\n",
    "* Creating 1D array or 2D array of fix value with the function `np.full()`\n",
    "* Creating 1D array or 2D array of random values (floats) with the function `np.random.rand()`\n",
    "* Creating 1D array or 2D array of random values (integer) with the function `np.random.randint()`\n",
    "\n",
    "Let's review them"
   ]
  },
  {
   "cell_type": "code",
   "execution_count": null,
   "metadata": {},
   "outputs": [],
   "source": [
    "# Converting list to vector or 1d array\n",
    "\n",
    "list0 = [10, 1, 20, 3]    # lists have commas, arrays not\n",
    "\n",
    "vector = np.array(list0)\n",
    "\n",
    "print(\"List:\", list0)\n",
    "print(type(list0), '\\n')\n",
    "\n",
    "print(\"Vector:\", vector)\n",
    "print(type(vector))"
   ]
  },
  {
   "cell_type": "code",
   "execution_count": null,
   "metadata": {},
   "outputs": [],
   "source": [
    "# Converting lists of list to matrix or 2d array\n",
    "\n",
    "list_list = [[2.0, 3, 4], [5, 6, 7], [8, 9, 10]]\n",
    "\n",
    "matrix = np.array(list_list)\n",
    "\n",
    "print(\"List of lists:\", list_list,'\\n')\n",
    "print(\"Matrix:\\n\", '\\n', matrix)\n",
    "print(type(matrix))"
   ]
  },
  {
   "cell_type": "code",
   "execution_count": null,
   "metadata": {},
   "outputs": [],
   "source": [
    "# Creating a vector of zeros\n",
    "\n",
    "vector = np.zeros(10)\n",
    "\n",
    "print(\"Vector of zeros:\", vector)"
   ]
  },
  {
   "cell_type": "code",
   "execution_count": null,
   "metadata": {},
   "outputs": [],
   "source": [
    "# Creating a matriz of zeros\n",
    "\n",
    "matrix = np.zeros((5, 5))\n",
    "\n",
    "print(\"Array of zeros:\\n\", '\\n', matrix)"
   ]
  },
  {
   "cell_type": "code",
   "execution_count": null,
   "metadata": {},
   "outputs": [],
   "source": [
    "# Creating a vector with a constant value\n",
    "\n",
    "vector8 = np.full((5), 8)\n",
    "\n",
    "print(\"Vector with constant value:\\n\", '\\n',vector8)"
   ]
  },
  {
   "cell_type": "code",
   "execution_count": null,
   "metadata": {},
   "outputs": [],
   "source": [
    "# Creating a matrix with a constant value\n",
    "\n",
    "matrix9 = np.full((5, 8), 9)\n",
    "\n",
    "print(\"Array with constant value:\\n\", '\\n',matrix9)"
   ]
  },
  {
   "cell_type": "code",
   "execution_count": null,
   "metadata": {
    "scrolled": false
   },
   "outputs": [],
   "source": [
    "# Generating an array with float random values (0 to 1)\n",
    "\n",
    "array_random = np.random.rand(1,5)\n",
    "\n",
    "# You can use also np.random.rand(5) but there is a small difference\n",
    "\n",
    "print(\"Array with random values:\", array_random)\n",
    "\n",
    "array_random.shape"
   ]
  },
  {
   "cell_type": "code",
   "execution_count": null,
   "metadata": {
    "scrolled": false
   },
   "outputs": [],
   "source": [
    "# Generating a matrix with float random values (0 to 1)\n",
    "\n",
    "matrix_random = np.random.rand(7,5)\n",
    "\n",
    "print(\"Matrix with random values:\\n\", '\\n', matrix_random)"
   ]
  },
  {
   "cell_type": "code",
   "execution_count": null,
   "metadata": {},
   "outputs": [],
   "source": [
    "# Generating a vector with random integers (0 to 100)\n",
    "\n",
    "print(\"Vector with random integers: \\n\", '\\n', np.random.randint(100, size=(5)))"
   ]
  },
  {
   "cell_type": "code",
   "execution_count": null,
   "metadata": {},
   "outputs": [],
   "source": [
    "# Generating a vector with random integers (20 to 80)\n",
    "\n",
    "print(\"Vector with random integers: \\n\", '\\n', np.random.randint(20, 80, size=(5,5)))"
   ]
  },
  {
   "cell_type": "code",
   "execution_count": null,
   "metadata": {},
   "outputs": [],
   "source": [
    "# Generating a matrix with inteder random values (0 to 100)\n",
    "\n",
    "print(\"Matrix with random integers: \\n\", '\\n', np.random.randint(100, size=(5,5)))"
   ]
  },
  {
   "cell_type": "markdown",
   "metadata": {},
   "source": [
    "<div class=\"alert alert-block alert-warning\">\n",
    "<font size=\"6\"><p> &#127947;</font> \n",
    "    <b>Exercise 8: </b>\n",
    "    \n",
    "Create a matrix (list of lists) with the following values:\n",
    "\n",
    "\n",
    "    | 6   8  12  24  33|  \n",
    "    |11   4  12   6  67|  \n",
    "    |23   9  67  10  43|  \n",
    "    | 1  12  34  18   2|   \n",
    "    | 7  11   2  23  78|   \n",
    "    | 8  24   1   5  23|  \n",
    "\n",
    "* Print the matrix  \n",
    "* Print the row 3  \n",
    "* Calculate the dimensions of the matrix  \n",
    "* Print the element [3,4]  \n",
    "* What is the minimum of the line 3  \n",
    "* What is the maximum of the line 2  \n",
    "\n",
    "</div>"
   ]
  },
  {
   "cell_type": "markdown",
   "metadata": {},
   "source": [
    "<a  id=\"numpy_accesing\"></a> \n",
    "\n",
    "<h2>2.3 Accessing the array elements</h2> \n",
    "\n",
    "The i-th value (counting from zero) can be accessed by specifying the desired index in square brackets, just as with Python lists:"
   ]
  },
  {
   "cell_type": "code",
   "execution_count": null,
   "metadata": {},
   "outputs": [],
   "source": [
    "# Printing the 3rd element of a vector\n",
    "\n",
    "wavelet=np.array([10,1,20,3])\n",
    "\n",
    "print(wavelet[2])"
   ]
  },
  {
   "cell_type": "markdown",
   "metadata": {},
   "source": [
    "Using the following Python expressions allow to access to the elements of a a 2D array  :\n",
    "    \n",
    "    \n",
    "|Description|Python expression|\n",
    "| --- | --- |\n",
    "|A row| `variable[row]`|\n",
    "|A column| `variable[:,column]`|\n",
    "|A particular location| `variable[row, column]`|\n"
   ]
  },
  {
   "cell_type": "code",
   "execution_count": null,
   "metadata": {},
   "outputs": [],
   "source": [
    "matrix = np.random.rand(6,6)\n",
    "\n",
    "print(matrix)"
   ]
  },
  {
   "cell_type": "code",
   "execution_count": null,
   "metadata": {},
   "outputs": [],
   "source": [
    "# Printing 3th row\n",
    "\n",
    "print(matrix[2])"
   ]
  },
  {
   "cell_type": "code",
   "execution_count": null,
   "metadata": {},
   "outputs": [],
   "source": [
    "# Printing 5th column\n",
    "\n",
    "print(matrix[:,4])"
   ]
  },
  {
   "cell_type": "code",
   "execution_count": null,
   "metadata": {},
   "outputs": [],
   "source": [
    "# Printing a specific element\n",
    "\n",
    "print(matrix[2, 4])"
   ]
  },
  {
   "cell_type": "markdown",
   "metadata": {},
   "source": [
    "<a  id=\"numpy_attributes\"></a> \n",
    "\n",
    "<h2>2.4 Numpy array attributes</h2>\n",
    "\n",
    "These are the main attributes of a NumPy array:\n",
    "\n",
    "|Description | Attribute |\n",
    "| --- | --- |\n",
    "|dimensions of the array (1 or 2D)| `variable.ndim`|\n",
    "|Size of each dimension | `variable.shape`|\n",
    "|Array Size|`variable.size`|\n",
    "|Array type| `variable.dtype`|\n",
    "|Array total size in bytes| `variable.nbytes`|\n"
   ]
  },
  {
   "cell_type": "code",
   "execution_count": null,
   "metadata": {},
   "outputs": [],
   "source": [
    "print(\"Number of dimensions :\",matrix.ndim)\n",
    "print(\"Shape of the array :\",matrix.shape)\n",
    "print(\"Array size:\",matrix.size)\n",
    "print(\"Array type:\",matrix.dtype)\n",
    "print(\"Element size in bytes:\",matrix.itemsize)\n",
    "print(\"Array total size in bytes:\",matrix.nbytes)"
   ]
  },
  {
   "cell_type": "markdown",
   "metadata": {},
   "source": [
    "<div class=\"alert alert-block alert-warning\">\n",
    "<font size=\"6\"><p> &#127947;</font> \n",
    "    <b>Exercise 9: </b>\n",
    "    \n",
    "* Generate a 5x5 matrix of constant value equal to 10  \n",
    "* Generate a random 6x6 matrix\n",
    "* Print the values of the third column of both arrays    \n",
    "* Print the attributes of both matrices    \n",
    "* Generate a 3 million elements array and calculate all its attributes    \n",
    "\n",
    "</div>"
   ]
  },
  {
   "cell_type": "markdown",
   "metadata": {},
   "source": [
    "<a  id=\"lineal_algebra\"></a> \n",
    "\n",
    "<h2>2.5 Linear algebra</h2>\n",
    "\n",
    "One of disadvantages of a Python list is that we need to iterate on each element of the list to perform mathematical operations, while you can do operation between arrays, even linear algebra, with a very simple notation:\n",
    "    \n",
    "Basic concepts on linear algebra at: \n",
    "\n",
    "https://towardsdatascience.com/linear-algebra-for-deep-learning-f21d7e7d7f23\n",
    "\n",
    "https://www.khanacademy.org/math/linear-algebra"
   ]
  },
  {
   "cell_type": "code",
   "execution_count": null,
   "metadata": {},
   "outputs": [],
   "source": [
    "# Define a matrix\n",
    "\n",
    "matrix = np.array([[2.0, 7, 4], [5, 6, 9], [1, 9, 10]])\n",
    "\n",
    "print(\"Matrix:\\n\", '\\n', matrix)"
   ]
  },
  {
   "cell_type": "code",
   "execution_count": null,
   "metadata": {},
   "outputs": [],
   "source": [
    "# Multiply by a constant\n",
    "\n",
    "matrix10 = matrix*10\n",
    "\n",
    "print(\"\\nResult of the multiplication by an integer:\\n\", '\\n', matrix10)"
   ]
  },
  {
   "cell_type": "code",
   "execution_count": null,
   "metadata": {},
   "outputs": [],
   "source": [
    "# Sum of matrixes\n",
    "\n",
    "matrix2 = matrix + matrix10\n",
    "\n",
    "print(\"\\nSum of matrices:\\n\", matrix2)"
   ]
  },
  {
   "cell_type": "code",
   "execution_count": null,
   "metadata": {},
   "outputs": [],
   "source": [
    "# Multiply a matrix by a vector\n",
    "\n",
    "vector = np.array([10, 23, 45])\n",
    "\n",
    "result1 = matrix10 * vector\n",
    "\n",
    "print(\"Multiply a matrix by a vector\\n\", '\\n', result1)"
   ]
  },
  {
   "cell_type": "code",
   "execution_count": null,
   "metadata": {},
   "outputs": [],
   "source": [
    "# Dot product of two Nump arrays\n",
    "\n",
    "a = np.array([[1, 2], [3, 4]])\n",
    "b = np.array([[11, 12], [13, 14]])\n",
    "\n",
    "print('a:\\n',a,'\\n')\n",
    "print('b:\\n',b,'\\n')\n",
    "\n",
    "print(\"Dot product:\\n\", np.dot(a, b))"
   ]
  },
  {
   "cell_type": "code",
   "execution_count": null,
   "metadata": {
    "scrolled": true
   },
   "outputs": [],
   "source": [
    "# Power of a matrix\n",
    "\n",
    "print(\"Matrix result1 raised to power 5:\\n\", '\\n', np.linalg.matrix_power(matrix, 5))\n",
    "\n",
    "# This is not powering each element of the matrix"
   ]
  },
  {
   "cell_type": "code",
   "execution_count": null,
   "metadata": {},
   "outputs": [],
   "source": [
    "# Determinant of a matrix\n",
    "\n",
    "print(\"Determinant of matrix\\n\", '\\n', np.linalg.det(matrix))"
   ]
  },
  {
   "cell_type": "code",
   "execution_count": null,
   "metadata": {},
   "outputs": [],
   "source": [
    "# Inverse of a matrix\n",
    "\n",
    "print(\"\\nInverse of matrix:\\n\", np.linalg.inv(matrix))"
   ]
  },
  {
   "cell_type": "markdown",
   "metadata": {},
   "source": [
    "<div class=\"alert alert-block alert-warning\">\n",
    "<font size=\"6\"><p> &#127947;</font> \n",
    "    <b>Exercise 10: </b>\n",
    "    \n",
    "Generate two 5x5 matrices, one with constant value equal to 10, and the other with random values\n",
    "\n",
    "* Determine if the matrices are singular (Determinant=0)    \n",
    "* Calculate the inverse of the matrices    \n",
    "* Sum both matrices    \n",
    "* Convert the constant matrix to zero matrix    \n",
    "\n",
    "</div>"
   ]
  },
  {
   "cell_type": "markdown",
   "metadata": {},
   "source": [
    "<div class=\"alert alert-block alert-warning\">\n",
    "<font size=\"6\"><p> &#127947;</font> \n",
    "    <b>Exercise 11: </b>\n",
    "    \n",
    "    \n",
    "Solve the following Linear equations system:\n",
    "\n",
    "\\begin{align}\n",
    "1x+3y-2z = 5  \\\\\n",
    "3x+5y+6z = 7  \\\\\n",
    "2x+4y+3z = 8  \n",
    "\\end{align}\n",
    "\n",
    "The linear system can be represented in linear algebra as:\n",
    "\n",
    "\\begin{align}\n",
    "A \\cdot x=b\n",
    "\\end{align}\n",
    "\n",
    "\n",
    "The solution will be:\n",
    "\n",
    "\\begin{align}\n",
    "x=A^{-1} \\cdot b\n",
    "\\end{align}\n",
    "\n",
    "\n",
    "</div>"
   ]
  },
  {
   "cell_type": "markdown",
   "metadata": {},
   "source": [
    "<h3>End of part</h3>\n",
    "\n",
    "[Return to Table of Content](#toc)"
   ]
  },
  {
   "cell_type": "markdown",
   "metadata": {},
   "source": [
    "<a  id=\"struc\"></a>\n",
    "\n",
    "<h1>3 Python structure</h1>  \n",
    "\n",
    "Functions are the building block of Python. They are executed when they are call, receiving parameters and then produce a result or perform a tasks. As a concept it is the same as a mathematic function:\n",
    "\n",
    "\\begin{align}\n",
    "\\ {P}=f(x,y)\n",
    "\\end{align}\n",
    "\n",
    "Been x,y the **arguments** (if there is any) and P the **result** (if there is any). The functions in Python can be integrated or built in the core of the program, group in standard libraries (included in Python but inactive) or in public packages (built outside of Python), or even defined by the user:\n",
    "\n",
    "<img src=\"NB_images\\pystructure.png\" style=\"width:900px\" align=\"center\">\n",
    "\n",
    "Let's see examples of these four components of Python:"
   ]
  },
  {
   "cell_type": "markdown",
   "metadata": {},
   "source": [
    "<a  id=\"bif\"></a>\n",
    "\n",
    "<h2> 3.1 Built-in functions</h2>\n",
    "\n",
    "The Python interpreter has a number of **built-in functions (BIF, the skull) and types that are always available.** They are listed here in alphabetical order.\n",
    "\n",
    "|Function|Description|\n",
    "| --- | --- |\n",
    "|abs()|Returns the absolute value of a number|\n",
    "|all()|Returns True if all items in an iterable object are true|\n",
    "|any()|Returns True if any item in an iterable object is true|\n",
    "|ascii()|Returns a readable version of an object. Replaces none-ascii characters with escape character|\n",
    "|bin()|Returns the binary version of a number|\n",
    "|bool()|Returns the boolean value of the specified object|\n",
    "|bytearray()|Returns an array of bytes|\n",
    "|bytes()|Returns a bytes object|\n",
    "|callable()|\"Returns True if the specified object is callable, otherwise False\"|\n",
    "|chr()|Returns a character from the specified Unicode code.|\n",
    "|classmethod()|Converts a method into a class method|\n",
    "|compile()|\"Returns the specified source as an object, ready to be executed\"|\n",
    "|complex()|Returns a complex number|\n",
    "|delattr()|Deletes the specified attribute (property or method) from the specified object|\n",
    "|dict()|Returns a dictionary (Array)|\n",
    "|dir()|Returns a list of the specified object's properties and methods|\n",
    "|divmod()|Returns the quotient and the remainder when argument1 is divided by argument2|\n",
    "|enumerate()|Takes a collection (e.g. a tuple) and returns it as an enumerate object|\n",
    "|eval()|Evaluates and executes an expression|\n",
    "|exec()|Executes the specified code (or object)|\n",
    "|filter()|Use a filter function to exclude items in an iterable object|\n",
    "|float()|Returns a floating point number|\n",
    "|format()|Formats a specified value|\n",
    "|frozenset()|Returns a frozenset object|\n",
    "|getattr()|Returns the value of the specified attribute (property or method)|\n",
    "|globals()|Returns the current global symbol table as a dictionary|\n",
    "|hasattr()|Returns True if the specified object has the specified attribute (property/method)|\n",
    "|hash()|Returns the hash value of a specified object|\n",
    "|help()|Executes the built-in help system|\n",
    "|hex()|Converts a number into a hexadecimal value|\n",
    "|id()|Returns the id of an object|\n",
    "|input()|Allowing user input|\n",
    "|int()|Returns an integer number|\n",
    "|isinstance()|Returns True if a specified object is an instance of a specified object|\n",
    "|issubclass()|Returns True if a specified class is a subclass of a specified object|\n",
    "|iter()|Returns an iterator object|\n",
    "|len()|Returns the length of an object|\n",
    "|list()|Returns a list|\n",
    "|locals()|Returns an updated dictionary of the current local symbol table|\n",
    "|map()|Returns the specified iterator with the specified function applied to each item|\n",
    "|max()|Returns the largest item in an iterable|\n",
    "|memoryview()|Returns a memory view object|\n",
    "|min()|Returns the smallest item in an iterable|\n",
    "|next()|Returns the next item in an iterable|\n",
    "|object()|Returns a new object|\n",
    "|oct()|Converts a number into an octal|\n",
    "|open()|Opens a file and returns a file object|\n",
    "|ord()|Convert an integer representing the Unicode of the specified character|\n",
    "|pow()|Returns the value of x to the power of y|\n",
    "|print()|Prints to the standard output device|\n",
    "|property()|\"Gets, sets, deletes a property\"|\n",
    "|range()|\"Returns a sequence of numbers, starting from 0 and increments by 1 (by default)\"|\n",
    "|repr()|Returns a readable version of an object|\n",
    "|reversed()|Returns a reversed iterator|\n",
    "|round()|Rounds a numbers|\n",
    "|set()|Returns a new set object|\n",
    "|setattr()|Sets an attribute (property/method) of an object|\n",
    "|slice()|Returns a slice object|\n",
    "|sorted()|Returns a sorted list|\n",
    "|@staticmethod()|Converts a method into a static method|\n",
    "|str()|Returns a string object|\n",
    "|sum()|Sums the items of an iterator|\n",
    "|super()|Returns an object that represents the parent class|\n",
    "|tuple()|Returns a tuple|\n",
    "|type()|Returns the type of an object|\n",
    "|vars()|Returns the _dict_ property of an object|\n",
    "|zip()|\"Returns an iterator, from two or more iterators\"|\n",
    "\n",
    "\n",
    "A complete description of the built-in functions can be found in the following link: https://docs.python.org/3/library/functions.html"
   ]
  },
  {
   "cell_type": "markdown",
   "metadata": {},
   "source": [
    "<h4>Some mathematical BIF</h4>"
   ]
  },
  {
   "cell_type": "code",
   "execution_count": null,
   "metadata": {},
   "outputs": [],
   "source": [
    "# Absolute value, minimum, maximum, ...\n",
    "\n",
    "list_numbers = [10, 20, 15, 2, 70, 12, 22]\n",
    "\n",
    "print(\"Absolute value:\", abs(-20))\n",
    "print(\"Minimum value :\", min(list_numbers))\n",
    "print(\"Maximum value :\", max(list_numbers))\n",
    "print(\"Sorted list   :\", sorted(list_numbers))\n",
    "print(\"Round a number to 4th decimals :\", round(23.456789, 4))\n",
    "print(\"Round a number to 2nd decimals :\", round(23.456789, 2))\n",
    "print(\"Round a number with no decimals :\", round(23.456789, 0))\n",
    "print(\"Sum of a list of numbers :\", sum(list_numbers))"
   ]
  },
  {
   "cell_type": "markdown",
   "metadata": {},
   "source": [
    "<div class=\"alert alert-block alert-warning\">\n",
    "<font size=\"6\"><p> &#127947;</font> \n",
    "    <b>Exercise 12: </b>\n",
    "    \n",
    "* Create a NumPy array with some random values\n",
    "* Calculate the maximum and the minimum of the array\n",
    "* Calculate the Average of the terms\n",
    "* Print the numbers rounded to 6 decimals\n",
    "\n",
    "</div>"
   ]
  },
  {
   "cell_type": "markdown",
   "metadata": {},
   "source": [
    "<h4>Conversion BIF</h4>\n",
    "\n",
    "The most useful functions to convert data types between float, integer and string"
   ]
  },
  {
   "cell_type": "code",
   "execution_count": null,
   "metadata": {},
   "outputs": [],
   "source": [
    "# Conversion from string to float\n",
    "\n",
    "print(float(\"10.4\"))\n",
    "print(float(10))\n",
    "\n",
    "# Conversion from string to integer\n",
    "\n",
    "print(int(\"10\"))\n",
    "print(int(10.2))\n",
    "# print(int(\"10.2\"))\n",
    "print(int(float(\"10.2\")))"
   ]
  },
  {
   "cell_type": "code",
   "execution_count": null,
   "metadata": {},
   "outputs": [],
   "source": [
    "# Conversion of number to string, very important for file writing\n",
    "\n",
    "p = 12.567890\n",
    "q = str(p)\n",
    "\n",
    "print('q =', q)\n",
    "print(type(q),'\\n')\n",
    "\n",
    "r = str(round(p, 2))\n",
    "print('r =', r)\n",
    "print(type(r),'\\n')"
   ]
  },
  {
   "cell_type": "markdown",
   "metadata": {},
   "source": [
    "<div class=\"alert alert-block alert-warning\">\n",
    "<font size=\"6\"><p> &#127947;</font> \n",
    "    <b>Exercise 13: </b>\n",
    "    \n",
    "Practice with a couple of examples on how to convert between float, int and str \n",
    "\n",
    "</div>"
   ]
  },
  {
   "cell_type": "markdown",
   "metadata": {},
   "source": [
    "<H4>Input BIF</H4> \n",
    "\n",
    "The `input()` function allows interactive user input from the keyboard and convert it into a string."
   ]
  },
  {
   "cell_type": "code",
   "execution_count": null,
   "metadata": {},
   "outputs": [],
   "source": [
    "# input function\n",
    "\n",
    "# datetime is a Python standard library so is included in the installation but needs to be imported\n",
    "\n",
    "from datetime import datetime\n",
    "\n",
    "temp = input(\"Please enter the temperature in ºC of your city: \")    # Remember, temp contains an string\n",
    "\n",
    "dt = datetime.now()\n",
    "\n",
    "print()\n",
    "print('The temperature in Madrid is', temp, 'ºC')    \n",
    "print('The local time: ', str(dt.hour)+':'+str(dt.minute))\n",
    "print('Date: ', str(dt.day)+'/'+str(dt.month)+'/'+str(dt.year))"
   ]
  },
  {
   "cell_type": "code",
   "execution_count": null,
   "metadata": {},
   "outputs": [],
   "source": [
    "# Try to do execute this\n",
    "\n",
    "new_temp = temp + 5"
   ]
  },
  {
   "cell_type": "markdown",
   "metadata": {},
   "source": [
    "<div class=\"alert alert-block alert-warning\">\n",
    "<font size=\"6\"><p> &#127947;</font> \n",
    "    <b>Exercise 14: </b>\n",
    "    \n",
    "In a cell write a small program for temperature conversion between Celsius to Fahrenheit with user interactive input\n",
    "\n",
    "</div>"
   ]
  },
  {
   "cell_type": "markdown",
   "metadata": {},
   "source": [
    "<h4>Range BIF</h4>\n",
    "\n",
    "The `range()` function returns a sequence of numbers, starting from 0 by default, and increments by 1 (by default), and ends at a specified number. The syntax is the following:\n",
    "\n",
    "`range(start, stop, step)`\n",
    "\n",
    "|Parameter|Description|\n",
    "| --- | --- |\n",
    "|start|Optional. An integer number specifying at which position to start. Default is 0|\n",
    "|stop|Required. An integer number specifying at which position to end.|\n",
    "|step|Optional. An integer number specifying the incrementation. Default is 1|\n",
    "\n",
    "\n",
    "Some examples:"
   ]
  },
  {
   "cell_type": "code",
   "execution_count": null,
   "metadata": {},
   "outputs": [],
   "source": [
    "x = range(13)\n",
    "\n",
    "print(\"Example 1:\", x)\n",
    "print(\"Example 1:\", list(x))\n",
    "type(x)"
   ]
  },
  {
   "cell_type": "code",
   "execution_count": null,
   "metadata": {},
   "outputs": [],
   "source": [
    "x = range(0, 13)\n",
    "\n",
    "print(\"Example 2:\", list(x))"
   ]
  },
  {
   "cell_type": "code",
   "execution_count": null,
   "metadata": {},
   "outputs": [],
   "source": [
    "x = range(1, 13)\n",
    "\n",
    "print(\"Example 3:\", list(x))"
   ]
  },
  {
   "cell_type": "code",
   "execution_count": null,
   "metadata": {},
   "outputs": [],
   "source": [
    "x = range(1, 13, 2)\n",
    "\n",
    "print(\"Example 4:\", list(x))"
   ]
  },
  {
   "cell_type": "markdown",
   "metadata": {},
   "source": [
    "<div class=\"alert alert-block alert-warning\">\n",
    "<font size=\"6\"><p> &#127947;</font> \n",
    "    <b>Exercise 15: </b> Generate a range between 1 and 3000000\n",
    "\n",
    "* Calculate the average\n",
    "* Calculate the minimum\n",
    "* Calculate the maximum\n",
    "\n",
    "</div>"
   ]
  },
  {
   "cell_type": "markdown",
   "metadata": {},
   "source": [
    "<a  id=\"sl\"></a>\n",
    "\n",
    "<h2> 3.2 Standard libraries functions</h2> \n",
    "\n",
    "**There are hundreds of Standard Libraries (SL, the bones) with their respective functions.** They are developed by the Python Foundation, and are already available in Python (included in the installation), however they need to be imported before use them: \n",
    "\n",
    "https://docs.python.org/3/library/\n",
    "\n",
    "Some important Standard libraries for us are:\n",
    "\n",
    "* random\n",
    "* math (see below)\n",
    "* statistics"
   ]
  },
  {
   "cell_type": "markdown",
   "metadata": {},
   "source": [
    "#### Math SL   </h2>\n",
    "\n",
    "In addition to the few Math BIF there is a Math SL that contains more complex mathematical functions:\n",
    "\n",
    "|Function                                   |Description|\n",
    "| --- | --- |\n",
    "|ceil(x)                                    |Returns the smallest integer greater than or equal|\n",
    "|copysign(x, y)                             |Returns x with the sign of y|\n",
    "|fabs(x)                                    |Returns the absolute value of x|\n",
    "|factorial(x)                               |Returns the factorial of x|\n",
    "|floor(x)                                   |Returns the largest integer less than or equal to x|\n",
    "|fmod(x, y)                                 |Returns the remainder when x is divided by y|\n",
    "|frexp(x)                                   |Returns the mantissa and exponent of x as the pair|\n",
    "|fsum(iterable)                             |Returns an accurate floating point sum of values in|\n",
    "|isfinite(x)                                |Returns True if x is neither an infinity nor a NaN|\n",
    "|isinf(x)                                   |Returns True if x is a positive or negative infinit|\n",
    "|isnan(x)                                   |Returns True if x is a NaN|\n",
    "|ldexp(x, i)                                |Returns x * (2**i)|\n",
    "|modf(x)                                    |Returns the fractional and integer parts of x|\n",
    "|trunc(x)                                   |Returns the truncated integer value of x|\n",
    "|exp(x)                                     |Returns e**x|\n",
    "|expm1(x)                                   |Returns e**x - 1|\n",
    "|log(x[, base])                             |Returns the logarithm of x to the base (defaults to|\n",
    "|log1p(x)                                   |Returns the natural logarithm of 1+x|\n",
    "|log2(x)                                    |Returns the base-2 logarithm of x|\n",
    "|log10(x)                                   |Returns the base-10 logarithm of x|\n",
    "|pow(x, y)                                  |Returns x raised to the power y|\n",
    "|sqrt(x)                                    |Returns the square root of x|\n",
    "|acos(x)                                    |Returns the arc cosine of x|\n",
    "|asin(x)                                    |Returns the arc sine of x|\n",
    "|atan(x)                                    |Returns the arc tangent of x|\n",
    "|atan2(y, x)                                |Returns atan(y / x)|\n",
    "|cos(x)                                     |Returns the cosine of x|\n",
    "|hypot(x, y)                                |Returns the Euclidean norm, sqrt(x*x + y*y)|\n",
    "|sin(x)                                     |Returns the sine of x|\n",
    "|tan(x)                                     |Returns the tangent of x|\n",
    "|degrees(x)                                 |Converts angle x from radians to degrees|\n",
    "|radians(x)                                 |Converts angle x from degrees to radians|\n",
    "|acosh(x)                                   |Returns the inverse hyperbolic cosine of x|\n",
    "|asinh(x)                                   |Returns the inverse hyperbolic sine of x|\n",
    "|atanh(x)                                   |Returns the inverse hyperbolic tangent of x|\n",
    "|cosh(x)                                    |Returns the hyperbolic cosine of x|\n",
    "|sinh(x)                                    |Returns the hyperbolic cosine of x|\n",
    "|tanh(x)                                    |Returns the hyperbolic tangent of x|\n",
    "|erf(x)                                     |Returns the error function at x|\n",
    "|erfc(x)                                    |Returns the complementary error function at x|\n",
    "|gamma(x)                                   |Returns the Gamma function at x|\n",
    "|lgamma(x)                                  |Returns the natural logarithm of the absolute value|\n",
    "|pi                                         |Mathematical constant, the ratio of circumference o|\n",
    "|e                                          |mathematical constant e (2.71828...)|\n",
    "\n",
    "More information on Math go to: https://docs.python.org/3/library/math.html"
   ]
  },
  {
   "cell_type": "code",
   "execution_count": null,
   "metadata": {},
   "outputs": [],
   "source": [
    "# Math is alredy included in the Python instalation so the pip isntall is not necessary, just the import\n",
    "\n",
    "import math"
   ]
  },
  {
   "cell_type": "code",
   "execution_count": null,
   "metadata": {},
   "outputs": [],
   "source": [
    "print(math.pi)\n",
    "\n",
    "angle_degree = 45\n",
    "\n",
    "print(math.sin(angle_degree/180*math.pi))    # The argument are radians\n",
    "\n",
    "side1 = 10\n",
    "side2 = 20\n",
    "\n",
    "side3 = math.sqrt(side1**2+side2**2)\n",
    "print(\"Side 3:\", side3)"
   ]
  },
  {
   "cell_type": "markdown",
   "metadata": {},
   "source": [
    "<div class=\"alert alert-block alert-warning\">\n",
    "<font size=\"6\"><p> &#127947;</font> \n",
    "    <b>Exercise 12: </b>\n",
    "    \n",
    "Generate a list of angles from 0 to 359 degrees with step of 2 degrees. Using a for loop calculate cosine of each angle. Try to do a plot.\n",
    "</div>"
   ]
  },
  {
   "cell_type": "markdown",
   "metadata": {},
   "source": [
    "<a  id=\"el\"></a>\n",
    "\n",
    "<h2> 3.3 External libraries</h2> \n",
    "\n",
    "There are hundred of thousands of **External Libraries (EL, the muscles) or packages** with their respective function. They are developed by different individuals, companies, or institutions so they are not included in the Python installation, they need to be installed (via pip) and then imported before use them:\n",
    "\n",
    "https://pypi.org/\n",
    "\n",
    "Some important EL (all with their oun website) for us are:\n",
    "\n",
    "* Numpy (numerical operation, see below)\n",
    "* Matplotlib (plotting)\n",
    "* Pandas (spreadsheet operations)\n",
    "* Scipy (mathematics, science, and engineering)\n",
    "* Pillow (image manipulation)\n",
    "* Lasio (Read and write LAS)\n",
    "* Welly (load and present LAS)\n",
    "\n",
    "Examples of both groups are shown below:"
   ]
  },
  {
   "cell_type": "markdown",
   "metadata": {},
   "source": [
    "<h4>Numpy EL</h4>"
   ]
  },
  {
   "cell_type": "code",
   "execution_count": null,
   "metadata": {},
   "outputs": [],
   "source": [
    "# As EL, Numpy need to be installed and then imported before been used\n",
    "\n",
    "import numpy as np\n",
    "\n",
    "print(np.pi)\n",
    "\n",
    "round(np.pi, 5)"
   ]
  },
  {
   "cell_type": "markdown",
   "metadata": {},
   "source": [
    "The Numpy `np.arange()` function returns a sequence of numbers, starting from 0 by default, and increments by 1 (by default), and ends at a specified number. The syntax is the following:\n",
    "\n",
    "`NumPy.arange(start, stop, step)`\n",
    "\n",
    "|Parameter|Description|\n",
    "| --- | --- |\n",
    "|start|Optional. A number specifying at which position to start. Default is 0|\n",
    "|stop|Required. A number specifying at which position to end.|\n",
    "|step|Optional. A number specifying the incrementation. Default is 1|\n",
    "\n",
    "\n",
    "Contrary to the `range()`, here the step can be a fraction. Some examples:"
   ]
  },
  {
   "cell_type": "code",
   "execution_count": null,
   "metadata": {},
   "outputs": [],
   "source": [
    "x = np.arange(13)\n",
    "\n",
    "print(\"Example 1:\", x)\n",
    "\n",
    "type(x)"
   ]
  },
  {
   "cell_type": "code",
   "execution_count": null,
   "metadata": {},
   "outputs": [],
   "source": [
    "x = np.arange(1, 13)\n",
    "\n",
    "print(\"Example 2:\", x)"
   ]
  },
  {
   "cell_type": "code",
   "execution_count": null,
   "metadata": {},
   "outputs": [],
   "source": [
    "x = np.arange(1, 13, 2)\n",
    "\n",
    "print(\"Example 3:\", x)"
   ]
  },
  {
   "cell_type": "code",
   "execution_count": null,
   "metadata": {},
   "outputs": [],
   "source": [
    "x = np.arange(0, 1, 0.1)\n",
    "\n",
    "print(\"Example 4:\", x)"
   ]
  },
  {
   "cell_type": "markdown",
   "metadata": {},
   "source": [
    "<a  id=\"udf\"></a>\n",
    "\n",
    "<h2> 3.4 User defined function </h2> \n",
    "\n",
    "A **User Defined Function (UDF)** is a piece of code defined by the user. This type of functions are important for the following reasons: \n",
    "\n",
    "* User-defined functions help to decompose a large program into small segments which makes program easy to understand, maintain and debug.\n",
    "* If repeated code occurs in a program. Function can be used to include those codes and execute when needed by calling that function.\n",
    "* Programmers working on large project can divide the workload by making different functions.\n",
    "\n",
    "The syntax of the user defined function is:\n",
    "\n",
    "    def function_name(arguments):\n",
    "        code\n",
    "        code\n",
    "        ....\n",
    "        return values\n",
    "        \n",
    "In the UDF the colon (:) and indentation (a tab or four spaces) are critical because define what is defined inside the function. Only the return value or variable are know by the rest of the program. Here is an example of UDF:"
   ]
  },
  {
   "cell_type": "code",
   "execution_count": null,
   "metadata": {},
   "outputs": [],
   "source": [
    "# Example of a function returnning one value\n",
    "\n",
    "def conversion_C_F(temp_c):\n",
    "    temp_f = temp_c * 9/5 + 32\n",
    "    return temp_f"
   ]
  },
  {
   "cell_type": "code",
   "execution_count": null,
   "metadata": {},
   "outputs": [],
   "source": [
    "f = conversion_C_F(-2)\n",
    "\n",
    "print('Temperature: ', f, 'ºF')"
   ]
  },
  {
   "cell_type": "markdown",
   "metadata": {},
   "source": [
    "<div class=\"alert alert-block alert-warning\">\n",
    "<font size=\"6\"><p> &#127947;</font> \n",
    "    <b>Exercise 16: </b> Create a function to convert from Fahrenheit to Celsius\n",
    "\n",
    "</div>"
   ]
  },
  {
   "cell_type": "code",
   "execution_count": null,
   "metadata": {},
   "outputs": [],
   "source": [
    "# Example of a function with multiple arguments and returnning one value\n",
    "\n",
    "def line_equation(a, b, x):\n",
    "    y = a * x + b\n",
    "    return y"
   ]
  },
  {
   "cell_type": "code",
   "execution_count": null,
   "metadata": {},
   "outputs": [],
   "source": [
    "# Example of a function with multiple arguments and returnning one multiple values\n",
    "\n",
    "def equations(a, b, x):\n",
    "    y1 = a * x + b\n",
    "    y2 = a * x\n",
    "    return y1, y2"
   ]
  },
  {
   "cell_type": "code",
   "execution_count": null,
   "metadata": {},
   "outputs": [],
   "source": [
    "y = line_equation(10, 34, 10)\n",
    "\n",
    "print(y)\n",
    "print(line_equation(10, 34, 100))"
   ]
  },
  {
   "cell_type": "code",
   "execution_count": null,
   "metadata": {},
   "outputs": [],
   "source": [
    "# The name of the ouput variables are not related with the internal variables of the UDF\n",
    "\n",
    "yy1, yy2 = equations(10, 34, 100)\n",
    "\n",
    "print(yy1, yy2)\n",
    "print(equations(100, 340, 1000))"
   ]
  },
  {
   "cell_type": "markdown",
   "metadata": {},
   "source": [
    "<div class=\"alert alert-block alert-warning\">\n",
    "<font size=\"6\"><p> &#127947;</font> \n",
    "    <b>Exercise 17: </b> Create a function to calculate and return the following values of a list:\n",
    "    \n",
    "* Average\n",
    "* Minimum\n",
    "* Maximum\n",
    "</div>"
   ]
  },
  {
   "cell_type": "markdown",
   "metadata": {},
   "source": [
    "<h3>End of part</h3>\n",
    "\n",
    "[Return to Table of Content](#toc)"
   ]
  }
 ],
 "metadata": {
  "kernelspec": {
   "display_name": "Python 3",
   "language": "python",
   "name": "python3"
  },
  "language_info": {
   "codemirror_mode": {
    "name": "ipython",
    "version": 3
   },
   "file_extension": ".py",
   "mimetype": "text/x-python",
   "name": "python",
   "nbconvert_exporter": "python",
   "pygments_lexer": "ipython3",
   "version": "3.8.6"
  },
  "toc": {
   "base_numbering": 1,
   "nav_menu": {},
   "number_sections": false,
   "sideBar": true,
   "skip_h1_title": false,
   "title_cell": "Table of Contents",
   "title_sidebar": "Contents",
   "toc_cell": false,
   "toc_position": {},
   "toc_section_display": true,
   "toc_window_display": false
  },
  "varInspector": {
   "cols": {
    "lenName": 16,
    "lenType": 16,
    "lenVar": 40
   },
   "kernels_config": {
    "python": {
     "delete_cmd_postfix": "",
     "delete_cmd_prefix": "del ",
     "library": "var_list.py",
     "varRefreshCmd": "print(var_dic_list())"
    },
    "r": {
     "delete_cmd_postfix": ") ",
     "delete_cmd_prefix": "rm(",
     "library": "var_list.r",
     "varRefreshCmd": "cat(var_dic_list()) "
    }
   },
   "position": {
    "height": "429.667px",
    "left": "713.667px",
    "right": "20px",
    "top": "71px",
    "width": "478px"
   },
   "types_to_exclude": [
    "module",
    "function",
    "builtin_function_or_method",
    "instance",
    "_Feature"
   ],
   "window_display": false
  }
 },
 "nbformat": 4,
 "nbformat_minor": 2
}
