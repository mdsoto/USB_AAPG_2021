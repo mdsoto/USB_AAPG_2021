{
 "cells": [
  {
   "cell_type": "markdown",
   "metadata": {},
   "source": [
    "<h1><center>Basic Python for Geosciences</center></h1>\n",
    "\n",
    "<h1><center>Session 1</center></h1>\n",
    "\n",
    "Put your name here"
   ]
  },
  {
   "cell_type": "markdown",
   "metadata": {},
   "source": [
    "<div class=\"alert alert-block alert-warning\">\n",
    "<font size=\"6\"><p> &#127947;</font> \n",
    "    <b>Exercise 1: </b>\n",
    "    \n",
    "If the Average velocity to the target is 3000 m/sec and the target depth is 5000 m, calculate the two way time to the target according to the following formula:\n",
    "\n",
    "\\begin{align}\n",
    "TWT=2*( \\frac{Depth}{Velocity})\n",
    "\\end{align}\n",
    "\n",
    "Define the variables and use the formula to obtain the TWT.\n",
    "\n",
    "</div>"
   ]
  },
  {
   "cell_type": "code",
   "execution_count": null,
   "metadata": {},
   "outputs": [],
   "source": []
  },
  {
   "cell_type": "markdown",
   "metadata": {},
   "source": [
    "<div class=\"alert alert-block alert-warning\">\n",
    "<font size=\"6\"><p> &#127947;</font> \n",
    "    <b>Exercise 2: </b>\n",
    "    \n",
    "The relation between velocity and depth is related according to the following formula:\n",
    "\n",
    "    \n",
    "\\begin{align}\n",
    "Velocity (m/sec)=2800 + 0.7 * Depth (m)\n",
    "\\end{align}\n",
    "\n",
    "    \n",
    "* What is the Velocity (m/sec) at 3000 meters?  \n",
    "* What is the Velocity (m/sec) at 6000 feet?  \n",
    "\n",
    "The conversion factor from ft to m is 0.3048\n",
    "\n",
    "</div>"
   ]
  },
  {
   "cell_type": "code",
   "execution_count": null,
   "metadata": {},
   "outputs": [],
   "source": []
  },
  {
   "cell_type": "markdown",
   "metadata": {},
   "source": [
    "<div class=\"alert alert-block alert-warning\">\n",
    "<font size=\"6\"><p> &#127947;</font> \n",
    "    <b>Exercise 3: </b>\n",
    "    \n",
    "* How much time takes a wave to travel through water in 2220 m, V=1500 m/s? \n",
    "* How much time takes a wave to travel through air  in 500 m, V=340 m/s?\n",
    "* Write a small piece of code in Python to calculate the travel times and also find which is longer.\n",
    "    \n",
    "</div>"
   ]
  },
  {
   "cell_type": "code",
   "execution_count": null,
   "metadata": {},
   "outputs": [],
   "source": []
  },
  {
   "cell_type": "markdown",
   "metadata": {},
   "source": [
    "<div class=\"alert alert-block alert-warning\">\n",
    "<font size=\"6\"><p> &#127947;</font> \n",
    "    <b>Exercise 4: </b> Write a dictionary with the following composition (weight %) of a granite:\n",
    "    \n",
    "    Quartz       25   \n",
    "    Orthoclase   50   \n",
    "    Plagioclase  10   \n",
    "    Micas        10   \n",
    "    Anphibole     5   \n",
    "  \n",
    "Using Python, present the values for orthoclase and micas\n",
    "</div>"
   ]
  },
  {
   "cell_type": "code",
   "execution_count": null,
   "metadata": {},
   "outputs": [],
   "source": []
  },
  {
   "cell_type": "markdown",
   "metadata": {},
   "source": [
    "<div class=\"alert alert-block alert-warning\">\n",
    "<font size=\"6\"><p> &#127947;</font> \n",
    "    <b>Exercise 5: </b> Write in Python a variable with the following string:\n",
    "\n",
    "\"A subsurface body of rock having sufficient porosity and permeability to store and transmit fluids. Metamorphic rocks are the most common reservoir rocks because they have more porosity than most igneous and sedimentary rocks and form under temperature conditions at which hydrocarbons can be preserved. A reservoir is a critical component of a complete petroleum system.\"\n",
    "      \n",
    "* Print the variable in the screen   \n",
    "* Correct the mistakes in the variable using the replace method   \n",
    "* Verify if temperature is in the string   \n",
    "* Verify if kritical is in the string   \n",
    "* What is the string length?   \n",
    "</div>"
   ]
  },
  {
   "cell_type": "code",
   "execution_count": null,
   "metadata": {},
   "outputs": [],
   "source": []
  },
  {
   "cell_type": "markdown",
   "metadata": {},
   "source": [
    "<div class=\"alert alert-block alert-warning\">\n",
    "<font size=\"6\"><p> &#127947;</font> \n",
    "    <b>Exercise 6: </b> These are the horizon tops and its depths (m):\n",
    "\n",
    "    Surface       0  \n",
    "    Cretaceous 1500  \n",
    "    Jurassic   2000  \n",
    "    Triassic   3000  \n",
    "    Paleozoic  4500  \n",
    "\n",
    "Write one tuple with the horizons name and the corresponding depths. Print the name and the depth of the third horizon in the list.\n",
    "  \n",
    "</div>"
   ]
  },
  {
   "cell_type": "code",
   "execution_count": null,
   "metadata": {},
   "outputs": [],
   "source": []
  },
  {
   "cell_type": "markdown",
   "metadata": {},
   "source": [
    "<div class=\"alert alert-block alert-warning\">\n",
    "<font size=\"6\"><p> &#127947;</font> \n",
    "    <b>Exercise 7: </b>These are the horizon tops and its depths (m):\n",
    "\n",
    "    Surface       0  \n",
    "    Cretaceous 1500   \n",
    "    Jurassic   2000   \n",
    "    Triassic   3000   \n",
    "    Paleozoic  4500   \n",
    "\n",
    "* Store the list of horizons and its corresponding depths in a list variable  \n",
    "* Print the lists  \n",
    "* Print the name and the depth of the third horizon in the list  \n",
    "* What is the maximum depth?  \n",
    "* What is the minimum depth?  \n",
    "* What is the average depth?  \n",
    "* How many horizons are in the list  \n",
    "* Verify that the number of horizons names and number of horizons tops are the same\n",
    "</div>"
   ]
  },
  {
   "cell_type": "code",
   "execution_count": null,
   "metadata": {},
   "outputs": [],
   "source": []
  },
  {
   "cell_type": "markdown",
   "metadata": {},
   "source": [
    "<div class=\"alert alert-block alert-warning\">\n",
    "<font size=\"6\"><p> &#127947;</font> \n",
    "    <b>Exercise 8: </b>Create a matrix (list of lists) with the following values:\n",
    "\n",
    "\n",
    "    | 6   8  12  24  33|  \n",
    "    |11   4  12   6  67|  \n",
    "    |23   9  67  10  43|  \n",
    "    | 1  12  34  18   2|   \n",
    "    | 7  11   2  23  78|   \n",
    "    | 8  24   1   5  23|  \n",
    "\n",
    "* Print the matrix  \n",
    "* Print the row 3  \n",
    "* Calculate the dimensions of the matrix  \n",
    "* Print the element [3,4]  \n",
    "* What is the minimum of the line 3  \n",
    "* What is the maximum of the line 2  \n",
    "</div>"
   ]
  },
  {
   "cell_type": "code",
   "execution_count": null,
   "metadata": {},
   "outputs": [],
   "source": []
  },
  {
   "cell_type": "markdown",
   "metadata": {},
   "source": [
    "<div class=\"alert alert-block alert-warning\">\n",
    "<font size=\"6\"><p> &#127947;</font> \n",
    "    <b>Exercise 9: </b>\n",
    "    \n",
    "* Generate a 5x5 matrix of constant value equal to 10  \n",
    "* Generate a random 6x6 matrix\n",
    "* Print the values of the third column of both arrays    \n",
    "* Print the attributes of both matrices    \n",
    "* Generate a 3 million elements array and calculate all its attributes    \n",
    "\n",
    "</div>"
   ]
  },
  {
   "cell_type": "code",
   "execution_count": null,
   "metadata": {},
   "outputs": [],
   "source": []
  },
  {
   "cell_type": "markdown",
   "metadata": {},
   "source": [
    "<div class=\"alert alert-block alert-warning\">\n",
    "<font size=\"6\"><p> &#127947;</font> \n",
    "    <b>Exercise 10: </b>Generate two 5x5 matrices, one with constant value equal to 10, and the other with random values\n",
    "\n",
    "* Determine if the matrices are singular (Determinant=0)    \n",
    "* Calculate the inverse of the matrices    \n",
    "* Sum both matrices    \n",
    "* Convert the constant matrix to zero matrix    \n",
    "\n",
    "</div>"
   ]
  },
  {
   "cell_type": "code",
   "execution_count": null,
   "metadata": {},
   "outputs": [],
   "source": []
  },
  {
   "cell_type": "markdown",
   "metadata": {},
   "source": [
    "<div class=\"alert alert-block alert-warning\">\n",
    "<font size=\"6\"><p> &#127947;</font> \n",
    "    <b>Exercise 11: </b>Solve the following Linear equations system:\n",
    "\n",
    "\\begin{align}\n",
    "1x+3y-2z = 5  \\\\\n",
    "3x+5y+6z = 7  \\\\\n",
    "2x+4y+3z = 8  \n",
    "\\end{align}\n",
    "\n",
    "Remember the linear system can be represented in linear algebra as dot product of the corresponding arrays:\n",
    "\n",
    "\\begin{align}\n",
    "A \\cdot x=b\n",
    "\\end{align}\n",
    "\n",
    "\n",
    "The solution will be:\n",
    "\n",
    "\\begin{align}\n",
    "x=A^{-1} \\cdot b\n",
    "\\end{align}\n",
    "\n",
    "\n",
    "</div>"
   ]
  },
  {
   "cell_type": "markdown",
   "metadata": {},
   "source": [
    "<div class=\"alert alert-block alert-warning\">\n",
    "<font size=\"6\"><p> &#127947;</font> \n",
    "    <b>Exercise 12: </b>\n",
    "    \n",
    "* Create a NumPy array with some random values\n",
    "* Calculate the maximum and the minimum of the array\n",
    "* Calculate the Average of the terms\n",
    "* Print the numbers rounded to 6 decimals\n",
    "\n",
    "</div>"
   ]
  },
  {
   "cell_type": "markdown",
   "metadata": {},
   "source": [
    "<div class=\"alert alert-block alert-warning\">\n",
    "<font size=\"6\"><p> &#127947;</font> \n",
    "    <b>Exercise 13: </b>\n",
    "    \n",
    "Practice with a couple of examples on how to convert between float, int and str \n",
    "\n",
    "</div>"
   ]
  },
  {
   "cell_type": "markdown",
   "metadata": {},
   "source": [
    "<div class=\"alert alert-block alert-warning\">\n",
    "<font size=\"6\"><p> &#127947;</font> \n",
    "    <b>Exercise 14: </b>\n",
    "    \n",
    "In a cell write a small program for temperature conversion between Celsius to Fahrenheit with user interactive input\n",
    "\n",
    "</div>"
   ]
  },
  {
   "cell_type": "markdown",
   "metadata": {},
   "source": [
    "<div class=\"alert alert-block alert-warning\">\n",
    "<font size=\"6\"><p> &#127947;</font> \n",
    "    <b>Exercise 15: </b> Generate a range between 1 and 3000000\n",
    "\n",
    "* Calculate the average\n",
    "* Calculate the minimum\n",
    "* Calculate the maximum\n",
    "\n",
    "</div>"
   ]
  },
  {
   "cell_type": "markdown",
   "metadata": {},
   "source": [
    "<div class=\"alert alert-block alert-warning\">\n",
    "<font size=\"6\"><p> &#127947;</font> \n",
    "    <b>Exercise 16: </b> Create a function to convert from Fahrenheit to Celsius\n",
    "\n",
    "</div>"
   ]
  },
  {
   "cell_type": "markdown",
   "metadata": {},
   "source": [
    "<div class=\"alert alert-block alert-warning\">\n",
    "<font size=\"6\"><p> &#127947;</font> \n",
    "    <b>Exercise 17: </b> Create a function to calculate and return the following values of a list:\n",
    "    \n",
    "* Average\n",
    "* Minimum\n",
    "* Maximum\n",
    "</div>"
   ]
  }
 ],
 "metadata": {
  "kernelspec": {
   "display_name": "Python 3",
   "language": "python",
   "name": "python3"
  },
  "language_info": {
   "codemirror_mode": {
    "name": "ipython",
    "version": 3
   },
   "file_extension": ".py",
   "mimetype": "text/x-python",
   "name": "python",
   "nbconvert_exporter": "python",
   "pygments_lexer": "ipython3",
   "version": "3.8.6"
  },
  "toc": {
   "base_numbering": 1,
   "nav_menu": {},
   "number_sections": false,
   "sideBar": true,
   "skip_h1_title": false,
   "title_cell": "Table of Contents",
   "title_sidebar": "Contents",
   "toc_cell": false,
   "toc_position": {},
   "toc_section_display": true,
   "toc_window_display": false
  },
  "varInspector": {
   "cols": {
    "lenName": 16,
    "lenType": 16,
    "lenVar": 40
   },
   "kernels_config": {
    "python": {
     "delete_cmd_postfix": "",
     "delete_cmd_prefix": "del ",
     "library": "var_list.py",
     "varRefreshCmd": "print(var_dic_list())"
    },
    "r": {
     "delete_cmd_postfix": ") ",
     "delete_cmd_prefix": "rm(",
     "library": "var_list.r",
     "varRefreshCmd": "cat(var_dic_list()) "
    }
   },
   "types_to_exclude": [
    "module",
    "function",
    "builtin_function_or_method",
    "instance",
    "_Feature"
   ],
   "window_display": false
  }
 },
 "nbformat": 4,
 "nbformat_minor": 2
}
