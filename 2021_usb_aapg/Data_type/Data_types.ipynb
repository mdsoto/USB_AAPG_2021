{
 "cells": [
  {
   "cell_type": "markdown",
   "metadata": {
    "toc": true
   },
   "source": [
    "<h1>Table of Contents<span class=\"tocSkip\"></span></h1>\n",
    "<div class=\"toc\"><ul class=\"toc-item\"><li><span><a href=\"#Special-type\" data-toc-modified-id=\"Special-type-1\"><span class=\"toc-item-num\">1&nbsp;&nbsp;</span>Special type</a></span></li><li><span><a href=\"#Numeric\" data-toc-modified-id=\"Numeric-2\"><span class=\"toc-item-num\">2&nbsp;&nbsp;</span>Numeric</a></span></li><li><span><a href=\"#Boolean\" data-toc-modified-id=\"Boolean-3\"><span class=\"toc-item-num\">3&nbsp;&nbsp;</span>Boolean</a></span></li><li><span><a href=\"#Dictionary\" data-toc-modified-id=\"Dictionary-4\"><span class=\"toc-item-num\">4&nbsp;&nbsp;</span>Dictionary</a></span></li><li><span><a href=\"#Set\" data-toc-modified-id=\"Set-5\"><span class=\"toc-item-num\">5&nbsp;&nbsp;</span>Set</a></span></li><li><span><a href=\"#Sequences\" data-toc-modified-id=\"Sequences-6\"><span class=\"toc-item-num\">6&nbsp;&nbsp;</span>Sequences</a></span></li><li><span><a href=\"#Libraries-data-types\" data-toc-modified-id=\"Libraries-data-types-7\"><span class=\"toc-item-num\">7&nbsp;&nbsp;</span>Libraries data types</a></span></li></ul></div>"
   ]
  },
  {
   "cell_type": "markdown",
   "metadata": {},
   "source": [
    "<img src=\"NB_images\\portada.png\" style=\"width:1000px\" align=\"center\">\n",
    "\n",
    "<h1><center>Main Python data types</center></h1>\n",
    "\n",
    "**Course creator and speaker:**  Manuel **David** Soto. MSc in Geology, University of Texas at Austin (2007), USA.\n",
    "\n",
    "**Collaborator:** Ulises Berman. Student of Geophysical Eng, USB, Caracas, Venezuela.\n",
    "\n",
    "**Organizer:** AAPG-USB Student Chapter"
   ]
  },
  {
   "cell_type": "markdown",
   "metadata": {},
   "source": [
    "Here are the main data types in Python:\n",
    "\n",
    "<img src=\"NB_images/data_types.jpg\" style=\"width: 600px;\"/>\n",
    "\n",
    "Let`s see examples for then and other data tipes:"
   ]
  },
  {
   "cell_type": "code",
   "execution_count": null,
   "metadata": {},
   "outputs": [],
   "source": [
    "# Importing the libraries\n",
    "\n",
    "import numpy as np\n",
    "from PIL import Image\n",
    "import pandas as pd"
   ]
  },
  {
   "cell_type": "markdown",
   "metadata": {},
   "source": [
    "## Special type"
   ]
  },
  {
   "cell_type": "code",
   "execution_count": null,
   "metadata": {},
   "outputs": [],
   "source": [
    "spe1 = None\n",
    "\n",
    "print(type(spe1))\n",
    "\n",
    "# Without the print the variable cannot been seen\n",
    "\n",
    "print(spe1)\n",
    "print()\n",
    "\n",
    "spe2 = np.nan\n",
    "print(type(spe2))\n",
    "print(spe2)"
   ]
  },
  {
   "cell_type": "markdown",
   "metadata": {},
   "source": [
    "## Numeric"
   ]
  },
  {
   "cell_type": "code",
   "execution_count": null,
   "metadata": {},
   "outputs": [],
   "source": [
    "# Integer\n",
    "\n",
    "int1 = 5\n",
    "\n",
    "print(type(int1))\n",
    "print(int1)\n",
    "print()\n",
    "\n",
    "int2 = 2**100    # Python can do 2**1000000\n",
    "\n",
    "print(int2)\n",
    "type(int2)\n",
    "\n",
    "int3 = 496_509_356_943    # Thanks to Edmundo Peralta\n",
    "print(int3)\n",
    "type(int3)"
   ]
  },
  {
   "cell_type": "code",
   "execution_count": null,
   "metadata": {},
   "outputs": [],
   "source": [
    "# Range of integers\n",
    "\n",
    "ran1 = range(0, 10)\n",
    "\n",
    "print(ran1)\n",
    "print(type(ran1))"
   ]
  },
  {
   "cell_type": "code",
   "execution_count": null,
   "metadata": {},
   "outputs": [],
   "source": [
    "# Float with 16 decimal\n",
    "\n",
    "float1 = 10/3\n",
    "\n",
    "print(float1)\n",
    "print(type(float1))\n",
    "print()\n",
    "\n",
    "float2 = np.pi\n",
    "print(float2)\n",
    "print(type(float2))"
   ]
  },
  {
   "cell_type": "code",
   "execution_count": null,
   "metadata": {},
   "outputs": [],
   "source": [
    "# Complex\n",
    "\n",
    "ima1 = 10 + 5j\n",
    "\n",
    "print(ima1)\n",
    "print(type(ima1))"
   ]
  },
  {
   "cell_type": "markdown",
   "metadata": {},
   "source": [
    "## Boolean"
   ]
  },
  {
   "cell_type": "code",
   "execution_count": null,
   "metadata": {},
   "outputs": [],
   "source": [
    "# Boolean value\n",
    "\n",
    "bool1 = False\n",
    "\n",
    "print(bool1)\n",
    "print(type(bool1))"
   ]
  },
  {
   "cell_type": "markdown",
   "metadata": {},
   "source": [
    "## Dictionary"
   ]
  },
  {
   "cell_type": "code",
   "execution_count": null,
   "metadata": {},
   "outputs": [],
   "source": [
    "# Dictionary\n",
    "\n",
    "dir1 = {0: 'yellow', 3: 'blue', 4: 'red'}\n",
    "\n",
    "print(dir1)\n",
    "print(type(dir1))\n",
    "print()\n",
    "\n",
    "dir2 = {'quartz': 75, 'calcite': 15, 'clay': 10}\n",
    "\n",
    "print(dir2)\n",
    "print(type(dir2))\n",
    "\n",
    "dir2.values()"
   ]
  },
  {
   "cell_type": "code",
   "execution_count": null,
   "metadata": {},
   "outputs": [],
   "source": [
    "# Table, key-list dictionary\n",
    "\n",
    "table = {\n",
    "    'Mineral': ['Clays', 'Quartz', 'Feldespar', 'Carbonates', 'Others'],\n",
    "    'keys': ['Cl.', 'Qz.', 'Fd.', 'Cb.', 'Oth.'],\n",
    "    'Mudrocks': [60.0, 30.0, 4.0, 3.0, 3.0], \n",
    "    'Sandstones': [5.0, 65.0, 15.0, 1.0, 1.0]\n",
    "    }\n",
    "\n",
    "print(type(table))\n",
    "# With the print table presented in sequencial way\n",
    "table"
   ]
  },
  {
   "cell_type": "markdown",
   "metadata": {},
   "source": [
    "## Set"
   ]
  },
  {
   "cell_type": "code",
   "execution_count": null,
   "metadata": {},
   "outputs": [],
   "source": [
    "# Set\n",
    "\n",
    "set1 = set((1, 2, 2, 3, 3, 4))\n",
    "\n",
    "print(set1)\n",
    "print(type(set1))\n",
    "print()\n",
    "\n",
    "set2 = {5, 6, 6, 7, 7, 8, 8}\n",
    "\n",
    "print(set2)\n",
    "print(type(set2))"
   ]
  },
  {
   "cell_type": "markdown",
   "metadata": {},
   "source": [
    "## Sequences"
   ]
  },
  {
   "cell_type": "code",
   "execution_count": null,
   "metadata": {},
   "outputs": [],
   "source": [
    "# String\n",
    "\n",
    "str1 = 'This is a string'\n",
    "\n",
    "print(str1)\n",
    "print(type(str1))"
   ]
  },
  {
   "cell_type": "code",
   "execution_count": null,
   "metadata": {},
   "outputs": [],
   "source": [
    "# List\n",
    "\n",
    "list1 = [1, 2, 2, 3, 3, 4]\n",
    "\n",
    "print(list1)\n",
    "print(type(list1))"
   ]
  },
  {
   "cell_type": "code",
   "execution_count": null,
   "metadata": {},
   "outputs": [],
   "source": [
    "# Composite list\n",
    "\n",
    "list_list = [(1, 2, 3), (4, 5, 6), (7, 8, 9)]\n",
    "\n",
    "print(list_list)\n",
    "print(type(list_list))"
   ]
  },
  {
   "cell_type": "code",
   "execution_count": null,
   "metadata": {},
   "outputs": [],
   "source": [
    "# Tuple\n",
    "\n",
    "tup1 = (0, 1, 2, 3, 4)\n",
    "\n",
    "print(tup1)\n",
    "print(type(tup1))"
   ]
  },
  {
   "cell_type": "code",
   "execution_count": null,
   "metadata": {},
   "outputs": [],
   "source": [
    "# Composite tuple\n",
    "\n",
    "tup2 = ((1, 2, 3), (4, 5, 6), (7, 8, 9))\n",
    "\n",
    "print(tup2)\n",
    "print(type(tup2))\n",
    "print(type(tup2[0]))"
   ]
  },
  {
   "cell_type": "markdown",
   "metadata": {},
   "source": [
    "## Libraries data types"
   ]
  },
  {
   "cell_type": "code",
   "execution_count": null,
   "metadata": {},
   "outputs": [],
   "source": [
    "# Numpy array\n",
    "\n",
    "array1 = np.array(list1)\n",
    "\n",
    "print(array1)\n",
    "print(type(array1))\n",
    "print()\n",
    "\n",
    "array2 = np.array(list_list)\n",
    "\n",
    "print(array2)\n",
    "print(type(array2))"
   ]
  },
  {
   "cell_type": "code",
   "execution_count": null,
   "metadata": {},
   "outputs": [],
   "source": [
    "# Pillow image\n",
    "\n",
    "rock = Image.open(\"Input/rock.png\")\n",
    "\n",
    "print(rock)\n",
    "print()\n",
    "print(type(rock))\n",
    "rock"
   ]
  },
  {
   "cell_type": "code",
   "execution_count": null,
   "metadata": {},
   "outputs": [],
   "source": [
    "# Pandas datafram from table\n",
    "\n",
    "df_table = pd.DataFrame(table)\n",
    "\n",
    "print(type(df_table))\n",
    "df_table"
   ]
  },
  {
   "cell_type": "code",
   "execution_count": null,
   "metadata": {
    "scrolled": true
   },
   "outputs": [],
   "source": [
    "# Pandas data frame from an Excel file\n",
    "\n",
    "df_excel = pd.read_excel('Input/core.xlsx', sheet_name='Sheet1')\n",
    "\n",
    "print(type(df_excel))\n",
    "df_excel"
   ]
  },
  {
   "cell_type": "code",
   "execution_count": null,
   "metadata": {},
   "outputs": [],
   "source": []
  }
 ],
 "metadata": {
  "kernelspec": {
   "display_name": "Python 3",
   "language": "python",
   "name": "python3"
  },
  "language_info": {
   "codemirror_mode": {
    "name": "ipython",
    "version": 3
   },
   "file_extension": ".py",
   "mimetype": "text/x-python",
   "name": "python",
   "nbconvert_exporter": "python",
   "pygments_lexer": "ipython3",
   "version": "3.8.6"
  },
  "toc": {
   "base_numbering": 1,
   "nav_menu": {},
   "number_sections": true,
   "sideBar": true,
   "skip_h1_title": true,
   "title_cell": "Table of Contents",
   "title_sidebar": "Contents",
   "toc_cell": true,
   "toc_position": {},
   "toc_section_display": true,
   "toc_window_display": true
  },
  "varInspector": {
   "cols": {
    "lenName": 16,
    "lenType": 16,
    "lenVar": 40
   },
   "kernels_config": {
    "python": {
     "delete_cmd_postfix": "",
     "delete_cmd_prefix": "del ",
     "library": "var_list.py",
     "varRefreshCmd": "print(var_dic_list())"
    },
    "r": {
     "delete_cmd_postfix": ") ",
     "delete_cmd_prefix": "rm(",
     "library": "var_list.r",
     "varRefreshCmd": "cat(var_dic_list()) "
    }
   },
   "types_to_exclude": [
    "module",
    "function",
    "builtin_function_or_method",
    "instance",
    "_Feature"
   ],
   "window_display": false
  }
 },
 "nbformat": 4,
 "nbformat_minor": 4
}
