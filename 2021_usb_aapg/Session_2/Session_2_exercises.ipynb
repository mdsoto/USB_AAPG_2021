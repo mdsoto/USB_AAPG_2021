{
 "cells": [
  {
   "cell_type": "markdown",
   "metadata": {},
   "source": [
    "<h1><center>Basic Python for Geosciences</center></h1>\n",
    "\n",
    "<h1><center>Session 2 Exercises</center></h1>\n",
    "\n",
    "### Prepared by\n",
    "\n",
    "Put your name here"
   ]
  },
  {
   "cell_type": "markdown",
   "metadata": {},
   "source": [
    "<div class=\"alert alert-block alert-warning\">\n",
    "<font size=\"6\"><p> &#127947;</font> \n",
    "    <b>Exercise 1: </b> \n",
    "    \n",
    "Using if, write an small program with a function that allow to convert between the two temperature scales. The program have to do the following:\n",
    "\n",
    "- Enter the temperature scale of the input data\n",
    "- Enter the temperature value\n",
    "- Print the equivalent temperature in the other scale.\n",
    "\n",
    "</div>"
   ]
  },
  {
   "cell_type": "code",
   "execution_count": null,
   "metadata": {},
   "outputs": [],
   "source": []
  },
  {
   "cell_type": "markdown",
   "metadata": {},
   "source": [
    "<div class=\"alert alert-block alert-warning\">\n",
    "<font size=\"6\"><p> &#127947;</font> \n",
    "    <b>Exercise 2: </b> Using for loops \n",
    "\n",
    "* Print out the numbers 0,1,2,3,4\n",
    "* Print out 3,4,5\n",
    "* Print out 3,5,7\n",
    "* Print each element of the array: colors = [\"red\", \"green\", \"blue\", \"purple\"]\n",
    "* Create a new list with the values types of each element changed from str to float numbers=[\"1\",\"6\",\"5\",\"2\",\"8\",\"9\"]\n",
    "* Calculate the minimum, maximum and average with the function created in the exercise 8.\n",
    "\n",
    "</div>"
   ]
  },
  {
   "cell_type": "code",
   "execution_count": null,
   "metadata": {},
   "outputs": [],
   "source": []
  },
  {
   "cell_type": "markdown",
   "metadata": {},
   "source": [
    "<div class=\"alert alert-block alert-warning\">\n",
    "<font size=\"6\"><p> &#127947;</font> \n",
    "    <b>Exercise 3: </b> Using while loops:\n",
    "\n",
    "* Print out the numbers 0,1,2,3,4\n",
    "* Print out 3,4,5\n",
    "* Print out 3,5,7\n",
    "* Print each element of the list: colors = [\"red\", \"green\", \"blue\", \"purple\"]\n",
    "* Create a new list with the values types of each element changed from str to float numbers=[\"1\",\"6\",\"5\",\"2\",\"8\",\"9\"]\n",
    "* Calculate the minimum, maximum and average with the function created in the exercise 8.\n",
    "    \n",
    "</div>"
   ]
  },
  {
   "cell_type": "code",
   "execution_count": null,
   "metadata": {},
   "outputs": [],
   "source": []
  },
  {
   "cell_type": "markdown",
   "metadata": {},
   "source": [
    "<div class=\"alert alert-block alert-warning\">\n",
    "<font size=\"6\"><p> &#127947;</font> \n",
    "    <b>Exercise 4: </b> \n",
    "\n",
    "    \n",
    "Create a program to generate the terms of the Fibonacci sequence. Use whatever flow control structure you consider necessary and try to do a simple plot (check the Py examples in session 1). Less is more in this exercise.\n",
    "    \n",
    "Reference on the Fibonacci sequence: https://en.wikipedia.org/wiki/Fibonacci_number\n",
    "\n",
    "</div>"
   ]
  },
  {
   "cell_type": "code",
   "execution_count": null,
   "metadata": {},
   "outputs": [],
   "source": []
  },
  {
   "cell_type": "markdown",
   "metadata": {},
   "source": [
    "<div class=\"alert alert-block alert-warning\">\n",
    "<font size=\"6\"><p> &#127947;</font>\n",
    "        <b>Exercise 5: </b>\n",
    "\n",
    "* Load the rampi.csv file and look for the values of silver in rows 1, 10 and 20.\n",
    "* Calculate the main parameters (len, min, max, range) for the silver.\n",
    "* Look for the mean function in the Numpy library and used it for each element.\n",
    "</div>"
   ]
  },
  {
   "cell_type": "code",
   "execution_count": null,
   "metadata": {},
   "outputs": [],
   "source": []
  },
  {
   "cell_type": "markdown",
   "metadata": {},
   "source": [
    "<div class=\"alert alert-block alert-warning\">\n",
    "<font size=\"6\"><p> &#127947;</font> \n",
    "    <b>Exercise 6:</b> Write your own simple text file. Then write a simple text report file for the silver in the Rampi data.\n",
    "</div>"
   ]
  },
  {
   "cell_type": "code",
   "execution_count": null,
   "metadata": {},
   "outputs": [],
   "source": []
  },
  {
   "cell_type": "markdown",
   "metadata": {},
   "source": [
    "<div class=\"alert alert-block alert-warning\">\n",
    "<font size=\"6\"><p> &#127947;</font>\n",
    "           <b>Exercise 8: </b>\n",
    "Write a multi column text file with the ratio of copper, zinc and lead against silver.\n",
    "</div>"
   ]
  },
  {
   "cell_type": "code",
   "execution_count": null,
   "metadata": {},
   "outputs": [],
   "source": []
  },
  {
   "cell_type": "markdown",
   "metadata": {},
   "source": [
    "<div class=\"alert alert-block alert-warning\">\n",
    "<font size=\"6\"><p> &#127947;</font> \n",
    "    <b> Exercise 9:</b> Plot the lead in the Rampi data, with the mean line. Assume 3 meters of separation between samples.\n",
    "</div>"
   ]
  },
  {
   "cell_type": "code",
   "execution_count": null,
   "metadata": {},
   "outputs": [],
   "source": []
  },
  {
   "cell_type": "markdown",
   "metadata": {},
   "source": [
    "<div class=\"alert alert-block alert-warning\">\n",
    "<font size=\"6\"><p> &#127947;</font>\n",
    "    <b>Exercise 10:</b> \n",
    "    \n",
    "Do the following cross plots with the Rampi data set; silver vs. copper, silver vs. zinc, and silver vs. lead. Use the right scales, title, labels and grid.\n",
    "</div>"
   ]
  },
  {
   "cell_type": "code",
   "execution_count": null,
   "metadata": {},
   "outputs": [],
   "source": []
  },
  {
   "cell_type": "markdown",
   "metadata": {},
   "source": [
    "<div class=\"alert alert-block alert-warning\">\n",
    "<font size=\"6\"><p> &#127947;</font>\n",
    "    <b>Exercise 11:</b>\n",
    "\n",
    "In section call \"The Mineralogy of Sedimentary Rocks\" of the following web site there is a table with the mineral composition of two type of sedimentary rocks (mudrocks and sandstones):\n",
    "\n",
    "http://www.tulane.edu/~sanelson/eens212/sedrxintro.htm\n",
    "\n",
    "Built a bar and a pie plot for both rocks considering the following:\n",
    "    \n",
    "* Make a self-contain data code which doesn't depend on external files\n",
    "* Make the necessary assumptions to represent all the components \n",
    "* Use the right scales, title, labels and grid"
   ]
  },
  {
   "cell_type": "code",
   "execution_count": null,
   "metadata": {},
   "outputs": [],
   "source": []
  },
  {
   "cell_type": "markdown",
   "metadata": {},
   "source": [
    "<div class=\"alert alert-block alert-warning\">\n",
    "<font size=\"6\"><p> &#127947;</font>\n",
    "    <b>Exercise 12:</b>\n",
    "\n",
    "Add three xplots to the previous multiplo (in the theory); silver vs. copper, silver vs. zinc, silver vs. lead. Use the right scales, title, labels and grid. Use only Rampi data, do not mix this data with the Bolivian data.\n",
    "</div>"
   ]
  },
  {
   "cell_type": "code",
   "execution_count": null,
   "metadata": {},
   "outputs": [],
   "source": []
  },
  {
   "cell_type": "markdown",
   "metadata": {},
   "source": [
    "<div class=\"alert alert-block alert-warning\">\n",
    "<font size=\"6\"><p> &#127947;</font>\n",
    "    <b>Exercise 13:</b> With the gold, silver and lead in the Rampi data set:  \n",
    "    \n",
    "* Compute and save in a text file, by using a UDF, the previous 15 statistical parameters\n",
    "* Build a single multiplot with the PDF and CDF of each element.\n",
    "* Check that your parameters agree with the plots. Use the right scales, titles, labels and grid. \n",
    "</div>"
   ]
  },
  {
   "cell_type": "code",
   "execution_count": null,
   "metadata": {},
   "outputs": [],
   "source": []
  },
  {
   "cell_type": "markdown",
   "metadata": {},
   "source": [
    "<div class=\"alert alert-block alert-warning\">\n",
    "<font size=\"6\"><p> &#127947;</font>\n",
    "    <b> Exercise 14:</b> Do a the previous multiplot (as in the theory) for gold and lead in the Rampi data set. Use the right scales, titles, labels and grid.\n",
    "</div>"
   ]
  },
  {
   "cell_type": "code",
   "execution_count": null,
   "metadata": {},
   "outputs": [],
   "source": []
  },
  {
   "cell_type": "markdown",
   "metadata": {},
   "source": [
    "<div class=\"alert alert-block alert-warning\">\n",
    "<font size=\"6\"><p> &#127947;</font>\n",
    "        <b> Exercise 15:</b>\n",
    "    \n",
    "Do the previous plot (box-histogram) for regular and z-score normalized zinc (zn2) in the Rampi data. Use the right scales, titles, labels and grid. Is the lower limit (Q1 - 1.5IQR) feasible after the normalization or just the minimum?\n",
    "</div>"
   ]
  },
  {
   "cell_type": "code",
   "execution_count": null,
   "metadata": {},
   "outputs": [],
   "source": []
  },
  {
   "cell_type": "markdown",
   "metadata": {},
   "source": [
    "<div class=\"alert alert-block alert-warning\">\n",
    "<font size=\"6\"><p> &#127947;</font>\n",
    "        <b> Exercise 16:</b>\n",
    "    \n",
    "The file *rampi.csv* can be easily loaded as a dataframe with the following Panda´s command: <b> dframpi =      pd.read_csv('rampi.csv')</b>\n",
    "\n",
    "After this and the necessary single array creation or conversion, do the following plots:\n",
    "    \n",
    "* Exploratory point-line plot with all elements\n",
    "* A 2x3 multiplot with the box plot of each element\n",
    "* All against all elements pair plot\n",
    "* All against all elements correlation matrix and hitmap\n",
    "* Base on the plots, what are the best tracers (higher correlation) elements for Au and Ag?\n",
    "</div>"
   ]
  },
  {
   "cell_type": "code",
   "execution_count": null,
   "metadata": {},
   "outputs": [],
   "source": []
  }
 ],
 "metadata": {
  "kernelspec": {
   "display_name": "Python 3",
   "language": "python",
   "name": "python3"
  },
  "language_info": {
   "codemirror_mode": {
    "name": "ipython",
    "version": 3
   },
   "file_extension": ".py",
   "mimetype": "text/x-python",
   "name": "python",
   "nbconvert_exporter": "python",
   "pygments_lexer": "ipython3",
   "version": "3.8.6"
  },
  "toc": {
   "base_numbering": 1,
   "nav_menu": {},
   "number_sections": true,
   "sideBar": true,
   "skip_h1_title": false,
   "title_cell": "Table of Contents",
   "title_sidebar": "Contents",
   "toc_cell": false,
   "toc_position": {},
   "toc_section_display": true,
   "toc_window_display": false
  },
  "varInspector": {
   "cols": {
    "lenName": 16,
    "lenType": 16,
    "lenVar": 40
   },
   "kernels_config": {
    "python": {
     "delete_cmd_postfix": "",
     "delete_cmd_prefix": "del ",
     "library": "var_list.py",
     "varRefreshCmd": "print(var_dic_list())"
    },
    "r": {
     "delete_cmd_postfix": ") ",
     "delete_cmd_prefix": "rm(",
     "library": "var_list.r",
     "varRefreshCmd": "cat(var_dic_list()) "
    }
   },
   "types_to_exclude": [
    "module",
    "function",
    "builtin_function_or_method",
    "instance",
    "_Feature"
   ],
   "window_display": false
  }
 },
 "nbformat": 4,
 "nbformat_minor": 2
}
