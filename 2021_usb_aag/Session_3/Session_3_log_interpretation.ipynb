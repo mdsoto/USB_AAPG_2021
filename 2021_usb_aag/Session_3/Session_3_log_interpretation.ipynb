{
 "cells": [
  {
   "cell_type": "markdown",
   "metadata": {},
   "source": [
    "<img src=\"NB_images\\portada.png\" style=\"width:1000px\" align=\"center\">\n",
    "\n",
    "<h1><center>Session 3</center></h1>\n",
    "<h1><center>Log interpretation</center></h1>\n",
    "\n",
    "**Course creator and speaker:**  Manuel David Soto. MSc in Geology, University of Texas at Austin, USA.\n",
    "\n",
    "**Organizer:** Ulises Berman. Student of Geophysical Eng, USB, Caracas, Venezuela. President of the USB AAPG Student Chapter\n",
    "\n",
    "<a  id=\"toc\"></a>\n",
    "\n",
    "<h3>Table of content</h3>\n",
    "\n",
    "* [1 Log analysis with Python](#loganal)\n",
    "    * [1.1 Well information loading and verification](#well)\n",
    "       * [1.1.1 Loading logs and core data](#load)\n",
    "       * [1.1.2 Variables verification](#varver)\n",
    "       * [1.1.3 Input logs and core display](#indis)\n",
    "    * [1.2 Interval re selection](#inter)\n",
    "    * [1.3 Input logs histograms](#inhist)\n",
    "    * [1.4 Input logs cross plots](#incross)\n",
    "* [2 Parameter selection](#par)\n",
    "    * [2.1 Selection by local UDF](#local)\n",
    "    * [2.2 Selection by global UDF](#global)\n",
    "* [3 Output logs](#output)\n",
    "    * [3.1 Output logs calculation](#cal)\n",
    "    * [3.2 Summary and report](#sum)\n",
    "    * [3.3 Output logs cross plots](#outcross)\n",
    "    * [3.4 Output logs display](#outdis)\n",
    "* [4 Simple estimation of rock typing and K](#rtk)"
   ]
  },
  {
   "cell_type": "markdown",
   "metadata": {},
   "source": [
    "<a  id=\"loganal\"></a>\n",
    "\n",
    "<h1> 1 Log analysis with Python</h1>\n",
    "\n",
    "In the context of the Oil and Gas industry, **by log analysis or interpretation we understand the geosciences discipline that integrate and interpret all the data acquired in the initial live of the wells** (while and after drilling) and before the long-term production test. Among others, the responsibilities of log analyst are: \n",
    "\n",
    "* Describe the hole condition\n",
    "* Identify the lithology of the drilled section (type, arrangement)\n",
    "* Identify possible reservoirs (rock with high storage and flow capacity)\n",
    "* Identify the fluids in the reservoirs (oil, gas, water)\n",
    "* Make an estimation of the amount of resources available (amount of pay)\n",
    "\n",
    "In order to fulfill these responsibilities, the analyst has to follow a step by step process that require a constant verification with the available data (regional data, offset wells, core data, fluid samples, ...). This process can be visualized in the following figure:\n",
    "\n",
    "<img src=\"NB_images\\process.png\" style=\"width:750px\">\n",
    "\n",
    "**In the last years Python has gain importance in the log analysis because:**\n",
    "\n",
    "* Python and its powerful libraries are FREE\n",
    "* It provides an excellent platform for teaching, develop and testing new procedures and algorithms\n",
    "* Most important programs for log analysis incorporate utilities to code with Python user defined programs\n",
    "* ML applications are gaining importance in log analysis, Python is one of the main programing language for such advance applications.\n",
    "\n",
    "**Some of these estimations, procedures, and Python codes are also applicable to other industries such as geothermal, civil engineering, mining, and in any discipline in which you need to do holes in the earth and make measurements.**"
   ]
  },
  {
   "cell_type": "markdown",
   "metadata": {},
   "source": [
    "<a  id=\"well\"></a>\n",
    "\n",
    "<h2> 1.1 Well information</h2>\n",
    "\n",
    "The amount of data generated in the initial live of a well is huge, in type as well as format, been the logs the only data with a well established standard format. As part of this universe we have:\n",
    "\n",
    "   * Well location and elevation\n",
    "   * Deviation survey (well trajectory)\n",
    "   * While drilling, case hole, and **open hole logs**. All in LAS (Log ASCII Standard) or DLIS (Digital Log Interchange Standard) format\n",
    "   * Mudlog (lithology vs. depth)\n",
    "   * Formation tops\n",
    "   * **Continuous or side wall cores (SWC)**\n",
    "   * Pressures and temperatures\n",
    "   * Fluid samples\n",
    "   * Short-term production test (DST)\n",
    "   * ...\n",
    "\n",
    "Here we are going to work only with open hole logs and core data"
   ]
  },
  {
   "cell_type": "markdown",
   "metadata": {},
   "source": [
    "<a  id=\"load\"></a>\n",
    "\n",
    "<h3> 1.1.1 Loading logs and core data</h3>\n",
    "\n",
    "There are libraries to load the logs in LAS format, however here we are going to do it in the simpler way, discarding most of the header of the LAS, and just leaving a line with the name of the individual curves:"
   ]
  },
  {
   "cell_type": "markdown",
   "metadata": {},
   "source": [
    "<a  id=\"import\"></a>\n",
    "\n",
    "#### Good import statement styling"
   ]
  },
  {
   "cell_type": "code",
   "execution_count": null,
   "metadata": {},
   "outputs": [],
   "source": [
    "# Standard library import\n",
    "\n",
    "import sys\n",
    "\n",
    "# External library import\n",
    "\n",
    "import matplotlib.pyplot as plt\n",
    "import numpy as np\n",
    "import pandas as pd\n",
    "from PIL import Image\n",
    "from sklearn.metrics import mean_squared_error\n",
    "from sklearn.metrics import r2_score\n",
    "\n",
    "# User defined function or application import\n",
    "\n",
    "sys.path.insert(1, '../UDF/')    # The path of this function have to be written in Unix style\n",
    "import udf"
   ]
  },
  {
   "cell_type": "markdown",
   "metadata": {},
   "source": [
    "#### Relative vs. absolute path\n",
    "\n",
    "Relative or short paths works if are defined in or above your working directory:\n",
    "\n",
    "    '../User_defined_functions/'\n",
    "\n",
    "Absolute or full path works only if they are defined in your computer:\n",
    "\n",
    "    C:\\Users\\ry03107\\Documents\\Python\\Cursos\\USB_AAPG\\NB\\User_defined_functions\n",
    "    \n",
    "More info at: https://www.earthdatascience.org/courses/intro-to-earth-data-science/python-code-fundamentals/work-with-files-directories-paths-in-python/"
   ]
  },
  {
   "cell_type": "code",
   "execution_count": null,
   "metadata": {},
   "outputs": [],
   "source": [
    "# Loading logs without header\n",
    "\n",
    "data_log = np.genfromtxt('Input\\logs_w_csg.txt', skip_header=1, dtype=np.float32)\n",
    "\n",
    "# Allocate different columns to different variables (logs)\n",
    "\n",
    "depth = data_log[:, 0]\n",
    "bs = data_log[:, 1]\n",
    "cal = data_log[:, 2]\n",
    "dden = data_log[:, 3]\n",
    "den = data_log[:, 4]\n",
    "dt = data_log[:, 5]\n",
    "gr = data_log[:, 6]\n",
    "nphi = data_log[:, 7]\n",
    "pef = data_log[:, 8]\n",
    "deep_res = data_log[:, 9]\n",
    "mid_res = data_log[:, 10]\n",
    "shalow_res = data_log[:, 11]\n",
    "\n",
    "# Data samples and range (necessary for loops)\n",
    "\n",
    "samples = len(data_log)\n",
    "interval = depth[samples - 1] - depth[0]\n",
    "step = depth[2] - depth[1]\n",
    "top_interval = depth[0]\n",
    "base_interval = depth[samples - 1]"
   ]
  },
  {
   "cell_type": "markdown",
   "metadata": {},
   "source": [
    "**Core data** is usually delivered by Labs in Excel files. Pandas has a wonderful function that can read the content of the clipboard generated in Excel and save it directly to a dataframe. Just open the Excel file, select the columns you are interested (included the name of the variable with no spaces), copy them, and then run the following command (Thanks to Edmundo Peralta):"
   ]
  },
  {
   "cell_type": "code",
   "execution_count": null,
   "metadata": {},
   "outputs": [],
   "source": [
    "# This is the 3rd way that we have seen to load data in Python\n",
    "\n",
    "df_core = pd.read_clipboard(sep='\\t')\n",
    "\n",
    "# You still can use the previous command: dfcore = pd.read_excel('Input/core.xlsx', sheet_name='Sheet1')\n",
    "\n",
    "df_core"
   ]
  },
  {
   "cell_type": "code",
   "execution_count": null,
   "metadata": {},
   "outputs": [],
   "source": [
    "# Converting the series to arrays\n",
    "\n",
    "core_depth = np.array(df_core['depth'])\n",
    "core_phi = np.array(df_core['phi'])/100\n",
    "core_k = np.array(df_core['k'])"
   ]
  },
  {
   "cell_type": "code",
   "execution_count": null,
   "metadata": {},
   "outputs": [],
   "source": [
    "core_phi"
   ]
  },
  {
   "cell_type": "code",
   "execution_count": null,
   "metadata": {},
   "outputs": [],
   "source": [
    "# Unification of the core depth to the logs depth, it is necesary to plot log vs. core data (provisional)\n",
    "\n",
    "core_phi_log = np.empty(len(depth))\n",
    "core_k_log = np.empty(len(depth))\n",
    "\n",
    "core_phi_log[:] = np.NaN\n",
    "core_k_log[:] = np.NaN\n",
    "\n",
    "for i in range(0, len(depth)-1):\n",
    "    for j in range(0, len(core_depth)):\n",
    "        if core_depth[j] >= depth[i] and core_depth[j] < depth[i+1]:\n",
    "            core_phi_log[i] = core_phi[j]\n",
    "            core_k_log[i] = core_k[j]"
   ]
  },
  {
   "cell_type": "code",
   "execution_count": null,
   "metadata": {},
   "outputs": [],
   "source": [
    "core_k"
   ]
  },
  {
   "cell_type": "code",
   "execution_count": null,
   "metadata": {},
   "outputs": [],
   "source": [
    "core_k_log"
   ]
  },
  {
   "cell_type": "code",
   "execution_count": null,
   "metadata": {},
   "outputs": [],
   "source": [
    "print('Core samples: ', len(core_phi), 'vs.','Core log samples: ', len(core_phi_log),'\\n')\n",
    "\n",
    "print('NaN in the Core log data: ', len(core_phi_log) - len(core_phi))"
   ]
  },
  {
   "cell_type": "markdown",
   "metadata": {},
   "source": [
    "<a  id=\"varver\"></a>\n",
    "\n",
    "<h3> 1.1.2 Variables verification</h3>\n",
    "\n",
    "In log interpretation, once the variables (logs, cores or constants) are created, it is necessary to verify them constantly. You can do this printing the variables and their properties, however this would be highly inefficient. A better way to track all the variables will be to use the Variable Inspector tool provided by the Nbextensions (also available in Spyder and other IDEs, Integrated Development Environments). o install this library execute the following command in a cmd window:\n",
    "\n",
    "`pip install jupyter_contrib_nbextensions`\n",
    "\n",
    "After installing the extensions , go to Edit in the NB Menu bar and then nbextensions config. Click on the Variable Inspector button, this will display a icon in the Tool bar, which allows you to activate or deactivate the Variable Inspector tool:\n",
    "\n",
    "<img src=\"NB_images\\inspector.png\" style=\"width:500px\">"
   ]
  },
  {
   "cell_type": "code",
   "execution_count": null,
   "metadata": {},
   "outputs": [],
   "source": [
    "# GR variable verification\n",
    "\n",
    "print('gr:', gr)\n",
    "print()\n",
    "\n",
    "gr_range = np.max(gr) - np.min(gr)\n",
    "\n",
    "print('samples     =', len(gr))\n",
    "print('range       =', gr_range)\n",
    "print('min         =', np.min(gr))\n",
    "print('p33         =', np.percentile(gr, 33))\n",
    "print('mean        =', np.mean(gr))\n",
    "print('p66         =', np.percentile(gr, 66))\n",
    "print('max         =', np.max(gr))\n",
    "print('std         =', np.std(gr))\n",
    "print('mean + 3std =', (np.mean(gr) + 3*np.std(gr)))"
   ]
  },
  {
   "cell_type": "code",
   "execution_count": null,
   "metadata": {},
   "outputs": [],
   "source": [
    "# pre_core phi verification\n",
    "\n",
    "print('core_phi:', '\\n', core_phi)\n",
    "print()\n",
    "\n",
    "core_phi_range = np.max(core_phi) - np.min(core_phi)\n",
    "\n",
    "print('samples     =', len(core_phi))\n",
    "print('range       =', core_phi_range)\n",
    "print('min         =', np.min(core_phi))\n",
    "print('p33         =', np.percentile(core_phi, 33))\n",
    "print('mean        =', np.mean(core_phi))\n",
    "print('p66         =', np.percentile(core_phi, 66))\n",
    "print('max         =', np.max(core_phi))\n",
    "print('std         =', np.std(core_phi))\n",
    "print('mean + 3std =', (np.mean(core_phi) + 3*np.std(core_phi)))"
   ]
  },
  {
   "cell_type": "code",
   "execution_count": null,
   "metadata": {},
   "outputs": [],
   "source": [
    "# pre_core k verification\n",
    "\n",
    "print('core_k:', '\\n', core_k)\n",
    "print()\n",
    "\n",
    "core_k_range = np.max(core_k) - np.min(core_k)\n",
    "\n",
    "print('samples     =', len(core_k))\n",
    "print('range       =', core_k_range)\n",
    "print('min         =', np.min(core_k))\n",
    "print('p33         =', np.percentile(core_k,33))\n",
    "print('mean        =', np.mean(core_k))\n",
    "print('p66         =', np.percentile(core_k,66))\n",
    "print('max         =', np.max(core_k))\n",
    "print('std         =', np.std(core_k))\n",
    "print('mean + 3std =', (np.mean(core_k) + 3*np.std(core_k)))"
   ]
  },
  {
   "cell_type": "code",
   "execution_count": null,
   "metadata": {},
   "outputs": [],
   "source": [
    "df_core.describe()"
   ]
  },
  {
   "cell_type": "markdown",
   "metadata": {},
   "source": [
    "<a  id=\"indis\"></a>\n",
    "\n",
    "<h3> 1.1.3 Input logs and core display</h3>\n",
    "\n",
    "The simpler way to verify your input logs is to plot them together in a multiplot. \n",
    "\n",
    "Instead of plotting directly in the notebook, we are going to use *Matplotlib qt* library to send all our plots to independent and more flexible windows. The function of this library (also calls magic command) is to provided general-purpose GUI (Graphic User Interface) for the Python programs. To install this library execute the following command in a cmd window:\n",
    "                                       \n",
    "`pip install pyqt5`"
   ]
  },
  {
   "cell_type": "code",
   "execution_count": null,
   "metadata": {},
   "outputs": [],
   "source": [
    "# Single plot of gamma ray\n",
    "\n",
    "plt.plot(gr, depth)\n",
    "plt.ylim(5250, 4550)"
   ]
  },
  {
   "cell_type": "code",
   "execution_count": null,
   "metadata": {},
   "outputs": [],
   "source": [
    "# Before continue let's make our Jupyter cells a bit bigger\n",
    "\n",
    "from IPython.display import display, HTML\n",
    "\n",
    "display(HTML(data=\"\"\"\n",
    "<style>\n",
    "    div#notebook-container    { width: 95%; }\n",
    "    div#menubar-container     { width: 65%; }\n",
    "    div#maintoolbar-container { width: 60%; }\n",
    "</style>\n",
    "\"\"\"))"
   ]
  },
  {
   "cell_type": "code",
   "execution_count": null,
   "metadata": {},
   "outputs": [],
   "source": [
    "# Activation of the Matplotlib qt UGI for the whole notebook\n",
    "\n",
    "%matplotlib qt"
   ]
  },
  {
   "cell_type": "code",
   "execution_count": null,
   "metadata": {},
   "outputs": [],
   "source": [
    "# Single and independent plot of gamma ray\n",
    "\n",
    "plt.figure(1, figsize=(13, 8))\n",
    "\n",
    "plt.plot(gr, depth)\n",
    "plt.ylim(5250, 4550)"
   ]
  },
  {
   "cell_type": "code",
   "execution_count": null,
   "metadata": {
    "scrolled": true
   },
   "outputs": [],
   "source": [
    "# Multiplot of the input logs with CSG and cores\n",
    "\n",
    "top_display = 4550\n",
    "base_display = 5250\n",
    "\n",
    "plt.figure(2, figsize=(13, 8))\n",
    "\n",
    "# Track 1\n",
    "plt.subplot(1, 8, 1)\n",
    "plt.plot(cal, depth, label='CAL')\n",
    "plt.fill_betweenx(depth, cal, bs, where=bs >= cal,facecolor='brown', alpha=0.3)\n",
    "plt.fill_betweenx(depth, cal, bs, where=bs <= cal, facecolor='blue', alpha=0.3)\n",
    "plt.axis([7, 15, base_display, top_display])\n",
    "plt.plot(bs, depth, 'r', label=\"BIT\")\n",
    "plt.title('BOREHOLE SIZE (inch)')\n",
    "plt.legend()\n",
    "plt.grid(True)\n",
    "\n",
    "# Track 2\n",
    "plt.subplot(1, 8, 2)\n",
    "plt.plot(gr, depth)\n",
    "plt.axis([0, 200, base_display, top_display])\n",
    "plt.title('GR (api)')\n",
    "plt.grid(True)\n",
    "\n",
    "# Track 3\n",
    "plt.subplot(1, 8, 3)\n",
    "plt.semilogx(deep_res, depth, 'r', label=\"DEEP\")\n",
    "plt.semilogx(mid_res, depth, 'k', label=\"MID\")\n",
    "plt.semilogx(shalow_res, depth, label=\"SHAL\")\n",
    "plt.axis([1, 1000, base_display, top_display])\n",
    "plt.title('RESISTIVITY (ohmm)')\n",
    "plt.legend()\n",
    "plt.grid(True)\n",
    "\n",
    "# Track 4\n",
    "plt.subplot(1, 8, 4)\n",
    "plt.plot(nphi, depth)\n",
    "plt.plot(core_phi_log, depth, '.', color='black', label = 'CORE')\n",
    "plt.axis([0, 0.4, base_display, top_display])\n",
    "plt.title('NPHI (v/V)')\n",
    "plt.legend()\n",
    "plt.grid(True)\n",
    "\n",
    "# Track 5\n",
    "plt.subplot(1, 8, 5)\n",
    "plt.plot(den, depth)\n",
    "plt.ylim(base_display, top_display)\n",
    "plt.axis([1.8, 4.8, base_display, top_display])\n",
    "plt.title('DEN (gr/cm3)')\n",
    "plt.grid(True)\n",
    "\n",
    "# Track 6\n",
    "plt.subplot(1, 8, 6)\n",
    "plt.plot(dden, depth)\n",
    "plt.axis([-0.1, 0.3, base_display, top_display])\n",
    "plt.title('DELTADEN (gr/cm3)')\n",
    "plt.grid(True)\n",
    "\n",
    "# Track 7\n",
    "plt.subplot(1, 8, 7)\n",
    "plt.plot(dt, depth)\n",
    "plt.axis([50, 90, base_display, top_display])\n",
    "plt.title('DT (US/ft)')\n",
    "plt.grid(True)\n",
    "\n",
    "# track 8\n",
    "plt.subplot(1, 8, 8)\n",
    "plt.plot(pef, depth)\n",
    "plt.axis([0, 4, base_display, top_display])\n",
    "plt.title('PEF')\n",
    "plt.grid(True)\n",
    "\n",
    "# plt.tight_layout(1)\n",
    "# plt.show()"
   ]
  },
  {
   "cell_type": "markdown",
   "metadata": {
    "cell_style": "center"
   },
   "source": [
    "<a  id=\"inter\"></a>\n",
    "\n",
    "<h2> 1.2 Interval re selection</h2>\n",
    "\n",
    "We have to eliminate the portion of the logs that were acquired inside the casing (CSV). For this we use the **mask or filter tool** which has the following syntax:\n",
    "\n",
    "`new_array = array[condition]`\n",
    "\n",
    "The mask can be visualized (from Matt Eding) as follow, after setting a condition over a matrix, a new matrix is created with the items that met the condition:\n",
    "\n",
    "<img src=\"NB_images/mask.gif\" style=\"width: 600px;\"/> "
   ]
  },
  {
   "cell_type": "code",
   "execution_count": null,
   "metadata": {},
   "outputs": [],
   "source": [
    "# Re defining the data array by a mask or filter\n",
    "\n",
    "data_log = data_log[depth >= 4600]\n",
    "core_phi_log = core_phi_log[depth >= 4600]\n",
    "core_k_log = core_k_log[depth >= 4600]\n",
    "\n",
    "# Allocate different columns to different variables (logs)\n",
    "\n",
    "depth = data_log[:, 0]\n",
    "bs = data_log[:, 1]\n",
    "cal = data_log[:, 2]\n",
    "dden = data_log[:, 3]\n",
    "den = data_log[:, 4]\n",
    "dt = data_log[:, 5]\n",
    "gr = data_log[:, 6]\n",
    "nphi = data_log[:, 7]\n",
    "pef = data_log[:, 8]\n",
    "deep_res = data_log[:, 9]\n",
    "mid_res = data_log[:, 10]\n",
    "shalow_res = data_log[:, 11]\n",
    "\n",
    "# Data samples and range (necessary for loops)\n",
    "\n",
    "samples = len(data_log)\n",
    "interval = depth[samples - 1] - depth[0]\n",
    "step = depth[2] - depth[1]\n",
    "top_interval = depth[0]\n",
    "base_interval = depth[samples - 1]"
   ]
  },
  {
   "cell_type": "code",
   "execution_count": null,
   "metadata": {},
   "outputs": [],
   "source": [
    "# Loading the mudlog image\n",
    "\n",
    "mudlog = Image.open(\"Input/mudlog_4600_5250.png\")"
   ]
  },
  {
   "cell_type": "markdown",
   "metadata": {},
   "source": [
    "The top of display interval of the logs has changed from 4545 to 4600 ft, activate the right `top_display`"
   ]
  },
  {
   "cell_type": "code",
   "execution_count": null,
   "metadata": {
    "scrolled": true
   },
   "outputs": [],
   "source": [
    "# Multiplot of the input logs without CSG and cores\n",
    "\n",
    "# top_display = 4550\n",
    "top_display = 4600\n",
    "base_display = 5250\n",
    "\n",
    "plt.figure(3, figsize=(13, 8))\n",
    "\n",
    "# Track 1\n",
    "plt.subplot(1, 9, 1)\n",
    "plt.imshow(mudlog, aspect='auto', extent=(1, 2, base_display, top_display))\n",
    "plt.title('Mudlog')\n",
    "\n",
    "# Track 2\n",
    "plt.subplot(1, 9, 2)\n",
    "plt.plot(cal, depth, label='CAL')\n",
    "plt.fill_betweenx(depth, cal, bs, where=bs >= cal,facecolor='brown', alpha=0.3)\n",
    "plt.fill_betweenx(depth, cal, bs, where=bs <= cal, facecolor='blue', alpha=0.3)\n",
    "plt.axis([7, 15, base_display, top_display])\n",
    "plt.plot(bs, depth, 'r', label=\"BIT\")\n",
    "plt.title('BOREHOLE SIZE (inch)')\n",
    "plt.legend()\n",
    "plt.grid(True)\n",
    "\n",
    "# Track 3\n",
    "plt.subplot(1, 9, 3)\n",
    "plt.plot(gr, depth)\n",
    "plt.axis([0, 200, base_display, top_display])\n",
    "plt.title('GR (api)')\n",
    "plt.grid(True)\n",
    "\n",
    "# Track 4\n",
    "plt.subplot(1, 9, 4)\n",
    "plt.semilogx(deep_res, depth, 'r', label=\"DEEP\")\n",
    "plt.semilogx(mid_res, depth, 'k', label=\"MID\")\n",
    "plt.semilogx(shalow_res, depth, label=\"SHAL\")\n",
    "plt.axis([1, 1000, base_display, top_display])\n",
    "plt.title('RESISTIVITY (ohmm)')\n",
    "plt.legend()\n",
    "plt.grid(True)\n",
    "\n",
    "# Track 5\n",
    "plt.subplot(1, 9, 5)\n",
    "plt.plot(nphi, depth)\n",
    "plt.plot(core_phi_log, depth, '.', color='black', label = 'CORE')\n",
    "plt.axis([0, 0.4, base_display, top_display])\n",
    "plt.title('NPHI (v/V)')\n",
    "plt.legend()\n",
    "plt.grid(True)\n",
    "\n",
    "# Track 6\n",
    "plt.subplot(1, 9, 6)\n",
    "plt.plot(den, depth)\n",
    "plt.ylim(base_display, top_display)\n",
    "plt.axis([1.8, 2.8, base_display, top_display])\n",
    "plt.title('DEN (gr/cm3)')\n",
    "plt.grid(True)\n",
    "\n",
    "# Track 7\n",
    "plt.subplot(1, 9, 7)\n",
    "plt.plot(dden, depth)\n",
    "plt.axis([-0.1, 0.3, base_display, top_display])\n",
    "plt.title('DELTADEN (gr/cm3)')\n",
    "plt.grid(True)\n",
    "\n",
    "# Track 8\n",
    "plt.subplot(1, 9, 8)\n",
    "plt.plot(dt, depth)\n",
    "plt.axis([50, 90, base_display, top_display])\n",
    "plt.title('DT (US/ft)')\n",
    "plt.grid(True)\n",
    "\n",
    "# track 9\n",
    "plt.subplot(1, 9, 9)\n",
    "plt.plot(pef, depth)\n",
    "plt.axis([0, 4, base_display, top_display])\n",
    "plt.title('PEF')\n",
    "plt.grid(True)\n",
    "\n",
    "# plt.tight_layout(1)\n",
    "# plt.show()"
   ]
  },
  {
   "cell_type": "markdown",
   "metadata": {
    "cell_style": "center"
   },
   "source": [
    "<a  id=\"inhist\"></a>\n",
    "\n",
    "<h2> 1.3 Input logs histograms </h2>\n",
    "\n",
    "Histograms should be the next step to understand your input logs. As well as the logs, they can be combined in a multiplot:"
   ]
  },
  {
   "cell_type": "code",
   "execution_count": null,
   "metadata": {},
   "outputs": [],
   "source": [
    "plt.figure(4, figsize=(21, 13))\n",
    "\n",
    "plt.subplot(2,3,1)\n",
    "plt.hist(cal, bins=20)\n",
    "plt.axvline(x=np.mean(cal)-np.std(cal), ls = \"--\", color='red',label='mean-std')\n",
    "plt.axvline(x=np.mean(cal), ls = \"--\", color='black',label='mean')\n",
    "plt.axvline(x=np.mean(cal)+np.std(cal), ls = \"--\", color='blue',label='mean+std')\n",
    "plt.xlim(6, 16)\n",
    "plt.xlabel('CAL (inch)')\n",
    "plt.ylabel('Frequency')\n",
    "plt.grid(True)\n",
    "plt.legend()\n",
    "\n",
    "plt.subplot(2,3,2)\n",
    "plt.hist(gr, bins=20)\n",
    "plt.axvline(x=np.mean(gr)-np.std(gr), ls = \"--\", color='red')\n",
    "plt.axvline(x=np.mean(gr), ls = \"--\", color='black')\n",
    "plt.axvline(x=np.mean(gr)+np.std(gr), ls = \"--\", color='blue')\n",
    "plt.xlim(0, 180)\n",
    "plt.xlabel('GR (api)')\n",
    "plt.grid(True)\n",
    "\n",
    "plt.subplot(2,3,3)\n",
    "plt.hist(pef, bins=20)\n",
    "plt.axvline(x=np.mean(pef)-np.std(pef), ls = \"--\", color='red')\n",
    "plt.axvline(x=np.mean(pef), ls = \"--\", color='black')\n",
    "plt.axvline(x=np.mean(pef)+np.std(pef), ls = \"--\", color='blue')\n",
    "plt.xlim(0, 4)\n",
    "plt.xlabel ('PEF')\n",
    "plt.grid(True)\n",
    "\n",
    "plt.subplot(2,3,4)\n",
    "plt.hist(nphi, bins=20)\n",
    "plt.axvline(x=np.mean(nphi)-np.std(nphi), ls = \"--\", color='red')\n",
    "plt.axvline(x=np.mean(nphi), ls = \"--\", color='black')\n",
    "plt.axvline(x=np.mean(nphi)+np.std(nphi), ls = \"--\", color='blue')\n",
    "plt.xlim(0, 0.4)\n",
    "plt.xlabel ('NPHI (v/v)')\n",
    "plt.ylabel('Frequency')\n",
    "plt.grid(True)\n",
    "\n",
    "plt.subplot(2,3,5)\n",
    "plt.hist(den, bins=20)\n",
    "plt.axvline(x=np.mean(den)-np.std(den), ls = \"--\", color='red')\n",
    "plt.axvline(x=np.mean(den), ls = \"--\", color='black')\n",
    "plt.axvline(x=np.mean(den)+np.std(den), ls = \"--\", color='blue')\n",
    "plt.xlim(1.8, 2.8)\n",
    "plt.xlabel ('DEN (g/cm3)')\n",
    "plt.grid(True)\n",
    "\n",
    "plt.subplot(2,3,6)\n",
    "plt.hist(deep_res)\n",
    "plt.axvline(x=np.mean(deep_res)-np.std(deep_res), ls = \"--\", color='red')\n",
    "plt.axvline(x=np.mean(deep_res), ls = \"--\", color='black')\n",
    "plt.axvline(x=np.mean(deep_res)+np.std(deep_res), ls = \"--\", color='blue')\n",
    "# plt.xscale('log')\n",
    "plt.xlabel ('DEEP RES (ohmm)')\n",
    "plt.grid(True)\n",
    "\n",
    "#plt.tight_layout(1)\n",
    "plt.show()"
   ]
  },
  {
   "cell_type": "markdown",
   "metadata": {
    "cell_style": "center"
   },
   "source": [
    "<a  id=\"incross\"></a>\n",
    "\n",
    "<h2> 1.4 Input logs cross plots </h2>\n",
    "\n",
    "Cross plots provide an extra and detail view of your input logs. They help to the identification of the lithology, finding anomalies, and in the selection of parameters needed in the calculations of output logs.\n",
    "\n",
    "Some of the shown cross plot have reference layouts (lines) that are just extra plots over the cross plots. These layout, saved in the folder of the same name, were acquired (as x and y pairs) from classic plot using the following digitalization tool:\n",
    "\n",
    "https://automeris.io/WebPlotDigitizer/"
   ]
  },
  {
   "cell_type": "code",
   "execution_count": null,
   "metadata": {},
   "outputs": [],
   "source": [
    "# Input logs cross plots\n",
    "\n",
    "# neu vs. den xpolt\n",
    "\n",
    "plt.figure(5, figsize=(21, 13))\n",
    "\n",
    "plt.subplot(2, 3, 1)\n",
    "plt.plot(nphi, den, '.')\n",
    "plt.ylim(3, 1.8)\n",
    "plt.xlim(-0.1, 0.6)\n",
    "plt.xlabel('NPHI')\n",
    "plt.ylabel('DEN (g/cm3)')\n",
    "plt.grid(True)\n",
    "\n",
    "# loading the layout\n",
    "\n",
    "neu2den_qz = np.genfromtxt('Layouts/neu2den_qz.csv',delimiter=',', dtype=np.float32)\n",
    "neu2den_cal = np.genfromtxt('Layouts/neu2den_cal.csv', delimiter=',', dtype=np.float32)\n",
    "neu2den_dol = np.genfromtxt('Layouts/neu2den_dol.csv', delimiter=',', dtype=np.float32)\n",
    "\n",
    "# Ploting the layout and its labels\n",
    "\n",
    "plt.plot(neu2den_qz[:, 0], neu2den_qz[:, 1], 'black')\n",
    "plt.text(-0.08, 2.55, 'Quartz')\n",
    "plt.plot(neu2den_cal[:, 0], neu2den_cal[:, 1], 'black')\n",
    "plt.text(-0.08, 2.75, 'Calcite')\n",
    "plt.plot(neu2den_dol[:, 0], neu2den_dol[:, 1], 'black')\n",
    "plt.text(-0.08, 2.91, 'Dolomite')\n",
    "\n",
    "# pef vs. den xpolt\n",
    "\n",
    "plt.subplot(2, 3, 2)\n",
    "plt.plot(pef, den, '.')\n",
    "plt.ylim(3, 1.8)\n",
    "plt.xlim(1, 6)\n",
    "plt.xlabel('PEF')\n",
    "plt.ylabel('DEN (g/cm3)')\n",
    "plt.grid(True)\n",
    "\n",
    "# loading the layout\n",
    "\n",
    "pef2den_qz = np.genfromtxt('layouts/pef2den_qz.csv', delimiter=',', dtype=np.float32)\n",
    "pef2den_cal = np.genfromtxt('layouts/pef2den_cal.csv', delimiter=',', dtype=np.float32)\n",
    "pef2den_dol = np.genfromtxt('layouts/pef2den_dol.csv', delimiter=',', dtype=np.float32)\n",
    "pef2den_sal = np.genfromtxt('layouts/pef2den_sal.csv', delimiter=',', dtype=np.float32)\n",
    "pef2den_anh = np.genfromtxt('layouts/pef2den_anh.csv', delimiter=',', dtype=np.float32)\n",
    "\n",
    "# Ploting the layout and its labels\n",
    "\n",
    "plt.plot(pef2den_qz[:, 0], pef2den_qz[:, 1], 'black')\n",
    "plt.text(1.6, 2.7, 'Quartz')\n",
    "plt.plot(pef2den_cal[:, 0], pef2den_cal[:, 1], 'black')\n",
    "plt.text(5, 2.75, 'Calcite')\n",
    "plt.plot(pef2den_dol[:, 0], pef2den_dol[:, 1], 'black')\n",
    "plt.text(3, 2.91, 'Dolomite')\n",
    "plt.plot(pef2den_sal[:, 0], pef2den_sal[:, 1], 'black')\n",
    "plt.text(4.75, 2.07, 'Salt')\n",
    "plt.plot(pef2den_anh[:, 0], pef2den_anh[:, 1], 'black')\n",
    "plt.text(5.1, 2.93, 'Anhydrite')\n",
    "\n",
    "# %% Other plots\n",
    "\n",
    "plt.subplot(2, 3, 3)\n",
    "plt.plot(dt, den, '.')\n",
    "plt.ylim(2.8, 1.8)\n",
    "plt.xlim(50, 100)\n",
    "plt.xlabel('DT(msec/ft)')\n",
    "plt.ylabel('DEN (g/cm3)')\n",
    "plt.grid(True)\n",
    "\n",
    "plt.subplot(2, 3, 4)\n",
    "plt.semilogx(deep_res, gr, '.')\n",
    "plt.xlim(1, 1000)\n",
    "plt.ylim(0, 160)\n",
    "plt.xlabel('DEEP RES (ohmm)')\n",
    "plt.ylabel('GR (api)')\n",
    "plt.grid(True)\n",
    "\n",
    "plt.subplot(2, 3, 5)\n",
    "plt.plot(dt, gr, '.')\n",
    "plt.xlim(50, 100)\n",
    "plt.ylim(0, 160)\n",
    "plt.xlabel('DT(msec/ft)')\n",
    "plt.ylabel('GR (api)')\n",
    "plt.grid(True)\n",
    "\n",
    "plt.show()"
   ]
  },
  {
   "cell_type": "markdown",
   "metadata": {},
   "source": [
    "<h2>End of part </h2>\n",
    "\n",
    "[Return to Table of Content](#toc)"
   ]
  },
  {
   "cell_type": "markdown",
   "metadata": {
    "cell_style": "center"
   },
   "source": [
    "<a  id=\"par\"></a>\n",
    "\n",
    "<h1> 2 Parameter selection </h1>\n",
    "\n",
    "By printing the main statistical parameters and histograms of the logs and masked or filter logs, you can answer questions such as:\n",
    "\n",
    "                     What is the resistivity of the shales?\n",
    "                     What is the sonic of the sands?\n",
    "                     ...\n",
    "                     \n",
    "In order to answer the first question you can use the fact that shales have high Gamma Ray values (gr):"
   ]
  },
  {
   "cell_type": "markdown",
   "metadata": {},
   "source": [
    "<a  id=\"local\"></a>\n",
    "\n",
    "<h2> 2.1 Selection by local UDF </h2>\n",
    "\n",
    "Local functions can be used many times in the same Notebook."
   ]
  },
  {
   "cell_type": "code",
   "execution_count": null,
   "metadata": {},
   "outputs": [],
   "source": [
    "# local function for main statistical parameters\n",
    "\n",
    "def local_stat(l):\n",
    "    \n",
    "    l_range = np.max(l) - np.min(l)\n",
    "\n",
    "    # Stat of l\n",
    "    \n",
    "    print('samples     =', len(l))\n",
    "    print('range       =', l_range)\n",
    "    print('min         =', np.min(l))\n",
    "    print('p33         =', np.percentile(l,33))\n",
    "    print('mean        =', np.mean(l))    \n",
    "    print('p66         =', np.percentile(l,66))    \n",
    "    print('max         =', np.max(l))\n",
    "    print('std         =', np.std(l))\n",
    "    print('mean + 3std =', (np.mean(l) + 3*np.std(l)))"
   ]
  },
  {
   "cell_type": "code",
   "execution_count": null,
   "metadata": {
    "scrolled": true
   },
   "outputs": [],
   "source": [
    "# Main statistical parameters of Gamma Ray\n",
    "\n",
    "local_stat(gr)"
   ]
  },
  {
   "cell_type": "code",
   "execution_count": null,
   "metadata": {},
   "outputs": [],
   "source": [
    "# Main statistical parameters of Deep Resistivity\n",
    "\n",
    "local_stat(deep_res)"
   ]
  },
  {
   "cell_type": "code",
   "execution_count": null,
   "metadata": {},
   "outputs": [],
   "source": [
    "# Main statistical parameters of mask Deep Resistivity\n",
    "  \n",
    "# An alternatively to avoid NaN is this command: sub_var = var[~np.isnan(var)]\n",
    "\n",
    "deep_res_shale = deep_res[gr > 100]\n",
    "\n",
    "local_stat(deep_res_shale)"
   ]
  },
  {
   "cell_type": "code",
   "execution_count": null,
   "metadata": {},
   "outputs": [],
   "source": [
    "# Local function to do the all the previous processes in one shot and add some plots\n",
    "\n",
    "def local_mask_stat(l, label, ml):\n",
    "    \n",
    "    # l is an array, ml is a subset of l (mask or filter l), label is an string\n",
    "\n",
    "    log_range = np.max(l) - np.min(l)\n",
    "\n",
    "    # Report of l\n",
    "    \n",
    "    file = open('Output/'+label+'_stat.txt', \"w\")\n",
    "    \n",
    "    file.writelines(\"Statistics of \"+label+\" \\n\")\n",
    "    file.writelines(\" \\n\")\n",
    "    file.writelines(\"Minimum value          :\"+str(np.min(l))+\" \\n\")   \n",
    "    file.writelines(\"P33                    :\"+str(np.percentile(l,33))+\" \\n\")      \n",
    "    file.writelines(\"Mean                   :\"+str(np.mean(l))+\" \\n\")   \n",
    "    file.writelines(\"P66                    :\"+str(np.percentile(l,66))+\" \\n\")    \n",
    "    file.writelines(\"Maximum value          :\"+str(np.max(l))+\" \\n\")\n",
    "    file.writelines(\"Range                  :\"+str(log_range)+\" \\n\")\n",
    "    file.writelines(\"Standard deviation     :\"+str(np.std(l))+\" \\n\")\n",
    "    file.writelines(\"Mean + 3std            :\" + str((np.mean(l) + 3*np.std(l)))+\" \\n\")     \n",
    "    file.writelines(\" \\n\")\n",
    "\n",
    "    # Report of ml (filter l)\n",
    "    \n",
    "    ml_range = np.max(ml) - np.min(ml)\n",
    "\n",
    "    file.writelines(\"Statistics of filter \"+label+\" \\n\")\n",
    "    file.writelines(\" \\n\")\n",
    "    file.writelines(\"Minimum value          :\"+str(np.min(ml))+\" \\n\")\n",
    "    file.writelines(\"P33                    :\"+str(np.percentile(ml,33))+\" \\n\")      \n",
    "    file.writelines(\"Mean                   :\"+str(np.mean(ml))+\" \\n\")   \n",
    "    file.writelines(\"P66                    :\"+str(np.percentile(ml,66))+\" \\n\")   \n",
    "    file.writelines(\"Maximum value          :\"+str(np.max(ml))+\" \\n\")\n",
    "    file.writelines(\"Range                  :\"+str(ml_range)+\" \\n\")\n",
    "    file.writelines(\"Mean                   :\"+str(np.mean(ml))+\" \\n\")\n",
    "    file.writelines(\"Standard deviation     :\"+str(np.std(ml))+\" \\n\")\n",
    "    file.writelines(\"Mean + 3std            :\" +str((np.mean(ml) + 3*np.std(ml)))+\" \\n\")\n",
    "                    \n",
    "    file.close()\n",
    "\n",
    "    # Histogran of l\n",
    "    \n",
    "#      %matplotlib inline\n",
    "    \n",
    "    plt.subplot(1, 2, 1)\n",
    "    plt.hist(l)\n",
    "    plt.axvline(x=np.mean(l)-np.std(l), ls=\"--\", color='red', label='mean-std')\n",
    "    plt.axvline(x=np.mean(l), ls=\"--\", color='black', label='mean: '+str(np.mean(l)))\n",
    "    plt.axvline(x=np.mean(l)+np.std(l), ls=\"--\",color='blue', label='mean+std')        \n",
    "    plt.xlabel('original '+label.lower())\n",
    "    plt.ylabel('frequency')\n",
    "    plt.legend()\n",
    "    plt.grid(True)\n",
    "\n",
    "    # Histogran of ml (filter l)\n",
    "    \n",
    "    plt.subplot(1, 2, 2)\n",
    "    plt.hist(ml)\n",
    "    plt.axvline(x=np.mean(ml)-np.std(ml), ls=\"--\", color='red', label='mean-std')\n",
    "    plt.axvline(x=np.mean(ml), ls=\"--\", color='black', label='mean: '+str(np.mean(ml)))\n",
    "    plt.axvline(x=np.mean(ml)+np.std(ml), ls=\"--\", color='blue', label='mean+std')\n",
    "    plt.xlabel('filter '+label.lower())\n",
    "    plt.ylabel('frequency')\n",
    "    plt.legend()\n",
    "    plt.grid(True)\n",
    "    \n",
    "    plt.show()\n",
    "\n",
    "    return"
   ]
  },
  {
   "cell_type": "code",
   "execution_count": null,
   "metadata": {},
   "outputs": [],
   "source": [
    "# Let's try with the another value of GR\n",
    "\n",
    "deep_res_shale = deep_res[gr > 100]\n",
    "\n",
    "plt.figure(6, figsize=(13, 8))\n",
    "\n",
    "local_mask_stat(deep_res, 'deep_res', deep_res_shale)"
   ]
  },
  {
   "cell_type": "code",
   "execution_count": null,
   "metadata": {
    "scrolled": true
   },
   "outputs": [],
   "source": [
    "# The other question\n",
    "\n",
    "nphi_shale = nphi[gr > 100]\n",
    "\n",
    "plt.figure(6, figsize=(13, 8))\n",
    "\n",
    "local_mask_stat(nphi, 'nphi', nphi_shale)"
   ]
  },
  {
   "cell_type": "markdown",
   "metadata": {},
   "source": [
    "<a  id=\"global\"></a>\n",
    "\n",
    "<h2> 2.2 Selection by global function </h2>\n",
    "\n",
    "Global functions can be defined once and then used by all notebooks. For that you have to do the following at the beginning of the nb:\n",
    "\n",
    "* Import the sys standard library\n",
    "* Declare the location of the global udf.py (Python file with the UDFs)\n",
    "* Import the udf.py\n",
    "\n",
    "[Go to import](#import)\n",
    "\n",
    "After the previous you can finally call and specific UDF within the udf.py"
   ]
  },
  {
   "cell_type": "code",
   "execution_count": null,
   "metadata": {
    "scrolled": true
   },
   "outputs": [],
   "source": [
    "# Statistics of deep resistivity by global UDF\n",
    "\n",
    "udf.global_stat(deep_res)"
   ]
  },
  {
   "cell_type": "code",
   "execution_count": null,
   "metadata": {},
   "outputs": [],
   "source": [
    "# Statistics of mask deep resistivity by global UDF\n",
    "\n",
    "deep_res_shale = deep_res[gr > 100]\n",
    "\n",
    "plt.figure(6, figsize=(13, 8))\n",
    "\n",
    "udf.global_mask_stat(deep_res, 'deep res', deep_res_shale)"
   ]
  },
  {
   "cell_type": "markdown",
   "metadata": {},
   "source": [
    "<h2>End of subpart </h2>\n",
    "\n",
    "[Return to Table of Content](#toc)"
   ]
  },
  {
   "cell_type": "markdown",
   "metadata": {},
   "source": [
    "<a  id=\"output\"></a>\n",
    "\n",
    "<h1>3 Output logs</h1>\n",
    "\n",
    "By output logs we understand the logs that are calculated from the original logs (input), those acquired in the well. The main three output logs or curves that we are going to compute, and its required input logs, are: \n",
    "\n",
    "* Volume of shale (vsh): gamma ray (gr) , spontaneous potential (sp)\n",
    "* Porosity (phi): neutron porosity (nphi), density (den), sonic (dt)\n",
    "* Water saturation (sw): deep resistivity (deep_res)"
   ]
  },
  {
   "cell_type": "markdown",
   "metadata": {},
   "source": [
    "<a  id=\"cal\"></a>\n",
    "\n",
    "<h2>3.1 Output logs calculation </h2>\n",
    "\n",
    "There are several equations or models (some very complex) for each of three output logs. For this demonstration we are going to use the simplest possible, which can be seen in the following cell"
   ]
  },
  {
   "cell_type": "code",
   "execution_count": null,
   "metadata": {},
   "outputs": [],
   "source": [
    "# Volume of shale by gamma ray\n",
    "\n",
    "gr_cl = 17    # gr clean or minimum\n",
    "gr_sh = 157    # gr of shales or maximum\n",
    "\n",
    "vsh = (gr - gr_cl)/(gr_sh - gr_cl)    # Similar to the unity-base normalization\n",
    "\n",
    "vsh = np.maximum(np.minimum(vsh, 1), 0.0001)   # Restreing the result  between (0,1]"
   ]
  },
  {
   "cell_type": "code",
   "execution_count": null,
   "metadata": {},
   "outputs": [],
   "source": [
    "# Total sonic porosity\n",
    "\n",
    "dt_qz = 56    # sonic of quartz\n",
    "dt_f = 218    # sonic of water\n",
    "\n",
    "sphi = (dt - dt_qz)/(dt_f - dt_qz)\n",
    "\n",
    "sphi = np.maximum(np.minimum(sphi, 1), 0.0001)"
   ]
  },
  {
   "cell_type": "markdown",
   "metadata": {},
   "source": [
    "To compute the effective porosity you have to subtract the porosity of the shale from the total porosity. To find the porosity of the shale you can use a UDF as the one defined above, `stat_fstat`. "
   ]
  },
  {
   "cell_type": "code",
   "execution_count": null,
   "metadata": {},
   "outputs": [],
   "source": [
    "# Total sonic porosity of the shale\n",
    "\n",
    "local_stat(sphi)"
   ]
  },
  {
   "cell_type": "code",
   "execution_count": null,
   "metadata": {},
   "outputs": [],
   "source": [
    "sphi_shale = sphi[gr > 100]\n",
    "\n",
    "local_stat(sphi_shale)"
   ]
  },
  {
   "cell_type": "code",
   "execution_count": null,
   "metadata": {},
   "outputs": [],
   "source": [
    "# Effective sonic porosity\n",
    "\n",
    "sphi_sh = 0.082\n",
    "\n",
    "eff_sphi = sphi - sphi_sh*vsh\n",
    "\n",
    "eff_sphi = np.maximum(np.minimum(eff_sphi, 1), 0.0001)"
   ]
  },
  {
   "cell_type": "code",
   "execution_count": null,
   "metadata": {},
   "outputs": [],
   "source": [
    "# Total Neutron-density porosity\n",
    "\n",
    "d_m = 2.65\n",
    "d_f = 1\n",
    "\n",
    "dphi = (d_m - den)/(d_m - d_f)\n",
    "\n",
    "ndphi = (dphi + nphi)/2\n",
    "\n",
    "ndphi = np.maximum(np.minimum(ndphi, 1), 0.0001)"
   ]
  },
  {
   "cell_type": "code",
   "execution_count": null,
   "metadata": {},
   "outputs": [],
   "source": [
    "# Total neutron-density porosity of the shale\n",
    "\n",
    "local_stat(ndphi)"
   ]
  },
  {
   "cell_type": "code",
   "execution_count": null,
   "metadata": {},
   "outputs": [],
   "source": [
    "ndphi_shale = ndphi[gr > 100]\n",
    "\n",
    "local_stat(ndphi_shale)"
   ]
  },
  {
   "cell_type": "code",
   "execution_count": null,
   "metadata": {},
   "outputs": [],
   "source": [
    "# Effective neutron-density porosity\n",
    "\n",
    "ndphi_sh = 0.109\n",
    "\n",
    "eff_ndphi = ndphi - ndphi_sh*vsh\n",
    "\n",
    "eff_ndphi = np.maximum(np.minimum(eff_ndphi, 1), 0.0001)"
   ]
  },
  {
   "cell_type": "markdown",
   "metadata": {},
   "source": [
    "To improve the estimation of porosity in the bad hole intervals we use the sonic porosity instead of the neutron-density porosity:"
   ]
  },
  {
   "cell_type": "code",
   "execution_count": null,
   "metadata": {},
   "outputs": [],
   "source": [
    "#### Porosity along bad hole intervals\n",
    "\n",
    "dcal = cal - bs\n",
    "\n",
    "# %matplotlib inline\n",
    "\n",
    "plt.figure(7, figsize=(13, 8))\n",
    "plt.plot(dden,dcal, '.')\n",
    "plt.ylabel('DCAL(inch)')\n",
    "plt.xlabel('DELTADEN(gr/cm3)')\n",
    "plt.axhline(y=1, ls=\"--\", color='red')\n",
    "plt.axvline(x=0.075, ls=\"--\", color='red')\n",
    "plt.text(0.22, 3.5, 'BAD HOLE AREA', color='red')\n",
    "plt.grid(True)\n",
    "plt.show()"
   ]
  },
  {
   "cell_type": "code",
   "execution_count": null,
   "metadata": {},
   "outputs": [],
   "source": [
    "# Composite (made of several) porosity address the bad hole intervals\n",
    "\n",
    "badhole = np.zeros(samples)\n",
    "comp_phi = np.zeros(samples)\n",
    "comp_eff_phi = np.zeros(samples)\n",
    "\n",
    "for i in range(0, samples):\n",
    "    if (dcal[i] > 1 and dden[i] > 0.075):\n",
    "        badhole[i] = 1\n",
    "        comp_phi[i] = sphi[i]\n",
    "        comp_eff_phi[i] = eff_sphi[i]\n",
    "        \n",
    "    else:\n",
    "        badhole[i] = 0\n",
    "        comp_phi[i] = ndphi[i]\n",
    "        comp_eff_phi[i] = eff_ndphi[i]"
   ]
  },
  {
   "cell_type": "markdown",
   "metadata": {},
   "source": [
    "Which porosity is most similar to the core porosity, the total (comp_phi) or the effective (comp_eff_phi)?"
   ]
  },
  {
   "cell_type": "code",
   "execution_count": null,
   "metadata": {},
   "outputs": [],
   "source": [
    "# In order the calculate the correlation coefficient it is necessary match the real values of the core_phi with the comp_phi (total porosity from the logs)\n",
    "\n",
    "sub_comp_phi = comp_phi[core_phi_log>=0]\n",
    "\n",
    "np.corrcoef(sub_comp_phi, core_phi)"
   ]
  },
  {
   "cell_type": "code",
   "execution_count": null,
   "metadata": {},
   "outputs": [],
   "source": [
    "sub_comp_eff_phi = comp_eff_phi[core_phi_log>=0]\n",
    "\n",
    "np.corrcoef(sub_comp_eff_phi, core_phi)"
   ]
  },
  {
   "cell_type": "code",
   "execution_count": null,
   "metadata": {},
   "outputs": [],
   "source": [
    "# Is core phi closer to total or effective log porosity?\n",
    "\n",
    "# %matplotlib inline\n",
    "\n",
    "plt.figure(8, figsize=(13, 8))\n",
    "\n",
    "x45 = [0, 1]\n",
    "y45 = x45\n",
    "\n",
    "plt.subplot(1, 2, 1)\n",
    "plt.scatter(core_phi_log, comp_phi, c=vsh, cmap='viridis_r')\n",
    "plt.plot(x45, y45, 'gray', linewidth=0.5)\n",
    "plt.axis([0, 0.25, 0, 0.25])\n",
    "plt.xlabel('CORE PHI (v/v)')\n",
    "plt.ylabel('TOTAL PHI (v/v)')\n",
    "plt.grid(True)\n",
    "\n",
    "plt.subplot(1, 2, 2)\n",
    "plt.scatter(core_phi_log, comp_eff_phi, c=vsh, cmap='viridis_r')\n",
    "plt.plot(x45, y45, 'gray', linewidth=0.5)\n",
    "plt.axis([0, 0.25, 0, 0.25])\n",
    "plt.xlabel('CORE PHI (v/v)')\n",
    "plt.ylabel('EFFECTIVE PHI (v/v)')\n",
    "plt.grid(True)\n",
    "\n",
    "# Color scale bar\n",
    "\n",
    "cb = plt.colorbar()\n",
    "cb.set_label('vsh')\n",
    "\n",
    "plt.show()"
   ]
  },
  {
   "cell_type": "code",
   "execution_count": null,
   "metadata": {},
   "outputs": [],
   "source": [
    "# Temperature (ºC) along the well\n",
    "\n",
    "mrt = 104\n",
    "mrtd = 5250\n",
    "\n",
    "geo_grad = (mrt - 25)/mrtd\n",
    "temp = geo_grad*depth + 25"
   ]
  },
  {
   "cell_type": "markdown",
   "metadata": {},
   "source": [
    "<b>The Archie´s equation</b> is most the important equation in the log analysis because it gave the first way to access the amount of oil present in a subsurface rocks (clean sandstones) :\n",
    "\n",
    "<img src=\"NB_images\\archie.png\" style=\"width:600px\">"
   ]
  },
  {
   "cell_type": "markdown",
   "metadata": {},
   "source": [
    "Before computing the saturation we have to have a value for the resistivity of the formation water (Rw). If you don't have a sample you have to look for a water bearing interval and do the estimation of the Rw there:"
   ]
  },
  {
   "cell_type": "code",
   "execution_count": null,
   "metadata": {},
   "outputs": [],
   "source": [
    "# Selection of a water bearing interval\n",
    "\n",
    "fix = 4900    # Depth of the estimation\n",
    "print('ro =', deep_res[depth == fix])\n",
    "print('phi =', comp_eff_phi[depth == fix])\n",
    "print('temp =', temp[depth == fix])\n",
    "\n",
    "plt.figure(9, figsize=(13, 8))\n",
    "plt.semilogx(deep_res, gr, '.')\n",
    "plt.semilogx(deep_res[depth == fix], gr[depth == fix], 'rs', markersize=5)\n",
    "plt.text(1.8, 31, 'Water sand', color='red')\n",
    "plt.xlim(1, 1000)\n",
    "plt.ylim(0, 160)\n",
    "plt.xlabel('DEEP RES (ohmm)')\n",
    "plt.ylabel('GR (api)')\n",
    "plt.grid(True)\n",
    "plt.show()"
   ]
  },
  {
   "cell_type": "code",
   "execution_count": null,
   "metadata": {},
   "outputs": [],
   "source": [
    "# Rw estimation\n",
    "\n",
    "ro_fix = 3.32    # Resistivity at the fix depth\n",
    "phi_fix = 0.15    # Porosity at the fix depth\n",
    "temp_fix = 98.73    # Temperature at the fix depth\n",
    "\n",
    "# Archie's equation constants\n",
    "\n",
    "a = 1\n",
    "m = 2\n",
    "n = 2\n",
    "\n",
    "rw_fix = ro_fix*(phi_fix**m)    # Archie equation in water bearing sands\n",
    "\n",
    "rw = rw_fix*(temp_fix + 21.5)*(1/(temp + 21.5))    # Rw along the well for temperature in ºC"
   ]
  },
  {
   "cell_type": "code",
   "execution_count": null,
   "metadata": {},
   "outputs": [],
   "source": [
    "# Water saturation by the Archie's equation in oil bearing sands\n",
    "\n",
    "sw = ((rw/deep_res)*(a/(comp_eff_phi**m)))**(1/n)\n",
    "sw = np.maximum(np.minimum(sw, 1), 0.0001)"
   ]
  },
  {
   "cell_type": "markdown",
   "metadata": {},
   "source": [
    "<a  id=\"sum\"></a>\n",
    "\n",
    "<h2>3.2 Summation and report </h2>\n",
    "\n",
    "The summation is a classification process in wich you can have a idea of the resources available in the well. This process can be esquematized in the following figure:\n",
    "\n",
    "<img src=\"NB_images\\summary.png\" style=\"width:500px\">"
   ]
  },
  {
   "cell_type": "code",
   "execution_count": null,
   "metadata": {},
   "outputs": [],
   "source": [
    "# Cutoffs, they change from zone to zone. If you don´t have then use the lower third of the curve\n",
    "\n",
    "# %matplotlib inline\n",
    "\n",
    "plt.figure(10, figsize=(21, 8))\n",
    "\n",
    "plt.subplot(1,3,1)\n",
    "plt.hist(vsh)\n",
    "plt.axvline(x=np.percentile(vsh, 33), ls=\"--\", color='red', label='p33: '+str(np.percentile(vsh, 33)))\n",
    "plt.legend()\n",
    "plt.xlim(0, 1)\n",
    "plt.xlabel('VSH (v/v)')\n",
    "plt.grid(True)\n",
    "\n",
    "plt.subplot(1,3,2)\n",
    "plt.hist(comp_eff_phi)\n",
    "plt.axvline(x=np.percentile(comp_eff_phi, 33), ls=\"--\", color='red', label='p33: '+str(np.percentile(comp_phi, 33)))\n",
    "plt.legend()\n",
    "#plt.xlim(0, 0.4)\n",
    "plt.xlabel('EFFECTIVE PHI (v/v)')\n",
    "plt.grid(True)\n",
    "\n",
    "plt.subplot(1,3,3)\n",
    "plt.hist(sw)\n",
    "plt.axvline(x=np.percentile(sw, 66), ls=\"--\", color='red', label='p66: '+str(np.percentile(sw, 66)))\n",
    "plt.legend()\n",
    "plt.xlim(0, 1)\n",
    "plt.xlabel('SW (v/v)')\n",
    "plt.grid(True)\n",
    "\n",
    "#plt.tight_layout(1)\n",
    "plt.show()"
   ]
  },
  {
   "cell_type": "code",
   "execution_count": null,
   "metadata": {
    "scrolled": true
   },
   "outputs": [],
   "source": [
    "# Simple_stat to find the lower third of the curve\n",
    "\n",
    "local_stat(vsh)"
   ]
  },
  {
   "cell_type": "code",
   "execution_count": null,
   "metadata": {
    "scrolled": true
   },
   "outputs": [],
   "source": [
    "# Simple_stat to find the lower third of the curve\n",
    "\n",
    "local_stat(comp_phi)"
   ]
  },
  {
   "cell_type": "code",
   "execution_count": null,
   "metadata": {
    "scrolled": true
   },
   "outputs": [],
   "source": [
    "# Simple_stat to find the lower third of the curve\n",
    "\n",
    "local_stat(sw)"
   ]
  },
  {
   "cell_type": "code",
   "execution_count": null,
   "metadata": {
    "cell_style": "center"
   },
   "outputs": [],
   "source": [
    "# Summation, counting sand, reservoir, and pay\n",
    "\n",
    "# Cutoffs, they change from zone to zone. If you don´t have then use the lower third of the curve\n",
    "\n",
    "vsh_ct = 0.20\n",
    "phi_ct = 0.10\n",
    "sw_ct = 0.66\n",
    "\n",
    "sand = np.zeros(samples)    # Sand counter\n",
    "res = np.zeros(samples)    # Reservoir counter\n",
    "pay = np.zeros(samples)    # Pay or reservoir with oil counter\n",
    "\n",
    "for i in range(0, samples):\n",
    "\n",
    "    if vsh[i] < vsh_ct:\n",
    "        sand[i] = 1\n",
    "    else:\n",
    "        sand[i] = 0\n",
    "\n",
    "    if sand[i] == 1 and comp_eff_phi[i] > phi_ct:\n",
    "        res[i] = 1\n",
    "    else:\n",
    "        res[i] = 0\n",
    "\n",
    "    if res[i] == 1 and sw[i] < sw_ct:\n",
    "        pay[i] = 1\n",
    "    else:\n",
    "        pay[i] = 0\n",
    "\n",
    "# Summe of the counters\n",
    "\n",
    "total_sand = step*sum(sand)\n",
    "total_res = step*sum(res)\n",
    "total_pay = step*sum(pay)"
   ]
  },
  {
   "cell_type": "code",
   "execution_count": null,
   "metadata": {},
   "outputs": [],
   "source": [
    "# Final report of parameters and results\n",
    "\n",
    "file = open(\"Output/report.txt\", \"w\")\n",
    "\n",
    "file.writelines(\"REPORT\\n\")\n",
    "file.writelines(\" \\n\")\n",
    "file.writelines(\"RANGE\\n\")\n",
    "file.writelines(\"\\n\")\n",
    "file.writelines(\"           top_interval:   \"+str(top_interval)+\" \\n\")\n",
    "file.writelines(\"          base_interval:   \"+str(base_interval)+\" \\n\")\n",
    "file.writelines(\"               interval:   \"+str(interval)+\" \\n\")\n",
    "file.writelines(\"                   step:   \"+str(step)+\" \\n\")\n",
    "file.writelines(\"                samples:   \"+str(samples)+\" \\n\")\n",
    "file.writelines(\"\\n\")\n",
    "file.writelines(\"SHALE VOLUME\\n\")\n",
    "file.writelines(\"\\n\")\n",
    "file.writelines(\"                  gr_cl:   \"+str(gr_cl)+\" \\n\")\n",
    "file.writelines(\"                  gr_sh:   \"+str(gr_sh)+\" \\n\")\n",
    "file.writelines(\"\\n\")\n",
    "file.writelines(\"WATER RESISTIVITY\\n\")\n",
    "file.writelines(\"\\n\")\n",
    "file.writelines(\"           estimation @:   \"+str(fix)+\" \\n\")\n",
    "file.writelines(\"                     ro:   \"+str(ro_fix)+\" \\n\")\n",
    "file.writelines(\"                    phi:   \"+str(phi_fix)+\" \\n\")\n",
    "file.writelines(\"                     rw:   \"+str(rw_fix)+\" \\n\")\n",
    "file.writelines(\"                   temp:   \"+str(temp_fix)+\" \\n\")\n",
    "file.writelines(\"\\n\")\n",
    "file.writelines(\"ARCHIE SW\\n\")\n",
    "file.writelines(\"\\n\")\n",
    "file.writelines(\"                      a:   \"+str(a)+\" \\n\")\n",
    "file.writelines(\"                      m:   \"+str(m)+\" \\n\")\n",
    "file.writelines(\"                      n:   \"+str(n)+\" \\n\")\n",
    "file.writelines(\"\\n\")\n",
    "file.writelines(\"SUMMATION CUTOFF\\n\")\n",
    "file.writelines(\"\\n\")\n",
    "file.writelines(\"                     vsh  <  \"+str(vsh_ct)+\" \\n\")\n",
    "file.writelines(\"                     phi  >  \"+str(phi_ct)+\" \\n\")\n",
    "file.writelines(\"                      sw  <  \"+str(sw_ct)+\" \\n\")\n",
    "file.writelines(\"\\n\")\n",
    "file.writelines(\"SUMMATION RESULTS\\n\")\n",
    "file.writelines(\"\\n\")\n",
    "file.writelines(\"                   sand:  \"+str(total_sand)+\" \\n\")\n",
    "file.writelines(\"                    res:  \"+str(total_res)+\" \\n\")\n",
    "file.writelines(\"               sand_ntg:  \"+str(total_sand/interval)+\" \\n\")\n",
    "file.writelines(\"                    pay:  \"+str(total_pay)+\" \\n\")\n",
    "\n",
    "file.close()"
   ]
  },
  {
   "cell_type": "code",
   "execution_count": null,
   "metadata": {},
   "outputs": [],
   "source": [
    "# Executive summary\n",
    "\n",
    "print('Cutoffs:')\n",
    "print(\"vsh  <  \", vsh_ct)\n",
    "print(\"phi  >  \", phi_ct)\n",
    "print(\"sw  <  \", sw_ct, \" \\n\")\n",
    "\n",
    "print('Intervals:')\n",
    "\n",
    "print('Total:', interval)\n",
    "print('Sand:', total_sand)\n",
    "print('Res:', total_res)\n",
    "print('Sand_ntg:', total_sand/interval)\n",
    "print('Pay:', total_pay)"
   ]
  },
  {
   "cell_type": "code",
   "execution_count": null,
   "metadata": {},
   "outputs": [],
   "source": [
    "# Making & saving output logs\n",
    "\n",
    "verify = np.zeros((samples, 7))\n",
    "verify[:, 0] = depth\n",
    "verify[:, 1] = vsh\n",
    "verify[:, 2] = comp_phi\n",
    "verify[:, 3] = sw\n",
    "verify[:, 4] = sand\n",
    "verify[:, 5] = res\n",
    "verify[:, 6] = pay\n",
    "\n",
    "np.savetxt('Output/output_logs.txt', (verify), delimiter=',',\n",
    "           header='depth,vsh,comp_phi,sw,sand,reservoir,pay', fmt='%1.3f')"
   ]
  },
  {
   "cell_type": "markdown",
   "metadata": {},
   "source": [
    "<a  id=\"outcross\"></a>\n",
    "\n",
    "<h2>3.3 Output logs cross plots </h2>\n",
    "\n",
    "As well as the input log, you can do cross plot with the output log or with a mix of them:"
   ]
  },
  {
   "cell_type": "code",
   "execution_count": null,
   "metadata": {},
   "outputs": [],
   "source": [
    "# Two input-output logs cross plot\n",
    "\n",
    "# %matplotlib inline\n",
    "\n",
    "plt.figure(11, figsize=(13, 8))\n",
    "\n",
    "plt.subplot(1, 2, 1)\n",
    "plt.scatter(deep_res, vsh, c=vsh, cmap='viridis_r')\n",
    "plt.xscale(\"log\") \n",
    "plt.axis([1, 1000, 0, 1])\n",
    "plt.xlabel('DEEP RES (ohmm)')\n",
    "plt.ylabel('VSH (v/v)')\n",
    "plt.title('Sand with water, shales & sand with water')\n",
    "plt.grid(True)\n",
    "\n",
    "# Scatter plot, logx logy plot with the color of the point controled by z (vsh) \n",
    "\n",
    "plt.subplot(1, 2, 2)\n",
    "plt.scatter(deep_res, comp_eff_phi, c=vsh, cmap='viridis_r')\n",
    "#plt.xlim(1, 1000)\n",
    "plt.ylim(0.01, 1)\n",
    "plt.yscale(\"log\")\n",
    "plt.xscale(\"log\") \n",
    "plt.xlabel('DEEP RES (ohmm)')\n",
    "plt.ylabel('EFFECTIVE PHI (v/v)')\n",
    "plt.title('Graphic form of the Archie equation')\n",
    "plt.grid(True)\n",
    "\n",
    "# Color scale bar\n",
    "\n",
    "cb = plt.colorbar()\n",
    "cb.set_label('vsh')\n",
    "\n",
    "plt.show()"
   ]
  },
  {
   "cell_type": "markdown",
   "metadata": {},
   "source": [
    "<a  id=\"outdis\"></a>\n",
    "\n",
    "<h2>3.4 Output logs display </h2>\n",
    "\n",
    "As well as the input log, the output can be displayed in a multiplot:"
   ]
  },
  {
   "cell_type": "code",
   "execution_count": null,
   "metadata": {
    "scrolled": true
   },
   "outputs": [],
   "source": [
    "# Multiplo display of the output log\n",
    "\n",
    "plt.figure(12, figsize=(21,13))\n",
    "\n",
    "# Simple display of the output logs\n",
    "\n",
    "# Track 1\n",
    "plt.subplot(1, 7, 1)\n",
    "plt.imshow(mudlog, aspect='auto', extent=(1, 2, base_display, top_display))\n",
    "plt.title('Mudlog')\n",
    "\n",
    "# Track 2\n",
    "plt.subplot(1,7,2)\n",
    "plt.plot(badhole,depth)\n",
    "plt.fill_betweenx(depth, badhole, where=badhole >= 0, facecolor='red',alpha=0.3)\n",
    "plt.axis([0, 1, base_display, top_display])\n",
    "plt.title ('BADHOLE')\n",
    "plt.grid(True)\n",
    "\n",
    "# Track 3\n",
    "plt.subplot(1,7,3)\n",
    "plt.plot(vsh,depth)\n",
    "plt.axis([0, 1, base_display, top_display])\n",
    "plt.title ('VSH(v/v)')\n",
    "plt.grid(True)\n",
    "plt.fill_betweenx(depth, vsh, 1, vsh >= vsh_ct, facecolor='green',alpha=0.3)\n",
    "plt.fill_betweenx(depth, vsh, 1, vsh < vsh_ct, facecolor='orange',alpha=0.3)\n",
    "plt.axvline(x=vsh_ct, ls=\"--\", color='red', label='VSH_CT')\n",
    "plt.legend()\n",
    "\n",
    "# Track 4\n",
    "plt.subplot(1,7,4)\n",
    "plt.semilogx(deep_res, depth, 'r', label=\"DEEP\")\n",
    "plt.semilogx(mid_res, depth, 'k', label=\"MID\")\n",
    "plt.semilogx(shalow_res, depth, label=\"SHAL\")\n",
    "plt.axis([1, 1000, base_display, top_display])\n",
    "plt.axhline(y= 4880, ls=\"--\", color='blue', label='OWC')\n",
    "plt.axhline(y= 4900, ls=\"--\", color='black', label='RW')\n",
    "plt.title('RESISTIVITY (ohmm)')\n",
    "plt.legend()\n",
    "plt.grid(True)\n",
    "\n",
    "# Track 5\n",
    "plt.subplot(1,7,5)\n",
    "plt.plot(comp_phi,depth,'b', label='TOTAL')\n",
    "plt.plot(comp_eff_phi,depth,'c', label='EFFECTIVE')\n",
    "plt.plot(core_phi_log, depth, '.', color='black')\n",
    "plt.axis([0, 0.25, base_display, top_display])\n",
    "plt.axvline(x=phi_ct, ls=\"--\", color='red', label='PHI_CT')\n",
    "plt.title ('PHI(v/v)')\n",
    "plt.legend()\n",
    "plt.grid(True)\n",
    "\n",
    "# Track 6\n",
    "plt.subplot(1,7,6)\n",
    "plt.plot(sw,depth)\n",
    "plt.axis([1,0, base_display, top_display])\n",
    "plt.axvline(x=sw_ct, ls=\"--\", color='red', label='SW_CT')\n",
    "plt.title ('SW(v/v)')\n",
    "plt.legend()\n",
    "plt.grid(True)\n",
    "\n",
    "# Track 7\n",
    "plt.subplot(1,7,7)\n",
    "plt.plot(pay,depth)\n",
    "plt.fill_betweenx(depth, pay, where=pay >= 0, facecolor='green',alpha=0.3)\n",
    "plt.axis([0, 1, base_display, top_display])\n",
    "plt.title('PAY (ft)')\n",
    "plt.grid(True)"
   ]
  },
  {
   "cell_type": "markdown",
   "metadata": {},
   "source": [
    "<div class=\"alert alert-block alert-warning\">\n",
    "<font size=\"6\"><p> &#127947;</font>\n",
    "        <b> Exercise:</b>\n",
    "Take the exercise_log.las file in the Input folder and try to do the previous calculations. First explore the las file to understand the parameters there. Make a txt copy and delete the header. After loading, focus only in the logs you need (be simple, compute only total porosity). Find a water sand to compute Rw (temperature is given as a log). Set up your cutoffs and find the feet of pay in the well. Good luck.\n",
    "</div>"
   ]
  },
  {
   "cell_type": "markdown",
   "metadata": {},
   "source": [
    "<h2>End of part </h2>\n",
    "\n",
    "[Return to Table of Content](#toc)"
   ]
  },
  {
   "cell_type": "markdown",
   "metadata": {
    "cell_style": "center"
   },
   "source": [
    "<a  id=\"rtk\"></a>\n",
    "\n",
    "<h1> 4 Simple estimation of rock typing and K </h1>\n",
    "\n",
    "The estimation of permeability and the classification of the rocks (rock typing) present along the well is an additional step, very important for assessing the production potential of the well. These two tasks can be done many different ways according to the necessities. Here we are going to see just one very simple and more traditional technique. \n",
    "\n",
    "Before apply regressions (another truly simple ML method that we all know) on the  core pairs (phi-k), it is mandatory to try to identify a reasonable number of categories (eventually electro facies or rock types) in your data. We could used the ranges on the core pairs to create several categories however they will be discontinuous along the well. A simpler way, with no physic law behind (just intuition) could be base on a log related with rock quality (a classification with more than one log is more complicated) as the volume of shale (vsh):\n",
    "\n",
    "* Take the vsh, divide it in three portions base on the p33 and p66 percentiles, and assign a label to each category (1, 2, 3)\n",
    "* Isolate the core pairs for each category and the apply regressions on each one\n",
    "* Use the regressions for each category to propagate the K along the well"
   ]
  },
  {
   "cell_type": "code",
   "execution_count": null,
   "metadata": {},
   "outputs": [],
   "source": [
    "# Plots that show the challenge in splitting the data\n",
    "\n",
    "# %matplotlib inline\n",
    "\n",
    "plt.figure(13, figsize=(13, 8))\n",
    "\n",
    "# Plots base on the core data\n",
    "\n",
    "plt.subplot(1,4,1)\n",
    "plt.scatter(core_phi_log, core_k_log, c=vsh, cmap='viridis_r')\n",
    "plt.axis([0, 0.25, 0.001, 1000])\n",
    "plt.xlabel('CORE PHI (v/v)')\n",
    "plt.ylabel('K (mD)')\n",
    "plt.grid(True)\n",
    "\n",
    "plt.subplot(1,4,2)\n",
    "plt.scatter(core_phi_log, core_k_log, c=vsh, cmap='viridis_r')\n",
    "plt.yscale(\"log\")\n",
    "plt.axis([0, 0.25, 0.001, 1000])\n",
    "plt.xlabel('CORE PHI (v/v)')\n",
    "plt.ylabel('K (mD)')\n",
    "plt.grid(True)\n",
    "\n",
    "# Plots base on the output data\n",
    "\n",
    "plt.subplot(1,4,3)\n",
    "plt.scatter(vsh, comp_phi, c=vsh, cmap='viridis_r')\n",
    "# plt.yscale(\"log\")\n",
    "plt.axis([0, 1, 0, 0.25])\n",
    "plt.xlabel('VSH (v/v)')\n",
    "plt.ylabel('TOTAL PHI (v/v)')\n",
    "plt.grid(True)\n",
    "\n",
    "plt.subplot(1,4,4)\n",
    "plt.scatter(vsh, comp_eff_phi, c=vsh, cmap='viridis_r')\n",
    "# plt.yscale(\"log\")\n",
    "plt.axis([0, 1, 0, 0.25])\n",
    "plt.xlabel('VSH (v/v)')\n",
    "plt.ylabel('EFFECTIVE PHI (v/v)')\n",
    "plt.grid(True)\n",
    "\n",
    "cb = plt.colorbar()\n",
    "cb.set_label('VSH')\n",
    "\n",
    "plt.show()\n",
    "\n",
    "# The spread of the the data in this last plot show a promising relation between vsh and the effective porosity"
   ]
  },
  {
   "cell_type": "markdown",
   "metadata": {},
   "source": [
    "## 4.1 Simple rock typing\n",
    "\n",
    "Let's make a simple categories or rock types (efacie) with the percentile of the vsh:"
   ]
  },
  {
   "cell_type": "code",
   "execution_count": null,
   "metadata": {},
   "outputs": [],
   "source": [
    "# efacie in a log and cluster for plotting\n",
    "\n",
    "efacie = np.zeros(samples)\n",
    "\n",
    "for i in range(0, samples):\n",
    "    \n",
    "    if vsh[i] < np.percentile(vsh,33):\n",
    "        efacie[i] = 1\n",
    "    elif vsh[i] > np.percentile(vsh,66):\n",
    "        efacie[i] = 3\n",
    "    else: \n",
    "        efacie[i] = 2\n",
    "      \n",
    "cluster_efacie = np.repeat(np.expand_dims(efacie,1), 2, 1)\n",
    "type(cluster_efacie)\n",
    "cluster_efacie"
   ]
  },
  {
   "cell_type": "code",
   "execution_count": null,
   "metadata": {},
   "outputs": [],
   "source": [
    "# Exporting the efacies\n",
    "\n",
    "efacies_output = np.zeros((samples, 2))\n",
    "efacies_output[:, 0] = depth\n",
    "efacies_output[:, 1] = efacie\n",
    "\n",
    "np.savetxt('Output/efacies_logs.txt', (efacies_output), delimiter=',',\n",
    "           header='depth,efacie', fmt='%1.1f') "
   ]
  },
  {
   "cell_type": "code",
   "execution_count": null,
   "metadata": {
    "scrolled": false
   },
   "outputs": [],
   "source": [
    "# Core efacie only where the core pairs exist\n",
    "\n",
    "core_efacie  = efacie [core_phi_log > 0]\n",
    "print('Core efacie lenght:', len(core_efacie), '\\n')\n",
    "core_efacie"
   ]
  },
  {
   "cell_type": "code",
   "execution_count": null,
   "metadata": {
    "scrolled": true
   },
   "outputs": [],
   "source": [
    "# Core vsh only where the core pairs exist\n",
    "\n",
    "core_vsh = vsh[core_phi_log > 0]\n",
    "print('Core vsh lenght:', len(core_vsh), '\\n')\n",
    "core_vsh"
   ]
  },
  {
   "cell_type": "code",
   "execution_count": null,
   "metadata": {},
   "outputs": [],
   "source": [
    "# Masks the core pairs with the categories\n",
    "\n",
    "core_phi0, core_k0 = core_phi, core_k\n",
    "core_phi1, core_k1 = core_phi[core_efacie == 1], core_k[core_efacie == 1]\n",
    "core_phi2, core_k2 = core_phi[core_efacie == 2], core_k[core_efacie == 2]\n",
    "core_phi3, core_k3 = core_phi[core_efacie == 3], core_k[core_efacie == 3]\n",
    "\n",
    "print(len(core_phi0))\n",
    "print(len(core_phi1))\n",
    "len(core_phi0) == len(core_phi1) + len(core_phi2) + len(core_phi3)"
   ]
  },
  {
   "cell_type": "markdown",
   "metadata": {},
   "source": [
    "## 4.2 Polynomial regression and residual"
   ]
  },
  {
   "cell_type": "markdown",
   "metadata": {},
   "source": [
    "Functions `np.polyfit` and `np.poly1d` are powerful tools to do **polynomial regressions** of different degrees on experiment data. In our case we are going to work straight line so the variable y (permeability) has to be linearized by log(y). Other important variable linearization are shown bellow:\n",
    "\n",
    "\n",
    "Relationship |  Example   |     General Eqn.     |  Altered Var.  |        Linearized Eqn.  \n",
    "-------------|------------|----------------------|----------------|------------------------------------------\n",
    "Linear       | x          | y =     B * x    + C | -              |        y =   C    + B * x\n",
    "Logarithmic  | log(x)     | y = A * log(B*x) + C | log(x)         |        y =   C    + A * (log(B) + log(x))\n",
    "Exponential  | 2^x, e^x | y = A * exp(B*x) + C | log(y)         | log(y-C) = log(A) + B * x\n",
    "Power        | x^2       | y =     B * x^N + C | log(x), log(y) | log(y-C) = log(B) + N * log(x)\n",
    "\n",
    "Table from: https://www.mmbyte.com/article/45748.html"
   ]
  },
  {
   "cell_type": "code",
   "execution_count": null,
   "metadata": {},
   "outputs": [],
   "source": [
    "# Function regression and residual (e)\n",
    "\n",
    "def reg_res(x, y, degree):\n",
    "    \n",
    "    poly_coeff = np.polyfit(x, np.log(y), degree)\n",
    "    \n",
    "    newy = np.poly1d(poly_coeff)\n",
    "    \n",
    "    e = y - np.exp(newy(x))\n",
    "    \n",
    "    mse = mean_squared_error(y, np.exp(newy(x)))\n",
    "    \n",
    "    r2 = r2_score(y, newy(x))\n",
    "    \n",
    "    return newy, e, mse, r2"
   ]
  },
  {
   "cell_type": "code",
   "execution_count": null,
   "metadata": {},
   "outputs": [],
   "source": [
    "# All pairs regression and residual\n",
    "\n",
    "core_phi0, core_k0 = core_phi, core_k\n",
    "\n",
    "newy0, e0, mse0, r20= reg_res(core_phi0, core_k0, 1)\n",
    "print('Equation: ', newy0)\n",
    "print()\n",
    "print('MSE:' , mse0)\n",
    "print('R2:' , r20)"
   ]
  },
  {
   "cell_type": "code",
   "execution_count": null,
   "metadata": {},
   "outputs": [],
   "source": [
    "# Category 1 regression and residual\n",
    "\n",
    "newy1, e1, mse1, r21= reg_res(core_phi1, core_k1, 1)\n",
    "print('Equation: ', newy1)\n",
    "print()\n",
    "print('MSE:' , mse1)\n",
    "print('R2:' , r21)"
   ]
  },
  {
   "cell_type": "code",
   "execution_count": null,
   "metadata": {},
   "outputs": [],
   "source": [
    "# Category 2 regression and residual\n",
    "\n",
    "newy2, e2, mse2, r22 = reg_res(core_phi2, core_k2, 1)\n",
    "print('Equation: ', newy2)\n",
    "print()\n",
    "print('MSE:' , mse2)\n",
    "print('R2:' , r22)"
   ]
  },
  {
   "cell_type": "code",
   "execution_count": null,
   "metadata": {},
   "outputs": [],
   "source": [
    "# Category 3 regression and residual\n",
    "\n",
    "newy3, e3, mse3, r23= reg_res(core_phi3, core_k3, 1)\n",
    "print('Equation: ', newy3)\n",
    "print()\n",
    "print('MSE:' , mse3)\n",
    "print('R2:' , r23)"
   ]
  },
  {
   "cell_type": "code",
   "execution_count": null,
   "metadata": {},
   "outputs": [],
   "source": [
    "# Isolated categories with corresponding regression and residual plots\n",
    "\n",
    "# %matplotlib inline\n",
    "\n",
    "x = np.arange(0.005, 0.25, 0.01)\n",
    "\n",
    "plt.figure(14, figsize=(13, 8))\n",
    "\n",
    "# All pairs\n",
    "\n",
    "plt.subplot(4, 2, 1)\n",
    "plt.scatter(core_phi0, core_k0, c=core_efacie, cmap='viridis_r')\n",
    "plt.plot(x, np.exp(newy0(x)), color='black', label='All efacies regression')\n",
    "plt.text(0.01, 2, 'ln(y) = '+str(newy0)[2:])\n",
    "plt.yscale(\"log\")\n",
    "plt.axis([0, 0.25, 0.001, 1000])\n",
    "plt.ylabel('K (mD)')\n",
    "plt.grid(True)\n",
    "plt.legend()\n",
    "\n",
    "# All pairs residual plot\n",
    "\n",
    "plt.subplot(4, 2, 2)\n",
    "plt.scatter(core_phi0, e0, c=core_efacie, cmap='viridis_r')\n",
    "plt.axhline(y=np.mean(e0), color='black', label=\"Mean of residual\")\n",
    "plt.ylabel('Residual')\n",
    "plt.grid(True)\n",
    "plt.legend()\n",
    "\n",
    "# Efacie1\n",
    "\n",
    "color_efacie1 = (253/256, 231/256, 37/256)\n",
    "color_efacie2 = (35/256, 144/256, 137/256)\n",
    "color_efacie3 = (68/256, 1/256, 84/256)\n",
    "\n",
    "plt.subplot(4, 2, 3)\n",
    "plt.scatter(core_phi1, core_k1, color=[color_efacie1], label='Efacie1')\n",
    "plt.plot(x, np.exp(newy1(x)), color='black', label='Efacie1 regression')\n",
    "plt.yscale(\"log\")\n",
    "plt.axis([0, 0.25, 0.001, 1000])\n",
    "plt.ylabel('K (mD)')\n",
    "plt.text(0.01, 2, 'ln(y) = '+str(newy1)[2:])\n",
    "plt.grid(True)\n",
    "plt.legend()\n",
    "\n",
    "# Efacie1 residual plot\n",
    "\n",
    "plt.subplot(4, 2, 4)\n",
    "plt.scatter(core_phi1, e1, color=[color_efacie1], label='Efacie1 residual')\n",
    "plt.axhline(y=np.mean(e1), color='black', label=\"Mean of residual\")\n",
    "plt.ylabel('Residual')\n",
    "plt.grid(True)\n",
    "plt.legend()\n",
    "\n",
    "# Efacie2\n",
    "\n",
    "plt.subplot(4, 2, 5)\n",
    "plt.scatter(core_phi2, core_k2, color=[color_efacie2], label='Efacie2')\n",
    "plt.plot(x, np.exp(newy2(x)), color='black', label='Regression')\n",
    "plt.yscale(\"log\")\n",
    "plt.axis([0, 0.25, 0.001, 1000])\n",
    "plt.ylabel('K (mD)')\n",
    "plt.text(0.01, 2, 'ln(y) = '+str(newy2)[2:])\n",
    "plt.grid(True)\n",
    "plt.legend()\n",
    "\n",
    "plt.subplot(4, 2, 6)\n",
    "plt.scatter(core_phi2, e2, color=[color_efacie2],\n",
    "            label='Efacie2 residual')\n",
    "plt.axhline(y=np.mean(e2), color='black', label=\"Mean of residual\")\n",
    "plt.ylabel('Residual')\n",
    "plt.grid(True)\n",
    "plt.legend()\n",
    "\n",
    "plt.subplot(4, 2, 7)\n",
    "plt.scatter(core_phi3, core_k3, color=[color_efacie3], label='Efacie3')\n",
    "plt.plot(x, np.exp(newy3(x)), color='black', label='Regression')\n",
    "plt.yscale(\"log\")\n",
    "plt.axis([0, 0.25, 0.001, 1000])\n",
    "plt.xlabel('CORE PHI (v/v)')\n",
    "plt.ylabel('K (mD)')\n",
    "plt.text(0.01, 2, 'ln(y) = '+str(newy3)[2:])\n",
    "plt.grid(True)\n",
    "plt.legend()\n",
    "\n",
    "plt.subplot(4, 2, 8)\n",
    "plt.scatter(core_phi3, e3, color=[color_efacie3], label='Efacie3 residual')\n",
    "plt.axhline(y=np.mean(e3), color='black', label=\"Mean of residual\")\n",
    "plt.xlabel('CORE PHI (v/v)')\n",
    "plt.ylabel('Residual')\n",
    "plt.grid(True)\n",
    "plt.legend()\n",
    "\n",
    "plt.show()"
   ]
  },
  {
   "cell_type": "markdown",
   "metadata": {},
   "source": [
    "**Residuals** provide an excellent way to assess the quality of the regression:\n",
    "\n",
    " + The sum and mean of the residuals have to be close to zero\n",
    " + Residuals have to be randomly distributed around zero\n",
    " + Residuals do not have to show patterns\n",
    " + Patterns such as those bellow have different implications:\n",
    " \n",
    " <img src=\"https://condor.depaul.edu/sjost/it223/documents/resid-plots.gif\" style=\"float:center\" width=\"500px\" />\n",
    "\n",
    "Image from: https://condor.depaul.edu/sjost/it223/documents/regress.htm\n",
    "\n",
    "Another reference: https://www.qualtrics.com/support/stats-iq/analyses/regression-guides/interpreting-residual-plots-improve-regression/#x-unbalanced-header\n",
    "\n",
    "What efacie do you think has the best phi-k regression?"
   ]
  },
  {
   "cell_type": "markdown",
   "metadata": {},
   "source": [
    "## 4.3 K propagation along the well"
   ]
  },
  {
   "cell_type": "markdown",
   "metadata": {},
   "source": [
    "Let propagate the K along the well using the regression equations of each  or rock type or category (efacie):"
   ]
  },
  {
   "cell_type": "code",
   "execution_count": null,
   "metadata": {},
   "outputs": [],
   "source": [
    "type(newy1)"
   ]
  },
  {
   "cell_type": "code",
   "execution_count": null,
   "metadata": {},
   "outputs": [],
   "source": [
    "comp_k = np.zeros(samples)\n",
    "\n",
    "for i in range(0, samples):\n",
    "    \n",
    "    if efacie[i] == 1:\n",
    "        comp_k[i] = newy1(comp_eff_phi[i])\n",
    "    elif efacie[i] == 2:\n",
    "        comp_k[i] = newy2(comp_eff_phi[i])\n",
    "    else: \n",
    "        comp_k[i] = newy3(comp_eff_phi[i])"
   ]
  },
  {
   "cell_type": "markdown",
   "metadata": {},
   "source": [
    "The technique to plot the facies, using `imshow()`, was taken and modified from: \n",
    "\n",
    "https://github.com/seg/tutorials-2016/blob/master/1610_Facies_classification/Facies%20Classification%20-%20SVM.ipynb"
   ]
  },
  {
   "cell_type": "code",
   "execution_count": null,
   "metadata": {
    "scrolled": true
   },
   "outputs": [],
   "source": [
    "# Multiplot display of the output log\n",
    "\n",
    "plt.figure(15, figsize=(21, 13))\n",
    "\n",
    "# Simple display of the output logs\n",
    "\n",
    "# Track 1\n",
    "plt.subplot(1, 9, 1)\n",
    "plt.imshow(mudlog, aspect='auto', extent=(1, 2, base_display, top_display))\n",
    "plt.title('Mudlog')\n",
    "\n",
    "# Track 2\n",
    "plt.subplot(1,9,2)\n",
    "plt.plot(badhole,depth)\n",
    "plt.fill_betweenx(depth, badhole, where=badhole >= 0, facecolor='red',alpha=0.3)\n",
    "plt.axis([0, 1, base_display, top_display])\n",
    "plt.title ('BADHOLE')\n",
    "plt.grid(True)\n",
    "\n",
    "# Track 3\n",
    "plt.subplot(1,9,3)\n",
    "plt.plot(vsh,depth)\n",
    "plt.axis([0, 1, base_display, top_display])\n",
    "plt.title ('VSH(v/v)')\n",
    "plt.grid(True)\n",
    "plt.fill_betweenx(depth, vsh, 1, vsh >= vsh_ct, facecolor='green',alpha=0.3)\n",
    "plt.fill_betweenx(depth, vsh, 1, vsh < vsh_ct, facecolor='orange',alpha=0.3)\n",
    "plt.axvline(x=vsh_ct, ls=\"--\", color='red', label='VSH_CT')\n",
    "plt.legend()\n",
    "\n",
    "# Track 4\n",
    "plt.subplot(1,9,4)\n",
    "plt.semilogx(deep_res, depth, 'r', label=\"DEEP\")\n",
    "plt.semilogx(mid_res, depth, 'k', label=\"MID\")\n",
    "plt.semilogx(shalow_res, depth, label=\"SHAL\")\n",
    "plt.axis([1, 1000, base_display, top_display])\n",
    "plt.axhline(y= 4880, ls=\"--\", color='blue', label='OWC')\n",
    "plt.text(40, 4878, 'OWC')\n",
    "plt.title('RESISTIVITY (ohmm)')\n",
    "plt.legend()\n",
    "plt.grid(True)\n",
    "\n",
    "# Track 5\n",
    "plt.subplot(195)\n",
    "plt.plot(comp_phi,depth,'b', label='TOTAL')\n",
    "plt.plot(comp_eff_phi,depth,'c', label='EFFECTIVE')\n",
    "plt.plot(core_phi_log, depth, '.', color='black', label='CORE')\n",
    "plt.axis([0, 0.25, base_display, top_display])\n",
    "plt.axvline(x=phi_ct, ls=\"--\", color='red', label='PHI_CT')\n",
    "plt.title ('PHI(v/v)')\n",
    "plt.legend()\n",
    "plt.grid(True)\n",
    "\n",
    "# Track 6\n",
    "plt.subplot(196)\n",
    "plt.plot(sw,depth)\n",
    "plt.axis([0, 1, base_display, top_display])\n",
    "plt.axvline(x=sw_ct, ls=\"--\", color='red', label='SW_CT')\n",
    "plt.title ('SW(v/v)')\n",
    "plt.legend()\n",
    "plt.grid(True)\n",
    "\n",
    "# Track 7\n",
    "plt.subplot(197)\n",
    "plt.plot(pay,depth)\n",
    "plt.fill_betweenx(depth, pay, where=pay >= 0, facecolor='green',alpha=0.3)\n",
    "plt.axis([0, 1, base_display, top_display])\n",
    "plt.title('PAY (ft)')\n",
    "plt.grid(True)\n",
    "\n",
    "\n",
    "# Track 8\n",
    "plt.subplot(198)\n",
    "plt.plot(efacie,depth, '.', markersize=0)\n",
    "plt.imshow(cluster_efacie, interpolation='none', aspect='auto',cmap='viridis_r', extent=(1, 3, base_display, top_display))\n",
    "# plt.axis([1, 3, base_display, top_display])\n",
    "plt.title('EFACIE')\n",
    "plt.grid(True)\n",
    "\n",
    "# Track 9\n",
    "plt.subplot(199)\n",
    "plt.semilogx(comp_k,depth)\n",
    "plt.semilogx(core_k_log, depth, '.', color='black', label='CORE')\n",
    "#plt.fill_betweenx(depth, pay, where=pay >= 0, facecolor='green',alpha=0.3)\n",
    "plt.axis([0.01, 1000, base_display, top_display])\n",
    "plt.title('K (mD)')\n",
    "plt.grid(True)"
   ]
  },
  {
   "cell_type": "markdown",
   "metadata": {},
   "source": [
    "<div class=\"alert alert-block alert-warning\">\n",
    "<font size=\"6\"><p> &#127947;</font> \n",
    "    <b>Exercise 1: </b> \n",
    "    \n",
    "Repeat the previous process with the Input file calls exercise_logs (las and txt file). Read the las file to identify the the necessary parameters and logs. Load just the necessary logs and then take out useless intervals. Display the logs and identify the lithology in the provided section. Make the necessary plots in order to get the parameters to compute the output log (VSH, PHIT & PHIE, SW). Define your cutoffs a make the summation. With the provided data try to define four electro facies. "
   ]
  }
 ],
 "metadata": {
  "kernelspec": {
   "display_name": "Python 3",
   "language": "python",
   "name": "python3"
  },
  "language_info": {
   "codemirror_mode": {
    "name": "ipython",
    "version": 3
   },
   "file_extension": ".py",
   "mimetype": "text/x-python",
   "name": "python",
   "nbconvert_exporter": "python",
   "pygments_lexer": "ipython3",
   "version": "3.8.6"
  },
  "latex_envs": {
   "LaTeX_envs_menu_present": true,
   "autoclose": false,
   "autocomplete": true,
   "bibliofile": "biblio.bib",
   "cite_by": "apalike",
   "current_citInitial": 1,
   "eqLabelWithNumbers": true,
   "eqNumInitial": 1,
   "hotkeys": {
    "equation": "Ctrl-E",
    "itemize": "Ctrl-I"
   },
   "labels_anchors": false,
   "latex_user_defs": false,
   "report_style_numbering": false,
   "user_envs_cfg": false
  },
  "toc": {
   "base_numbering": "7",
   "nav_menu": {},
   "number_sections": false,
   "sideBar": true,
   "skip_h1_title": true,
   "title_cell": "Table of Contents",
   "title_sidebar": "Contents",
   "toc_cell": false,
   "toc_position": {
    "height": "calc(100% - 180px)",
    "left": "10px",
    "top": "150px",
    "width": "262.075px"
   },
   "toc_section_display": true,
   "toc_window_display": false
  },
  "varInspector": {
   "cols": {
    "lenName": 16,
    "lenType": 16,
    "lenVar": 40
   },
   "kernels_config": {
    "python": {
     "delete_cmd_postfix": "",
     "delete_cmd_prefix": "del ",
     "library": "var_list.py",
     "varRefreshCmd": "print(var_dic_list())"
    },
    "r": {
     "delete_cmd_postfix": ") ",
     "delete_cmd_prefix": "rm(",
     "library": "var_list.r",
     "varRefreshCmd": "cat(var_dic_list()) "
    }
   },
   "oldHeight": 593.011364,
   "position": {
    "height": "661px",
    "left": "236.85px",
    "right": "20px",
    "top": "174.887px",
    "width": "800px"
   },
   "types_to_exclude": [
    "module",
    "function",
    "builtin_function_or_method",
    "instance",
    "_Feature"
   ],
   "varInspector_section_display": "block",
   "window_display": false
  }
 },
 "nbformat": 4,
 "nbformat_minor": 4
}
